{
 "cells": [
  {
   "cell_type": "code",
   "execution_count": 231,
   "metadata": {},
   "outputs": [],
   "source": [
    "## Import Packages:\n",
    "import numpy as np\n",
    "import pandas as pd\n",
    "import matplotlib.pyplot as plt\n",
    "import theano\n",
    "import theano.tensor as T\n",
    "import keras\n",
    "from keras import backend as K\n",
    "from keras import initializers\n",
    "from keras.regularizers import l1, l2, l1_l2\n",
    "from keras.models import Sequential, Model\n",
    "from keras.layers.core import Dense, Lambda, Activation\n",
    "from keras.layers import Embedding, Input, Dense, Concatenate, Reshape, Multiply, Flatten, Dropout\n",
    "from keras.optimizers import Adagrad, Adam, SGD, RMSprop\n",
    "from evaluate_rate import evaluate_rate_model\n",
    "from Dataset import Dataset\n",
    "from time import time\n",
    "import sys, os\n",
    "import GMF, MLP\n",
    "import argparse\n",
    "from tqdm import tqdm\n",
    "import seaborn as sns\n",
    "sns.set_style('whitegrid')\n",
    "sns.set_palette('colorblind')\n",
    "sns.set_context('talk')"
   ]
  },
  {
   "cell_type": "markdown",
   "metadata": {},
   "source": [
    "## Read in Champaign user-item interaction csv file to generate dataset:"
   ]
  },
  {
   "cell_type": "code",
   "execution_count": 232,
   "metadata": {},
   "outputs": [
    {
     "data": {
      "text/html": [
       "<div>\n",
       "<style scoped>\n",
       "    .dataframe tbody tr th:only-of-type {\n",
       "        vertical-align: middle;\n",
       "    }\n",
       "\n",
       "    .dataframe tbody tr th {\n",
       "        vertical-align: top;\n",
       "    }\n",
       "\n",
       "    .dataframe thead th {\n",
       "        text-align: right;\n",
       "    }\n",
       "</style>\n",
       "<table border=\"1\" class=\"dataframe\">\n",
       "  <thead>\n",
       "    <tr style=\"text-align: right;\">\n",
       "      <th></th>\n",
       "      <th>business_id</th>\n",
       "      <th>name</th>\n",
       "      <th>address</th>\n",
       "      <th>city</th>\n",
       "      <th>state</th>\n",
       "      <th>postal_code</th>\n",
       "      <th>latitude</th>\n",
       "      <th>longitude</th>\n",
       "      <th>stars_business_avg</th>\n",
       "      <th>review_count</th>\n",
       "      <th>...</th>\n",
       "      <th>categories</th>\n",
       "      <th>hours</th>\n",
       "      <th>review_id</th>\n",
       "      <th>user_id</th>\n",
       "      <th>stars</th>\n",
       "      <th>useful</th>\n",
       "      <th>funny</th>\n",
       "      <th>cool</th>\n",
       "      <th>text</th>\n",
       "      <th>date</th>\n",
       "    </tr>\n",
       "  </thead>\n",
       "  <tbody>\n",
       "    <tr>\n",
       "      <th>0</th>\n",
       "      <td>4hWDMVtfnpyY72_5QMbthA</td>\n",
       "      <td>Old Time Meat &amp; Deli Shoppe</td>\n",
       "      <td>2018 S Neil St</td>\n",
       "      <td>urbana-champaign</td>\n",
       "      <td>IL</td>\n",
       "      <td>61820</td>\n",
       "      <td>40.091901</td>\n",
       "      <td>-88.245362</td>\n",
       "      <td>5.0</td>\n",
       "      <td>46</td>\n",
       "      <td>...</td>\n",
       "      <td>Meat Shops, Food, Restaurants, Specialty Food,...</td>\n",
       "      <td>{'Monday': '10:0-18:0', 'Tuesday': '10:0-18:0'...</td>\n",
       "      <td>WruGbPJAuXAl5GP28fH1cA</td>\n",
       "      <td>5rM50rIojxWNQRv0Vmuulg</td>\n",
       "      <td>5.0</td>\n",
       "      <td>0</td>\n",
       "      <td>0</td>\n",
       "      <td>0</td>\n",
       "      <td>This is a wonderful butchershop. Deli selectio...</td>\n",
       "      <td>2011-08-25 01:04:12</td>\n",
       "    </tr>\n",
       "    <tr>\n",
       "      <th>1</th>\n",
       "      <td>4hWDMVtfnpyY72_5QMbthA</td>\n",
       "      <td>Old Time Meat &amp; Deli Shoppe</td>\n",
       "      <td>2018 S Neil St</td>\n",
       "      <td>urbana-champaign</td>\n",
       "      <td>IL</td>\n",
       "      <td>61820</td>\n",
       "      <td>40.091901</td>\n",
       "      <td>-88.245362</td>\n",
       "      <td>5.0</td>\n",
       "      <td>46</td>\n",
       "      <td>...</td>\n",
       "      <td>Meat Shops, Food, Restaurants, Specialty Food,...</td>\n",
       "      <td>{'Monday': '10:0-18:0', 'Tuesday': '10:0-18:0'...</td>\n",
       "      <td>NozR-GCiMHWyhqRbW4TDuA</td>\n",
       "      <td>9ZuE5YJQvNA4PvldrTgmXA</td>\n",
       "      <td>5.0</td>\n",
       "      <td>1</td>\n",
       "      <td>1</td>\n",
       "      <td>1</td>\n",
       "      <td>I'm almost reluctant to give it 5 stars only s...</td>\n",
       "      <td>2016-04-12 05:07:23</td>\n",
       "    </tr>\n",
       "    <tr>\n",
       "      <th>2</th>\n",
       "      <td>4hWDMVtfnpyY72_5QMbthA</td>\n",
       "      <td>Old Time Meat &amp; Deli Shoppe</td>\n",
       "      <td>2018 S Neil St</td>\n",
       "      <td>urbana-champaign</td>\n",
       "      <td>IL</td>\n",
       "      <td>61820</td>\n",
       "      <td>40.091901</td>\n",
       "      <td>-88.245362</td>\n",
       "      <td>5.0</td>\n",
       "      <td>46</td>\n",
       "      <td>...</td>\n",
       "      <td>Meat Shops, Food, Restaurants, Specialty Food,...</td>\n",
       "      <td>{'Monday': '10:0-18:0', 'Tuesday': '10:0-18:0'...</td>\n",
       "      <td>wLWG8YkhTfu3zjAYGNSzfA</td>\n",
       "      <td>w-NiZLoY-TetMRY8LOqMKw</td>\n",
       "      <td>5.0</td>\n",
       "      <td>1</td>\n",
       "      <td>0</td>\n",
       "      <td>2</td>\n",
       "      <td>This is definitely the place to go for excelle...</td>\n",
       "      <td>2016-07-04 01:09:58</td>\n",
       "    </tr>\n",
       "  </tbody>\n",
       "</table>\n",
       "<p>3 rows × 22 columns</p>\n",
       "</div>"
      ],
      "text/plain": [
       "              business_id                         name         address  \\\n",
       "0  4hWDMVtfnpyY72_5QMbthA  Old Time Meat & Deli Shoppe  2018 S Neil St   \n",
       "1  4hWDMVtfnpyY72_5QMbthA  Old Time Meat & Deli Shoppe  2018 S Neil St   \n",
       "2  4hWDMVtfnpyY72_5QMbthA  Old Time Meat & Deli Shoppe  2018 S Neil St   \n",
       "\n",
       "               city state postal_code   latitude  longitude  \\\n",
       "0  urbana-champaign    IL       61820  40.091901 -88.245362   \n",
       "1  urbana-champaign    IL       61820  40.091901 -88.245362   \n",
       "2  urbana-champaign    IL       61820  40.091901 -88.245362   \n",
       "\n",
       "   stars_business_avg  review_count  ...  \\\n",
       "0                 5.0            46  ...   \n",
       "1                 5.0            46  ...   \n",
       "2                 5.0            46  ...   \n",
       "\n",
       "                                          categories  \\\n",
       "0  Meat Shops, Food, Restaurants, Specialty Food,...   \n",
       "1  Meat Shops, Food, Restaurants, Specialty Food,...   \n",
       "2  Meat Shops, Food, Restaurants, Specialty Food,...   \n",
       "\n",
       "                                               hours               review_id  \\\n",
       "0  {'Monday': '10:0-18:0', 'Tuesday': '10:0-18:0'...  WruGbPJAuXAl5GP28fH1cA   \n",
       "1  {'Monday': '10:0-18:0', 'Tuesday': '10:0-18:0'...  NozR-GCiMHWyhqRbW4TDuA   \n",
       "2  {'Monday': '10:0-18:0', 'Tuesday': '10:0-18:0'...  wLWG8YkhTfu3zjAYGNSzfA   \n",
       "\n",
       "                  user_id stars useful  funny  cool  \\\n",
       "0  5rM50rIojxWNQRv0Vmuulg   5.0      0      0     0   \n",
       "1  9ZuE5YJQvNA4PvldrTgmXA   5.0      1      1     1   \n",
       "2  w-NiZLoY-TetMRY8LOqMKw   5.0      1      0     2   \n",
       "\n",
       "                                                text                 date  \n",
       "0  This is a wonderful butchershop. Deli selectio...  2011-08-25 01:04:12  \n",
       "1  I'm almost reluctant to give it 5 stars only s...  2016-04-12 05:07:23  \n",
       "2  This is definitely the place to go for excelle...  2016-07-04 01:09:58  \n",
       "\n",
       "[3 rows x 22 columns]"
      ]
     },
     "execution_count": 232,
     "metadata": {},
     "output_type": "execute_result"
    }
   ],
   "source": [
    "champaign_user_item_df = pd.read_csv('../yelp_dataset/champaign_user_item.csv', index_col = 0)\n",
    "champaign_user_item_df.head(3)"
   ]
  },
  {
   "cell_type": "code",
   "execution_count": 233,
   "metadata": {},
   "outputs": [],
   "source": [
    "unique_business_id = champaign_user_item_df.business_id.unique()\n",
    "mapping_business_id = {}\n",
    "ctr = 0\n",
    "for business_id in unique_business_id:\n",
    "    mapping_business_id[business_id] = ctr\n",
    "    ctr += 1\n",
    "    \n",
    "champaign_user_item_df['business_id_refined'] = champaign_user_item_df.business_id.map(mapping_business_id)"
   ]
  },
  {
   "cell_type": "code",
   "execution_count": 234,
   "metadata": {},
   "outputs": [],
   "source": [
    "unique_user_id = champaign_user_item_df.user_id.unique()\n",
    "mapping_user_id = {}\n",
    "ctr = 0\n",
    "for user_id in unique_user_id:\n",
    "    mapping_user_id[user_id] = ctr\n",
    "    ctr += 1\n",
    "    \n",
    "champaign_user_item_df['user_id_refined'] = champaign_user_item_df.user_id.map(mapping_user_id)"
   ]
  },
  {
   "cell_type": "code",
   "execution_count": 235,
   "metadata": {},
   "outputs": [
    {
     "data": {
      "text/html": [
       "<div>\n",
       "<style scoped>\n",
       "    .dataframe tbody tr th:only-of-type {\n",
       "        vertical-align: middle;\n",
       "    }\n",
       "\n",
       "    .dataframe tbody tr th {\n",
       "        vertical-align: top;\n",
       "    }\n",
       "\n",
       "    .dataframe thead th {\n",
       "        text-align: right;\n",
       "    }\n",
       "</style>\n",
       "<table border=\"1\" class=\"dataframe\">\n",
       "  <thead>\n",
       "    <tr style=\"text-align: right;\">\n",
       "      <th></th>\n",
       "      <th>user_id_refined</th>\n",
       "      <th>business_id_refined</th>\n",
       "    </tr>\n",
       "  </thead>\n",
       "  <tbody>\n",
       "    <tr>\n",
       "      <th>0</th>\n",
       "      <td>0</td>\n",
       "      <td>0</td>\n",
       "    </tr>\n",
       "    <tr>\n",
       "      <th>1</th>\n",
       "      <td>1</td>\n",
       "      <td>0</td>\n",
       "    </tr>\n",
       "    <tr>\n",
       "      <th>2</th>\n",
       "      <td>2</td>\n",
       "      <td>0</td>\n",
       "    </tr>\n",
       "    <tr>\n",
       "      <th>3</th>\n",
       "      <td>3</td>\n",
       "      <td>0</td>\n",
       "    </tr>\n",
       "    <tr>\n",
       "      <th>4</th>\n",
       "      <td>4</td>\n",
       "      <td>0</td>\n",
       "    </tr>\n",
       "  </tbody>\n",
       "</table>\n",
       "</div>"
      ],
      "text/plain": [
       "   user_id_refined  business_id_refined\n",
       "0                0                    0\n",
       "1                1                    0\n",
       "2                2                    0\n",
       "3                3                    0\n",
       "4                4                    0"
      ]
     },
     "execution_count": 235,
     "metadata": {},
     "output_type": "execute_result"
    }
   ],
   "source": [
    "champaign_user_item_df[['user_id_refined', 'business_id_refined']].head(5)"
   ]
  },
  {
   "cell_type": "code",
   "execution_count": 236,
   "metadata": {},
   "outputs": [
    {
     "data": {
      "text/plain": [
       "502"
      ]
     },
     "execution_count": 236,
     "metadata": {},
     "output_type": "execute_result"
    }
   ],
   "source": [
    "sum(champaign_user_item_df.groupby('user_id_refined')['name'].count() >= 10)"
   ]
  },
  {
   "cell_type": "markdown",
   "metadata": {},
   "source": [
    "There are only 502 users who have reviewed 10 or more restaurants in champaign, hence need to expand the dataset a bit"
   ]
  },
  {
   "cell_type": "markdown",
   "metadata": {},
   "source": [
    "## Read in toronto user-item interaction csv file to generate dataset:"
   ]
  },
  {
   "cell_type": "code",
   "execution_count": 237,
   "metadata": {},
   "outputs": [
    {
     "data": {
      "text/html": [
       "<div>\n",
       "<style scoped>\n",
       "    .dataframe tbody tr th:only-of-type {\n",
       "        vertical-align: middle;\n",
       "    }\n",
       "\n",
       "    .dataframe tbody tr th {\n",
       "        vertical-align: top;\n",
       "    }\n",
       "\n",
       "    .dataframe thead th {\n",
       "        text-align: right;\n",
       "    }\n",
       "</style>\n",
       "<table border=\"1\" class=\"dataframe\">\n",
       "  <thead>\n",
       "    <tr style=\"text-align: right;\">\n",
       "      <th></th>\n",
       "      <th>business_id</th>\n",
       "      <th>name</th>\n",
       "      <th>address</th>\n",
       "      <th>city</th>\n",
       "      <th>state</th>\n",
       "      <th>postal_code</th>\n",
       "      <th>latitude</th>\n",
       "      <th>longitude</th>\n",
       "      <th>stars_business_avg</th>\n",
       "      <th>review_count</th>\n",
       "      <th>...</th>\n",
       "      <th>categories</th>\n",
       "      <th>hours</th>\n",
       "      <th>review_id</th>\n",
       "      <th>user_id</th>\n",
       "      <th>stars</th>\n",
       "      <th>useful</th>\n",
       "      <th>funny</th>\n",
       "      <th>cool</th>\n",
       "      <th>text</th>\n",
       "      <th>date</th>\n",
       "    </tr>\n",
       "  </thead>\n",
       "  <tbody>\n",
       "    <tr>\n",
       "      <th>0</th>\n",
       "      <td>g6AFW-zY0wDvBl9U82g4zg</td>\n",
       "      <td>Baretto Caffe</td>\n",
       "      <td>1262 Don Mills Road</td>\n",
       "      <td>toronto</td>\n",
       "      <td>ON</td>\n",
       "      <td>M3B 2W7</td>\n",
       "      <td>43.744703</td>\n",
       "      <td>-79.346468</td>\n",
       "      <td>5.0</td>\n",
       "      <td>317</td>\n",
       "      <td>...</td>\n",
       "      <td>Restaurants, Italian, Cafes</td>\n",
       "      <td>{'Monday': '7:30-18:0', 'Tuesday': '7:30-18:0'...</td>\n",
       "      <td>SKBNW4QKNiclQ6mB2AQ8MQ</td>\n",
       "      <td>q3JSVBWICgXfO-zuLAp5fg</td>\n",
       "      <td>3.0</td>\n",
       "      <td>0</td>\n",
       "      <td>0</td>\n",
       "      <td>0</td>\n",
       "      <td>The customer service is on point. The food was...</td>\n",
       "      <td>2018-10-04 10:57:11</td>\n",
       "    </tr>\n",
       "    <tr>\n",
       "      <th>1</th>\n",
       "      <td>g6AFW-zY0wDvBl9U82g4zg</td>\n",
       "      <td>Baretto Caffe</td>\n",
       "      <td>1262 Don Mills Road</td>\n",
       "      <td>toronto</td>\n",
       "      <td>ON</td>\n",
       "      <td>M3B 2W7</td>\n",
       "      <td>43.744703</td>\n",
       "      <td>-79.346468</td>\n",
       "      <td>5.0</td>\n",
       "      <td>317</td>\n",
       "      <td>...</td>\n",
       "      <td>Restaurants, Italian, Cafes</td>\n",
       "      <td>{'Monday': '7:30-18:0', 'Tuesday': '7:30-18:0'...</td>\n",
       "      <td>0dsaJN8eljlYRCqPWN1JCQ</td>\n",
       "      <td>0zW0RwIRwyJ6Qdirqvs5gA</td>\n",
       "      <td>5.0</td>\n",
       "      <td>0</td>\n",
       "      <td>0</td>\n",
       "      <td>0</td>\n",
       "      <td>The staff and workers are really friendly and ...</td>\n",
       "      <td>2017-04-30 13:40:40</td>\n",
       "    </tr>\n",
       "    <tr>\n",
       "      <th>2</th>\n",
       "      <td>g6AFW-zY0wDvBl9U82g4zg</td>\n",
       "      <td>Baretto Caffe</td>\n",
       "      <td>1262 Don Mills Road</td>\n",
       "      <td>toronto</td>\n",
       "      <td>ON</td>\n",
       "      <td>M3B 2W7</td>\n",
       "      <td>43.744703</td>\n",
       "      <td>-79.346468</td>\n",
       "      <td>5.0</td>\n",
       "      <td>317</td>\n",
       "      <td>...</td>\n",
       "      <td>Restaurants, Italian, Cafes</td>\n",
       "      <td>{'Monday': '7:30-18:0', 'Tuesday': '7:30-18:0'...</td>\n",
       "      <td>aPUINDQsgifg_hSROs4TTA</td>\n",
       "      <td>eurxcv4blzrEs7-IgLGt5w</td>\n",
       "      <td>5.0</td>\n",
       "      <td>0</td>\n",
       "      <td>0</td>\n",
       "      <td>0</td>\n",
       "      <td>This is one great cafe. A little hard to find ...</td>\n",
       "      <td>2015-03-18 22:16:23</td>\n",
       "    </tr>\n",
       "  </tbody>\n",
       "</table>\n",
       "<p>3 rows × 22 columns</p>\n",
       "</div>"
      ],
      "text/plain": [
       "              business_id           name              address     city state  \\\n",
       "0  g6AFW-zY0wDvBl9U82g4zg  Baretto Caffe  1262 Don Mills Road  toronto    ON   \n",
       "1  g6AFW-zY0wDvBl9U82g4zg  Baretto Caffe  1262 Don Mills Road  toronto    ON   \n",
       "2  g6AFW-zY0wDvBl9U82g4zg  Baretto Caffe  1262 Don Mills Road  toronto    ON   \n",
       "\n",
       "  postal_code   latitude  longitude  stars_business_avg  review_count  ...  \\\n",
       "0     M3B 2W7  43.744703 -79.346468                 5.0           317  ...   \n",
       "1     M3B 2W7  43.744703 -79.346468                 5.0           317  ...   \n",
       "2     M3B 2W7  43.744703 -79.346468                 5.0           317  ...   \n",
       "\n",
       "                    categories  \\\n",
       "0  Restaurants, Italian, Cafes   \n",
       "1  Restaurants, Italian, Cafes   \n",
       "2  Restaurants, Italian, Cafes   \n",
       "\n",
       "                                               hours               review_id  \\\n",
       "0  {'Monday': '7:30-18:0', 'Tuesday': '7:30-18:0'...  SKBNW4QKNiclQ6mB2AQ8MQ   \n",
       "1  {'Monday': '7:30-18:0', 'Tuesday': '7:30-18:0'...  0dsaJN8eljlYRCqPWN1JCQ   \n",
       "2  {'Monday': '7:30-18:0', 'Tuesday': '7:30-18:0'...  aPUINDQsgifg_hSROs4TTA   \n",
       "\n",
       "                  user_id stars useful  funny  cool  \\\n",
       "0  q3JSVBWICgXfO-zuLAp5fg   3.0      0      0     0   \n",
       "1  0zW0RwIRwyJ6Qdirqvs5gA   5.0      0      0     0   \n",
       "2  eurxcv4blzrEs7-IgLGt5w   5.0      0      0     0   \n",
       "\n",
       "                                                text                 date  \n",
       "0  The customer service is on point. The food was...  2018-10-04 10:57:11  \n",
       "1  The staff and workers are really friendly and ...  2017-04-30 13:40:40  \n",
       "2  This is one great cafe. A little hard to find ...  2015-03-18 22:16:23  \n",
       "\n",
       "[3 rows x 22 columns]"
      ]
     },
     "execution_count": 237,
     "metadata": {},
     "output_type": "execute_result"
    }
   ],
   "source": [
    "toronto_user_item_df = pd.read_csv('../yelp_dataset/toronto_user_item.csv', index_col = 0)\n",
    "toronto_user_item_df.head(3)"
   ]
  },
  {
   "cell_type": "code",
   "execution_count": 238,
   "metadata": {},
   "outputs": [
    {
     "data": {
      "text/plain": [
       "7905"
      ]
     },
     "execution_count": 238,
     "metadata": {},
     "output_type": "execute_result"
    }
   ],
   "source": [
    "sum(toronto_user_item_df.groupby('user_id')['name'].count() >= 10)"
   ]
  },
  {
   "cell_type": "markdown",
   "metadata": {},
   "source": [
    "There are a substantial number of users who have reviewed at least 10 restaurants"
   ]
  },
  {
   "cell_type": "markdown",
   "metadata": {},
   "source": [
    "### Filter the dataset to contain only the users who have reviewed at least 10 restaurants or more"
   ]
  },
  {
   "cell_type": "code",
   "execution_count": 239,
   "metadata": {},
   "outputs": [],
   "source": [
    "grouped = toronto_user_item_df.groupby('user_id')\n",
    "toronto_user_item_filtered_df = grouped.filter(lambda x: x['name'].count() >= 10)"
   ]
  },
  {
   "cell_type": "code",
   "execution_count": 240,
   "metadata": {},
   "outputs": [],
   "source": [
    "df = toronto_user_item_filtered_df.copy()"
   ]
  },
  {
   "cell_type": "code",
   "execution_count": 241,
   "metadata": {},
   "outputs": [
    {
     "data": {
      "text/plain": [
       "237185"
      ]
     },
     "execution_count": 241,
     "metadata": {},
     "output_type": "execute_result"
    }
   ],
   "source": [
    "len(df)"
   ]
  },
  {
   "cell_type": "code",
   "execution_count": 242,
   "metadata": {},
   "outputs": [
    {
     "data": {
      "text/plain": [
       "9522"
      ]
     },
     "execution_count": 242,
     "metadata": {},
     "output_type": "execute_result"
    }
   ],
   "source": [
    "sum(df.duplicated(['business_id', 'user_id']))"
   ]
  },
  {
   "cell_type": "code",
   "execution_count": 243,
   "metadata": {},
   "outputs": [],
   "source": [
    "dataset_to_use = df.drop_duplicates(subset = ['business_id', 'user_id']).copy()"
   ]
  },
  {
   "cell_type": "code",
   "execution_count": 244,
   "metadata": {},
   "outputs": [
    {
     "name": "stdout",
     "output_type": "stream",
     "text": [
      "There are 7905 unique users and 8546 unique items in the dataset after filtering such that each user has reviewed at least 10 restaurants.\n"
     ]
    }
   ],
   "source": [
    "print('There are %d unique users and %d unique items in the dataset after filtering such that each user has \\\n",
    "reviewed at least 10 restaurants.'%(dataset_to_use.user_id.nunique(), dataset_to_use.business_id.nunique()))"
   ]
  },
  {
   "cell_type": "code",
   "execution_count": 245,
   "metadata": {},
   "outputs": [
    {
     "data": {
      "text/html": [
       "<div>\n",
       "<style scoped>\n",
       "    .dataframe tbody tr th:only-of-type {\n",
       "        vertical-align: middle;\n",
       "    }\n",
       "\n",
       "    .dataframe tbody tr th {\n",
       "        vertical-align: top;\n",
       "    }\n",
       "\n",
       "    .dataframe thead th {\n",
       "        text-align: right;\n",
       "    }\n",
       "</style>\n",
       "<table border=\"1\" class=\"dataframe\">\n",
       "  <thead>\n",
       "    <tr style=\"text-align: right;\">\n",
       "      <th></th>\n",
       "      <th>business_id</th>\n",
       "      <th>name</th>\n",
       "      <th>address</th>\n",
       "      <th>city</th>\n",
       "      <th>state</th>\n",
       "      <th>postal_code</th>\n",
       "      <th>latitude</th>\n",
       "      <th>longitude</th>\n",
       "      <th>stars_business_avg</th>\n",
       "      <th>review_count</th>\n",
       "      <th>...</th>\n",
       "      <th>categories</th>\n",
       "      <th>hours</th>\n",
       "      <th>review_id</th>\n",
       "      <th>user_id</th>\n",
       "      <th>stars</th>\n",
       "      <th>useful</th>\n",
       "      <th>funny</th>\n",
       "      <th>cool</th>\n",
       "      <th>text</th>\n",
       "      <th>date</th>\n",
       "    </tr>\n",
       "  </thead>\n",
       "  <tbody>\n",
       "    <tr>\n",
       "      <th>3</th>\n",
       "      <td>g6AFW-zY0wDvBl9U82g4zg</td>\n",
       "      <td>Baretto Caffe</td>\n",
       "      <td>1262 Don Mills Road</td>\n",
       "      <td>toronto</td>\n",
       "      <td>ON</td>\n",
       "      <td>M3B 2W7</td>\n",
       "      <td>43.744703</td>\n",
       "      <td>-79.346468</td>\n",
       "      <td>5.0</td>\n",
       "      <td>317</td>\n",
       "      <td>...</td>\n",
       "      <td>Restaurants, Italian, Cafes</td>\n",
       "      <td>{'Monday': '7:30-18:0', 'Tuesday': '7:30-18:0'...</td>\n",
       "      <td>l8FlUGAgrAAOIi0fWV3Lgg</td>\n",
       "      <td>ZWpLKIbOC5xjuPWc7ZKe9Q</td>\n",
       "      <td>5.0</td>\n",
       "      <td>0</td>\n",
       "      <td>0</td>\n",
       "      <td>0</td>\n",
       "      <td>Wonderful spaghetti, simple yet clean environm...</td>\n",
       "      <td>2018-09-03 18:13:28</td>\n",
       "    </tr>\n",
       "    <tr>\n",
       "      <th>5</th>\n",
       "      <td>g6AFW-zY0wDvBl9U82g4zg</td>\n",
       "      <td>Baretto Caffe</td>\n",
       "      <td>1262 Don Mills Road</td>\n",
       "      <td>toronto</td>\n",
       "      <td>ON</td>\n",
       "      <td>M3B 2W7</td>\n",
       "      <td>43.744703</td>\n",
       "      <td>-79.346468</td>\n",
       "      <td>5.0</td>\n",
       "      <td>317</td>\n",
       "      <td>...</td>\n",
       "      <td>Restaurants, Italian, Cafes</td>\n",
       "      <td>{'Monday': '7:30-18:0', 'Tuesday': '7:30-18:0'...</td>\n",
       "      <td>N_UO6AguthYg7lK2NoduZA</td>\n",
       "      <td>GGI39_EL1ERSqyWX1tEjMA</td>\n",
       "      <td>5.0</td>\n",
       "      <td>11</td>\n",
       "      <td>3</td>\n",
       "      <td>7</td>\n",
       "      <td>A hidden gem near my home. Found this place wh...</td>\n",
       "      <td>2017-08-16 19:45:54</td>\n",
       "    </tr>\n",
       "    <tr>\n",
       "      <th>6</th>\n",
       "      <td>g6AFW-zY0wDvBl9U82g4zg</td>\n",
       "      <td>Baretto Caffe</td>\n",
       "      <td>1262 Don Mills Road</td>\n",
       "      <td>toronto</td>\n",
       "      <td>ON</td>\n",
       "      <td>M3B 2W7</td>\n",
       "      <td>43.744703</td>\n",
       "      <td>-79.346468</td>\n",
       "      <td>5.0</td>\n",
       "      <td>317</td>\n",
       "      <td>...</td>\n",
       "      <td>Restaurants, Italian, Cafes</td>\n",
       "      <td>{'Monday': '7:30-18:0', 'Tuesday': '7:30-18:0'...</td>\n",
       "      <td>I_nbSUj8mv0BB9Zgx6--UQ</td>\n",
       "      <td>x0cMhVpUcYYHoLdrWSNIMg</td>\n",
       "      <td>5.0</td>\n",
       "      <td>3</td>\n",
       "      <td>0</td>\n",
       "      <td>0</td>\n",
       "      <td>Ambiance/decor- 4\\nService- 5+\\nFood - 5\\nStri...</td>\n",
       "      <td>2015-10-09 00:33:14</td>\n",
       "    </tr>\n",
       "  </tbody>\n",
       "</table>\n",
       "<p>3 rows × 22 columns</p>\n",
       "</div>"
      ],
      "text/plain": [
       "              business_id           name              address     city state  \\\n",
       "3  g6AFW-zY0wDvBl9U82g4zg  Baretto Caffe  1262 Don Mills Road  toronto    ON   \n",
       "5  g6AFW-zY0wDvBl9U82g4zg  Baretto Caffe  1262 Don Mills Road  toronto    ON   \n",
       "6  g6AFW-zY0wDvBl9U82g4zg  Baretto Caffe  1262 Don Mills Road  toronto    ON   \n",
       "\n",
       "  postal_code   latitude  longitude  stars_business_avg  review_count  ...  \\\n",
       "3     M3B 2W7  43.744703 -79.346468                 5.0           317  ...   \n",
       "5     M3B 2W7  43.744703 -79.346468                 5.0           317  ...   \n",
       "6     M3B 2W7  43.744703 -79.346468                 5.0           317  ...   \n",
       "\n",
       "                    categories  \\\n",
       "3  Restaurants, Italian, Cafes   \n",
       "5  Restaurants, Italian, Cafes   \n",
       "6  Restaurants, Italian, Cafes   \n",
       "\n",
       "                                               hours               review_id  \\\n",
       "3  {'Monday': '7:30-18:0', 'Tuesday': '7:30-18:0'...  l8FlUGAgrAAOIi0fWV3Lgg   \n",
       "5  {'Monday': '7:30-18:0', 'Tuesday': '7:30-18:0'...  N_UO6AguthYg7lK2NoduZA   \n",
       "6  {'Monday': '7:30-18:0', 'Tuesday': '7:30-18:0'...  I_nbSUj8mv0BB9Zgx6--UQ   \n",
       "\n",
       "                  user_id stars useful  funny  cool  \\\n",
       "3  ZWpLKIbOC5xjuPWc7ZKe9Q   5.0      0      0     0   \n",
       "5  GGI39_EL1ERSqyWX1tEjMA   5.0     11      3     7   \n",
       "6  x0cMhVpUcYYHoLdrWSNIMg   5.0      3      0     0   \n",
       "\n",
       "                                                text                 date  \n",
       "3  Wonderful spaghetti, simple yet clean environm...  2018-09-03 18:13:28  \n",
       "5  A hidden gem near my home. Found this place wh...  2017-08-16 19:45:54  \n",
       "6  Ambiance/decor- 4\\nService- 5+\\nFood - 5\\nStri...  2015-10-09 00:33:14  \n",
       "\n",
       "[3 rows x 22 columns]"
      ]
     },
     "execution_count": 245,
     "metadata": {},
     "output_type": "execute_result"
    }
   ],
   "source": [
    "dataset_to_use.head(3)"
   ]
  },
  {
   "cell_type": "markdown",
   "metadata": {},
   "source": [
    "### Create simpler IDs for users and items"
   ]
  },
  {
   "cell_type": "code",
   "execution_count": 246,
   "metadata": {},
   "outputs": [],
   "source": [
    "unique_business_id = dataset_to_use.business_id.unique()\n",
    "mapping_business_id = {}\n",
    "ctr = 0\n",
    "for business_id in unique_business_id:\n",
    "    mapping_business_id[business_id] = ctr\n",
    "    ctr += 1\n",
    "    \n",
    "dataset_to_use['business_id_refined'] = dataset_to_use.business_id.map(mapping_business_id)"
   ]
  },
  {
   "cell_type": "code",
   "execution_count": 247,
   "metadata": {},
   "outputs": [],
   "source": [
    "unique_user_id = dataset_to_use.user_id.unique()\n",
    "mapping_user_id = {}\n",
    "ctr = 0\n",
    "for user_id in unique_user_id:\n",
    "    mapping_user_id[user_id] = ctr\n",
    "    ctr += 1\n",
    "    \n",
    "dataset_to_use['user_id_refined'] = dataset_to_use.user_id.map(mapping_user_id)"
   ]
  },
  {
   "cell_type": "code",
   "execution_count": 248,
   "metadata": {},
   "outputs": [
    {
     "data": {
      "text/html": [
       "<div>\n",
       "<style scoped>\n",
       "    .dataframe tbody tr th:only-of-type {\n",
       "        vertical-align: middle;\n",
       "    }\n",
       "\n",
       "    .dataframe tbody tr th {\n",
       "        vertical-align: top;\n",
       "    }\n",
       "\n",
       "    .dataframe thead th {\n",
       "        text-align: right;\n",
       "    }\n",
       "</style>\n",
       "<table border=\"1\" class=\"dataframe\">\n",
       "  <thead>\n",
       "    <tr style=\"text-align: right;\">\n",
       "      <th></th>\n",
       "      <th>user_id_refined</th>\n",
       "      <th>business_id_refined</th>\n",
       "    </tr>\n",
       "  </thead>\n",
       "  <tbody>\n",
       "    <tr>\n",
       "      <th>3</th>\n",
       "      <td>0</td>\n",
       "      <td>0</td>\n",
       "    </tr>\n",
       "    <tr>\n",
       "      <th>5</th>\n",
       "      <td>1</td>\n",
       "      <td>0</td>\n",
       "    </tr>\n",
       "    <tr>\n",
       "      <th>6</th>\n",
       "      <td>2</td>\n",
       "      <td>0</td>\n",
       "    </tr>\n",
       "    <tr>\n",
       "      <th>7</th>\n",
       "      <td>3</td>\n",
       "      <td>0</td>\n",
       "    </tr>\n",
       "    <tr>\n",
       "      <th>10</th>\n",
       "      <td>4</td>\n",
       "      <td>0</td>\n",
       "    </tr>\n",
       "  </tbody>\n",
       "</table>\n",
       "</div>"
      ],
      "text/plain": [
       "    user_id_refined  business_id_refined\n",
       "3                 0                    0\n",
       "5                 1                    0\n",
       "6                 2                    0\n",
       "7                 3                    0\n",
       "10                4                    0"
      ]
     },
     "execution_count": 248,
     "metadata": {},
     "output_type": "execute_result"
    }
   ],
   "source": [
    "dataset_to_use[['user_id_refined', 'business_id_refined']].head(5)"
   ]
  },
  {
   "cell_type": "code",
   "execution_count": 249,
   "metadata": {},
   "outputs": [],
   "source": [
    "dataset_to_use.sort_values(by = ['user_id_refined', 'date'], inplace = True)"
   ]
  },
  {
   "cell_type": "code",
   "execution_count": 250,
   "metadata": {},
   "outputs": [
    {
     "data": {
      "text/html": [
       "<div>\n",
       "<style scoped>\n",
       "    .dataframe tbody tr th:only-of-type {\n",
       "        vertical-align: middle;\n",
       "    }\n",
       "\n",
       "    .dataframe tbody tr th {\n",
       "        vertical-align: top;\n",
       "    }\n",
       "\n",
       "    .dataframe thead th {\n",
       "        text-align: right;\n",
       "    }\n",
       "</style>\n",
       "<table border=\"1\" class=\"dataframe\">\n",
       "  <thead>\n",
       "    <tr style=\"text-align: right;\">\n",
       "      <th></th>\n",
       "      <th>business_id</th>\n",
       "      <th>name</th>\n",
       "      <th>address</th>\n",
       "      <th>city</th>\n",
       "      <th>state</th>\n",
       "      <th>postal_code</th>\n",
       "      <th>latitude</th>\n",
       "      <th>longitude</th>\n",
       "      <th>stars_business_avg</th>\n",
       "      <th>review_count</th>\n",
       "      <th>...</th>\n",
       "      <th>review_id</th>\n",
       "      <th>user_id</th>\n",
       "      <th>stars</th>\n",
       "      <th>useful</th>\n",
       "      <th>funny</th>\n",
       "      <th>cool</th>\n",
       "      <th>text</th>\n",
       "      <th>date</th>\n",
       "      <th>business_id_refined</th>\n",
       "      <th>user_id_refined</th>\n",
       "    </tr>\n",
       "  </thead>\n",
       "  <tbody>\n",
       "    <tr>\n",
       "      <th>394705</th>\n",
       "      <td>e49eXgKVuR-lsL0-D4vzDw</td>\n",
       "      <td>Momiji</td>\n",
       "      <td>2111 Sheppard Avenue E</td>\n",
       "      <td>toronto</td>\n",
       "      <td>ON</td>\n",
       "      <td>M2J 1W6</td>\n",
       "      <td>43.775377</td>\n",
       "      <td>-79.333972</td>\n",
       "      <td>3.0</td>\n",
       "      <td>22</td>\n",
       "      <td>...</td>\n",
       "      <td>9kb3ywKCxhCQY0ElsLccNA</td>\n",
       "      <td>ZWpLKIbOC5xjuPWc7ZKe9Q</td>\n",
       "      <td>3.0</td>\n",
       "      <td>3</td>\n",
       "      <td>0</td>\n",
       "      <td>2</td>\n",
       "      <td>I went to Momiji at night wanting to find out ...</td>\n",
       "      <td>2010-11-01 01:50:56</td>\n",
       "      <td>6217</td>\n",
       "      <td>0</td>\n",
       "    </tr>\n",
       "    <tr>\n",
       "      <th>270638</th>\n",
       "      <td>ik9VvawL-BeAqlxTI1leew</td>\n",
       "      <td>Gonoe Sushi</td>\n",
       "      <td>1310 Don Mills Road</td>\n",
       "      <td>toronto</td>\n",
       "      <td>ON</td>\n",
       "      <td>M3B 2W6</td>\n",
       "      <td>43.745920</td>\n",
       "      <td>-79.346301</td>\n",
       "      <td>3.5</td>\n",
       "      <td>119</td>\n",
       "      <td>...</td>\n",
       "      <td>ehAgpX1OzHGnkf1fut6Few</td>\n",
       "      <td>ZWpLKIbOC5xjuPWc7ZKe9Q</td>\n",
       "      <td>3.0</td>\n",
       "      <td>2</td>\n",
       "      <td>0</td>\n",
       "      <td>0</td>\n",
       "      <td>I went to this place solely on the recommendat...</td>\n",
       "      <td>2014-12-23 02:53:08</td>\n",
       "      <td>3521</td>\n",
       "      <td>0</td>\n",
       "    </tr>\n",
       "    <tr>\n",
       "      <th>119044</th>\n",
       "      <td>Nz44ccUso3nq5S2OlQHNlA</td>\n",
       "      <td>Mexico Lindo</td>\n",
       "      <td>2600 Birchmount Road, Suite 2586</td>\n",
       "      <td>toronto</td>\n",
       "      <td>ON</td>\n",
       "      <td>M1T 2M5</td>\n",
       "      <td>43.789719</td>\n",
       "      <td>-79.302981</td>\n",
       "      <td>4.0</td>\n",
       "      <td>163</td>\n",
       "      <td>...</td>\n",
       "      <td>nieXZ7BPbe_4X4lJexK--w</td>\n",
       "      <td>ZWpLKIbOC5xjuPWc7ZKe9Q</td>\n",
       "      <td>5.0</td>\n",
       "      <td>0</td>\n",
       "      <td>0</td>\n",
       "      <td>0</td>\n",
       "      <td>Homemade family style catering, I was welcome ...</td>\n",
       "      <td>2014-12-31 02:27:56</td>\n",
       "      <td>1264</td>\n",
       "      <td>0</td>\n",
       "    </tr>\n",
       "  </tbody>\n",
       "</table>\n",
       "<p>3 rows × 24 columns</p>\n",
       "</div>"
      ],
      "text/plain": [
       "                   business_id          name  \\\n",
       "394705  e49eXgKVuR-lsL0-D4vzDw        Momiji   \n",
       "270638  ik9VvawL-BeAqlxTI1leew   Gonoe Sushi   \n",
       "119044  Nz44ccUso3nq5S2OlQHNlA  Mexico Lindo   \n",
       "\n",
       "                                 address     city state postal_code  \\\n",
       "394705            2111 Sheppard Avenue E  toronto    ON     M2J 1W6   \n",
       "270638               1310 Don Mills Road  toronto    ON     M3B 2W6   \n",
       "119044  2600 Birchmount Road, Suite 2586  toronto    ON     M1T 2M5   \n",
       "\n",
       "         latitude  longitude  stars_business_avg  review_count  ...  \\\n",
       "394705  43.775377 -79.333972                 3.0            22  ...   \n",
       "270638  43.745920 -79.346301                 3.5           119  ...   \n",
       "119044  43.789719 -79.302981                 4.0           163  ...   \n",
       "\n",
       "                     review_id                 user_id stars useful funny  \\\n",
       "394705  9kb3ywKCxhCQY0ElsLccNA  ZWpLKIbOC5xjuPWc7ZKe9Q   3.0      3     0   \n",
       "270638  ehAgpX1OzHGnkf1fut6Few  ZWpLKIbOC5xjuPWc7ZKe9Q   3.0      2     0   \n",
       "119044  nieXZ7BPbe_4X4lJexK--w  ZWpLKIbOC5xjuPWc7ZKe9Q   5.0      0     0   \n",
       "\n",
       "       cool                                               text  \\\n",
       "394705    2  I went to Momiji at night wanting to find out ...   \n",
       "270638    0  I went to this place solely on the recommendat...   \n",
       "119044    0  Homemade family style catering, I was welcome ...   \n",
       "\n",
       "                       date  business_id_refined  user_id_refined  \n",
       "394705  2010-11-01 01:50:56                 6217                0  \n",
       "270638  2014-12-23 02:53:08                 3521                0  \n",
       "119044  2014-12-31 02:27:56                 1264                0  \n",
       "\n",
       "[3 rows x 24 columns]"
      ]
     },
     "execution_count": 250,
     "metadata": {},
     "output_type": "execute_result"
    }
   ],
   "source": [
    "dataset_to_use.head(3)"
   ]
  },
  {
   "cell_type": "markdown",
   "metadata": {},
   "source": [
    "## Test Data:"
   ]
  },
  {
   "cell_type": "code",
   "execution_count": 251,
   "metadata": {},
   "outputs": [],
   "source": [
    "def last_value(df):\n",
    "    return df.iloc[[-1]]"
   ]
  },
  {
   "cell_type": "code",
   "execution_count": 252,
   "metadata": {},
   "outputs": [],
   "source": [
    "# Save the most recent visit to a restaurant as the test data\n",
    "test_data = dataset_to_use.groupby('user_id_refined').apply(last_value)"
   ]
  },
  {
   "cell_type": "raw",
   "metadata": {},
   "source": [
    "### Sanity check to make sure that the most recent transaction is saved\n",
    "most_recent_restaurant = []\n",
    "for idx in range(len(test_data)):\n",
    "    most_recent_restaurant.append(dataset_to_use.query('user_id_refined == @idx')['business_id_refined'].iloc[-1])\n",
    "    \n",
    "if sum(test_data.business_id_refined != most_recent_restaurant):\n",
    "    print('not successful')\n",
    "else:\n",
    "    print('successful!')"
   ]
  },
  {
   "cell_type": "markdown",
   "metadata": {},
   "source": [
    "'successful!' indicates that we were successfully able to save the most recent visit by every user in a separate dataframe.\n",
    "\n",
    "This dataframe upon transformation would serve as a test dataset."
   ]
  },
  {
   "cell_type": "code",
   "execution_count": 253,
   "metadata": {},
   "outputs": [
    {
     "data": {
      "text/html": [
       "<div>\n",
       "<style scoped>\n",
       "    .dataframe tbody tr th:only-of-type {\n",
       "        vertical-align: middle;\n",
       "    }\n",
       "\n",
       "    .dataframe tbody tr th {\n",
       "        vertical-align: top;\n",
       "    }\n",
       "\n",
       "    .dataframe thead th {\n",
       "        text-align: right;\n",
       "    }\n",
       "</style>\n",
       "<table border=\"1\" class=\"dataframe\">\n",
       "  <thead>\n",
       "    <tr style=\"text-align: right;\">\n",
       "      <th></th>\n",
       "      <th></th>\n",
       "      <th>business_id</th>\n",
       "      <th>name</th>\n",
       "      <th>address</th>\n",
       "      <th>city</th>\n",
       "      <th>state</th>\n",
       "      <th>postal_code</th>\n",
       "      <th>latitude</th>\n",
       "      <th>longitude</th>\n",
       "      <th>stars_business_avg</th>\n",
       "      <th>review_count</th>\n",
       "      <th>...</th>\n",
       "      <th>review_id</th>\n",
       "      <th>user_id</th>\n",
       "      <th>stars</th>\n",
       "      <th>useful</th>\n",
       "      <th>funny</th>\n",
       "      <th>cool</th>\n",
       "      <th>text</th>\n",
       "      <th>date</th>\n",
       "      <th>business_id_refined</th>\n",
       "      <th>user_id_refined</th>\n",
       "    </tr>\n",
       "    <tr>\n",
       "      <th>user_id_refined</th>\n",
       "      <th></th>\n",
       "      <th></th>\n",
       "      <th></th>\n",
       "      <th></th>\n",
       "      <th></th>\n",
       "      <th></th>\n",
       "      <th></th>\n",
       "      <th></th>\n",
       "      <th></th>\n",
       "      <th></th>\n",
       "      <th></th>\n",
       "      <th></th>\n",
       "      <th></th>\n",
       "      <th></th>\n",
       "      <th></th>\n",
       "      <th></th>\n",
       "      <th></th>\n",
       "      <th></th>\n",
       "      <th></th>\n",
       "      <th></th>\n",
       "      <th></th>\n",
       "      <th></th>\n",
       "    </tr>\n",
       "  </thead>\n",
       "  <tbody>\n",
       "    <tr>\n",
       "      <th>0</th>\n",
       "      <th>3</th>\n",
       "      <td>g6AFW-zY0wDvBl9U82g4zg</td>\n",
       "      <td>Baretto Caffe</td>\n",
       "      <td>1262 Don Mills Road</td>\n",
       "      <td>toronto</td>\n",
       "      <td>ON</td>\n",
       "      <td>M3B 2W7</td>\n",
       "      <td>43.744703</td>\n",
       "      <td>-79.346468</td>\n",
       "      <td>5.0</td>\n",
       "      <td>317</td>\n",
       "      <td>...</td>\n",
       "      <td>l8FlUGAgrAAOIi0fWV3Lgg</td>\n",
       "      <td>ZWpLKIbOC5xjuPWc7ZKe9Q</td>\n",
       "      <td>5.0</td>\n",
       "      <td>0</td>\n",
       "      <td>0</td>\n",
       "      <td>0</td>\n",
       "      <td>Wonderful spaghetti, simple yet clean environm...</td>\n",
       "      <td>2018-09-03 18:13:28</td>\n",
       "      <td>0</td>\n",
       "      <td>0</td>\n",
       "    </tr>\n",
       "    <tr>\n",
       "      <th>1</th>\n",
       "      <th>50691</th>\n",
       "      <td>B70iTJjcPkuYn8ouUewWgw</td>\n",
       "      <td>Gusto 101</td>\n",
       "      <td>101 Portland Street</td>\n",
       "      <td>toronto</td>\n",
       "      <td>ON</td>\n",
       "      <td>M5V 2N3</td>\n",
       "      <td>43.645002</td>\n",
       "      <td>-79.400309</td>\n",
       "      <td>4.0</td>\n",
       "      <td>956</td>\n",
       "      <td>...</td>\n",
       "      <td>QOo-iNFVehBpfF_3cx_cdw</td>\n",
       "      <td>GGI39_EL1ERSqyWX1tEjMA</td>\n",
       "      <td>3.0</td>\n",
       "      <td>2</td>\n",
       "      <td>2</td>\n",
       "      <td>3</td>\n",
       "      <td>Ahh! Confused to rate between 4 &amp; 3 . I would ...</td>\n",
       "      <td>2019-09-19 21:38:53</td>\n",
       "      <td>1048</td>\n",
       "      <td>1</td>\n",
       "    </tr>\n",
       "    <tr>\n",
       "      <th>2</th>\n",
       "      <th>185431</th>\n",
       "      <td>mVVoK2ADlKbvwitSqFY2hw</td>\n",
       "      <td>Pantry Foods</td>\n",
       "      <td>3456 Bathurst Street</td>\n",
       "      <td>toronto</td>\n",
       "      <td>ON</td>\n",
       "      <td>M6A 2C3</td>\n",
       "      <td>43.728130</td>\n",
       "      <td>-79.432020</td>\n",
       "      <td>4.0</td>\n",
       "      <td>20</td>\n",
       "      <td>...</td>\n",
       "      <td>HKo22Pcdk88c1eq2gHVwjg</td>\n",
       "      <td>x0cMhVpUcYYHoLdrWSNIMg</td>\n",
       "      <td>5.0</td>\n",
       "      <td>0</td>\n",
       "      <td>0</td>\n",
       "      <td>0</td>\n",
       "      <td>Popped in for lunch and all the food was delic...</td>\n",
       "      <td>2019-04-29 17:28:33</td>\n",
       "      <td>2313</td>\n",
       "      <td>2</td>\n",
       "    </tr>\n",
       "  </tbody>\n",
       "</table>\n",
       "<p>3 rows × 24 columns</p>\n",
       "</div>"
      ],
      "text/plain": [
       "                                   business_id           name  \\\n",
       "user_id_refined                                                 \n",
       "0               3       g6AFW-zY0wDvBl9U82g4zg  Baretto Caffe   \n",
       "1               50691   B70iTJjcPkuYn8ouUewWgw      Gusto 101   \n",
       "2               185431  mVVoK2ADlKbvwitSqFY2hw   Pantry Foods   \n",
       "\n",
       "                                     address     city state postal_code  \\\n",
       "user_id_refined                                                           \n",
       "0               3        1262 Don Mills Road  toronto    ON     M3B 2W7   \n",
       "1               50691    101 Portland Street  toronto    ON     M5V 2N3   \n",
       "2               185431  3456 Bathurst Street  toronto    ON     M6A 2C3   \n",
       "\n",
       "                         latitude  longitude  stars_business_avg  \\\n",
       "user_id_refined                                                    \n",
       "0               3       43.744703 -79.346468                 5.0   \n",
       "1               50691   43.645002 -79.400309                 4.0   \n",
       "2               185431  43.728130 -79.432020                 4.0   \n",
       "\n",
       "                        review_count  ...               review_id  \\\n",
       "user_id_refined                       ...                           \n",
       "0               3                317  ...  l8FlUGAgrAAOIi0fWV3Lgg   \n",
       "1               50691            956  ...  QOo-iNFVehBpfF_3cx_cdw   \n",
       "2               185431            20  ...  HKo22Pcdk88c1eq2gHVwjg   \n",
       "\n",
       "                                       user_id stars useful funny cool  \\\n",
       "user_id_refined                                                          \n",
       "0               3       ZWpLKIbOC5xjuPWc7ZKe9Q   5.0      0     0    0   \n",
       "1               50691   GGI39_EL1ERSqyWX1tEjMA   3.0      2     2    3   \n",
       "2               185431  x0cMhVpUcYYHoLdrWSNIMg   5.0      0     0    0   \n",
       "\n",
       "                                                                     text  \\\n",
       "user_id_refined                                                             \n",
       "0               3       Wonderful spaghetti, simple yet clean environm...   \n",
       "1               50691   Ahh! Confused to rate between 4 & 3 . I would ...   \n",
       "2               185431  Popped in for lunch and all the food was delic...   \n",
       "\n",
       "                                       date  business_id_refined  \\\n",
       "user_id_refined                                                    \n",
       "0               3       2018-09-03 18:13:28                    0   \n",
       "1               50691   2019-09-19 21:38:53                 1048   \n",
       "2               185431  2019-04-29 17:28:33                 2313   \n",
       "\n",
       "                        user_id_refined  \n",
       "user_id_refined                          \n",
       "0               3                     0  \n",
       "1               50691                 1  \n",
       "2               185431                2  \n",
       "\n",
       "[3 rows x 24 columns]"
      ]
     },
     "execution_count": 253,
     "metadata": {},
     "output_type": "execute_result"
    }
   ],
   "source": [
    "test_data.head(3)"
   ]
  },
  {
   "cell_type": "code",
   "execution_count": 254,
   "metadata": {},
   "outputs": [
    {
     "data": {
      "text/plain": [
       "(0, 1048, 2313)"
      ]
     },
     "execution_count": 254,
     "metadata": {},
     "output_type": "execute_result"
    }
   ],
   "source": [
    "dataset_to_use.query('user_id_refined == 0')['business_id_refined'].iloc[-1],\\\n",
    "dataset_to_use.query('user_id_refined == 1')['business_id_refined'].iloc[-1],\\\n",
    "dataset_to_use.query('user_id_refined == 2')['business_id_refined'].iloc[-1]"
   ]
  },
  {
   "cell_type": "code",
   "execution_count": 255,
   "metadata": {},
   "outputs": [
    {
     "data": {
      "text/html": [
       "<div>\n",
       "<style scoped>\n",
       "    .dataframe tbody tr th:only-of-type {\n",
       "        vertical-align: middle;\n",
       "    }\n",
       "\n",
       "    .dataframe tbody tr th {\n",
       "        vertical-align: top;\n",
       "    }\n",
       "\n",
       "    .dataframe thead th {\n",
       "        text-align: right;\n",
       "    }\n",
       "</style>\n",
       "<table border=\"1\" class=\"dataframe\">\n",
       "  <thead>\n",
       "    <tr style=\"text-align: right;\">\n",
       "      <th></th>\n",
       "      <th>business_id</th>\n",
       "      <th>name</th>\n",
       "      <th>address</th>\n",
       "      <th>city</th>\n",
       "      <th>state</th>\n",
       "      <th>postal_code</th>\n",
       "      <th>latitude</th>\n",
       "      <th>longitude</th>\n",
       "      <th>stars_business_avg</th>\n",
       "      <th>review_count</th>\n",
       "      <th>...</th>\n",
       "      <th>review_id</th>\n",
       "      <th>user_id</th>\n",
       "      <th>stars</th>\n",
       "      <th>useful</th>\n",
       "      <th>funny</th>\n",
       "      <th>cool</th>\n",
       "      <th>text</th>\n",
       "      <th>date</th>\n",
       "      <th>business_id_refined</th>\n",
       "      <th>user_id_refined</th>\n",
       "    </tr>\n",
       "  </thead>\n",
       "  <tbody>\n",
       "    <tr>\n",
       "      <th>3</th>\n",
       "      <td>g6AFW-zY0wDvBl9U82g4zg</td>\n",
       "      <td>Baretto Caffe</td>\n",
       "      <td>1262 Don Mills Road</td>\n",
       "      <td>toronto</td>\n",
       "      <td>ON</td>\n",
       "      <td>M3B 2W7</td>\n",
       "      <td>43.744703</td>\n",
       "      <td>-79.346468</td>\n",
       "      <td>5.0</td>\n",
       "      <td>317</td>\n",
       "      <td>...</td>\n",
       "      <td>l8FlUGAgrAAOIi0fWV3Lgg</td>\n",
       "      <td>ZWpLKIbOC5xjuPWc7ZKe9Q</td>\n",
       "      <td>5.0</td>\n",
       "      <td>0</td>\n",
       "      <td>0</td>\n",
       "      <td>0</td>\n",
       "      <td>Wonderful spaghetti, simple yet clean environm...</td>\n",
       "      <td>2018-09-03 18:13:28</td>\n",
       "      <td>0</td>\n",
       "      <td>0</td>\n",
       "    </tr>\n",
       "    <tr>\n",
       "      <th>50691</th>\n",
       "      <td>B70iTJjcPkuYn8ouUewWgw</td>\n",
       "      <td>Gusto 101</td>\n",
       "      <td>101 Portland Street</td>\n",
       "      <td>toronto</td>\n",
       "      <td>ON</td>\n",
       "      <td>M5V 2N3</td>\n",
       "      <td>43.645002</td>\n",
       "      <td>-79.400309</td>\n",
       "      <td>4.0</td>\n",
       "      <td>956</td>\n",
       "      <td>...</td>\n",
       "      <td>QOo-iNFVehBpfF_3cx_cdw</td>\n",
       "      <td>GGI39_EL1ERSqyWX1tEjMA</td>\n",
       "      <td>3.0</td>\n",
       "      <td>2</td>\n",
       "      <td>2</td>\n",
       "      <td>3</td>\n",
       "      <td>Ahh! Confused to rate between 4 &amp; 3 . I would ...</td>\n",
       "      <td>2019-09-19 21:38:53</td>\n",
       "      <td>1048</td>\n",
       "      <td>1</td>\n",
       "    </tr>\n",
       "    <tr>\n",
       "      <th>185431</th>\n",
       "      <td>mVVoK2ADlKbvwitSqFY2hw</td>\n",
       "      <td>Pantry Foods</td>\n",
       "      <td>3456 Bathurst Street</td>\n",
       "      <td>toronto</td>\n",
       "      <td>ON</td>\n",
       "      <td>M6A 2C3</td>\n",
       "      <td>43.728130</td>\n",
       "      <td>-79.432020</td>\n",
       "      <td>4.0</td>\n",
       "      <td>20</td>\n",
       "      <td>...</td>\n",
       "      <td>HKo22Pcdk88c1eq2gHVwjg</td>\n",
       "      <td>x0cMhVpUcYYHoLdrWSNIMg</td>\n",
       "      <td>5.0</td>\n",
       "      <td>0</td>\n",
       "      <td>0</td>\n",
       "      <td>0</td>\n",
       "      <td>Popped in for lunch and all the food was delic...</td>\n",
       "      <td>2019-04-29 17:28:33</td>\n",
       "      <td>2313</td>\n",
       "      <td>2</td>\n",
       "    </tr>\n",
       "  </tbody>\n",
       "</table>\n",
       "<p>3 rows × 24 columns</p>\n",
       "</div>"
      ],
      "text/plain": [
       "                   business_id           name               address     city  \\\n",
       "3       g6AFW-zY0wDvBl9U82g4zg  Baretto Caffe   1262 Don Mills Road  toronto   \n",
       "50691   B70iTJjcPkuYn8ouUewWgw      Gusto 101   101 Portland Street  toronto   \n",
       "185431  mVVoK2ADlKbvwitSqFY2hw   Pantry Foods  3456 Bathurst Street  toronto   \n",
       "\n",
       "       state postal_code   latitude  longitude  stars_business_avg  \\\n",
       "3         ON     M3B 2W7  43.744703 -79.346468                 5.0   \n",
       "50691     ON     M5V 2N3  43.645002 -79.400309                 4.0   \n",
       "185431    ON     M6A 2C3  43.728130 -79.432020                 4.0   \n",
       "\n",
       "        review_count  ...               review_id                 user_id  \\\n",
       "3                317  ...  l8FlUGAgrAAOIi0fWV3Lgg  ZWpLKIbOC5xjuPWc7ZKe9Q   \n",
       "50691            956  ...  QOo-iNFVehBpfF_3cx_cdw  GGI39_EL1ERSqyWX1tEjMA   \n",
       "185431            20  ...  HKo22Pcdk88c1eq2gHVwjg  x0cMhVpUcYYHoLdrWSNIMg   \n",
       "\n",
       "       stars useful funny cool  \\\n",
       "3        5.0      0     0    0   \n",
       "50691    3.0      2     2    3   \n",
       "185431   5.0      0     0    0   \n",
       "\n",
       "                                                     text  \\\n",
       "3       Wonderful spaghetti, simple yet clean environm...   \n",
       "50691   Ahh! Confused to rate between 4 & 3 . I would ...   \n",
       "185431  Popped in for lunch and all the food was delic...   \n",
       "\n",
       "                       date  business_id_refined  user_id_refined  \n",
       "3       2018-09-03 18:13:28                    0                0  \n",
       "50691   2019-09-19 21:38:53                 1048                1  \n",
       "185431  2019-04-29 17:28:33                 2313                2  \n",
       "\n",
       "[3 rows x 24 columns]"
      ]
     },
     "execution_count": 255,
     "metadata": {},
     "output_type": "execute_result"
    }
   ],
   "source": [
    "test_data = test_data.droplevel(0)\n",
    "test_data.head(3)"
   ]
  },
  {
   "cell_type": "code",
   "execution_count": 256,
   "metadata": {},
   "outputs": [
    {
     "data": {
      "text/plain": [
       "array([[   0,    0],\n",
       "       [   1, 1048],\n",
       "       [   2, 2313],\n",
       "       ...,\n",
       "       [7902, 5769],\n",
       "       [7903, 7334],\n",
       "       [7904, 5823]])"
      ]
     },
     "execution_count": 256,
     "metadata": {},
     "output_type": "execute_result"
    }
   ],
   "source": [
    "X_test = np.array(test_data[['user_id_refined', 'business_id_refined']].values.tolist())\n",
    "X_test"
   ]
  },
  {
   "cell_type": "code",
   "execution_count": 257,
   "metadata": {},
   "outputs": [
    {
     "data": {
      "text/plain": [
       "array([1. , 0.6, 1. , ..., 0.8, 0.2, 0.2])"
      ]
     },
     "execution_count": 257,
     "metadata": {},
     "output_type": "execute_result"
    }
   ],
   "source": [
    "y_test = np.array(test_data['stars']) / 5.0\n",
    "y_test"
   ]
  },
  {
   "cell_type": "code",
   "execution_count": 258,
   "metadata": {},
   "outputs": [
    {
     "data": {
      "text/plain": [
       "True"
      ]
     },
     "execution_count": 258,
     "metadata": {},
     "output_type": "execute_result"
    }
   ],
   "source": [
    "len(y_test) == len(X_test)"
   ]
  },
  {
   "cell_type": "code",
   "execution_count": 259,
   "metadata": {},
   "outputs": [
    {
     "data": {
      "text/html": [
       "<div>\n",
       "<style scoped>\n",
       "    .dataframe tbody tr th:only-of-type {\n",
       "        vertical-align: middle;\n",
       "    }\n",
       "\n",
       "    .dataframe tbody tr th {\n",
       "        vertical-align: top;\n",
       "    }\n",
       "\n",
       "    .dataframe thead th {\n",
       "        text-align: right;\n",
       "    }\n",
       "</style>\n",
       "<table border=\"1\" class=\"dataframe\">\n",
       "  <thead>\n",
       "    <tr style=\"text-align: right;\">\n",
       "      <th></th>\n",
       "      <th>rating_1.0</th>\n",
       "      <th>rating_2.0</th>\n",
       "      <th>rating_3.0</th>\n",
       "      <th>rating_4.0</th>\n",
       "      <th>rating_5.0</th>\n",
       "    </tr>\n",
       "  </thead>\n",
       "  <tbody>\n",
       "    <tr>\n",
       "      <th>0</th>\n",
       "      <td>0</td>\n",
       "      <td>0</td>\n",
       "      <td>0</td>\n",
       "      <td>0</td>\n",
       "      <td>1</td>\n",
       "    </tr>\n",
       "    <tr>\n",
       "      <th>1</th>\n",
       "      <td>0</td>\n",
       "      <td>0</td>\n",
       "      <td>1</td>\n",
       "      <td>0</td>\n",
       "      <td>0</td>\n",
       "    </tr>\n",
       "    <tr>\n",
       "      <th>2</th>\n",
       "      <td>0</td>\n",
       "      <td>0</td>\n",
       "      <td>0</td>\n",
       "      <td>0</td>\n",
       "      <td>1</td>\n",
       "    </tr>\n",
       "    <tr>\n",
       "      <th>3</th>\n",
       "      <td>0</td>\n",
       "      <td>0</td>\n",
       "      <td>0</td>\n",
       "      <td>1</td>\n",
       "      <td>0</td>\n",
       "    </tr>\n",
       "    <tr>\n",
       "      <th>4</th>\n",
       "      <td>0</td>\n",
       "      <td>0</td>\n",
       "      <td>0</td>\n",
       "      <td>1</td>\n",
       "      <td>0</td>\n",
       "    </tr>\n",
       "  </tbody>\n",
       "</table>\n",
       "</div>"
      ],
      "text/plain": [
       "   rating_1.0  rating_2.0  rating_3.0  rating_4.0  rating_5.0\n",
       "0           0           0           0           0           1\n",
       "1           0           0           1           0           0\n",
       "2           0           0           0           0           1\n",
       "3           0           0           0           1           0\n",
       "4           0           0           0           1           0"
      ]
     },
     "execution_count": 259,
     "metadata": {},
     "output_type": "execute_result"
    }
   ],
   "source": [
    "y_test_one_hot = pd.get_dummies(pd.DataFrame({'rating': list(map(lambda x: str(x), y_test * 5.0))}))\n",
    "y_test_one_hot.head(5)"
   ]
  },
  {
   "cell_type": "code",
   "execution_count": 260,
   "metadata": {},
   "outputs": [
    {
     "data": {
      "text/plain": [
       "True"
      ]
     },
     "execution_count": 260,
     "metadata": {},
     "output_type": "execute_result"
    }
   ],
   "source": [
    "len(y_test_one_hot) == len(y_test)"
   ]
  },
  {
   "cell_type": "markdown",
   "metadata": {},
   "source": [
    "### Negative Instances:"
   ]
  },
  {
   "cell_type": "raw",
   "metadata": {},
   "source": [
    "allRatings = dataset_to_use[['user_id_refined', 'business_id_refined']].values.tolist()\n",
    "allRatings_set = set(tuple(x) for x in allRatings) # set of all interactions observed in the data (user_id, business_id)\n",
    "len(allRatings_set)"
   ]
  },
  {
   "cell_type": "raw",
   "metadata": {},
   "source": [
    "allRatings_set"
   ]
  },
  {
   "cell_type": "raw",
   "metadata": {},
   "source": [
    "num_users = len(testRatings)\n",
    "num_negatives = 99\n",
    "np.random.seed(123)\n",
    "num_items = dataset_to_use.business_id_refined.nunique()\n",
    "testNegatives = []\n",
    "\n",
    "for u in range(num_users):\n",
    "    temp = [] # stores negative instances for this particular user\n",
    "    \n",
    "    # generate negative instances for testing\n",
    "    for t in range(num_negatives):\n",
    "        j = np.random.randint(num_items)\n",
    "        \n",
    "        # check if (u, j) exists in the dataset (i.e. does their interaction exist?)\n",
    "        while (u, j) in allRatings_set:\n",
    "            j = np.random.randint(num_items)\n",
    "        \n",
    "        temp.append(j)\n",
    "    \n",
    "    testNegatives.append(temp)\n",
    "    \n",
    "len(testNegatives)"
   ]
  },
  {
   "cell_type": "raw",
   "metadata": {
    "scrolled": true
   },
   "source": [
    "len(testNegatives[0]), testNegatives[0]"
   ]
  },
  {
   "cell_type": "markdown",
   "metadata": {},
   "source": [
    "## Train Data:"
   ]
  },
  {
   "cell_type": "code",
   "execution_count": 261,
   "metadata": {},
   "outputs": [],
   "source": [
    "# Save all visits to a restaurant except the last one as the train data\n",
    "def all_values_except_last(df):\n",
    "    return df.iloc[:-1]"
   ]
  },
  {
   "cell_type": "code",
   "execution_count": 262,
   "metadata": {},
   "outputs": [],
   "source": [
    "train_data = dataset_to_use.groupby('user_id_refined').apply(all_values_except_last)"
   ]
  },
  {
   "cell_type": "code",
   "execution_count": 263,
   "metadata": {},
   "outputs": [
    {
     "data": {
      "text/html": [
       "<div>\n",
       "<style scoped>\n",
       "    .dataframe tbody tr th:only-of-type {\n",
       "        vertical-align: middle;\n",
       "    }\n",
       "\n",
       "    .dataframe tbody tr th {\n",
       "        vertical-align: top;\n",
       "    }\n",
       "\n",
       "    .dataframe thead th {\n",
       "        text-align: right;\n",
       "    }\n",
       "</style>\n",
       "<table border=\"1\" class=\"dataframe\">\n",
       "  <thead>\n",
       "    <tr style=\"text-align: right;\">\n",
       "      <th></th>\n",
       "      <th>business_id</th>\n",
       "      <th>name</th>\n",
       "      <th>address</th>\n",
       "      <th>city</th>\n",
       "      <th>state</th>\n",
       "      <th>postal_code</th>\n",
       "      <th>latitude</th>\n",
       "      <th>longitude</th>\n",
       "      <th>stars_business_avg</th>\n",
       "      <th>review_count</th>\n",
       "      <th>...</th>\n",
       "      <th>review_id</th>\n",
       "      <th>user_id</th>\n",
       "      <th>stars</th>\n",
       "      <th>useful</th>\n",
       "      <th>funny</th>\n",
       "      <th>cool</th>\n",
       "      <th>text</th>\n",
       "      <th>date</th>\n",
       "      <th>business_id_refined</th>\n",
       "      <th>user_id_refined</th>\n",
       "    </tr>\n",
       "  </thead>\n",
       "  <tbody>\n",
       "    <tr>\n",
       "      <th>394705</th>\n",
       "      <td>e49eXgKVuR-lsL0-D4vzDw</td>\n",
       "      <td>Momiji</td>\n",
       "      <td>2111 Sheppard Avenue E</td>\n",
       "      <td>toronto</td>\n",
       "      <td>ON</td>\n",
       "      <td>M2J 1W6</td>\n",
       "      <td>43.775377</td>\n",
       "      <td>-79.333972</td>\n",
       "      <td>3.0</td>\n",
       "      <td>22</td>\n",
       "      <td>...</td>\n",
       "      <td>9kb3ywKCxhCQY0ElsLccNA</td>\n",
       "      <td>ZWpLKIbOC5xjuPWc7ZKe9Q</td>\n",
       "      <td>3.0</td>\n",
       "      <td>3</td>\n",
       "      <td>0</td>\n",
       "      <td>2</td>\n",
       "      <td>I went to Momiji at night wanting to find out ...</td>\n",
       "      <td>2010-11-01 01:50:56</td>\n",
       "      <td>6217</td>\n",
       "      <td>0</td>\n",
       "    </tr>\n",
       "    <tr>\n",
       "      <th>270638</th>\n",
       "      <td>ik9VvawL-BeAqlxTI1leew</td>\n",
       "      <td>Gonoe Sushi</td>\n",
       "      <td>1310 Don Mills Road</td>\n",
       "      <td>toronto</td>\n",
       "      <td>ON</td>\n",
       "      <td>M3B 2W6</td>\n",
       "      <td>43.745920</td>\n",
       "      <td>-79.346301</td>\n",
       "      <td>3.5</td>\n",
       "      <td>119</td>\n",
       "      <td>...</td>\n",
       "      <td>ehAgpX1OzHGnkf1fut6Few</td>\n",
       "      <td>ZWpLKIbOC5xjuPWc7ZKe9Q</td>\n",
       "      <td>3.0</td>\n",
       "      <td>2</td>\n",
       "      <td>0</td>\n",
       "      <td>0</td>\n",
       "      <td>I went to this place solely on the recommendat...</td>\n",
       "      <td>2014-12-23 02:53:08</td>\n",
       "      <td>3521</td>\n",
       "      <td>0</td>\n",
       "    </tr>\n",
       "    <tr>\n",
       "      <th>119044</th>\n",
       "      <td>Nz44ccUso3nq5S2OlQHNlA</td>\n",
       "      <td>Mexico Lindo</td>\n",
       "      <td>2600 Birchmount Road, Suite 2586</td>\n",
       "      <td>toronto</td>\n",
       "      <td>ON</td>\n",
       "      <td>M1T 2M5</td>\n",
       "      <td>43.789719</td>\n",
       "      <td>-79.302981</td>\n",
       "      <td>4.0</td>\n",
       "      <td>163</td>\n",
       "      <td>...</td>\n",
       "      <td>nieXZ7BPbe_4X4lJexK--w</td>\n",
       "      <td>ZWpLKIbOC5xjuPWc7ZKe9Q</td>\n",
       "      <td>5.0</td>\n",
       "      <td>0</td>\n",
       "      <td>0</td>\n",
       "      <td>0</td>\n",
       "      <td>Homemade family style catering, I was welcome ...</td>\n",
       "      <td>2014-12-31 02:27:56</td>\n",
       "      <td>1264</td>\n",
       "      <td>0</td>\n",
       "    </tr>\n",
       "  </tbody>\n",
       "</table>\n",
       "<p>3 rows × 24 columns</p>\n",
       "</div>"
      ],
      "text/plain": [
       "                   business_id          name  \\\n",
       "394705  e49eXgKVuR-lsL0-D4vzDw        Momiji   \n",
       "270638  ik9VvawL-BeAqlxTI1leew   Gonoe Sushi   \n",
       "119044  Nz44ccUso3nq5S2OlQHNlA  Mexico Lindo   \n",
       "\n",
       "                                 address     city state postal_code  \\\n",
       "394705            2111 Sheppard Avenue E  toronto    ON     M2J 1W6   \n",
       "270638               1310 Don Mills Road  toronto    ON     M3B 2W6   \n",
       "119044  2600 Birchmount Road, Suite 2586  toronto    ON     M1T 2M5   \n",
       "\n",
       "         latitude  longitude  stars_business_avg  review_count  ...  \\\n",
       "394705  43.775377 -79.333972                 3.0            22  ...   \n",
       "270638  43.745920 -79.346301                 3.5           119  ...   \n",
       "119044  43.789719 -79.302981                 4.0           163  ...   \n",
       "\n",
       "                     review_id                 user_id stars useful funny  \\\n",
       "394705  9kb3ywKCxhCQY0ElsLccNA  ZWpLKIbOC5xjuPWc7ZKe9Q   3.0      3     0   \n",
       "270638  ehAgpX1OzHGnkf1fut6Few  ZWpLKIbOC5xjuPWc7ZKe9Q   3.0      2     0   \n",
       "119044  nieXZ7BPbe_4X4lJexK--w  ZWpLKIbOC5xjuPWc7ZKe9Q   5.0      0     0   \n",
       "\n",
       "       cool                                               text  \\\n",
       "394705    2  I went to Momiji at night wanting to find out ...   \n",
       "270638    0  I went to this place solely on the recommendat...   \n",
       "119044    0  Homemade family style catering, I was welcome ...   \n",
       "\n",
       "                       date  business_id_refined  user_id_refined  \n",
       "394705  2010-11-01 01:50:56                 6217                0  \n",
       "270638  2014-12-23 02:53:08                 3521                0  \n",
       "119044  2014-12-31 02:27:56                 1264                0  \n",
       "\n",
       "[3 rows x 24 columns]"
      ]
     },
     "execution_count": 263,
     "metadata": {},
     "output_type": "execute_result"
    }
   ],
   "source": [
    "train_data = train_data.droplevel(0)\n",
    "train_data.head(3)"
   ]
  },
  {
   "cell_type": "code",
   "execution_count": 264,
   "metadata": {},
   "outputs": [
    {
     "data": {
      "text/plain": [
       "(219758, 7905, True)"
      ]
     },
     "execution_count": 264,
     "metadata": {},
     "output_type": "execute_result"
    }
   ],
   "source": [
    "len(train_data), len(test_data), len(train_data) + len(test_data) == len(dataset_to_use)"
   ]
  },
  {
   "cell_type": "code",
   "execution_count": 265,
   "metadata": {},
   "outputs": [
    {
     "data": {
      "text/plain": [
       "array([[   0, 6217],\n",
       "       [   0, 3521],\n",
       "       [   0, 1264],\n",
       "       ...,\n",
       "       [7904, 6788],\n",
       "       [7904, 7585],\n",
       "       [7904, 5781]])"
      ]
     },
     "execution_count": 265,
     "metadata": {},
     "output_type": "execute_result"
    }
   ],
   "source": [
    "X_train = np.array(train_data[['user_id_refined', 'business_id_refined']].values.tolist())\n",
    "X_train"
   ]
  },
  {
   "cell_type": "code",
   "execution_count": 266,
   "metadata": {},
   "outputs": [
    {
     "data": {
      "text/plain": [
       "219758"
      ]
     },
     "execution_count": 266,
     "metadata": {},
     "output_type": "execute_result"
    }
   ],
   "source": [
    "len(X_train)"
   ]
  },
  {
   "cell_type": "code",
   "execution_count": 267,
   "metadata": {},
   "outputs": [
    {
     "data": {
      "text/plain": [
       "array([0.6, 0.6, 1. , ..., 0.6, 0.4, 0.2])"
      ]
     },
     "execution_count": 267,
     "metadata": {},
     "output_type": "execute_result"
    }
   ],
   "source": [
    "y_train = np.array(train_data['stars']) / 5.0\n",
    "y_train"
   ]
  },
  {
   "cell_type": "code",
   "execution_count": 268,
   "metadata": {},
   "outputs": [
    {
     "data": {
      "text/plain": [
       "True"
      ]
     },
     "execution_count": 268,
     "metadata": {},
     "output_type": "execute_result"
    }
   ],
   "source": [
    "len(y_train) == len(X_train)"
   ]
  },
  {
   "cell_type": "code",
   "execution_count": 269,
   "metadata": {},
   "outputs": [
    {
     "data": {
      "text/html": [
       "<div>\n",
       "<style scoped>\n",
       "    .dataframe tbody tr th:only-of-type {\n",
       "        vertical-align: middle;\n",
       "    }\n",
       "\n",
       "    .dataframe tbody tr th {\n",
       "        vertical-align: top;\n",
       "    }\n",
       "\n",
       "    .dataframe thead th {\n",
       "        text-align: right;\n",
       "    }\n",
       "</style>\n",
       "<table border=\"1\" class=\"dataframe\">\n",
       "  <thead>\n",
       "    <tr style=\"text-align: right;\">\n",
       "      <th></th>\n",
       "      <th>rating_1.0</th>\n",
       "      <th>rating_2.0</th>\n",
       "      <th>rating_3.0</th>\n",
       "      <th>rating_4.0</th>\n",
       "      <th>rating_5.0</th>\n",
       "    </tr>\n",
       "  </thead>\n",
       "  <tbody>\n",
       "    <tr>\n",
       "      <th>0</th>\n",
       "      <td>0</td>\n",
       "      <td>0</td>\n",
       "      <td>1</td>\n",
       "      <td>0</td>\n",
       "      <td>0</td>\n",
       "    </tr>\n",
       "    <tr>\n",
       "      <th>1</th>\n",
       "      <td>0</td>\n",
       "      <td>0</td>\n",
       "      <td>1</td>\n",
       "      <td>0</td>\n",
       "      <td>0</td>\n",
       "    </tr>\n",
       "    <tr>\n",
       "      <th>2</th>\n",
       "      <td>0</td>\n",
       "      <td>0</td>\n",
       "      <td>0</td>\n",
       "      <td>0</td>\n",
       "      <td>1</td>\n",
       "    </tr>\n",
       "    <tr>\n",
       "      <th>3</th>\n",
       "      <td>1</td>\n",
       "      <td>0</td>\n",
       "      <td>0</td>\n",
       "      <td>0</td>\n",
       "      <td>0</td>\n",
       "    </tr>\n",
       "    <tr>\n",
       "      <th>4</th>\n",
       "      <td>0</td>\n",
       "      <td>0</td>\n",
       "      <td>0</td>\n",
       "      <td>1</td>\n",
       "      <td>0</td>\n",
       "    </tr>\n",
       "  </tbody>\n",
       "</table>\n",
       "</div>"
      ],
      "text/plain": [
       "   rating_1.0  rating_2.0  rating_3.0  rating_4.0  rating_5.0\n",
       "0           0           0           1           0           0\n",
       "1           0           0           1           0           0\n",
       "2           0           0           0           0           1\n",
       "3           1           0           0           0           0\n",
       "4           0           0           0           1           0"
      ]
     },
     "execution_count": 269,
     "metadata": {},
     "output_type": "execute_result"
    }
   ],
   "source": [
    "y_train_one_hot = pd.get_dummies(pd.DataFrame({'rating': list(map(lambda x: str(x), y_train * 5.0))}))\n",
    "y_train_one_hot.head(5)"
   ]
  },
  {
   "cell_type": "code",
   "execution_count": 270,
   "metadata": {},
   "outputs": [
    {
     "data": {
      "text/plain": [
       "True"
      ]
     },
     "execution_count": 270,
     "metadata": {},
     "output_type": "execute_result"
    }
   ],
   "source": [
    "len(y_train_one_hot) == len(y_train)"
   ]
  },
  {
   "cell_type": "raw",
   "metadata": {},
   "source": [
    "import scipy as sp\n",
    "# Create a scipy dok matrix of user-item interaction to serve as input\n",
    "train_data = sp.sparse.dok_matrix((dataset_to_use.user_id.nunique(), dataset_to_use.business_id.nunique()),\\\n",
    "                                  dtype = np.float32)\n",
    "# key is (user_id, business_id) and value is rating\n",
    "\n",
    "X_test_set = set(tuple(x) for x in X_test)\n",
    "\n",
    "for i in range(len(dataset_to_use)):\n",
    "    user, business = dataset_to_use.user_id_refined.iloc[i], dataset_to_use.business_id_refined.iloc[i]\n",
    "    \n",
    "    # check if the given pair of user and business is already a part of 'test' set (skip if already a part)\n",
    "    if (user, business) not in X_test_set:\n",
    "        train_data[user, business] = \\\n",
    "        dataset_to_use.query('user_id_refined==@user and business_id_refined==@business').stars/5.0 # normalized star value\n",
    "        \n",
    "#Insights into the dataset:\n",
    "print(\"#user=%d, #item=%d, #train=%d, #test=%d\" \n",
    "     %(num_users, num_items, train_data.nnz, len(testRatings)))"
   ]
  },
  {
   "cell_type": "code",
   "execution_count": null,
   "metadata": {},
   "outputs": [],
   "source": []
  },
  {
   "cell_type": "markdown",
   "metadata": {},
   "source": [
    "# (1) GMF Implementation:"
   ]
  },
  {
   "cell_type": "code",
   "execution_count": 271,
   "metadata": {},
   "outputs": [
    {
     "name": "stdout",
     "output_type": "stream",
     "text": [
      "GMF arguments: Namespace(batch_size=256, dataset='Toronto', epochs=30, learner='adam', lr=0.001, num_factors=8, out=1, path='Data/', regs='[0,0]', verbose=1)\n"
     ]
    }
   ],
   "source": [
    "#################### Arguments ####################\n",
    "def parse_args():\n",
    "    parser = argparse.ArgumentParser(description=\"Run GMF.\")\n",
    "    \n",
    "    parser.add_argument('--path', nargs='?', default='Data/',\n",
    "                        help='Input data path.')\n",
    "    parser.add_argument('--dataset', nargs='?', default='ml-1m',\n",
    "                        help='Choose a dataset.')\n",
    "    parser.add_argument('--epochs', type=int, default=100,\n",
    "                        help='Number of epochs.')\n",
    "    parser.add_argument('--batch_size', type=int, default=256,\n",
    "                        help='Batch size.')\n",
    "    parser.add_argument('--num_factors', type=int, default=8,\n",
    "                        help='Embedding size.')\n",
    "    parser.add_argument('--regs', nargs='?', default='[0,0]',\n",
    "                        help=\"Regularization for user and item embeddings.\")\n",
    "    parser.add_argument('--lr', type=float, default=0.001,\n",
    "                        help='Learning rate.')\n",
    "    parser.add_argument('--learner', nargs='?', default='adam',\n",
    "                        help='Specify an optimizer: adagrad, adam, rmsprop, sgd')\n",
    "    parser.add_argument('--verbose', type=int, default=1,\n",
    "                        help='Show performance per X iterations')\n",
    "    parser.add_argument('--out', type=int, default=1,\n",
    "                        help='Whether to save the trained model.')\n",
    "    return parser.parse_args()\n",
    "\n",
    "def get_gmf_model(num_users, num_items, latent_dim, regs = [0,0]):\n",
    "    # Input variables\n",
    "    user_input = Input(shape=(1,), dtype='int32', name = 'user_input')\n",
    "    item_input = Input(shape=(1,), dtype='int32', name = 'item_input')\n",
    "\n",
    "    MF_Embedding_User = Embedding(input_dim = num_users, output_dim = latent_dim, name = 'user_embedding',\n",
    "                                  embeddings_initializer='random_normal', embeddings_regularizer = l2(regs[0]), input_length=1)\n",
    "    MF_Embedding_Item = Embedding(input_dim = num_items, output_dim = latent_dim, name = 'item_embedding',\n",
    "                                  embeddings_initializer='random_normal', embeddings_regularizer = l2(regs[1]), input_length=1)\n",
    "    \n",
    "    # Crucial to flatten an embedding vector!\n",
    "    user_latent = Flatten()(MF_Embedding_User(user_input))\n",
    "    item_latent = Flatten()(MF_Embedding_Item(item_input))\n",
    "    \n",
    "    # Element-wise product of user and item embeddings \n",
    "    predict_vector = Multiply()([user_latent, item_latent])\n",
    "    \n",
    "    # Final prediction layer\n",
    "    prediction = Dense(1, activation='sigmoid', kernel_initializer='lecun_uniform', name = 'prediction')(predict_vector)\n",
    "    \n",
    "    model = Model(inputs = [user_input, item_input], outputs = prediction)\n",
    "\n",
    "    return model\n",
    "\n",
    "def get_train_instances(train, labelRatings):\n",
    "    user_input, item_input, labels = [],[],[]\n",
    "    \n",
    "    for i in range(len(train)):\n",
    "        # positive instance\n",
    "        user_input.append(train[i][0])\n",
    "        item_input.append(train[i][1])\n",
    "        labels.append(labelRatings[i])\n",
    "\n",
    "    return user_input, item_input, labels\n",
    "\n",
    "sys.argv = ['GMF.py','--dataset','Toronto','--epochs','30','--batch_size','256','--num_factors','8',\n",
    "'--regs','[0,0]', '--lr','0.001','--learner','adam','--verbose','1','--out','1']\n",
    "\n",
    "args = parse_args()\n",
    "num_factors = args.num_factors\n",
    "regs = eval(args.regs)\n",
    "learner = args.learner\n",
    "learning_rate = args.lr\n",
    "num_epochs = args.epochs\n",
    "batch_size = args.batch_size\n",
    "verbose = args.verbose\n",
    "\n",
    "evaluation_threads = 1 #mp.cpu_count()\n",
    "print(\"GMF arguments: %s\" %(args))"
   ]
  },
  {
   "cell_type": "code",
   "execution_count": 272,
   "metadata": {},
   "outputs": [],
   "source": [
    "num_users = dataset_to_use.user_id.nunique()\n",
    "num_items = dataset_to_use.business_id.nunique()"
   ]
  },
  {
   "cell_type": "code",
   "execution_count": 273,
   "metadata": {},
   "outputs": [
    {
     "name": "stdout",
     "output_type": "stream",
     "text": [
      "Initial: Test RMSE = 1.7351, Test R2 = -0.8242\n"
     ]
    }
   ],
   "source": [
    "# Build model\n",
    "model = get_gmf_model(num_users, num_items, num_factors, regs)\n",
    "\n",
    "if learner.lower() == \"adagrad\": \n",
    "    model.compile(optimizer=Adagrad(lr=learning_rate), loss='mse')\n",
    "elif learner.lower() == \"rmsprop\":\n",
    "    model.compile(optimizer=RMSprop(lr=learning_rate), loss='mse')\n",
    "elif learner.lower() == \"adam\":\n",
    "    model.compile(optimizer=Adam(lr=learning_rate), loss='mse')\n",
    "else:\n",
    "    model.compile(optimizer=SGD(lr=learning_rate), loss='mse')\n",
    "\n",
    "# Initial performance\n",
    "(mse, r2) = evaluate_rate_model(model, X_test, y_test, evaluation_threads)\n",
    "print('Initial: Test RMSE = %.4f, Test R2 = %.4f' % (np.sqrt(mse), r2))"
   ]
  },
  {
   "cell_type": "code",
   "execution_count": 274,
   "metadata": {},
   "outputs": [
    {
     "name": "stderr",
     "output_type": "stream",
     "text": [
      "C:\\ProgramData\\Anaconda3\\envs\\cs_412\\lib\\site-packages\\tensorflow_core\\python\\framework\\indexed_slices.py:433: UserWarning: Converting sparse IndexedSlices to a dense Tensor of unknown shape. This may consume a large amount of memory.\n",
      "  \"Converting sparse IndexedSlices to a dense Tensor of unknown shape. \"\n"
     ]
    },
    {
     "name": "stdout",
     "output_type": "stream",
     "text": [
      "Epoch 1 [2.1 s]: Test RMSE = 1.3427, Test R2 = -0.0924, Train Loss = 0.0707 [0.0 s]\n",
      "Epoch 2 [1.8 s]: Test RMSE = 1.2806, Test R2 = 0.0064, Train Loss = 0.0506 [0.0 s]\n",
      "Epoch 3 [1.8 s]: Test RMSE = 1.2566, Test R2 = 0.0432, Train Loss = 0.0439 [0.0 s]\n",
      "Epoch 4 [2.0 s]: Test RMSE = 1.2572, Test R2 = 0.0423, Train Loss = 0.0366 [0.0 s]\n",
      "Epoch 5 [1.8 s]: Test RMSE = 1.2722, Test R2 = 0.0192, Train Loss = 0.0312 [0.0 s]\n",
      "Epoch 6 [1.8 s]: Test RMSE = 1.2931, Test R2 = -0.0133, Train Loss = 0.0275 [0.0 s]\n",
      "Epoch 7 [1.8 s]: Test RMSE = 1.3141, Test R2 = -0.0463, Train Loss = 0.0251 [0.0 s]\n",
      "Epoch 8 [1.8 s]: Test RMSE = 1.3356, Test R2 = -0.0809, Train Loss = 0.0233 [0.0 s]\n",
      "Epoch 9 [1.8 s]: Test RMSE = 1.3531, Test R2 = -0.1094, Train Loss = 0.0220 [0.0 s]\n",
      "Epoch 10 [1.8 s]: Test RMSE = 1.3727, Test R2 = -0.1417, Train Loss = 0.0209 [0.0 s]\n",
      "Epoch 11 [1.8 s]: Test RMSE = 1.3887, Test R2 = -0.1686, Train Loss = 0.0201 [0.0 s]\n",
      "Epoch 12 [1.8 s]: Test RMSE = 1.4059, Test R2 = -0.1976, Train Loss = 0.0193 [0.0 s]\n",
      "Epoch 13 [2.0 s]: Test RMSE = 1.4213, Test R2 = -0.2241, Train Loss = 0.0187 [0.0 s]\n",
      "Epoch 14 [1.8 s]: Test RMSE = 1.4367, Test R2 = -0.2507, Train Loss = 0.0182 [0.0 s]\n",
      "Epoch 15 [1.8 s]: Test RMSE = 1.4505, Test R2 = -0.2748, Train Loss = 0.0177 [0.0 s]\n",
      "Epoch 16 [1.8 s]: Test RMSE = 1.4645, Test R2 = -0.2997, Train Loss = 0.0173 [0.0 s]\n",
      "Epoch 17 [1.9 s]: Test RMSE = 1.4772, Test R2 = -0.3223, Train Loss = 0.0170 [0.0 s]\n",
      "Epoch 18 [1.8 s]: Test RMSE = 1.4893, Test R2 = -0.3440, Train Loss = 0.0166 [0.0 s]\n",
      "Epoch 19 [1.7 s]: Test RMSE = 1.5005, Test R2 = -0.3643, Train Loss = 0.0163 [0.0 s]\n",
      "Epoch 20 [1.8 s]: Test RMSE = 1.5126, Test R2 = -0.3863, Train Loss = 0.0161 [0.0 s]\n",
      "Epoch 21 [2.0 s]: Test RMSE = 1.5235, Test R2 = -0.4065, Train Loss = 0.0158 [0.1 s]\n",
      "Epoch 22 [1.9 s]: Test RMSE = 1.5329, Test R2 = -0.4238, Train Loss = 0.0156 [0.0 s]\n",
      "Epoch 23 [1.8 s]: Test RMSE = 1.5460, Test R2 = -0.4482, Train Loss = 0.0154 [0.0 s]\n",
      "Epoch 24 [1.8 s]: Test RMSE = 1.5540, Test R2 = -0.4634, Train Loss = 0.0152 [0.0 s]\n",
      "Epoch 25 [1.8 s]: Test RMSE = 1.5644, Test R2 = -0.4830, Train Loss = 0.0150 [0.0 s]\n",
      "Epoch 26 [1.9 s]: Test RMSE = 1.5730, Test R2 = -0.4994, Train Loss = 0.0149 [0.0 s]\n",
      "Epoch 27 [1.9 s]: Test RMSE = 1.5806, Test R2 = -0.5138, Train Loss = 0.0147 [0.0 s]\n",
      "Epoch 28 [1.9 s]: Test RMSE = 1.5880, Test R2 = -0.5280, Train Loss = 0.0146 [0.0 s]\n",
      "Epoch 29 [1.8 s]: Test RMSE = 1.5954, Test R2 = -0.5424, Train Loss = 0.0144 [0.0 s]\n",
      "Epoch 30 [2.0 s]: Test RMSE = 1.6021, Test R2 = -0.5552, Train Loss = 0.0143 [0.0 s]\n",
      "End. Best Epoch 3:  RMSE = 1.2566, R2 = 0.0432. \n",
      "The best GMF model is saved\n"
     ]
    }
   ],
   "source": [
    "from evaluate_rate import evaluate_rate_model\n",
    "\n",
    "# Training and testing model\n",
    "current_folder = os.getcwd()\n",
    "model_out_file_gmf = current_folder + '\\Pretrain\\%s_GMF_%d_%d.h5' %(args.dataset, num_factors, time())\n",
    "\n",
    "train_loss = []\n",
    "test_rmse, test_r2 = [], []\n",
    "best_mse = float('inf')\n",
    "\n",
    "for epoch in range(num_epochs):\n",
    "    t1 = time()\n",
    "    \n",
    "    # Generate training instances\n",
    "    user_input, item_input, labels = get_train_instances(X_train, y_train)\n",
    "    \n",
    "    # Training\n",
    "    history = model.fit([np.array(user_input), np.array(item_input)], #input\n",
    "                     np.array(labels), # labels\n",
    "                     batch_size = batch_size, epochs = 1, verbose = 0, shuffle = True)\n",
    "\n",
    "    train_loss.append(history.history['loss'][0])\n",
    "    \n",
    "    t2 = time()\n",
    "\n",
    "    # Evaluation\n",
    "    if epoch % verbose == 0:\n",
    "        (mse, r2) = evaluate_rate_model(model, X_test, y_test, evaluation_threads)\n",
    "        \n",
    "        test_rmse.append(np.sqrt(mse))\n",
    "        test_r2.append(r2)\n",
    "        \n",
    "        print('Epoch %d [%.1f s]: Test RMSE = %.4f, Test R2 = %.4f, Train Loss = %.4f [%.1f s]' \n",
    "              % (epoch + 1,  t2 - t1, test_rmse[-1], test_r2[-1], train_loss[-1], time() - t2))\n",
    "        \n",
    "        if mse < best_mse:\n",
    "            best_mse, best_r2, best_iter = mse, r2, epoch + 1\n",
    "            if args.out > 0:\n",
    "                model.save_weights(model_out_file_gmf, overwrite = True)\n",
    "\n",
    "print(\"End. Best Epoch %d:  RMSE = %.4f, R2 = %.4f. \" %(best_iter, np.sqrt(best_mse), best_r2))\n",
    "if args.out > 0:\n",
    "    print(\"The best GMF model is saved\")"
   ]
  },
  {
   "cell_type": "code",
   "execution_count": 275,
   "metadata": {},
   "outputs": [
    {
     "data": {
      "image/png": "[encoded data removed]",
      "text/plain": [
       "<Figure size 432x288 with 1 Axes>"
      ]
     },
     "metadata": {},
     "output_type": "display_data"
    }
   ],
   "source": [
    "plt.plot(test_rmse, '*-', label = 'test_rmse')\n",
    "plt.plot(train_loss, '--', label = 'train_rmse')\n",
    "plt.legend()\n",
    "plt.xlabel('Epoch')\n",
    "plt.ylabel('RMSE')\n",
    "plt.show()"
   ]
  },
  {
   "cell_type": "markdown",
   "metadata": {},
   "source": [
    "# (2) MLP Implementation:"
   ]
  },
  {
   "cell_type": "code",
   "execution_count": 276,
   "metadata": {},
   "outputs": [
    {
     "name": "stdout",
     "output_type": "stream",
     "text": [
      "MLP arguments: Namespace(batch_size=256, dataset='Toronto', epochs=30, layers='[64,32,16,8]', learner='adam', lr=0.001, out=1, path='Data/', reg_layers='[0,0,0,0]', verbose=1)\n"
     ]
    }
   ],
   "source": [
    "def parse_args():\n",
    "    parser = argparse.ArgumentParser(description=\"Run MLP.\")\n",
    "    parser.add_argument('--path', nargs='?', default='Data/',\n",
    "                        help='Input data path.')\n",
    "    parser.add_argument('--dataset', nargs='?', default='ml-1m',\n",
    "                        help='Choose a dataset.')\n",
    "    parser.add_argument('--epochs', type=int, default=100,\n",
    "                        help='Number of epochs.')\n",
    "    parser.add_argument('--batch_size', type=int, default=256,\n",
    "                        help='Batch size.')\n",
    "    parser.add_argument('--layers', nargs='?', default='[64,32,16,8]',\n",
    "                        help=\"Size of each layer. Note that the first layer is the concatenation of user and item embeddings. So layers[0]/2 is the embedding size.\")\n",
    "    parser.add_argument('--reg_layers', nargs='?', default='[0,0,0,0]',\n",
    "                        help=\"Regularization for each layer\")\n",
    "    parser.add_argument('--lr', type=float, default=0.001,\n",
    "                        help='Learning rate.')\n",
    "    parser.add_argument('--learner', nargs='?', default='adam',\n",
    "                        help='Specify an optimizer: adagrad, adam, rmsprop, sgd')\n",
    "    parser.add_argument('--verbose', type=int, default=1,\n",
    "                        help='Show performance per X iterations')\n",
    "    parser.add_argument('--out', type=int, default=1,\n",
    "                        help='Whether to save the trained model.')\n",
    "    return parser.parse_args()\n",
    "\n",
    "sys.argv = ['MLP.py','--dataset','Toronto','--epochs','30','--batch_size','256','--layers','[64,32,16,8]',\n",
    "'--reg_layers','[0,0,0,0]', '--lr','0.001','--learner','adam','--verbose','1','--out','1']\n",
    "\n",
    "args = parse_args()\n",
    "dataset = args.dataset\n",
    "layers = eval(args.layers)\n",
    "reg_layers = eval(args.reg_layers)\n",
    "learner = args.learner\n",
    "learning_rate = args.lr\n",
    "batch_size = args.batch_size\n",
    "num_epochs = args.epochs\n",
    "verbose = args.verbose\n",
    "evaluation_threads = 1 # mp.cpu_count()\n",
    "\n",
    "print(\"MLP arguments: %s\" %(args))"
   ]
  },
  {
   "cell_type": "code",
   "execution_count": 277,
   "metadata": {},
   "outputs": [],
   "source": [
    "def get_mlp_model(num_users, num_items, layers = [20,10], reg_layers=[0,0]):\n",
    "    assert len(layers) == len(reg_layers)\n",
    "    num_layer = len(layers) #Number of layers in the MLP\n",
    "    # Input variables\n",
    "    user_input = Input(shape=(1,), dtype='int32', name = 'user_input')\n",
    "    item_input = Input(shape=(1,), dtype='int32', name = 'item_input')\n",
    "\n",
    "    MLP_Embedding_User = Embedding(input_dim = num_users, output_dim = int(layers[0] / 2), name = 'user_embedding',\n",
    "                                   embeddings_initializer='random_normal', embeddings_regularizer = l2(reg_layers[0]),\n",
    "                                   input_length=1)\n",
    "    MLP_Embedding_Item = Embedding(input_dim = num_items, output_dim = int(layers[0] / 2), name = 'item_embedding',\n",
    "                                   embeddings_initializer='random_normal', embeddings_regularizer = l2(reg_layers[0]),\n",
    "                                   input_length=1)\n",
    "    \n",
    "    # Crucial to flatten an embedding vector!\n",
    "    user_latent = Flatten()(MLP_Embedding_User(user_input))\n",
    "    item_latent = Flatten()(MLP_Embedding_Item(item_input))\n",
    "    \n",
    "    # The 0-th layer is the concatenation of embedding layers\n",
    "    vector = Concatenate()([user_latent, item_latent])\n",
    "    \n",
    "    # MLP layers\n",
    "    for idx in range(1, num_layer):\n",
    "        layer = Dense(layers[idx], kernel_regularizer = l2(reg_layers[idx]), activation='relu', name = 'layer%d' %idx)\n",
    "        vector = layer(vector)\n",
    "        \n",
    "    # Final prediction layer\n",
    "    prediction = Dense(1, activation='sigmoid', kernel_initializer='lecun_uniform', name = 'prediction')(vector)\n",
    "    \n",
    "    model = Model(input=[user_input, item_input], \n",
    "                  output=prediction)\n",
    "    \n",
    "    return model"
   ]
  },
  {
   "cell_type": "code",
   "execution_count": 278,
   "metadata": {},
   "outputs": [
    {
     "name": "stdout",
     "output_type": "stream",
     "text": [
      "Initial: Test RMSE = 1.7366, Test R2 = -0.8274\n"
     ]
    },
    {
     "name": "stderr",
     "output_type": "stream",
     "text": [
      "MLP.py:31: UserWarning: Update your `Model` call to the Keras 2 API: `Model(inputs=[<tf.Tenso..., outputs=Tensor(\"pr...)`\n",
      "  parser = argparse.ArgumentParser(description=\"Run MLP.\")\n"
     ]
    }
   ],
   "source": [
    "# Build model\n",
    "model = get_mlp_model(num_users, num_items, layers, reg_layers)\n",
    "\n",
    "if learner.lower() == \"adagrad\": \n",
    "    model.compile(optimizer=Adagrad(lr=learning_rate), loss='mse')\n",
    "elif learner.lower() == \"rmsprop\":\n",
    "    model.compile(optimizer=RMSprop(lr=learning_rate), loss='mse')\n",
    "elif learner.lower() == \"adam\":\n",
    "    model.compile(optimizer=Adam(lr=learning_rate), loss='mse')\n",
    "else:\n",
    "    model.compile(optimizer=SGD(lr=learning_rate), loss='mse')\n",
    "\n",
    "# Initial performance\n",
    "(mse, r2) = evaluate_rate_model(model, X_test, y_test, evaluation_threads)\n",
    "print('Initial: Test RMSE = %.4f, Test R2 = %.4f' % (np.sqrt(mse), r2))"
   ]
  },
  {
   "cell_type": "code",
   "execution_count": 279,
   "metadata": {
    "scrolled": true
   },
   "outputs": [
    {
     "name": "stderr",
     "output_type": "stream",
     "text": [
      "C:\\ProgramData\\Anaconda3\\envs\\cs_412\\lib\\site-packages\\tensorflow_core\\python\\framework\\indexed_slices.py:433: UserWarning: Converting sparse IndexedSlices to a dense Tensor of unknown shape. This may consume a large amount of memory.\n",
      "  \"Converting sparse IndexedSlices to a dense Tensor of unknown shape. \"\n"
     ]
    },
    {
     "name": "stdout",
     "output_type": "stream",
     "text": [
      "Epoch 1 [6.4 s]: Test RMSE = 1.1689, Test R2 = 0.1721, Train Loss = 0.2120 [0.0 s]\n",
      "Epoch 2 [6.0 s]: Test RMSE = 1.1575, Test R2 = 0.1881, Train Loss = 0.1934 [0.0 s]\n",
      "Epoch 3 [5.9 s]: Test RMSE = 1.1623, Test R2 = 0.1814, Train Loss = 0.1868 [0.0 s]\n",
      "Epoch 4 [5.7 s]: Test RMSE = 1.1787, Test R2 = 0.1581, Train Loss = 0.1778 [0.0 s]\n",
      "Epoch 5 [5.6 s]: Test RMSE = 1.2044, Test R2 = 0.1210, Train Loss = 0.1660 [0.0 s]\n",
      "Epoch 6 [6.0 s]: Test RMSE = 1.2312, Test R2 = 0.0814, Train Loss = 0.1537 [0.0 s]\n",
      "Epoch 7 [5.7 s]: Test RMSE = 1.2647, Test R2 = 0.0309, Train Loss = 0.1427 [0.0 s]\n",
      "Epoch 8 [6.1 s]: Test RMSE = 1.2737, Test R2 = 0.0169, Train Loss = 0.1336 [0.0 s]\n",
      "Epoch 9 [5.5 s]: Test RMSE = 1.3080, Test R2 = -0.0367, Train Loss = 0.1259 [0.0 s]\n",
      "Epoch 10 [5.6 s]: Test RMSE = 1.3185, Test R2 = -0.0535, Train Loss = 0.1195 [0.0 s]\n",
      "Epoch 11 [6.1 s]: Test RMSE = 1.3302, Test R2 = -0.0722, Train Loss = 0.1141 [0.0 s]\n",
      "Epoch 12 [5.6 s]: Test RMSE = 1.3427, Test R2 = -0.0924, Train Loss = 0.1094 [0.0 s]\n",
      "Epoch 13 [5.6 s]: Test RMSE = 1.3474, Test R2 = -0.1002, Train Loss = 0.1057 [0.1 s]\n",
      "Epoch 14 [5.8 s]: Test RMSE = 1.3545, Test R2 = -0.1116, Train Loss = 0.1022 [0.0 s]\n",
      "Epoch 15 [5.6 s]: Test RMSE = 1.3616, Test R2 = -0.1235, Train Loss = 0.0990 [0.0 s]\n",
      "Epoch 16 [5.6 s]: Test RMSE = 1.3666, Test R2 = -0.1316, Train Loss = 0.0964 [0.0 s]\n",
      "Epoch 17 [5.9 s]: Test RMSE = 1.3749, Test R2 = -0.1454, Train Loss = 0.0938 [0.0 s]\n",
      "Epoch 18 [5.5 s]: Test RMSE = 1.3836, Test R2 = -0.1600, Train Loss = 0.0916 [0.0 s]\n",
      "Epoch 19 [5.7 s]: Test RMSE = 1.3845, Test R2 = -0.1615, Train Loss = 0.0897 [0.0 s]\n",
      "Epoch 20 [5.6 s]: Test RMSE = 1.3926, Test R2 = -0.1752, Train Loss = 0.0876 [0.0 s]\n",
      "Epoch 21 [5.5 s]: Test RMSE = 1.3972, Test R2 = -0.1829, Train Loss = 0.0857 [0.0 s]\n",
      "Epoch 22 [6.2 s]: Test RMSE = 1.3983, Test R2 = -0.1848, Train Loss = 0.0841 [0.1 s]\n",
      "Epoch 23 [5.6 s]: Test RMSE = 1.4053, Test R2 = -0.1966, Train Loss = 0.0826 [0.0 s]\n",
      "Epoch 24 [5.7 s]: Test RMSE = 1.3952, Test R2 = -0.1795, Train Loss = 0.0812 [0.1 s]\n",
      "Epoch 25 [6.8 s]: Test RMSE = 1.3941, Test R2 = -0.1777, Train Loss = 0.0797 [0.1 s]\n",
      "Epoch 26 [6.6 s]: Test RMSE = 1.4028, Test R2 = -0.1925, Train Loss = 0.0785 [0.0 s]\n",
      "Epoch 27 [6.9 s]: Test RMSE = 1.4018, Test R2 = -0.1907, Train Loss = 0.0771 [0.1 s]\n",
      "Epoch 28 [6.7 s]: Test RMSE = 1.4059, Test R2 = -0.1977, Train Loss = 0.0760 [0.0 s]\n",
      "Epoch 29 [6.6 s]: Test RMSE = 1.3994, Test R2 = -0.1866, Train Loss = 0.0748 [0.1 s]\n",
      "Epoch 30 [7.4 s]: Test RMSE = 1.4044, Test R2 = -0.1951, Train Loss = 0.0736 [0.1 s]\n",
      "End. Best Epoch 2:  RMSE = 1.1575, R2 = 0.1881. \n",
      "The best MLP model is saved\n"
     ]
    }
   ],
   "source": [
    "# Training and testing model\n",
    "current_folder = os.getcwd()\n",
    "model_out_file_mlp = current_folder + '\\Pretrain\\%s_MLP_%d_%d.h5' %(args.dataset, num_factors, time())\n",
    "\n",
    "train_loss = []\n",
    "test_rmse, test_r2 = [], []\n",
    "best_mse = float('inf')\n",
    "\n",
    "for epoch in range(num_epochs):\n",
    "    t1 = time()\n",
    "    \n",
    "    # Generate training instances\n",
    "    user_input, item_input, labels = get_train_instances(X_train, y_train)\n",
    "    \n",
    "    # Training\n",
    "    history = model.fit([np.array(user_input), np.array(item_input)], #input\n",
    "                     np.array(y_train), # labels \n",
    "                     batch_size = batch_size, epochs = 1, verbose = 0, shuffle = True)\n",
    "\n",
    "    train_loss.append(np.sqrt(history.history['loss'][0]))\n",
    "    \n",
    "    t2 = time()\n",
    "\n",
    "    # Evaluation\n",
    "    if epoch % verbose == 0:\n",
    "        (mse, r2) = evaluate_rate_model(model, X_test, y_test, evaluation_threads)\n",
    "        \n",
    "        test_rmse.append(np.sqrt(mse))\n",
    "        test_r2.append(r2)\n",
    "        \n",
    "        print('Epoch %d [%.1f s]: Test RMSE = %.4f, Test R2 = %.4f, Train Loss = %.4f [%.1f s]' \n",
    "              % (epoch + 1,  t2 - t1, test_rmse[-1], test_r2[-1], train_loss[-1], time() - t2))\n",
    "        \n",
    "        if mse < best_mse:\n",
    "            best_mse, best_r2, best_iter = mse, r2, epoch + 1\n",
    "            if args.out > 0:\n",
    "                model.save_weights(model_out_file_mlp, overwrite = True)\n",
    "\n",
    "print(\"End. Best Epoch %d:  RMSE = %.4f, R2 = %.4f. \" %(best_iter, np.sqrt(best_mse), best_r2))\n",
    "if args.out > 0:\n",
    "    print(\"The best MLP model is saved\")"
   ]
  },
  {
   "cell_type": "code",
   "execution_count": 280,
   "metadata": {},
   "outputs": [
    {
     "data": {
      "image/png": "[encoded data removed]",
      "text/plain": [
       "<Figure size 432x288 with 1 Axes>"
      ]
     },
     "metadata": {},
     "output_type": "display_data"
    }
   ],
   "source": [
    "plt.plot(test_rmse, '*-', label = 'test_rmse')\n",
    "plt.plot(train_loss, '--', label = 'train_rmse')\n",
    "plt.legend()\n",
    "plt.xlabel('Epoch')\n",
    "plt.ylabel('RMSE')\n",
    "plt.show()"
   ]
  },
  {
   "cell_type": "markdown",
   "metadata": {},
   "source": [
    "# NCF Implementation:"
   ]
  },
  {
   "cell_type": "code",
   "execution_count": 285,
   "metadata": {},
   "outputs": [
    {
     "name": "stdout",
     "output_type": "stream",
     "text": [
      "NeuMF arguments: Namespace(batch_size=256, dataset='Toronto', epochs=30, layers='[64,32,16,8]', learner='adam', lr=0.001, mf_pretrain='C:\\\\Users\\\\somani4\\\\Documents\\\\GitHub\\\\CS_412_Akhilesh_Folder\\\\Baseline2\\\\Pretrain\\\\Toronto_GMF_8_1606197417.h5', mlp_pretrain='C:\\\\Users\\\\somani4\\\\Documents\\\\GitHub\\\\CS_412_Akhilesh_Folder\\\\Baseline2\\\\Pretrain\\\\Toronto_MLP_8_1606197474.h5', num_factors=8, out=0, path='Data/', reg_layers='[0,0,0,0]', reg_mf=0.0, verbose=1) \n"
     ]
    }
   ],
   "source": [
    "#################### Arguments ####################\n",
    "def parse_args():\n",
    "    parser = argparse.ArgumentParser(description=\"Run NeuMF.\")\n",
    "    \n",
    "    parser.add_argument('--path', nargs='?', default='Data/',\n",
    "                        help='Input data path.')\n",
    "    parser.add_argument('--dataset', nargs='?', default='ml-1m',\n",
    "                        help='Choose a dataset.')\n",
    "    parser.add_argument('--epochs', type=int, default=100,\n",
    "                        help='Number of epochs.')\n",
    "    parser.add_argument('--batch_size', type=int, default=256,\n",
    "                        help='Batch size.')\n",
    "    parser.add_argument('--num_factors', type=int, default=8,\n",
    "                        help='Embedding size of MF model.')\n",
    "    parser.add_argument('--layers', nargs='?', default='[64,32,16,8]',\n",
    "                        help=\"MLP layers. Note that the first layer is the concatenation of user and item embeddings. So layers[0]/2 is the embedding size.\")\n",
    "    parser.add_argument('--reg_mf', type=float, default=0,\n",
    "                        help='Regularization for MF embeddings.')                    \n",
    "    parser.add_argument('--reg_layers', nargs='?', default='[0,0,0,0]',\n",
    "                        help=\"Regularization for each MLP layer. reg_layers[0] is the regularization for embeddings.\")\n",
    "    parser.add_argument('--lr', type=float, default=0.001,\n",
    "                        help='Learning rate.')\n",
    "    parser.add_argument('--learner', nargs='?', default='adam',\n",
    "                        help='Specify an optimizer: adagrad, adam, rmsprop, sgd')\n",
    "    parser.add_argument('--verbose', type=int, default=1,\n",
    "                        help='Show performance per X iterations')\n",
    "    parser.add_argument('--out', type=int, default=1,\n",
    "                        help='Whether to save the trained model.')\n",
    "    parser.add_argument('--mf_pretrain', nargs='?', default='',\n",
    "                        help='Specify the pretrain model file for MF part. If empty, no pretrain will be used')\n",
    "    parser.add_argument('--mlp_pretrain', nargs='?', default='',\n",
    "                        help='Specify the pretrain model file for MLP part. If empty, no pretrain will be used')\n",
    "    return parser.parse_args()\n",
    "\n",
    "\n",
    "sys.argv = ['NeuMF.py','--dataset','Toronto','--epochs','30 ','--batch_size','256','--num_factors','8',\n",
    "'--layers','[64,32,16,8]','--reg_mf','0','--reg_layers','[0,0,0,0]',\n",
    "'--lr','0.001','--learner','adam','--verbose','1','--out','0',\n",
    "'--mf_pretrain', model_out_file_gmf, '--mlp_pretrain', model_out_file_mlp]\n",
    "\n",
    "args = parse_args()\n",
    "\n",
    "num_epochs = args.epochs\n",
    "batch_size = args.batch_size\n",
    "mf_dim = args.num_factors\n",
    "layers = eval(args.layers)\n",
    "reg_mf = args.reg_mf\n",
    "reg_layers = eval(args.reg_layers)\n",
    "learning_rate = args.lr\n",
    "learner = args.learner\n",
    "verbose = args.verbose\n",
    "mf_pretrain = args.mf_pretrain\n",
    "mlp_pretrain = args.mlp_pretrain\n",
    "\n",
    "evaluation_threads = -1 # mp.cpu_count()\n",
    "\n",
    "print(\"NeuMF arguments: %s \" %(args))"
   ]
  },
  {
   "cell_type": "code",
   "execution_count": 286,
   "metadata": {},
   "outputs": [],
   "source": [
    "def get_ncf_model(num_users, num_items, mf_dim=10, layers=[10], reg_layers=[0], reg_mf=0):\n",
    "    assert len(layers) == len(reg_layers)\n",
    "    num_layer = len(layers) #Number of layers in the MLP\n",
    "    \n",
    "    # Input variables\n",
    "    user_input = Input(shape=(1,), dtype='int32', name = 'user_input')\n",
    "    item_input = Input(shape=(1,), dtype='int32', name = 'item_input')\n",
    "    \n",
    "    print('Input layer: ', user_input.shape, user_input.dtype)\n",
    "    \n",
    "    # Embedding layer\n",
    "    MF_Embedding_User = Embedding(input_dim = num_users, output_dim = mf_dim, name = 'mf_embedding_user',\n",
    "                                  embeddings_initializer = 'random_normal', embeddings_regularizer = l2(reg_mf), input_length=1)\n",
    "    MF_Embedding_Item = Embedding(input_dim = num_items, output_dim = mf_dim, name = 'mf_embedding_item',\n",
    "                                  embeddings_initializer = 'random_normal', embeddings_regularizer = l2(reg_mf), input_length=1)  \n",
    "\n",
    "    MLP_Embedding_User = Embedding(input_dim = num_users, output_dim = int(layers[0]/2), name = \"mlp_embedding_user\",\n",
    "                                   embeddings_initializer = 'random_normal', embeddings_regularizer = l2(reg_layers[0]), input_length=1)\n",
    "    MLP_Embedding_Item = Embedding(input_dim = num_items, output_dim = int(layers[0]/2), name = 'mlp_embedding_item',\n",
    "                                   embeddings_initializer = 'random_normal', embeddings_regularizer = l2(reg_layers[0]), input_length=1)\n",
    "\n",
    "    output = MLP_Embedding_User(user_input)\n",
    "    \n",
    "    # MF part\n",
    "    mf_user_latent = Flatten()(MF_Embedding_User(user_input))\n",
    "    mf_item_latent = Flatten()(MF_Embedding_Item(item_input))\n",
    "    \n",
    "    mf_vector = Multiply()([mf_user_latent, mf_item_latent]) # element-wise multiply\n",
    "\n",
    "    # MLP part \n",
    "    mlp_user_latent = Flatten()(MLP_Embedding_User(user_input))\n",
    "    mlp_item_latent = Flatten()(MLP_Embedding_Item(item_input))\n",
    "    \n",
    "    mlp_vector = Concatenate()([mlp_user_latent, mlp_item_latent])\n",
    "    for idx in range(1, num_layer):\n",
    "        layer = Dense(layers[idx], kernel_regularizer= l2(reg_layers[idx]), activation='relu', name=\"layer%d\" %idx)\n",
    "        mlp_vector = layer(mlp_vector)\n",
    "\n",
    "    # Concatenate MF and MLP parts\n",
    "    predict_vector = Concatenate()([mf_vector, mlp_vector])\n",
    "    \n",
    "    # Final prediction layer\n",
    "    prediction = Dense(1, activation = 'sigmoid', kernel_initializer='lecun_uniform', name = \"prediction\")(predict_vector)\n",
    "    \n",
    "    model = Model(inputs = [user_input, item_input], \n",
    "                  outputs = prediction)\n",
    "    \n",
    "    return model\n",
    "\n",
    "def load_pretrain_model(model, gmf_model, mlp_model, num_layers):\n",
    "    # MF embeddings\n",
    "    gmf_user_embeddings = gmf_model.get_layer('user_embedding').get_weights()\n",
    "    gmf_item_embeddings = gmf_model.get_layer('item_embedding').get_weights()\n",
    "    model.get_layer('mf_embedding_user').set_weights(gmf_user_embeddings)\n",
    "    model.get_layer('mf_embedding_item').set_weights(gmf_item_embeddings)\n",
    "    \n",
    "    # MLP embeddings\n",
    "    mlp_user_embeddings = mlp_model.get_layer('user_embedding').get_weights()\n",
    "    mlp_item_embeddings = mlp_model.get_layer('item_embedding').get_weights()\n",
    "    model.get_layer('mlp_embedding_user').set_weights(mlp_user_embeddings)\n",
    "    model.get_layer('mlp_embedding_item').set_weights(mlp_item_embeddings)\n",
    "    \n",
    "    # MLP layers\n",
    "    for i in range(1, num_layers):\n",
    "        mlp_layer_weights = mlp_model.get_layer('layer%d' %i).get_weights()\n",
    "        model.get_layer('layer%d' %i).set_weights(mlp_layer_weights)\n",
    "        \n",
    "    # Prediction weights\n",
    "    gmf_prediction = gmf_model.get_layer('prediction').get_weights()\n",
    "    mlp_prediction = mlp_model.get_layer('prediction').get_weights()\n",
    "    new_weights = np.concatenate((gmf_prediction[0], mlp_prediction[0]), axis=0)\n",
    "    new_b = gmf_prediction[1] + mlp_prediction[1]\n",
    "    model.get_layer('prediction').set_weights([0.5*new_weights, 0.5*new_b])    \n",
    "    return model"
   ]
  },
  {
   "cell_type": "code",
   "execution_count": 287,
   "metadata": {},
   "outputs": [
    {
     "name": "stdout",
     "output_type": "stream",
     "text": [
      "Input layer:  (None, 1) <dtype: 'int32'>\n",
      "Load pretrained GMF (C:\\Users\\somani4\\Documents\\GitHub\\CS_412_Akhilesh_Folder\\Baseline2\\Pretrain\\Toronto_GMF_8_1606197417.h5) and MLP (C:\\Users\\somani4\\Documents\\GitHub\\CS_412_Akhilesh_Folder\\Baseline2\\Pretrain\\Toronto_MLP_8_1606197474.h5) models done. \n",
      "Initial: Test RMSE = 1.1785, Test R2 = 0.1584\n"
     ]
    },
    {
     "name": "stderr",
     "output_type": "stream",
     "text": [
      "NeuMF.py:31: UserWarning: Update your `Model` call to the Keras 2 API: `Model(inputs=[<tf.Tenso..., outputs=Tensor(\"pr...)`\n",
      "  help='Input data path.')\n"
     ]
    }
   ],
   "source": [
    "# Build and compile, and check initial performance\n",
    "model = get_ncf_model(num_users, num_items, mf_dim, layers, reg_layers, reg_mf)\n",
    "\n",
    "if learner.lower() == \"adagrad\": \n",
    "    model.compile(optimizer=Adagrad(lr=learning_rate), loss='mse')\n",
    "elif learner.lower() == \"rmsprop\":\n",
    "    model.compile(optimizer=RMSprop(lr=learning_rate), loss='mse')\n",
    "elif learner.lower() == \"adam\":\n",
    "    model.compile(optimizer=Adam(lr=learning_rate), loss='mse')\n",
    "else:\n",
    "    model.compile(optimizer=SGD(lr=learning_rate), loss='mse')\n",
    "\n",
    "# Load pretrain model\n",
    "if mf_pretrain != '' and mlp_pretrain != '':\n",
    "    gmf_model = get_gmf_model(num_users,num_items,mf_dim)\n",
    "    gmf_model.load_weights(mf_pretrain)\n",
    "    mlp_model = get_mlp_model(num_users,num_items, layers, reg_layers)\n",
    "    mlp_model.load_weights(mlp_pretrain)\n",
    "    model = load_pretrain_model(model, gmf_model, mlp_model, len(layers))\n",
    "    print(\"Load pretrained GMF (%s) and MLP (%s) models done. \" %(mf_pretrain, mlp_pretrain))\n",
    "    \n",
    "# Initial performance\n",
    "(mse, r2) = evaluate_rate_model(model, X_test, y_test, evaluation_threads)\n",
    "print('Initial: Test RMSE = %.4f, Test R2 = %.4f' % (np.sqrt(mse), r2))"
   ]
  },
  {
   "cell_type": "code",
   "execution_count": 288,
   "metadata": {
    "scrolled": true
   },
   "outputs": [
    {
     "name": "stderr",
     "output_type": "stream",
     "text": [
      "C:\\ProgramData\\Anaconda3\\envs\\cs_412\\lib\\site-packages\\tensorflow_core\\python\\framework\\indexed_slices.py:433: UserWarning: Converting sparse IndexedSlices to a dense Tensor of unknown shape. This may consume a large amount of memory.\n",
      "  \"Converting sparse IndexedSlices to a dense Tensor of unknown shape. \"\n"
     ]
    },
    {
     "name": "stdout",
     "output_type": "stream",
     "text": [
      "Epoch 1 [6.6 s]: Test RMSE = 1.1646, Test R2 = 0.1782, Train Loss = 0.0320 [0.0 s]\n",
      "Epoch 2 [6.5 s]: Test RMSE = 1.1904, Test R2 = 0.1413, Train Loss = 0.0268 [0.1 s]\n",
      "Epoch 3 [6.6 s]: Test RMSE = 1.2211, Test R2 = 0.0965, Train Loss = 0.0215 [0.1 s]\n",
      "Epoch 4 [6.6 s]: Test RMSE = 1.2546, Test R2 = 0.0462, Train Loss = 0.0173 [0.0 s]\n",
      "Epoch 5 [6.2 s]: Test RMSE = 1.2791, Test R2 = 0.0086, Train Loss = 0.0142 [0.0 s]\n",
      "Epoch 6 [6.8 s]: Test RMSE = 1.3025, Test R2 = -0.0279, Train Loss = 0.0120 [0.0 s]\n",
      "Epoch 7 [6.3 s]: Test RMSE = 1.3236, Test R2 = -0.0616, Train Loss = 0.0104 [0.0 s]\n",
      "Epoch 8 [6.3 s]: Test RMSE = 1.3373, Test R2 = -0.0837, Train Loss = 0.0093 [0.0 s]\n",
      "Epoch 9 [6.1 s]: Test RMSE = 1.3450, Test R2 = -0.0961, Train Loss = 0.0084 [0.0 s]\n",
      "Epoch 10 [6.1 s]: Test RMSE = 1.3654, Test R2 = -0.1297, Train Loss = 0.0076 [0.0 s]\n",
      "Epoch 11 [6.5 s]: Test RMSE = 1.3680, Test R2 = -0.1339, Train Loss = 0.0070 [0.0 s]\n",
      "Epoch 12 [6.1 s]: Test RMSE = 1.3818, Test R2 = -0.1570, Train Loss = 0.0066 [0.0 s]\n",
      "Epoch 13 [6.3 s]: Test RMSE = 1.3786, Test R2 = -0.1516, Train Loss = 0.0061 [0.0 s]\n",
      "Epoch 14 [6.4 s]: Test RMSE = 1.3858, Test R2 = -0.1636, Train Loss = 0.0058 [0.0 s]\n",
      "Epoch 15 [6.1 s]: Test RMSE = 1.3924, Test R2 = -0.1748, Train Loss = 0.0055 [0.0 s]\n",
      "Epoch 16 [6.5 s]: Test RMSE = 1.3974, Test R2 = -0.1832, Train Loss = 0.0052 [0.0 s]\n",
      "Epoch 17 [6.3 s]: Test RMSE = 1.3972, Test R2 = -0.1830, Train Loss = 0.0049 [0.0 s]\n",
      "Epoch 18 [6.3 s]: Test RMSE = 1.4004, Test R2 = -0.1884, Train Loss = 0.0047 [0.0 s]\n",
      "Epoch 19 [6.2 s]: Test RMSE = 1.4093, Test R2 = -0.2035, Train Loss = 0.0045 [0.0 s]\n",
      "Epoch 20 [6.1 s]: Test RMSE = 1.4078, Test R2 = -0.2009, Train Loss = 0.0043 [0.0 s]\n",
      "Epoch 21 [6.3 s]: Test RMSE = 1.4163, Test R2 = -0.2155, Train Loss = 0.0042 [0.0 s]\n",
      "Epoch 22 [6.1 s]: Test RMSE = 1.4130, Test R2 = -0.2098, Train Loss = 0.0040 [0.0 s]\n",
      "Epoch 23 [6.2 s]: Test RMSE = 1.4191, Test R2 = -0.2203, Train Loss = 0.0039 [0.1 s]\n",
      "Epoch 24 [6.4 s]: Test RMSE = 1.4138, Test R2 = -0.2112, Train Loss = 0.0038 [0.0 s]\n",
      "Epoch 25 [6.3 s]: Test RMSE = 1.4195, Test R2 = -0.2210, Train Loss = 0.0036 [0.0 s]\n",
      "Epoch 26 [6.6 s]: Test RMSE = 1.4170, Test R2 = -0.2167, Train Loss = 0.0035 [0.0 s]\n",
      "Epoch 27 [6.1 s]: Test RMSE = 1.4172, Test R2 = -0.2170, Train Loss = 0.0034 [0.0 s]\n",
      "Epoch 28 [6.3 s]: Test RMSE = 1.4215, Test R2 = -0.2243, Train Loss = 0.0033 [0.0 s]\n",
      "Epoch 29 [6.2 s]: Test RMSE = 1.4167, Test R2 = -0.2161, Train Loss = 0.0033 [0.0 s]\n",
      "Epoch 30 [6.1 s]: Test RMSE = 1.4202, Test R2 = -0.2221, Train Loss = 0.0032 [0.0 s]\n",
      "End. Best Iteration 0:  RMSE = 1.1646, R2 = 0.1782. \n"
     ]
    }
   ],
   "source": [
    "# Training and testing model\n",
    "current_folder = os.getcwd()\n",
    "model_out_file_ncf = current_folder + 'Pretrain/%s_NeuMF_%d_%s_%d.h5' %(args.dataset, mf_dim, args.layers, time())\n",
    "\n",
    "train_loss, val_loss = [], []\n",
    "test_rmse, test_r2 = [], []\n",
    "best_mse = float('inf')\n",
    "\n",
    "for epoch in range(num_epochs):\n",
    "    t1 = time()\n",
    "\n",
    "    # Generate training instances\n",
    "    user_input, item_input, labels = get_train_instances(X_train, y_train)\n",
    "\n",
    "    # Training\n",
    "    history = model.fit([np.array(user_input), np.array(item_input)], #input\n",
    "                         np.array(labels), # labels \n",
    "                         batch_size = batch_size, epochs = 1, verbose = 0, shuffle = True)\n",
    "\n",
    "    train_loss.append(history.history['loss'][0])\n",
    "    #val_loss.append(history.history['val_loss'][0])\n",
    "\n",
    "    t2 = time()\n",
    "\n",
    "    #Evaluation\n",
    "    if epoch % verbose == 0:\n",
    "        (mse, r2) = evaluate_rate_model(model, X_test, y_test, evaluation_threads)\n",
    "        \n",
    "        test_rmse.append(np.sqrt(mse))\n",
    "        test_r2.append(r2)\n",
    "        \n",
    "        print('Epoch %d [%.1f s]: Test RMSE = %.4f, Test R2 = %.4f, Train Loss = %.4f [%.1f s]' \n",
    "              % (epoch + 1,  t2 - t1, test_rmse[-1], test_r2[-1], train_loss[-1], time() - t2))\n",
    "        \n",
    "        if mse < best_mse:\n",
    "            best_mse, best_r2, best_iter = mse, r2, epoch\n",
    "            if args.out > 0:\n",
    "                model.save_weights(model_out_file_ncf, overwrite=True)\n",
    "\n",
    "print(\"End. Best Iteration %d:  RMSE = %.4f, R2 = %.4f. \" %(best_iter, np.sqrt(best_mse), best_r2))\n",
    "if args.out > 0:\n",
    "    print(\"The best NeuMF model is saved\")"
   ]
  },
  {
   "cell_type": "code",
   "execution_count": 290,
   "metadata": {},
   "outputs": [
    {
     "data": {
      "image/png": "[encoded data removed]",
      "text/plain": [
       "<Figure size 432x288 with 1 Axes>"
      ]
     },
     "metadata": {},
     "output_type": "display_data"
    }
   ],
   "source": [
    "plt.plot(test_rmse, '*-', label = 'test_rmse')\n",
    "plt.plot(train_loss, '--', label = 'train_rmse')\n",
    "plt.legend()\n",
    "plt.xlabel('Epoch')\n",
    "plt.ylabel('RMSE')\n",
    "plt.show()"
   ]
  },
  {
   "cell_type": "code",
   "execution_count": null,
   "metadata": {},
   "outputs": [],
   "source": []
  },
  {
   "cell_type": "code",
   "execution_count": null,
   "metadata": {},
   "outputs": [],
   "source": []
  },
  {
   "cell_type": "code",
   "execution_count": null,
   "metadata": {},
   "outputs": [],
   "source": []
  },
  {
   "cell_type": "code",
   "execution_count": null,
   "metadata": {},
   "outputs": [],
   "source": []
  },
  {
   "cell_type": "code",
   "execution_count": null,
   "metadata": {},
   "outputs": [],
   "source": []
  },
  {
   "cell_type": "code",
   "execution_count": null,
   "metadata": {},
   "outputs": [],
   "source": []
  },
  {
   "cell_type": "code",
   "execution_count": null,
   "metadata": {},
   "outputs": [],
   "source": []
  },
  {
   "cell_type": "code",
   "execution_count": null,
   "metadata": {},
   "outputs": [],
   "source": []
  },
  {
   "cell_type": "markdown",
   "metadata": {},
   "source": [
    "# EXTRA STUFF:"
   ]
  },
  {
   "cell_type": "raw",
   "metadata": {},
   "source": [
    "# Training model\n",
    "for epoch in range(num_epochs):\n",
    "    t1 = time()\n",
    "    # Generate training instances\n",
    "    user_input, item_input, labels = get_train_instances(train_data, num_negatives)\n",
    "    print('Finished generating')\n",
    "    \n",
    "    # Training\n",
    "    hist = model.fit([np.array(user_input), np.array(item_input)], #input\n",
    "                     np.array(labels), # labels \n",
    "                     batch_size=batch_size, epochs=1, verbose=0, shuffle=True)\n",
    "    \n",
    "    t2 = time()\n",
    "    \n",
    "    print('Finished training')\n",
    "\n",
    "    # Evaluation\n",
    "    if epoch % verbose == 0:\n",
    "        (hits, ndcgs) = evaluate_model(model, testRatings, testNegatives, topK, evaluation_threads)\n",
    "        hr, ndcg, loss = np.array(hits).mean(), np.array(ndcgs).mean(), hist.history['loss'][0]\n",
    "        \n",
    "        print('Iteration %d [%.1f s]: HR = %.4f, NDCG = %.4f, loss = %.4f [%.1f s]' \n",
    "              % (epoch,  t2-t1, hr, ndcg, loss, time()-t2))\n",
    "        if hr > best_hr:\n",
    "            best_hr, best_ndcg, best_iter = hr, ndcg, epoch\n",
    "#             if args.out > 0:\n",
    "#                 model.save_weights(model_out_file, overwrite=True)\n",
    "\n",
    "print(\"End. Best Iteration %d:  HR = %.4f, NDCG = %.4f. \" %(best_iter, best_hr, best_ndcg))\n",
    "# if args.out > 0:\n",
    "#     print(\"The best NeuMF model is saved to %s\" %(model_out_file))"
   ]
  },
  {
   "cell_type": "raw",
   "metadata": {},
   "source": [
    "'''\n",
    "Created on Aug 9, 2016\n",
    "Keras Implementation of Neural Matrix Factorization (NeuMF) recommender model in:\n",
    "He Xiangnan et al. Neural Collaborative Filtering. In WWW 2017.  \n",
    "\n",
    "@author: Xiangnan He (xiangnanhe@gmail.com)\n",
    "'''\n",
    "#################### Arguments ####################\n",
    "def parse_args():\n",
    "    parser = argparse.ArgumentParser(description=\"Run NeuMF.\")\n",
    "    parser.add_argument('--path', nargs='?', default='Data/',\n",
    "                        help='Input data path.')\n",
    "    parser.add_argument('--dataset', nargs='?', default='ml-1m',\n",
    "                        help='Choose a dataset.')\n",
    "    parser.add_argument('--epochs', type=int, default=100,\n",
    "                        help='Number of epochs.')\n",
    "    parser.add_argument('--batch_size', type=int, default=256,\n",
    "                        help='Batch size.')\n",
    "    parser.add_argument('--num_factors', type=int, default=8,\n",
    "                        help='Embedding size of MF model.')\n",
    "    parser.add_argument('--layers', nargs='?', default='[64,32,16,8]',\n",
    "                        help=\"MLP layers. Note that the first layer is the concatenation of user and item embeddings. So layers[0]/2 is the embedding size.\")\n",
    "    parser.add_argument('--reg_mf', type=float, default=0,\n",
    "                        help='Regularization for MF embeddings.')                    \n",
    "    parser.add_argument('--reg_layers', nargs='?', default='[0,0,0,0]',\n",
    "                        help=\"Regularization for each MLP layer. reg_layers[0] is the regularization for embeddings.\")\n",
    "    parser.add_argument('--num_neg', type=int, default=4,\n",
    "                        help='Number of negative instances to pair with a positive instance.')\n",
    "    parser.add_argument('--lr', type=float, default=0.001,\n",
    "                        help='Learning rate.')\n",
    "    parser.add_argument('--learner', nargs='?', default='adam',\n",
    "                        help='Specify an optimizer: adagrad, adam, rmsprop, sgd')\n",
    "    parser.add_argument('--verbose', type=int, default=1,\n",
    "                        help='Show performance per X iterations')\n",
    "    parser.add_argument('--out', type=int, default=1,\n",
    "                        help='Whether to save the trained model.')\n",
    "    parser.add_argument('--mf_pretrain', nargs='?', default='',\n",
    "                        help='Specify the pretrain model file for MF part. If empty, no pretrain will be used')\n",
    "    parser.add_argument('--mlp_pretrain', nargs='?', default='',\n",
    "                        help='Specify the pretrain model file for MLP part. If empty, no pretrain will be used')\n",
    "    return parser.parse_args()\n",
    "\n",
    "def get_model(num_users, num_items, mf_dim=10, layers=[10], reg_layers=[0], reg_mf=0):\n",
    "    assert len(layers) == len(reg_layers)\n",
    "    num_layer = len(layers) #Number of layers in the MLP\n",
    "    \n",
    "    # Input variables\n",
    "    user_input = Input(shape=(1,), dtype='int32', name = 'user_input')\n",
    "    item_input = Input(shape=(1,), dtype='int32', name = 'item_input')\n",
    "    \n",
    "    print('Input layer: ', user_input.shape, user_input.dtype)\n",
    "    \n",
    "    # Embedding layer\n",
    "    MF_Embedding_User = Embedding(input_dim = num_users, output_dim = mf_dim, name = 'mf_embedding_user',\n",
    "                                  embeddings_initializer = 'random_normal', embeddings_regularizer = l2(reg_mf), input_length=1)\n",
    "    MF_Embedding_Item = Embedding(input_dim = num_items, output_dim = mf_dim, name = 'mf_embedding_item',\n",
    "                                  embeddings_initializer = 'random_normal', embeddings_regularizer = l2(reg_mf), input_length=1)  \n",
    "\n",
    "    MLP_Embedding_User = Embedding(input_dim = num_users, output_dim = int(layers[0]/2), name = \"mlp_embedding_user\",\n",
    "                                   embeddings_initializer = 'random_normal', embeddings_regularizer = l2(reg_layers[0]), input_length=1)\n",
    "    MLP_Embedding_Item = Embedding(input_dim = num_items, output_dim = int(layers[0]/2), name = 'mlp_embedding_item',\n",
    "                                   embeddings_initializer = 'random_normal', embeddings_regularizer = l2(reg_layers[0]), input_length=1)\n",
    "\n",
    "    output = MLP_Embedding_User(user_input)\n",
    "    #print(MLP_Embedding_User.weights)\n",
    "    \n",
    "    # MF part\n",
    "    mf_user_latent = Flatten()(MF_Embedding_User(user_input))\n",
    "    mf_item_latent = Flatten()(MF_Embedding_Item(item_input))\n",
    "    \n",
    "    mf_vector = Multiply()([mf_user_latent, mf_item_latent]) # element-wise multiply\n",
    "\n",
    "    # MLP part \n",
    "    mlp_user_latent = Flatten()(MLP_Embedding_User(user_input))\n",
    "    mlp_item_latent = Flatten()(MLP_Embedding_Item(item_input))\n",
    "    \n",
    "    mlp_vector = Concatenate()([mlp_user_latent, mlp_item_latent])\n",
    "    for idx in range(1, num_layer):\n",
    "        layer = Dense(layers[idx], kernel_regularizer= l2(reg_layers[idx]), activation='relu', name=\"layer%d\" %idx)\n",
    "        mlp_vector = layer(mlp_vector)\n",
    "\n",
    "    # Concatenate MF and MLP parts\n",
    "    #mf_vector = Lambda(lambda x: x * alpha)(mf_vector)\n",
    "    #mlp_vector = Lambda(lambda x : x * (1-alpha))(mlp_vector)\n",
    "    predict_vector = Concatenate()([mf_vector, mlp_vector])\n",
    "    \n",
    "    # Final prediction layer\n",
    "    prediction = Dense(1, activation='sigmoid', kernel_initializer='lecun_uniform', name = \"prediction\")(predict_vector)\n",
    "    \n",
    "    model = Model(inputs =[user_input, item_input], \n",
    "                  outputs =prediction)\n",
    "    \n",
    "    return model\n",
    "\n",
    "def load_pretrain_model(model, gmf_model, mlp_model, num_layers):\n",
    "    # MF embeddings\n",
    "    gmf_user_embeddings = gmf_model.get_layer('user_embedding').get_weights()\n",
    "    gmf_item_embeddings = gmf_model.get_layer('item_embedding').get_weights()\n",
    "    model.get_layer('mf_embedding_user').set_weights(gmf_user_embeddings)\n",
    "    model.get_layer('mf_embedding_item').set_weights(gmf_item_embeddings)\n",
    "    \n",
    "    # MLP embeddings\n",
    "    mlp_user_embeddings = mlp_model.get_layer('user_embedding').get_weights()\n",
    "    mlp_item_embeddings = mlp_model.get_layer('item_embedding').get_weights()\n",
    "    model.get_layer('mlp_embedding_user').set_weights(mlp_user_embeddings)\n",
    "    model.get_layer('mlp_embedding_item').set_weights(mlp_item_embeddings)\n",
    "    \n",
    "    # MLP layers\n",
    "    for i in range(1, num_layers):\n",
    "        mlp_layer_weights = mlp_model.get_layer('layer%d' %i).get_weights()\n",
    "        model.get_layer('layer%d' %i).set_weights(mlp_layer_weights)\n",
    "        \n",
    "    # Prediction weights\n",
    "    gmf_prediction = gmf_model.get_layer('prediction').get_weights()\n",
    "    mlp_prediction = mlp_model.get_layer('prediction').get_weights()\n",
    "    new_weights = np.concatenate((gmf_prediction[0], mlp_prediction[0]), axis=0)\n",
    "    new_b = gmf_prediction[1] + mlp_prediction[1]\n",
    "    model.get_layer('prediction').set_weights([0.5*new_weights, 0.5*new_b])    \n",
    "    return model\n",
    "\n",
    "def get_train_instances(train, num_negatives):\n",
    "    user_input, item_input, labels = [],[],[]\n",
    "    num_users = train.shape[0]\n",
    "    s1 = set(train.keys())\n",
    "    \n",
    "    for (u, i) in train.keys():\n",
    "        \n",
    "        # positive instance\n",
    "        user_input.append(u)\n",
    "        item_input.append(i)\n",
    "        labels.append(1)\n",
    "        \n",
    "        # negative instances\n",
    "        for t in range(num_negatives):\n",
    "            j = np.random.randint(num_items)\n",
    "            while (u, j) in s1:\n",
    "                j = np.random.randint(num_items)\n",
    "            user_input.append(u)\n",
    "            item_input.append(j)\n",
    "            labels.append(0)\n",
    "\n",
    "    return user_input, item_input, labels"
   ]
  },
  {
   "cell_type": "raw",
   "metadata": {},
   "source": [
    "print(num_users, num_items, mf_dim, layers, reg_layers, reg_mf)\n",
    "print(type(layers[1]))"
   ]
  },
  {
   "cell_type": "raw",
   "metadata": {},
   "source": [
    "# sys.argv = ['NeuMF.py --dataset champaign_user_item_refined.txt --epochs 20 --batch_size 256 --num_factors 8 \\\n",
    "# --layers [64,32,16,8] --reg_mf 0 --reg_layers [0,0,0,0] --num_neg 4 --lr 0.001 --learner adam --verbose 1 --out 1']"
   ]
  },
  {
   "cell_type": "raw",
   "metadata": {},
   "source": [
    "#sys.argv = ['NeuMF.py --epochs 2 --batch_size 256 --num_factors 8 --layers [64,32,16,8] --num_neg 4 --lr 0.001 --learner adam --verbose 1 --out 1 --mf_pretrain Pretrain/ml-1m_GMF_8_1501651698.h5 --mlp_pretrain Pretrain/ml-1m_MLP_[64,32,16,8]_1501652038.h5']"
   ]
  },
  {
   "cell_type": "raw",
   "metadata": {
    "scrolled": false
   },
   "source": [
    "sys.argv = ['NeuMF.py --epochs 10 --batch_size 256 --num_factors 8 \\\n",
    "--layers [64,32,16,8] --reg_mf 0 --reg_layers [0,0,0,0] --num_neg 99 --lr 0.001 --learner adam --verbose 1 --out 0']\n",
    "\n",
    "args = parser.parse_args()\n",
    "\n",
    "num_epochs = args.epochs\n",
    "batch_size = args.batch_size\n",
    "mf_dim = args.num_factors\n",
    "layers = eval(args.layers)\n",
    "reg_mf = args.reg_mf\n",
    "reg_layers = eval(args.reg_layers)\n",
    "num_negatives = args.num_neg\n",
    "learning_rate = args.lr\n",
    "learner = args.learner\n",
    "verbose = args.verbose\n",
    "mf_pretrain = args.mf_pretrain\n",
    "mlp_pretrain = args.mlp_pretrain\n",
    "\n",
    "topK = 10\n",
    "evaluation_threads = -1 # mp.cpu_count()\n",
    "print(\"NeuMF arguments: %s \" %(args))\n",
    "#model_out_file = 'Pretrain/%s_NeuMF_%d_%s_%d.h5' %(args.dataset, mf_dim, args.layers, time())"
   ]
  },
  {
   "cell_type": "raw",
   "metadata": {},
   "source": [
    "# Build and compile, and check initial performance\n",
    "model = get_model(num_users, num_items, mf_dim, layers, reg_layers, reg_mf)\n",
    "\n",
    "if learner.lower() == \"adagrad\": \n",
    "    model.compile(optimizer=Adagrad(lr=learning_rate), loss='binary_crossentropy')\n",
    "elif learner.lower() == \"rmsprop\":\n",
    "    model.compile(optimizer=RMSprop(lr=learning_rate), loss='binary_crossentropy')\n",
    "elif learner.lower() == \"adam\":\n",
    "    model.compile(optimizer=Adam(lr=learning_rate), loss='binary_crossentropy')\n",
    "else:\n",
    "    model.compile(optimizer=SGD(lr=learning_rate), loss='binary_crossentropy')\n",
    "    \n",
    "# Load pretrain model\n",
    "if mf_pretrain != '' and mlp_pretrain != '':\n",
    "    gmf_model = GMF.get_model(num_users,num_items,mf_dim)\n",
    "    gmf_model.load_weights(mf_pretrain)\n",
    "    mlp_model = MLP.get_model(num_users,num_items, layers, reg_layers)\n",
    "    mlp_model.load_weights(mlp_pretrain)\n",
    "    model = load_pretrain_model(model, gmf_model, mlp_model, len(layers))\n",
    "    print(\"Load pretrained GMF (%s) and MLP (%s) models done. \" %(mf_pretrain, mlp_pretrain))\n",
    "    \n",
    "# Initial performance\n",
    "(hits, ndcgs) = evaluate_model(model, testRatings, testNegatives, topK, evaluation_threads)\n",
    "hr, ndcg = np.array(hits).mean(), np.array(ndcgs).mean()\n",
    "print('Init: HR = %.4f, NDCG = %.4f' % (hr, ndcg))\n",
    "best_hr, best_ndcg, best_iter = hr, ndcg, -1\n",
    "# if args.out > 0:\n",
    "#     model.save_weights(model_out_file, overwrite=True) "
   ]
  },
  {
   "cell_type": "code",
   "execution_count": null,
   "metadata": {},
   "outputs": [],
   "source": []
  },
  {
   "cell_type": "raw",
   "metadata": {},
   "source": [
    "# Loading data\n",
    "t1 = time()\n",
    "dataset = Dataset(args.path + args.dataset)\n",
    "\n",
    "train, testRatings, testNegatives = dataset.trainMatrix, dataset.testRatings, dataset.testNegatives\n",
    "num_users, num_items = train.shape\n",
    "print(\"Load data done [%.1f s]. #user=%d, #item=%d, #train=%d, #test=%d\" \n",
    "     %(time()-t1, num_users, num_items, train.nnz, len(testRatings)))"
   ]
  },
  {
   "cell_type": "raw",
   "metadata": {},
   "source": [
    "train"
   ]
  },
  {
   "cell_type": "raw",
   "metadata": {
    "scrolled": true
   },
   "source": [
    "len(testNegatives[0]), testNegatives[0]"
   ]
  },
  {
   "cell_type": "raw",
   "metadata": {},
   "source": [
    "print(num_users, num_items, mf_dim, layers, reg_layers, reg_mf)\n",
    "print(type(layers[1]))"
   ]
  },
  {
   "cell_type": "raw",
   "metadata": {},
   "source": [
    "# Build and compile, and check initial performance\n",
    "model = get_model(num_users, num_items, mf_dim, layers, reg_layers, reg_mf)\n",
    "\n",
    "if learner.lower() == \"adagrad\": \n",
    "    model.compile(optimizer=Adagrad(lr=learning_rate), loss='binary_crossentropy')\n",
    "elif learner.lower() == \"rmsprop\":\n",
    "    model.compile(optimizer=RMSprop(lr=learning_rate), loss='binary_crossentropy')\n",
    "elif learner.lower() == \"adam\":\n",
    "    model.compile(optimizer=Adam(lr=learning_rate), loss='binary_crossentropy')\n",
    "else:\n",
    "    model.compile(optimizer=SGD(lr=learning_rate), loss='binary_crossentropy')\n",
    "    \n",
    "# Load pretrain model\n",
    "if mf_pretrain != '' and mlp_pretrain != '':\n",
    "    gmf_model = GMF.get_model(num_users,num_items,mf_dim)\n",
    "    gmf_model.load_weights(mf_pretrain)\n",
    "    mlp_model = MLP.get_model(num_users,num_items, layers, reg_layers)\n",
    "    mlp_model.load_weights(mlp_pretrain)\n",
    "    model = load_pretrain_model(model, gmf_model, mlp_model, len(layers))\n",
    "    print(\"Load pretrained GMF (%s) and MLP (%s) models done. \" %(mf_pretrain, mlp_pretrain))\n",
    "    \n",
    "# Initial performance\n",
    "(hits, ndcgs) = evaluate_model(model, testRatings, testNegatives, topK, evaluation_threads)\n",
    "hr, ndcg = np.array(hits).mean(), np.array(ndcgs).mean()\n",
    "print('Init: HR = %.4f, NDCG = %.4f' % (hr, ndcg))\n",
    "best_hr, best_ndcg, best_iter = hr, ndcg, -1\n",
    "# if args.out > 0:\n",
    "#     model.save_weights(model_out_file, overwrite=True) "
   ]
  },
  {
   "cell_type": "raw",
   "metadata": {},
   "source": [
    "# Training model\n",
    "for epoch in range(num_epochs):\n",
    "    t1 = time()\n",
    "    # Generate training instances\n",
    "    user_input, item_input, labels = get_train_instances(train, num_negatives)\n",
    "    print('Finished generating')\n",
    "    \n",
    "    # Training\n",
    "    hist = model.fit([np.array(user_input), np.array(item_input)], #input\n",
    "                     np.array(labels), # labels \n",
    "                     batch_size=batch_size, epochs=1, verbose=0, shuffle=True)\n",
    "    \n",
    "    t2 = time()\n",
    "    \n",
    "    print('Finished training')\n",
    "\n",
    "    # Evaluation\n",
    "    if epoch % verbose == 0:\n",
    "        (hits, ndcgs) = evaluate_model(model, testRatings, testNegatives, topK, evaluation_threads)\n",
    "        hr, ndcg, loss = np.array(hits).mean(), np.array(ndcgs).mean(), hist.history['loss'][0]\n",
    "        \n",
    "        print('Iteration %d [%.1f s]: HR = %.4f, NDCG = %.4f, loss = %.4f [%.1f s]' \n",
    "              % (epoch,  t2-t1, hr, ndcg, loss, time()-t2))\n",
    "        if hr > best_hr:\n",
    "            best_hr, best_ndcg, best_iter = hr, ndcg, epoch\n",
    "#             if args.out > 0:\n",
    "#                 model.save_weights(model_out_file, overwrite=True)\n",
    "\n",
    "print(\"End. Best Iteration %d:  HR = %.4f, NDCG = %.4f. \" %(best_iter, best_hr, best_ndcg))\n",
    "# if args.out > 0:\n",
    "#     print(\"The best NeuMF model is saved to %s\" %(model_out_file))"
   ]
  },
  {
   "cell_type": "code",
   "execution_count": null,
   "metadata": {},
   "outputs": [],
   "source": []
  }
 ],
 "metadata": {
  "kernelspec": {
   "display_name": "Python 3",
   "language": "python",
   "name": "python3"
  },
  "language_info": {
   "codemirror_mode": {
    "name": "ipython",
    "version": 3
   },
   "file_extension": ".py",
   "mimetype": "text/x-python",
   "name": "python",
   "nbconvert_exporter": "python",
   "pygments_lexer": "ipython3",
   "version": "3.7.9"
  }
 },
 "nbformat": 4,
 "nbformat_minor": 4
}
