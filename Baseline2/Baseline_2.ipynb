{
 "cells": [
  {
   "cell_type": "code",
   "execution_count": 1,
   "metadata": {},
   "outputs": [],
   "source": [
    "## Import Packages:\n",
    "import numpy as np\n",
    "import pandas as pd\n",
    "import matplotlib.pyplot as plt\n",
    "import keras\n",
    "from keras import backend as K\n",
    "from keras import initializers\n",
    "from keras.regularizers import l1, l2, l1_l2\n",
    "from keras.models import Sequential, Model\n",
    "from keras.layers.core import Dense, Lambda, Activation\n",
    "from keras.layers import Embedding, Input, Dense, Concatenate, Reshape, Multiply, Flatten, Dropout\n",
    "from keras.optimizers import Adagrad, Adam, SGD, RMSprop\n",
    "from evaluate_rate import evaluate_rate_model\n",
    "from time import time\n",
    "import sys, os\n",
    "import argparse\n",
    "from tqdm import tqdm\n",
    "import seaborn as sns\n",
    "sns.set_style('whitegrid')\n",
    "sns.set_palette('colorblind')\n",
    "sns.set_context('talk')"
   ]
  },
  {
   "cell_type": "markdown",
   "metadata": {},
   "source": [
    "## Read in Champaign user-item interaction csv file to generate dataset:"
   ]
  },
  {
   "cell_type": "code",
   "execution_count": 2,
   "metadata": {},
   "outputs": [
    {
     "data": {
      "text/html": [
       "<div>\n",
       "<style scoped>\n",
       "    .dataframe tbody tr th:only-of-type {\n",
       "        vertical-align: middle;\n",
       "    }\n",
       "\n",
       "    .dataframe tbody tr th {\n",
       "        vertical-align: top;\n",
       "    }\n",
       "\n",
       "    .dataframe thead th {\n",
       "        text-align: right;\n",
       "    }\n",
       "</style>\n",
       "<table border=\"1\" class=\"dataframe\">\n",
       "  <thead>\n",
       "    <tr style=\"text-align: right;\">\n",
       "      <th></th>\n",
       "      <th>business_id</th>\n",
       "      <th>name</th>\n",
       "      <th>address</th>\n",
       "      <th>city</th>\n",
       "      <th>state</th>\n",
       "      <th>postal_code</th>\n",
       "      <th>latitude</th>\n",
       "      <th>longitude</th>\n",
       "      <th>stars_business_avg</th>\n",
       "      <th>review_count</th>\n",
       "      <th>...</th>\n",
       "      <th>categories</th>\n",
       "      <th>hours</th>\n",
       "      <th>review_id</th>\n",
       "      <th>user_id</th>\n",
       "      <th>stars</th>\n",
       "      <th>useful</th>\n",
       "      <th>funny</th>\n",
       "      <th>cool</th>\n",
       "      <th>text</th>\n",
       "      <th>date</th>\n",
       "    </tr>\n",
       "  </thead>\n",
       "  <tbody>\n",
       "    <tr>\n",
       "      <th>0</th>\n",
       "      <td>4hWDMVtfnpyY72_5QMbthA</td>\n",
       "      <td>Old Time Meat &amp; Deli Shoppe</td>\n",
       "      <td>2018 S Neil St</td>\n",
       "      <td>urbana-champaign</td>\n",
       "      <td>IL</td>\n",
       "      <td>61820</td>\n",
       "      <td>40.091901</td>\n",
       "      <td>-88.245362</td>\n",
       "      <td>5.0</td>\n",
       "      <td>46</td>\n",
       "      <td>...</td>\n",
       "      <td>Meat Shops, Food, Restaurants, Specialty Food,...</td>\n",
       "      <td>{'Monday': '10:0-18:0', 'Tuesday': '10:0-18:0'...</td>\n",
       "      <td>WruGbPJAuXAl5GP28fH1cA</td>\n",
       "      <td>5rM50rIojxWNQRv0Vmuulg</td>\n",
       "      <td>5.0</td>\n",
       "      <td>0</td>\n",
       "      <td>0</td>\n",
       "      <td>0</td>\n",
       "      <td>This is a wonderful butchershop. Deli selectio...</td>\n",
       "      <td>2011-08-25 01:04:12</td>\n",
       "    </tr>\n",
       "    <tr>\n",
       "      <th>1</th>\n",
       "      <td>4hWDMVtfnpyY72_5QMbthA</td>\n",
       "      <td>Old Time Meat &amp; Deli Shoppe</td>\n",
       "      <td>2018 S Neil St</td>\n",
       "      <td>urbana-champaign</td>\n",
       "      <td>IL</td>\n",
       "      <td>61820</td>\n",
       "      <td>40.091901</td>\n",
       "      <td>-88.245362</td>\n",
       "      <td>5.0</td>\n",
       "      <td>46</td>\n",
       "      <td>...</td>\n",
       "      <td>Meat Shops, Food, Restaurants, Specialty Food,...</td>\n",
       "      <td>{'Monday': '10:0-18:0', 'Tuesday': '10:0-18:0'...</td>\n",
       "      <td>NozR-GCiMHWyhqRbW4TDuA</td>\n",
       "      <td>9ZuE5YJQvNA4PvldrTgmXA</td>\n",
       "      <td>5.0</td>\n",
       "      <td>1</td>\n",
       "      <td>1</td>\n",
       "      <td>1</td>\n",
       "      <td>I'm almost reluctant to give it 5 stars only s...</td>\n",
       "      <td>2016-04-12 05:07:23</td>\n",
       "    </tr>\n",
       "    <tr>\n",
       "      <th>2</th>\n",
       "      <td>4hWDMVtfnpyY72_5QMbthA</td>\n",
       "      <td>Old Time Meat &amp; Deli Shoppe</td>\n",
       "      <td>2018 S Neil St</td>\n",
       "      <td>urbana-champaign</td>\n",
       "      <td>IL</td>\n",
       "      <td>61820</td>\n",
       "      <td>40.091901</td>\n",
       "      <td>-88.245362</td>\n",
       "      <td>5.0</td>\n",
       "      <td>46</td>\n",
       "      <td>...</td>\n",
       "      <td>Meat Shops, Food, Restaurants, Specialty Food,...</td>\n",
       "      <td>{'Monday': '10:0-18:0', 'Tuesday': '10:0-18:0'...</td>\n",
       "      <td>wLWG8YkhTfu3zjAYGNSzfA</td>\n",
       "      <td>w-NiZLoY-TetMRY8LOqMKw</td>\n",
       "      <td>5.0</td>\n",
       "      <td>1</td>\n",
       "      <td>0</td>\n",
       "      <td>2</td>\n",
       "      <td>This is definitely the place to go for excelle...</td>\n",
       "      <td>2016-07-04 01:09:58</td>\n",
       "    </tr>\n",
       "  </tbody>\n",
       "</table>\n",
       "<p>3 rows × 22 columns</p>\n",
       "</div>"
      ],
      "text/plain": [
       "              business_id                         name         address  \\\n",
       "0  4hWDMVtfnpyY72_5QMbthA  Old Time Meat & Deli Shoppe  2018 S Neil St   \n",
       "1  4hWDMVtfnpyY72_5QMbthA  Old Time Meat & Deli Shoppe  2018 S Neil St   \n",
       "2  4hWDMVtfnpyY72_5QMbthA  Old Time Meat & Deli Shoppe  2018 S Neil St   \n",
       "\n",
       "               city state postal_code   latitude  longitude  \\\n",
       "0  urbana-champaign    IL       61820  40.091901 -88.245362   \n",
       "1  urbana-champaign    IL       61820  40.091901 -88.245362   \n",
       "2  urbana-champaign    IL       61820  40.091901 -88.245362   \n",
       "\n",
       "   stars_business_avg  review_count  ...  \\\n",
       "0                 5.0            46  ...   \n",
       "1                 5.0            46  ...   \n",
       "2                 5.0            46  ...   \n",
       "\n",
       "                                          categories  \\\n",
       "0  Meat Shops, Food, Restaurants, Specialty Food,...   \n",
       "1  Meat Shops, Food, Restaurants, Specialty Food,...   \n",
       "2  Meat Shops, Food, Restaurants, Specialty Food,...   \n",
       "\n",
       "                                               hours               review_id  \\\n",
       "0  {'Monday': '10:0-18:0', 'Tuesday': '10:0-18:0'...  WruGbPJAuXAl5GP28fH1cA   \n",
       "1  {'Monday': '10:0-18:0', 'Tuesday': '10:0-18:0'...  NozR-GCiMHWyhqRbW4TDuA   \n",
       "2  {'Monday': '10:0-18:0', 'Tuesday': '10:0-18:0'...  wLWG8YkhTfu3zjAYGNSzfA   \n",
       "\n",
       "                  user_id stars useful  funny  cool  \\\n",
       "0  5rM50rIojxWNQRv0Vmuulg   5.0      0      0     0   \n",
       "1  9ZuE5YJQvNA4PvldrTgmXA   5.0      1      1     1   \n",
       "2  w-NiZLoY-TetMRY8LOqMKw   5.0      1      0     2   \n",
       "\n",
       "                                                text                 date  \n",
       "0  This is a wonderful butchershop. Deli selectio...  2011-08-25 01:04:12  \n",
       "1  I'm almost reluctant to give it 5 stars only s...  2016-04-12 05:07:23  \n",
       "2  This is definitely the place to go for excelle...  2016-07-04 01:09:58  \n",
       "\n",
       "[3 rows x 22 columns]"
      ]
     },
     "execution_count": 2,
     "metadata": {},
     "output_type": "execute_result"
    }
   ],
   "source": [
    "champaign_user_item_df = pd.read_csv('../yelp_dataset/champaign_user_item.csv', index_col = 0)\n",
    "champaign_user_item_df.head(3)"
   ]
  },
  {
   "cell_type": "code",
   "execution_count": 3,
   "metadata": {},
   "outputs": [],
   "source": [
    "unique_business_id = champaign_user_item_df.business_id.unique()\n",
    "mapping_business_id = {}\n",
    "ctr = 0\n",
    "for business_id in unique_business_id:\n",
    "    mapping_business_id[business_id] = ctr\n",
    "    ctr += 1\n",
    "    \n",
    "champaign_user_item_df['business_id_refined'] = champaign_user_item_df.business_id.map(mapping_business_id)"
   ]
  },
  {
   "cell_type": "code",
   "execution_count": 4,
   "metadata": {},
   "outputs": [],
   "source": [
    "unique_user_id = champaign_user_item_df.user_id.unique()\n",
    "mapping_user_id = {}\n",
    "ctr = 0\n",
    "for user_id in unique_user_id:\n",
    "    mapping_user_id[user_id] = ctr\n",
    "    ctr += 1\n",
    "    \n",
    "champaign_user_item_df['user_id_refined'] = champaign_user_item_df.user_id.map(mapping_user_id)"
   ]
  },
  {
   "cell_type": "code",
   "execution_count": 5,
   "metadata": {},
   "outputs": [
    {
     "data": {
      "text/html": [
       "<div>\n",
       "<style scoped>\n",
       "    .dataframe tbody tr th:only-of-type {\n",
       "        vertical-align: middle;\n",
       "    }\n",
       "\n",
       "    .dataframe tbody tr th {\n",
       "        vertical-align: top;\n",
       "    }\n",
       "\n",
       "    .dataframe thead th {\n",
       "        text-align: right;\n",
       "    }\n",
       "</style>\n",
       "<table border=\"1\" class=\"dataframe\">\n",
       "  <thead>\n",
       "    <tr style=\"text-align: right;\">\n",
       "      <th></th>\n",
       "      <th>user_id_refined</th>\n",
       "      <th>business_id_refined</th>\n",
       "    </tr>\n",
       "  </thead>\n",
       "  <tbody>\n",
       "    <tr>\n",
       "      <th>0</th>\n",
       "      <td>0</td>\n",
       "      <td>0</td>\n",
       "    </tr>\n",
       "    <tr>\n",
       "      <th>1</th>\n",
       "      <td>1</td>\n",
       "      <td>0</td>\n",
       "    </tr>\n",
       "    <tr>\n",
       "      <th>2</th>\n",
       "      <td>2</td>\n",
       "      <td>0</td>\n",
       "    </tr>\n",
       "    <tr>\n",
       "      <th>3</th>\n",
       "      <td>3</td>\n",
       "      <td>0</td>\n",
       "    </tr>\n",
       "    <tr>\n",
       "      <th>4</th>\n",
       "      <td>4</td>\n",
       "      <td>0</td>\n",
       "    </tr>\n",
       "  </tbody>\n",
       "</table>\n",
       "</div>"
      ],
      "text/plain": [
       "   user_id_refined  business_id_refined\n",
       "0                0                    0\n",
       "1                1                    0\n",
       "2                2                    0\n",
       "3                3                    0\n",
       "4                4                    0"
      ]
     },
     "execution_count": 5,
     "metadata": {},
     "output_type": "execute_result"
    }
   ],
   "source": [
    "champaign_user_item_df[['user_id_refined', 'business_id_refined']].head(5)"
   ]
  },
  {
   "cell_type": "code",
   "execution_count": 6,
   "metadata": {},
   "outputs": [
    {
     "data": {
      "text/plain": [
       "502"
      ]
     },
     "execution_count": 6,
     "metadata": {},
     "output_type": "execute_result"
    }
   ],
   "source": [
    "sum(champaign_user_item_df.groupby('user_id_refined')['name'].count() >= 10)"
   ]
  },
  {
   "cell_type": "markdown",
   "metadata": {},
   "source": [
    "There are only 502 users who have reviewed 10 or more restaurants in champaign, hence need to expand the dataset a bit"
   ]
  },
  {
   "cell_type": "markdown",
   "metadata": {},
   "source": [
    "## Read in toronto user-item interaction csv file to generate dataset:"
   ]
  },
  {
   "cell_type": "code",
   "execution_count": 7,
   "metadata": {},
   "outputs": [],
   "source": [
    "toronto_user_item_final_df = pd.read_csv('../yelp_dataset/toronto_user_item_final_df.csv', index_col = 0)\n",
    "dataset_to_use = toronto_user_item_final_df.copy()"
   ]
  },
  {
   "cell_type": "code",
   "execution_count": 8,
   "metadata": {},
   "outputs": [
    {
     "data": {
      "text/plain": [
       "Index(['business_id', 'name_x', 'address', 'city', 'state', 'postal_code',\n",
       "       'latitude', 'longitude', 'stars_business_avg', 'review_count_x',\n",
       "       'is_open', 'attributes', 'categories', 'hours', 'review_id', 'user_id',\n",
       "       'stars', 'useful_x', 'funny_x', 'cool_x', 'text', 'date', 'name_y',\n",
       "       'review_count_y', 'yelping_since', 'useful_y', 'funny_y', 'cool_y',\n",
       "       'elite', 'friends', 'fans', 'average_stars', 'compliment_hot',\n",
       "       'compliment_more', 'compliment_profile', 'compliment_cute',\n",
       "       'compliment_list', 'compliment_note', 'compliment_plain',\n",
       "       'compliment_cool', 'compliment_funny', 'compliment_writer',\n",
       "       'compliment_photos'],\n",
       "      dtype='object')"
      ]
     },
     "execution_count": 8,
     "metadata": {},
     "output_type": "execute_result"
    }
   ],
   "source": [
    "dataset_to_use.columns"
   ]
  },
  {
   "cell_type": "code",
   "execution_count": 9,
   "metadata": {},
   "outputs": [],
   "source": [
    "num_users = dataset_to_use.user_id.nunique()\n",
    "num_items = dataset_to_use.business_id.nunique()"
   ]
  },
  {
   "cell_type": "code",
   "execution_count": 10,
   "metadata": {},
   "outputs": [
    {
     "data": {
      "text/plain": [
       "227663"
      ]
     },
     "execution_count": 10,
     "metadata": {},
     "output_type": "execute_result"
    }
   ],
   "source": [
    "len(dataset_to_use)"
   ]
  },
  {
   "cell_type": "code",
   "execution_count": 11,
   "metadata": {},
   "outputs": [
    {
     "name": "stdout",
     "output_type": "stream",
     "text": [
      "There are 7905 unique users and 8546 unique items in the dataset after filtering such that each user has reviewed at least 10 restaurants.\n"
     ]
    }
   ],
   "source": [
    "print('There are %d unique users and %d unique items in the dataset after filtering such that each user has \\\n",
    "reviewed at least 10 restaurants.'%(num_users, num_items))"
   ]
  },
  {
   "cell_type": "code",
   "execution_count": 12,
   "metadata": {},
   "outputs": [
    {
     "data": {
      "text/html": [
       "<div>\n",
       "<style scoped>\n",
       "    .dataframe tbody tr th:only-of-type {\n",
       "        vertical-align: middle;\n",
       "    }\n",
       "\n",
       "    .dataframe tbody tr th {\n",
       "        vertical-align: top;\n",
       "    }\n",
       "\n",
       "    .dataframe thead th {\n",
       "        text-align: right;\n",
       "    }\n",
       "</style>\n",
       "<table border=\"1\" class=\"dataframe\">\n",
       "  <thead>\n",
       "    <tr style=\"text-align: right;\">\n",
       "      <th></th>\n",
       "      <th>business_id</th>\n",
       "      <th>name_x</th>\n",
       "      <th>address</th>\n",
       "      <th>city</th>\n",
       "      <th>state</th>\n",
       "      <th>postal_code</th>\n",
       "      <th>latitude</th>\n",
       "      <th>longitude</th>\n",
       "      <th>stars_business_avg</th>\n",
       "      <th>review_count_x</th>\n",
       "      <th>...</th>\n",
       "      <th>compliment_more</th>\n",
       "      <th>compliment_profile</th>\n",
       "      <th>compliment_cute</th>\n",
       "      <th>compliment_list</th>\n",
       "      <th>compliment_note</th>\n",
       "      <th>compliment_plain</th>\n",
       "      <th>compliment_cool</th>\n",
       "      <th>compliment_funny</th>\n",
       "      <th>compliment_writer</th>\n",
       "      <th>compliment_photos</th>\n",
       "    </tr>\n",
       "  </thead>\n",
       "  <tbody>\n",
       "    <tr>\n",
       "      <th>0</th>\n",
       "      <td>g6AFW-zY0wDvBl9U82g4zg</td>\n",
       "      <td>Baretto Caffe</td>\n",
       "      <td>1262 Don Mills Road</td>\n",
       "      <td>toronto</td>\n",
       "      <td>ON</td>\n",
       "      <td>M3B 2W7</td>\n",
       "      <td>43.744703</td>\n",
       "      <td>-79.346468</td>\n",
       "      <td>5.0</td>\n",
       "      <td>317</td>\n",
       "      <td>...</td>\n",
       "      <td>1</td>\n",
       "      <td>0</td>\n",
       "      <td>0</td>\n",
       "      <td>0</td>\n",
       "      <td>0</td>\n",
       "      <td>1</td>\n",
       "      <td>0</td>\n",
       "      <td>0</td>\n",
       "      <td>0</td>\n",
       "      <td>0</td>\n",
       "    </tr>\n",
       "    <tr>\n",
       "      <th>1</th>\n",
       "      <td>gAxeeJKwJtxp3uH9zUQ2aQ</td>\n",
       "      <td>A-Game Cafe</td>\n",
       "      <td>797 Dundas Street W</td>\n",
       "      <td>toronto</td>\n",
       "      <td>ON</td>\n",
       "      <td>M6J 1V2</td>\n",
       "      <td>43.651719</td>\n",
       "      <td>-79.407911</td>\n",
       "      <td>4.5</td>\n",
       "      <td>91</td>\n",
       "      <td>...</td>\n",
       "      <td>1</td>\n",
       "      <td>0</td>\n",
       "      <td>0</td>\n",
       "      <td>0</td>\n",
       "      <td>0</td>\n",
       "      <td>1</td>\n",
       "      <td>0</td>\n",
       "      <td>0</td>\n",
       "      <td>0</td>\n",
       "      <td>0</td>\n",
       "    </tr>\n",
       "    <tr>\n",
       "      <th>2</th>\n",
       "      <td>cWPTOM_o5toaXpq0gNxD7Q</td>\n",
       "      <td>Vanta Coffee Club &amp; Eatery</td>\n",
       "      <td>2101 Brimley Road</td>\n",
       "      <td>toronto</td>\n",
       "      <td>ON</td>\n",
       "      <td>M1S 2B4</td>\n",
       "      <td>43.788839</td>\n",
       "      <td>-79.268636</td>\n",
       "      <td>4.0</td>\n",
       "      <td>204</td>\n",
       "      <td>...</td>\n",
       "      <td>1</td>\n",
       "      <td>0</td>\n",
       "      <td>0</td>\n",
       "      <td>0</td>\n",
       "      <td>0</td>\n",
       "      <td>1</td>\n",
       "      <td>0</td>\n",
       "      <td>0</td>\n",
       "      <td>0</td>\n",
       "      <td>0</td>\n",
       "    </tr>\n",
       "  </tbody>\n",
       "</table>\n",
       "<p>3 rows × 43 columns</p>\n",
       "</div>"
      ],
      "text/plain": [
       "              business_id                      name_x              address  \\\n",
       "0  g6AFW-zY0wDvBl9U82g4zg               Baretto Caffe  1262 Don Mills Road   \n",
       "1  gAxeeJKwJtxp3uH9zUQ2aQ                 A-Game Cafe  797 Dundas Street W   \n",
       "2  cWPTOM_o5toaXpq0gNxD7Q  Vanta Coffee Club & Eatery    2101 Brimley Road   \n",
       "\n",
       "      city state postal_code   latitude  longitude  stars_business_avg  \\\n",
       "0  toronto    ON     M3B 2W7  43.744703 -79.346468                 5.0   \n",
       "1  toronto    ON     M6J 1V2  43.651719 -79.407911                 4.5   \n",
       "2  toronto    ON     M1S 2B4  43.788839 -79.268636                 4.0   \n",
       "\n",
       "   review_count_x  ...  compliment_more compliment_profile compliment_cute  \\\n",
       "0             317  ...                1                  0               0   \n",
       "1              91  ...                1                  0               0   \n",
       "2             204  ...                1                  0               0   \n",
       "\n",
       "  compliment_list compliment_note compliment_plain  compliment_cool  \\\n",
       "0               0               0                1                0   \n",
       "1               0               0                1                0   \n",
       "2               0               0                1                0   \n",
       "\n",
       "   compliment_funny  compliment_writer  compliment_photos  \n",
       "0                 0                  0                  0  \n",
       "1                 0                  0                  0  \n",
       "2                 0                  0                  0  \n",
       "\n",
       "[3 rows x 43 columns]"
      ]
     },
     "execution_count": 12,
     "metadata": {},
     "output_type": "execute_result"
    }
   ],
   "source": [
    "dataset_to_use.head(3)"
   ]
  },
  {
   "cell_type": "code",
   "execution_count": 13,
   "metadata": {},
   "outputs": [
    {
     "name": "stdout",
     "output_type": "stream",
     "text": [
      "There are 7905 unique users and 8546 unique items in the dataset after filtering such that each user has reviewed at least 10 restaurants.\n"
     ]
    }
   ],
   "source": [
    "print('There are %d unique users and %d unique items in the dataset after filtering such that each user has \\\n",
    "reviewed at least 10 restaurants.'%(dataset_to_use.user_id.nunique(), dataset_to_use.business_id.nunique()))"
   ]
  },
  {
   "cell_type": "markdown",
   "metadata": {},
   "source": [
    "### Create simpler IDs for users and items"
   ]
  },
  {
   "cell_type": "code",
   "execution_count": 14,
   "metadata": {},
   "outputs": [
    {
     "data": {
      "text/html": [
       "<div>\n",
       "<style scoped>\n",
       "    .dataframe tbody tr th:only-of-type {\n",
       "        vertical-align: middle;\n",
       "    }\n",
       "\n",
       "    .dataframe tbody tr th {\n",
       "        vertical-align: top;\n",
       "    }\n",
       "\n",
       "    .dataframe thead th {\n",
       "        text-align: right;\n",
       "    }\n",
       "</style>\n",
       "<table border=\"1\" class=\"dataframe\">\n",
       "  <thead>\n",
       "    <tr style=\"text-align: right;\">\n",
       "      <th></th>\n",
       "      <th>user_id_refined</th>\n",
       "      <th>business_id_refined</th>\n",
       "    </tr>\n",
       "  </thead>\n",
       "  <tbody>\n",
       "    <tr>\n",
       "      <th>0</th>\n",
       "      <td>0</td>\n",
       "      <td>0</td>\n",
       "    </tr>\n",
       "    <tr>\n",
       "      <th>1</th>\n",
       "      <td>0</td>\n",
       "      <td>1</td>\n",
       "    </tr>\n",
       "    <tr>\n",
       "      <th>2</th>\n",
       "      <td>0</td>\n",
       "      <td>2</td>\n",
       "    </tr>\n",
       "    <tr>\n",
       "      <th>3</th>\n",
       "      <td>0</td>\n",
       "      <td>3</td>\n",
       "    </tr>\n",
       "    <tr>\n",
       "      <th>4</th>\n",
       "      <td>0</td>\n",
       "      <td>4</td>\n",
       "    </tr>\n",
       "  </tbody>\n",
       "</table>\n",
       "</div>"
      ],
      "text/plain": [
       "   user_id_refined  business_id_refined\n",
       "0                0                    0\n",
       "1                0                    1\n",
       "2                0                    2\n",
       "3                0                    3\n",
       "4                0                    4"
      ]
     },
     "metadata": {},
     "output_type": "display_data"
    },
    {
     "data": {
      "text/html": [
       "<div>\n",
       "<style scoped>\n",
       "    .dataframe tbody tr th:only-of-type {\n",
       "        vertical-align: middle;\n",
       "    }\n",
       "\n",
       "    .dataframe tbody tr th {\n",
       "        vertical-align: top;\n",
       "    }\n",
       "\n",
       "    .dataframe thead th {\n",
       "        text-align: right;\n",
       "    }\n",
       "</style>\n",
       "<table border=\"1\" class=\"dataframe\">\n",
       "  <thead>\n",
       "    <tr style=\"text-align: right;\">\n",
       "      <th></th>\n",
       "      <th>business_id</th>\n",
       "      <th>name_x</th>\n",
       "      <th>address</th>\n",
       "      <th>city</th>\n",
       "      <th>state</th>\n",
       "      <th>postal_code</th>\n",
       "      <th>latitude</th>\n",
       "      <th>longitude</th>\n",
       "      <th>stars_business_avg</th>\n",
       "      <th>review_count_x</th>\n",
       "      <th>...</th>\n",
       "      <th>compliment_cute</th>\n",
       "      <th>compliment_list</th>\n",
       "      <th>compliment_note</th>\n",
       "      <th>compliment_plain</th>\n",
       "      <th>compliment_cool</th>\n",
       "      <th>compliment_funny</th>\n",
       "      <th>compliment_writer</th>\n",
       "      <th>compliment_photos</th>\n",
       "      <th>business_id_refined</th>\n",
       "      <th>user_id_refined</th>\n",
       "    </tr>\n",
       "  </thead>\n",
       "  <tbody>\n",
       "    <tr>\n",
       "      <th>12</th>\n",
       "      <td>e49eXgKVuR-lsL0-D4vzDw</td>\n",
       "      <td>Momiji</td>\n",
       "      <td>2111 Sheppard Avenue E</td>\n",
       "      <td>toronto</td>\n",
       "      <td>ON</td>\n",
       "      <td>M2J 1W6</td>\n",
       "      <td>43.775377</td>\n",
       "      <td>-79.333972</td>\n",
       "      <td>3.0</td>\n",
       "      <td>22</td>\n",
       "      <td>...</td>\n",
       "      <td>0</td>\n",
       "      <td>0</td>\n",
       "      <td>0</td>\n",
       "      <td>1</td>\n",
       "      <td>0</td>\n",
       "      <td>0</td>\n",
       "      <td>0</td>\n",
       "      <td>0</td>\n",
       "      <td>12</td>\n",
       "      <td>0</td>\n",
       "    </tr>\n",
       "    <tr>\n",
       "      <th>10</th>\n",
       "      <td>ik9VvawL-BeAqlxTI1leew</td>\n",
       "      <td>Gonoe Sushi</td>\n",
       "      <td>1310 Don Mills Road</td>\n",
       "      <td>toronto</td>\n",
       "      <td>ON</td>\n",
       "      <td>M3B 2W6</td>\n",
       "      <td>43.745920</td>\n",
       "      <td>-79.346301</td>\n",
       "      <td>3.5</td>\n",
       "      <td>119</td>\n",
       "      <td>...</td>\n",
       "      <td>0</td>\n",
       "      <td>0</td>\n",
       "      <td>0</td>\n",
       "      <td>1</td>\n",
       "      <td>0</td>\n",
       "      <td>0</td>\n",
       "      <td>0</td>\n",
       "      <td>0</td>\n",
       "      <td>10</td>\n",
       "      <td>0</td>\n",
       "    </tr>\n",
       "    <tr>\n",
       "      <th>3</th>\n",
       "      <td>Nz44ccUso3nq5S2OlQHNlA</td>\n",
       "      <td>Mexico Lindo</td>\n",
       "      <td>2600 Birchmount Road, Suite 2586</td>\n",
       "      <td>toronto</td>\n",
       "      <td>ON</td>\n",
       "      <td>M1T 2M5</td>\n",
       "      <td>43.789719</td>\n",
       "      <td>-79.302981</td>\n",
       "      <td>4.0</td>\n",
       "      <td>163</td>\n",
       "      <td>...</td>\n",
       "      <td>0</td>\n",
       "      <td>0</td>\n",
       "      <td>0</td>\n",
       "      <td>1</td>\n",
       "      <td>0</td>\n",
       "      <td>0</td>\n",
       "      <td>0</td>\n",
       "      <td>0</td>\n",
       "      <td>3</td>\n",
       "      <td>0</td>\n",
       "    </tr>\n",
       "  </tbody>\n",
       "</table>\n",
       "<p>3 rows × 45 columns</p>\n",
       "</div>"
      ],
      "text/plain": [
       "               business_id        name_x                           address  \\\n",
       "12  e49eXgKVuR-lsL0-D4vzDw        Momiji            2111 Sheppard Avenue E   \n",
       "10  ik9VvawL-BeAqlxTI1leew   Gonoe Sushi               1310 Don Mills Road   \n",
       "3   Nz44ccUso3nq5S2OlQHNlA  Mexico Lindo  2600 Birchmount Road, Suite 2586   \n",
       "\n",
       "       city state postal_code   latitude  longitude  stars_business_avg  \\\n",
       "12  toronto    ON     M2J 1W6  43.775377 -79.333972                 3.0   \n",
       "10  toronto    ON     M3B 2W6  43.745920 -79.346301                 3.5   \n",
       "3   toronto    ON     M1T 2M5  43.789719 -79.302981                 4.0   \n",
       "\n",
       "    review_count_x  ...  compliment_cute compliment_list compliment_note  \\\n",
       "12              22  ...                0               0               0   \n",
       "10             119  ...                0               0               0   \n",
       "3              163  ...                0               0               0   \n",
       "\n",
       "   compliment_plain compliment_cool compliment_funny  compliment_writer  \\\n",
       "12                1               0                0                  0   \n",
       "10                1               0                0                  0   \n",
       "3                 1               0                0                  0   \n",
       "\n",
       "    compliment_photos  business_id_refined  user_id_refined  \n",
       "12                  0                   12                0  \n",
       "10                  0                   10                0  \n",
       "3                   0                    3                0  \n",
       "\n",
       "[3 rows x 45 columns]"
      ]
     },
     "execution_count": 14,
     "metadata": {},
     "output_type": "execute_result"
    }
   ],
   "source": [
    "unique_business_id = dataset_to_use.business_id.unique()\n",
    "mapping_business_id = {}\n",
    "ctr = 0\n",
    "for business_id in unique_business_id:\n",
    "    mapping_business_id[business_id] = ctr\n",
    "    ctr += 1\n",
    "    \n",
    "dataset_to_use['business_id_refined'] = dataset_to_use.business_id.map(mapping_business_id)\n",
    "\n",
    "unique_user_id = dataset_to_use.user_id.unique()\n",
    "mapping_user_id = {}\n",
    "ctr = 0\n",
    "for user_id in unique_user_id:\n",
    "    mapping_user_id[user_id] = ctr\n",
    "    ctr += 1\n",
    "    \n",
    "dataset_to_use['user_id_refined'] = dataset_to_use.user_id.map(mapping_user_id)\n",
    "\n",
    "\n",
    "display(dataset_to_use[['user_id_refined', 'business_id_refined']].head(5))\n",
    "\n",
    "dataset_to_use.sort_values(by = ['user_id_refined', 'date'], inplace = True)\n",
    "\n",
    "dataset_to_use.head(3)"
   ]
  },
  {
   "cell_type": "markdown",
   "metadata": {},
   "source": [
    "## Test Data:"
   ]
  },
  {
   "cell_type": "code",
   "execution_count": 15,
   "metadata": {},
   "outputs": [],
   "source": [
    "def last_value(df):\n",
    "    return df.iloc[[-1]]\n",
    "\n",
    "# Save the most recent visit to a restaurant as the test data\n",
    "test_data = dataset_to_use.groupby('user_id_refined').apply(last_value)"
   ]
  },
  {
   "cell_type": "raw",
   "metadata": {},
   "source": [
    "### Sanity check to make sure that the most recent transaction is saved\n",
    "most_recent_restaurant = []\n",
    "for idx in range(len(test_data)):\n",
    "    most_recent_restaurant.append(dataset_to_use.query('user_id_refined == @idx')['business_id_refined'].iloc[-1])\n",
    "    \n",
    "if sum(test_data.business_id_refined != most_recent_restaurant):\n",
    "    print('not successful')\n",
    "else:\n",
    "    print('successful!')"
   ]
  },
  {
   "cell_type": "markdown",
   "metadata": {},
   "source": [
    "'successful!' indicates that we were successfully able to save the most recent visit by every user in a separate dataframe.\n",
    "\n",
    "This dataframe upon transformation would serve as a test dataset."
   ]
  },
  {
   "cell_type": "code",
   "execution_count": 16,
   "metadata": {},
   "outputs": [
    {
     "data": {
      "text/html": [
       "<div>\n",
       "<style scoped>\n",
       "    .dataframe tbody tr th:only-of-type {\n",
       "        vertical-align: middle;\n",
       "    }\n",
       "\n",
       "    .dataframe tbody tr th {\n",
       "        vertical-align: top;\n",
       "    }\n",
       "\n",
       "    .dataframe thead th {\n",
       "        text-align: right;\n",
       "    }\n",
       "</style>\n",
       "<table border=\"1\" class=\"dataframe\">\n",
       "  <thead>\n",
       "    <tr style=\"text-align: right;\">\n",
       "      <th></th>\n",
       "      <th></th>\n",
       "      <th>business_id</th>\n",
       "      <th>name_x</th>\n",
       "      <th>address</th>\n",
       "      <th>city</th>\n",
       "      <th>state</th>\n",
       "      <th>postal_code</th>\n",
       "      <th>latitude</th>\n",
       "      <th>longitude</th>\n",
       "      <th>stars_business_avg</th>\n",
       "      <th>review_count_x</th>\n",
       "      <th>...</th>\n",
       "      <th>compliment_cute</th>\n",
       "      <th>compliment_list</th>\n",
       "      <th>compliment_note</th>\n",
       "      <th>compliment_plain</th>\n",
       "      <th>compliment_cool</th>\n",
       "      <th>compliment_funny</th>\n",
       "      <th>compliment_writer</th>\n",
       "      <th>compliment_photos</th>\n",
       "      <th>business_id_refined</th>\n",
       "      <th>user_id_refined</th>\n",
       "    </tr>\n",
       "    <tr>\n",
       "      <th>user_id_refined</th>\n",
       "      <th></th>\n",
       "      <th></th>\n",
       "      <th></th>\n",
       "      <th></th>\n",
       "      <th></th>\n",
       "      <th></th>\n",
       "      <th></th>\n",
       "      <th></th>\n",
       "      <th></th>\n",
       "      <th></th>\n",
       "      <th></th>\n",
       "      <th></th>\n",
       "      <th></th>\n",
       "      <th></th>\n",
       "      <th></th>\n",
       "      <th></th>\n",
       "      <th></th>\n",
       "      <th></th>\n",
       "      <th></th>\n",
       "      <th></th>\n",
       "      <th></th>\n",
       "      <th></th>\n",
       "    </tr>\n",
       "  </thead>\n",
       "  <tbody>\n",
       "    <tr>\n",
       "      <th>0</th>\n",
       "      <th>0</th>\n",
       "      <td>g6AFW-zY0wDvBl9U82g4zg</td>\n",
       "      <td>Baretto Caffe</td>\n",
       "      <td>1262 Don Mills Road</td>\n",
       "      <td>toronto</td>\n",
       "      <td>ON</td>\n",
       "      <td>M3B 2W7</td>\n",
       "      <td>43.744703</td>\n",
       "      <td>-79.346468</td>\n",
       "      <td>5.0</td>\n",
       "      <td>317</td>\n",
       "      <td>...</td>\n",
       "      <td>0</td>\n",
       "      <td>0</td>\n",
       "      <td>0</td>\n",
       "      <td>1</td>\n",
       "      <td>0</td>\n",
       "      <td>0</td>\n",
       "      <td>0</td>\n",
       "      <td>0</td>\n",
       "      <td>0</td>\n",
       "      <td>0</td>\n",
       "    </tr>\n",
       "    <tr>\n",
       "      <th>1</th>\n",
       "      <th>21</th>\n",
       "      <td>B70iTJjcPkuYn8ouUewWgw</td>\n",
       "      <td>Gusto 101</td>\n",
       "      <td>101 Portland Street</td>\n",
       "      <td>toronto</td>\n",
       "      <td>ON</td>\n",
       "      <td>M5V 2N3</td>\n",
       "      <td>43.645002</td>\n",
       "      <td>-79.400309</td>\n",
       "      <td>4.0</td>\n",
       "      <td>956</td>\n",
       "      <td>...</td>\n",
       "      <td>1</td>\n",
       "      <td>0</td>\n",
       "      <td>30</td>\n",
       "      <td>63</td>\n",
       "      <td>75</td>\n",
       "      <td>75</td>\n",
       "      <td>27</td>\n",
       "      <td>48</td>\n",
       "      <td>19</td>\n",
       "      <td>1</td>\n",
       "    </tr>\n",
       "    <tr>\n",
       "      <th>2</th>\n",
       "      <th>70</th>\n",
       "      <td>mVVoK2ADlKbvwitSqFY2hw</td>\n",
       "      <td>Pantry Foods</td>\n",
       "      <td>3456 Bathurst Street</td>\n",
       "      <td>toronto</td>\n",
       "      <td>ON</td>\n",
       "      <td>M6A 2C3</td>\n",
       "      <td>43.728130</td>\n",
       "      <td>-79.432020</td>\n",
       "      <td>4.0</td>\n",
       "      <td>20</td>\n",
       "      <td>...</td>\n",
       "      <td>0</td>\n",
       "      <td>0</td>\n",
       "      <td>5</td>\n",
       "      <td>2</td>\n",
       "      <td>1</td>\n",
       "      <td>1</td>\n",
       "      <td>3</td>\n",
       "      <td>3</td>\n",
       "      <td>64</td>\n",
       "      <td>2</td>\n",
       "    </tr>\n",
       "  </tbody>\n",
       "</table>\n",
       "<p>3 rows × 45 columns</p>\n",
       "</div>"
      ],
      "text/plain": [
       "                               business_id         name_x  \\\n",
       "user_id_refined                                             \n",
       "0               0   g6AFW-zY0wDvBl9U82g4zg  Baretto Caffe   \n",
       "1               21  B70iTJjcPkuYn8ouUewWgw      Gusto 101   \n",
       "2               70  mVVoK2ADlKbvwitSqFY2hw   Pantry Foods   \n",
       "\n",
       "                                 address     city state postal_code  \\\n",
       "user_id_refined                                                       \n",
       "0               0    1262 Don Mills Road  toronto    ON     M3B 2W7   \n",
       "1               21   101 Portland Street  toronto    ON     M5V 2N3   \n",
       "2               70  3456 Bathurst Street  toronto    ON     M6A 2C3   \n",
       "\n",
       "                     latitude  longitude  stars_business_avg  review_count_x  \\\n",
       "user_id_refined                                                                \n",
       "0               0   43.744703 -79.346468                 5.0             317   \n",
       "1               21  43.645002 -79.400309                 4.0             956   \n",
       "2               70  43.728130 -79.432020                 4.0              20   \n",
       "\n",
       "                    ...  compliment_cute compliment_list compliment_note  \\\n",
       "user_id_refined     ...                                                    \n",
       "0               0   ...                0               0               0   \n",
       "1               21  ...                1               0              30   \n",
       "2               70  ...                0               0               5   \n",
       "\n",
       "                   compliment_plain compliment_cool compliment_funny  \\\n",
       "user_id_refined                                                        \n",
       "0               0                 1               0                0   \n",
       "1               21               63              75               75   \n",
       "2               70                2               1                1   \n",
       "\n",
       "                    compliment_writer  compliment_photos  business_id_refined  \\\n",
       "user_id_refined                                                                 \n",
       "0               0                   0                  0                    0   \n",
       "1               21                 27                 48                   19   \n",
       "2               70                  3                  3                   64   \n",
       "\n",
       "                    user_id_refined  \n",
       "user_id_refined                      \n",
       "0               0                 0  \n",
       "1               21                1  \n",
       "2               70                2  \n",
       "\n",
       "[3 rows x 45 columns]"
      ]
     },
     "execution_count": 16,
     "metadata": {},
     "output_type": "execute_result"
    }
   ],
   "source": [
    "test_data.head(3)"
   ]
  },
  {
   "cell_type": "code",
   "execution_count": 17,
   "metadata": {},
   "outputs": [
    {
     "data": {
      "text/plain": [
       "(0, 19, 64)"
      ]
     },
     "execution_count": 17,
     "metadata": {},
     "output_type": "execute_result"
    }
   ],
   "source": [
    "dataset_to_use.query('user_id_refined == 0')['business_id_refined'].iloc[-1],\\\n",
    "dataset_to_use.query('user_id_refined == 1')['business_id_refined'].iloc[-1],\\\n",
    "dataset_to_use.query('user_id_refined == 2')['business_id_refined'].iloc[-1]"
   ]
  },
  {
   "cell_type": "code",
   "execution_count": 18,
   "metadata": {},
   "outputs": [
    {
     "data": {
      "text/html": [
       "<div>\n",
       "<style scoped>\n",
       "    .dataframe tbody tr th:only-of-type {\n",
       "        vertical-align: middle;\n",
       "    }\n",
       "\n",
       "    .dataframe tbody tr th {\n",
       "        vertical-align: top;\n",
       "    }\n",
       "\n",
       "    .dataframe thead th {\n",
       "        text-align: right;\n",
       "    }\n",
       "</style>\n",
       "<table border=\"1\" class=\"dataframe\">\n",
       "  <thead>\n",
       "    <tr style=\"text-align: right;\">\n",
       "      <th></th>\n",
       "      <th>business_id</th>\n",
       "      <th>name_x</th>\n",
       "      <th>address</th>\n",
       "      <th>city</th>\n",
       "      <th>state</th>\n",
       "      <th>postal_code</th>\n",
       "      <th>latitude</th>\n",
       "      <th>longitude</th>\n",
       "      <th>stars_business_avg</th>\n",
       "      <th>review_count_x</th>\n",
       "      <th>...</th>\n",
       "      <th>compliment_cute</th>\n",
       "      <th>compliment_list</th>\n",
       "      <th>compliment_note</th>\n",
       "      <th>compliment_plain</th>\n",
       "      <th>compliment_cool</th>\n",
       "      <th>compliment_funny</th>\n",
       "      <th>compliment_writer</th>\n",
       "      <th>compliment_photos</th>\n",
       "      <th>business_id_refined</th>\n",
       "      <th>user_id_refined</th>\n",
       "    </tr>\n",
       "  </thead>\n",
       "  <tbody>\n",
       "    <tr>\n",
       "      <th>0</th>\n",
       "      <td>g6AFW-zY0wDvBl9U82g4zg</td>\n",
       "      <td>Baretto Caffe</td>\n",
       "      <td>1262 Don Mills Road</td>\n",
       "      <td>toronto</td>\n",
       "      <td>ON</td>\n",
       "      <td>M3B 2W7</td>\n",
       "      <td>43.744703</td>\n",
       "      <td>-79.346468</td>\n",
       "      <td>5.0</td>\n",
       "      <td>317</td>\n",
       "      <td>...</td>\n",
       "      <td>0</td>\n",
       "      <td>0</td>\n",
       "      <td>0</td>\n",
       "      <td>1</td>\n",
       "      <td>0</td>\n",
       "      <td>0</td>\n",
       "      <td>0</td>\n",
       "      <td>0</td>\n",
       "      <td>0</td>\n",
       "      <td>0</td>\n",
       "    </tr>\n",
       "    <tr>\n",
       "      <th>21</th>\n",
       "      <td>B70iTJjcPkuYn8ouUewWgw</td>\n",
       "      <td>Gusto 101</td>\n",
       "      <td>101 Portland Street</td>\n",
       "      <td>toronto</td>\n",
       "      <td>ON</td>\n",
       "      <td>M5V 2N3</td>\n",
       "      <td>43.645002</td>\n",
       "      <td>-79.400309</td>\n",
       "      <td>4.0</td>\n",
       "      <td>956</td>\n",
       "      <td>...</td>\n",
       "      <td>1</td>\n",
       "      <td>0</td>\n",
       "      <td>30</td>\n",
       "      <td>63</td>\n",
       "      <td>75</td>\n",
       "      <td>75</td>\n",
       "      <td>27</td>\n",
       "      <td>48</td>\n",
       "      <td>19</td>\n",
       "      <td>1</td>\n",
       "    </tr>\n",
       "    <tr>\n",
       "      <th>70</th>\n",
       "      <td>mVVoK2ADlKbvwitSqFY2hw</td>\n",
       "      <td>Pantry Foods</td>\n",
       "      <td>3456 Bathurst Street</td>\n",
       "      <td>toronto</td>\n",
       "      <td>ON</td>\n",
       "      <td>M6A 2C3</td>\n",
       "      <td>43.728130</td>\n",
       "      <td>-79.432020</td>\n",
       "      <td>4.0</td>\n",
       "      <td>20</td>\n",
       "      <td>...</td>\n",
       "      <td>0</td>\n",
       "      <td>0</td>\n",
       "      <td>5</td>\n",
       "      <td>2</td>\n",
       "      <td>1</td>\n",
       "      <td>1</td>\n",
       "      <td>3</td>\n",
       "      <td>3</td>\n",
       "      <td>64</td>\n",
       "      <td>2</td>\n",
       "    </tr>\n",
       "  </tbody>\n",
       "</table>\n",
       "<p>3 rows × 45 columns</p>\n",
       "</div>"
      ],
      "text/plain": [
       "               business_id         name_x               address     city  \\\n",
       "0   g6AFW-zY0wDvBl9U82g4zg  Baretto Caffe   1262 Don Mills Road  toronto   \n",
       "21  B70iTJjcPkuYn8ouUewWgw      Gusto 101   101 Portland Street  toronto   \n",
       "70  mVVoK2ADlKbvwitSqFY2hw   Pantry Foods  3456 Bathurst Street  toronto   \n",
       "\n",
       "   state postal_code   latitude  longitude  stars_business_avg  \\\n",
       "0     ON     M3B 2W7  43.744703 -79.346468                 5.0   \n",
       "21    ON     M5V 2N3  43.645002 -79.400309                 4.0   \n",
       "70    ON     M6A 2C3  43.728130 -79.432020                 4.0   \n",
       "\n",
       "    review_count_x  ...  compliment_cute compliment_list compliment_note  \\\n",
       "0              317  ...                0               0               0   \n",
       "21             956  ...                1               0              30   \n",
       "70              20  ...                0               0               5   \n",
       "\n",
       "   compliment_plain compliment_cool compliment_funny  compliment_writer  \\\n",
       "0                 1               0                0                  0   \n",
       "21               63              75               75                 27   \n",
       "70                2               1                1                  3   \n",
       "\n",
       "    compliment_photos  business_id_refined  user_id_refined  \n",
       "0                   0                    0                0  \n",
       "21                 48                   19                1  \n",
       "70                  3                   64                2  \n",
       "\n",
       "[3 rows x 45 columns]"
      ]
     },
     "execution_count": 18,
     "metadata": {},
     "output_type": "execute_result"
    }
   ],
   "source": [
    "test_data = test_data.droplevel(0)\n",
    "test_data.head(3)"
   ]
  },
  {
   "cell_type": "code",
   "execution_count": 19,
   "metadata": {},
   "outputs": [
    {
     "data": {
      "text/plain": [
       "array([[   0,    0],\n",
       "       [   1,   19],\n",
       "       [   2,   64],\n",
       "       ...,\n",
       "       [7902, 1841],\n",
       "       [7903,  930],\n",
       "       [7904, 2265]])"
      ]
     },
     "execution_count": 19,
     "metadata": {},
     "output_type": "execute_result"
    }
   ],
   "source": [
    "X_test = np.array(test_data[['user_id_refined', 'business_id_refined']].values.tolist())\n",
    "X_test"
   ]
  },
  {
   "cell_type": "code",
   "execution_count": 20,
   "metadata": {},
   "outputs": [
    {
     "data": {
      "text/plain": [
       "array([1. , 0.6, 1. , ..., 0.8, 0.2, 0.2])"
      ]
     },
     "execution_count": 20,
     "metadata": {},
     "output_type": "execute_result"
    }
   ],
   "source": [
    "y_test = np.array(test_data['stars']) / 5.0\n",
    "y_test"
   ]
  },
  {
   "cell_type": "code",
   "execution_count": 21,
   "metadata": {},
   "outputs": [
    {
     "data": {
      "text/plain": [
       "True"
      ]
     },
     "execution_count": 21,
     "metadata": {},
     "output_type": "execute_result"
    }
   ],
   "source": [
    "len(y_test) == len(X_test)"
   ]
  },
  {
   "cell_type": "code",
   "execution_count": 22,
   "metadata": {},
   "outputs": [
    {
     "data": {
      "text/html": [
       "<div>\n",
       "<style scoped>\n",
       "    .dataframe tbody tr th:only-of-type {\n",
       "        vertical-align: middle;\n",
       "    }\n",
       "\n",
       "    .dataframe tbody tr th {\n",
       "        vertical-align: top;\n",
       "    }\n",
       "\n",
       "    .dataframe thead th {\n",
       "        text-align: right;\n",
       "    }\n",
       "</style>\n",
       "<table border=\"1\" class=\"dataframe\">\n",
       "  <thead>\n",
       "    <tr style=\"text-align: right;\">\n",
       "      <th></th>\n",
       "      <th>rating_1.0</th>\n",
       "      <th>rating_2.0</th>\n",
       "      <th>rating_3.0</th>\n",
       "      <th>rating_4.0</th>\n",
       "      <th>rating_5.0</th>\n",
       "    </tr>\n",
       "  </thead>\n",
       "  <tbody>\n",
       "    <tr>\n",
       "      <th>0</th>\n",
       "      <td>0</td>\n",
       "      <td>0</td>\n",
       "      <td>0</td>\n",
       "      <td>0</td>\n",
       "      <td>1</td>\n",
       "    </tr>\n",
       "    <tr>\n",
       "      <th>1</th>\n",
       "      <td>0</td>\n",
       "      <td>0</td>\n",
       "      <td>1</td>\n",
       "      <td>0</td>\n",
       "      <td>0</td>\n",
       "    </tr>\n",
       "    <tr>\n",
       "      <th>2</th>\n",
       "      <td>0</td>\n",
       "      <td>0</td>\n",
       "      <td>0</td>\n",
       "      <td>0</td>\n",
       "      <td>1</td>\n",
       "    </tr>\n",
       "    <tr>\n",
       "      <th>3</th>\n",
       "      <td>0</td>\n",
       "      <td>0</td>\n",
       "      <td>0</td>\n",
       "      <td>1</td>\n",
       "      <td>0</td>\n",
       "    </tr>\n",
       "    <tr>\n",
       "      <th>4</th>\n",
       "      <td>0</td>\n",
       "      <td>0</td>\n",
       "      <td>0</td>\n",
       "      <td>1</td>\n",
       "      <td>0</td>\n",
       "    </tr>\n",
       "  </tbody>\n",
       "</table>\n",
       "</div>"
      ],
      "text/plain": [
       "   rating_1.0  rating_2.0  rating_3.0  rating_4.0  rating_5.0\n",
       "0           0           0           0           0           1\n",
       "1           0           0           1           0           0\n",
       "2           0           0           0           0           1\n",
       "3           0           0           0           1           0\n",
       "4           0           0           0           1           0"
      ]
     },
     "execution_count": 22,
     "metadata": {},
     "output_type": "execute_result"
    }
   ],
   "source": [
    "y_test_one_hot = pd.get_dummies(pd.DataFrame({'rating': list(map(lambda x: str(x), y_test * 5.0))}))\n",
    "y_test_one_hot.head(5)"
   ]
  },
  {
   "cell_type": "code",
   "execution_count": 23,
   "metadata": {},
   "outputs": [
    {
     "data": {
      "text/plain": [
       "True"
      ]
     },
     "execution_count": 23,
     "metadata": {},
     "output_type": "execute_result"
    }
   ],
   "source": [
    "len(y_test_one_hot) == len(y_test)"
   ]
  },
  {
   "cell_type": "markdown",
   "metadata": {},
   "source": [
    "### Negative Instances:"
   ]
  },
  {
   "cell_type": "raw",
   "metadata": {},
   "source": [
    "allRatings = dataset_to_use[['user_id_refined', 'business_id_refined']].values.tolist()\n",
    "allRatings_set = set(tuple(x) for x in allRatings) # set of all interactions observed in the data (user_id, business_id)\n",
    "len(allRatings_set)"
   ]
  },
  {
   "cell_type": "raw",
   "metadata": {},
   "source": [
    "allRatings_set"
   ]
  },
  {
   "cell_type": "raw",
   "metadata": {},
   "source": [
    "num_users = len(testRatings)\n",
    "num_negatives = 99\n",
    "np.random.seed(123)\n",
    "num_items = dataset_to_use.business_id_refined.nunique()\n",
    "testNegatives = []\n",
    "\n",
    "for u in range(num_users):\n",
    "    temp = [] # stores negative instances for this particular user\n",
    "    \n",
    "    # generate negative instances for testing\n",
    "    for t in range(num_negatives):\n",
    "        j = np.random.randint(num_items)\n",
    "        \n",
    "        # check if (u, j) exists in the dataset (i.e. does their interaction exist?)\n",
    "        while (u, j) in allRatings_set:\n",
    "            j = np.random.randint(num_items)\n",
    "        \n",
    "        temp.append(j)\n",
    "    \n",
    "    testNegatives.append(temp)\n",
    "    \n",
    "len(testNegatives)"
   ]
  },
  {
   "cell_type": "raw",
   "metadata": {
    "scrolled": true
   },
   "source": [
    "len(testNegatives[0]), testNegatives[0]"
   ]
  },
  {
   "cell_type": "markdown",
   "metadata": {},
   "source": [
    "## Train Data:"
   ]
  },
  {
   "cell_type": "code",
   "execution_count": 24,
   "metadata": {},
   "outputs": [],
   "source": [
    "# Save all visits to a restaurant except the last one as the train data\n",
    "def all_values_except_last(df):\n",
    "    return df.iloc[:-1]"
   ]
  },
  {
   "cell_type": "code",
   "execution_count": 25,
   "metadata": {},
   "outputs": [],
   "source": [
    "train_data = dataset_to_use.groupby('user_id_refined').apply(all_values_except_last)"
   ]
  },
  {
   "cell_type": "code",
   "execution_count": 26,
   "metadata": {},
   "outputs": [
    {
     "data": {
      "text/html": [
       "<div>\n",
       "<style scoped>\n",
       "    .dataframe tbody tr th:only-of-type {\n",
       "        vertical-align: middle;\n",
       "    }\n",
       "\n",
       "    .dataframe tbody tr th {\n",
       "        vertical-align: top;\n",
       "    }\n",
       "\n",
       "    .dataframe thead th {\n",
       "        text-align: right;\n",
       "    }\n",
       "</style>\n",
       "<table border=\"1\" class=\"dataframe\">\n",
       "  <thead>\n",
       "    <tr style=\"text-align: right;\">\n",
       "      <th></th>\n",
       "      <th>business_id</th>\n",
       "      <th>name_x</th>\n",
       "      <th>address</th>\n",
       "      <th>city</th>\n",
       "      <th>state</th>\n",
       "      <th>postal_code</th>\n",
       "      <th>latitude</th>\n",
       "      <th>longitude</th>\n",
       "      <th>stars_business_avg</th>\n",
       "      <th>review_count_x</th>\n",
       "      <th>...</th>\n",
       "      <th>compliment_cute</th>\n",
       "      <th>compliment_list</th>\n",
       "      <th>compliment_note</th>\n",
       "      <th>compliment_plain</th>\n",
       "      <th>compliment_cool</th>\n",
       "      <th>compliment_funny</th>\n",
       "      <th>compliment_writer</th>\n",
       "      <th>compliment_photos</th>\n",
       "      <th>business_id_refined</th>\n",
       "      <th>user_id_refined</th>\n",
       "    </tr>\n",
       "  </thead>\n",
       "  <tbody>\n",
       "    <tr>\n",
       "      <th>12</th>\n",
       "      <td>e49eXgKVuR-lsL0-D4vzDw</td>\n",
       "      <td>Momiji</td>\n",
       "      <td>2111 Sheppard Avenue E</td>\n",
       "      <td>toronto</td>\n",
       "      <td>ON</td>\n",
       "      <td>M2J 1W6</td>\n",
       "      <td>43.775377</td>\n",
       "      <td>-79.333972</td>\n",
       "      <td>3.0</td>\n",
       "      <td>22</td>\n",
       "      <td>...</td>\n",
       "      <td>0</td>\n",
       "      <td>0</td>\n",
       "      <td>0</td>\n",
       "      <td>1</td>\n",
       "      <td>0</td>\n",
       "      <td>0</td>\n",
       "      <td>0</td>\n",
       "      <td>0</td>\n",
       "      <td>12</td>\n",
       "      <td>0</td>\n",
       "    </tr>\n",
       "    <tr>\n",
       "      <th>10</th>\n",
       "      <td>ik9VvawL-BeAqlxTI1leew</td>\n",
       "      <td>Gonoe Sushi</td>\n",
       "      <td>1310 Don Mills Road</td>\n",
       "      <td>toronto</td>\n",
       "      <td>ON</td>\n",
       "      <td>M3B 2W6</td>\n",
       "      <td>43.745920</td>\n",
       "      <td>-79.346301</td>\n",
       "      <td>3.5</td>\n",
       "      <td>119</td>\n",
       "      <td>...</td>\n",
       "      <td>0</td>\n",
       "      <td>0</td>\n",
       "      <td>0</td>\n",
       "      <td>1</td>\n",
       "      <td>0</td>\n",
       "      <td>0</td>\n",
       "      <td>0</td>\n",
       "      <td>0</td>\n",
       "      <td>10</td>\n",
       "      <td>0</td>\n",
       "    </tr>\n",
       "    <tr>\n",
       "      <th>3</th>\n",
       "      <td>Nz44ccUso3nq5S2OlQHNlA</td>\n",
       "      <td>Mexico Lindo</td>\n",
       "      <td>2600 Birchmount Road, Suite 2586</td>\n",
       "      <td>toronto</td>\n",
       "      <td>ON</td>\n",
       "      <td>M1T 2M5</td>\n",
       "      <td>43.789719</td>\n",
       "      <td>-79.302981</td>\n",
       "      <td>4.0</td>\n",
       "      <td>163</td>\n",
       "      <td>...</td>\n",
       "      <td>0</td>\n",
       "      <td>0</td>\n",
       "      <td>0</td>\n",
       "      <td>1</td>\n",
       "      <td>0</td>\n",
       "      <td>0</td>\n",
       "      <td>0</td>\n",
       "      <td>0</td>\n",
       "      <td>3</td>\n",
       "      <td>0</td>\n",
       "    </tr>\n",
       "  </tbody>\n",
       "</table>\n",
       "<p>3 rows × 45 columns</p>\n",
       "</div>"
      ],
      "text/plain": [
       "               business_id        name_x                           address  \\\n",
       "12  e49eXgKVuR-lsL0-D4vzDw        Momiji            2111 Sheppard Avenue E   \n",
       "10  ik9VvawL-BeAqlxTI1leew   Gonoe Sushi               1310 Don Mills Road   \n",
       "3   Nz44ccUso3nq5S2OlQHNlA  Mexico Lindo  2600 Birchmount Road, Suite 2586   \n",
       "\n",
       "       city state postal_code   latitude  longitude  stars_business_avg  \\\n",
       "12  toronto    ON     M2J 1W6  43.775377 -79.333972                 3.0   \n",
       "10  toronto    ON     M3B 2W6  43.745920 -79.346301                 3.5   \n",
       "3   toronto    ON     M1T 2M5  43.789719 -79.302981                 4.0   \n",
       "\n",
       "    review_count_x  ...  compliment_cute compliment_list compliment_note  \\\n",
       "12              22  ...                0               0               0   \n",
       "10             119  ...                0               0               0   \n",
       "3              163  ...                0               0               0   \n",
       "\n",
       "   compliment_plain compliment_cool compliment_funny  compliment_writer  \\\n",
       "12                1               0                0                  0   \n",
       "10                1               0                0                  0   \n",
       "3                 1               0                0                  0   \n",
       "\n",
       "    compliment_photos  business_id_refined  user_id_refined  \n",
       "12                  0                   12                0  \n",
       "10                  0                   10                0  \n",
       "3                   0                    3                0  \n",
       "\n",
       "[3 rows x 45 columns]"
      ]
     },
     "execution_count": 26,
     "metadata": {},
     "output_type": "execute_result"
    }
   ],
   "source": [
    "train_data = train_data.droplevel(0)\n",
    "train_data.head(3)"
   ]
  },
  {
   "cell_type": "code",
   "execution_count": 27,
   "metadata": {},
   "outputs": [
    {
     "data": {
      "text/plain": [
       "(219758, 7905, True)"
      ]
     },
     "execution_count": 27,
     "metadata": {},
     "output_type": "execute_result"
    }
   ],
   "source": [
    "len(train_data), len(test_data), len(train_data) + len(test_data) == len(dataset_to_use)"
   ]
  },
  {
   "cell_type": "code",
   "execution_count": 28,
   "metadata": {},
   "outputs": [
    {
     "data": {
      "text/plain": [
       "array([[   0,   12],\n",
       "       [   0,   10],\n",
       "       [   0,    3],\n",
       "       ...,\n",
       "       [7904, 8045],\n",
       "       [7904, 8480],\n",
       "       [7904, 6951]])"
      ]
     },
     "execution_count": 28,
     "metadata": {},
     "output_type": "execute_result"
    }
   ],
   "source": [
    "X_train = np.array(train_data[['user_id_refined', 'business_id_refined']].values.tolist())\n",
    "X_train"
   ]
  },
  {
   "cell_type": "code",
   "execution_count": 29,
   "metadata": {},
   "outputs": [
    {
     "data": {
      "text/plain": [
       "219758"
      ]
     },
     "execution_count": 29,
     "metadata": {},
     "output_type": "execute_result"
    }
   ],
   "source": [
    "len(X_train)"
   ]
  },
  {
   "cell_type": "code",
   "execution_count": 30,
   "metadata": {},
   "outputs": [
    {
     "data": {
      "text/plain": [
       "array([0.6, 0.6, 1. , ..., 0.6, 0.4, 0.2])"
      ]
     },
     "execution_count": 30,
     "metadata": {},
     "output_type": "execute_result"
    }
   ],
   "source": [
    "y_train = np.array(train_data['stars']) / 5.0\n",
    "y_train"
   ]
  },
  {
   "cell_type": "code",
   "execution_count": 31,
   "metadata": {},
   "outputs": [
    {
     "data": {
      "text/plain": [
       "True"
      ]
     },
     "execution_count": 31,
     "metadata": {},
     "output_type": "execute_result"
    }
   ],
   "source": [
    "len(y_train) == len(X_train)"
   ]
  },
  {
   "cell_type": "code",
   "execution_count": 32,
   "metadata": {},
   "outputs": [
    {
     "data": {
      "text/html": [
       "<div>\n",
       "<style scoped>\n",
       "    .dataframe tbody tr th:only-of-type {\n",
       "        vertical-align: middle;\n",
       "    }\n",
       "\n",
       "    .dataframe tbody tr th {\n",
       "        vertical-align: top;\n",
       "    }\n",
       "\n",
       "    .dataframe thead th {\n",
       "        text-align: right;\n",
       "    }\n",
       "</style>\n",
       "<table border=\"1\" class=\"dataframe\">\n",
       "  <thead>\n",
       "    <tr style=\"text-align: right;\">\n",
       "      <th></th>\n",
       "      <th>rating_1.0</th>\n",
       "      <th>rating_2.0</th>\n",
       "      <th>rating_3.0</th>\n",
       "      <th>rating_4.0</th>\n",
       "      <th>rating_5.0</th>\n",
       "    </tr>\n",
       "  </thead>\n",
       "  <tbody>\n",
       "    <tr>\n",
       "      <th>0</th>\n",
       "      <td>0</td>\n",
       "      <td>0</td>\n",
       "      <td>1</td>\n",
       "      <td>0</td>\n",
       "      <td>0</td>\n",
       "    </tr>\n",
       "    <tr>\n",
       "      <th>1</th>\n",
       "      <td>0</td>\n",
       "      <td>0</td>\n",
       "      <td>1</td>\n",
       "      <td>0</td>\n",
       "      <td>0</td>\n",
       "    </tr>\n",
       "    <tr>\n",
       "      <th>2</th>\n",
       "      <td>0</td>\n",
       "      <td>0</td>\n",
       "      <td>0</td>\n",
       "      <td>0</td>\n",
       "      <td>1</td>\n",
       "    </tr>\n",
       "    <tr>\n",
       "      <th>3</th>\n",
       "      <td>1</td>\n",
       "      <td>0</td>\n",
       "      <td>0</td>\n",
       "      <td>0</td>\n",
       "      <td>0</td>\n",
       "    </tr>\n",
       "    <tr>\n",
       "      <th>4</th>\n",
       "      <td>0</td>\n",
       "      <td>0</td>\n",
       "      <td>0</td>\n",
       "      <td>1</td>\n",
       "      <td>0</td>\n",
       "    </tr>\n",
       "  </tbody>\n",
       "</table>\n",
       "</div>"
      ],
      "text/plain": [
       "   rating_1.0  rating_2.0  rating_3.0  rating_4.0  rating_5.0\n",
       "0           0           0           1           0           0\n",
       "1           0           0           1           0           0\n",
       "2           0           0           0           0           1\n",
       "3           1           0           0           0           0\n",
       "4           0           0           0           1           0"
      ]
     },
     "execution_count": 32,
     "metadata": {},
     "output_type": "execute_result"
    }
   ],
   "source": [
    "y_train_one_hot = pd.get_dummies(pd.DataFrame({'rating': list(map(lambda x: str(x), y_train * 5.0))}))\n",
    "y_train_one_hot.head(5)"
   ]
  },
  {
   "cell_type": "code",
   "execution_count": 33,
   "metadata": {},
   "outputs": [
    {
     "data": {
      "text/plain": [
       "True"
      ]
     },
     "execution_count": 33,
     "metadata": {},
     "output_type": "execute_result"
    }
   ],
   "source": [
    "len(y_train_one_hot) == len(y_train)"
   ]
  },
  {
   "cell_type": "raw",
   "metadata": {},
   "source": [
    "import scipy as sp\n",
    "# Create a scipy dok matrix of user-item interaction to serve as input\n",
    "train_data = sp.sparse.dok_matrix((dataset_to_use.user_id.nunique(), dataset_to_use.business_id.nunique()),\\\n",
    "                                  dtype = np.float32)\n",
    "# key is (user_id, business_id) and value is rating\n",
    "\n",
    "X_test_set = set(tuple(x) for x in X_test)\n",
    "\n",
    "for i in range(len(dataset_to_use)):\n",
    "    user, business = dataset_to_use.user_id_refined.iloc[i], dataset_to_use.business_id_refined.iloc[i]\n",
    "    \n",
    "    # check if the given pair of user and business is already a part of 'test' set (skip if already a part)\n",
    "    if (user, business) not in X_test_set:\n",
    "        train_data[user, business] = \\\n",
    "        dataset_to_use.query('user_id_refined==@user and business_id_refined==@business').stars/5.0 # normalized star value\n",
    "        \n",
    "#Insights into the dataset:\n",
    "print(\"#user=%d, #item=%d, #train=%d, #test=%d\" \n",
    "     %(num_users, num_items, train_data.nnz, len(testRatings)))"
   ]
  },
  {
   "cell_type": "code",
   "execution_count": null,
   "metadata": {},
   "outputs": [],
   "source": []
  },
  {
   "cell_type": "markdown",
   "metadata": {},
   "source": [
    "# (1) GMF Implementation:"
   ]
  },
  {
   "cell_type": "code",
   "execution_count": 34,
   "metadata": {},
   "outputs": [
    {
     "name": "stdout",
     "output_type": "stream",
     "text": [
      "GMF arguments: Namespace(batch_size=256, dataset='Toronto', epochs=20, learner='adam', lr=0.001, num_factors=8, out=1, path='Data/', regs='[0,0]', verbose=1)\n"
     ]
    }
   ],
   "source": [
    "#################### Arguments ####################\n",
    "def parse_args():\n",
    "    parser = argparse.ArgumentParser(description=\"Run GMF.\")\n",
    "    \n",
    "    parser.add_argument('--path', nargs='?', default='Data/',\n",
    "                        help='Input data path.')\n",
    "    parser.add_argument('--dataset', nargs='?', default='ml-1m',\n",
    "                        help='Choose a dataset.')\n",
    "    parser.add_argument('--epochs', type=int, default=100,\n",
    "                        help='Number of epochs.')\n",
    "    parser.add_argument('--batch_size', type=int, default=256,\n",
    "                        help='Batch size.')\n",
    "    parser.add_argument('--num_factors', type=int, default=8,\n",
    "                        help='Embedding size.')\n",
    "    parser.add_argument('--regs', nargs='?', default='[0,0]',\n",
    "                        help=\"Regularization for user and item embeddings.\")\n",
    "    parser.add_argument('--lr', type=float, default=0.001,\n",
    "                        help='Learning rate.')\n",
    "    parser.add_argument('--learner', nargs='?', default='adam',\n",
    "                        help='Specify an optimizer: adagrad, adam, rmsprop, sgd')\n",
    "    parser.add_argument('--verbose', type=int, default=1,\n",
    "                        help='Show performance per X iterations')\n",
    "    parser.add_argument('--out', type=int, default=1,\n",
    "                        help='Whether to save the trained model.')\n",
    "    return parser.parse_args()\n",
    "\n",
    "def get_gmf_model(num_users, num_items, latent_dim, regs = [0,0]):\n",
    "    # Input variables\n",
    "    user_input = Input(shape=(1,), dtype='int32', name = 'user_input')\n",
    "    item_input = Input(shape=(1,), dtype='int32', name = 'item_input')\n",
    "\n",
    "    MF_Embedding_User = Embedding(input_dim = num_users, output_dim = latent_dim, name = 'user_embedding',\n",
    "                                  embeddings_initializer='ones', embeddings_regularizer = l2(regs[0]),\n",
    "                                  input_length=1)\n",
    "    MF_Embedding_Item = Embedding(input_dim = num_items, output_dim = latent_dim, name = 'item_embedding',\n",
    "                                  embeddings_initializer='ones', embeddings_regularizer = l2(regs[1]),\n",
    "                                  input_length=1)\n",
    "    \n",
    "    # Crucial to flatten an embedding vector!\n",
    "    user_latent = Flatten()(MF_Embedding_User(user_input))\n",
    "    item_latent = Flatten()(MF_Embedding_Item(item_input))\n",
    "    \n",
    "    # Element-wise product of user and item embeddings \n",
    "    predict_vector = Multiply()([user_latent, item_latent])\n",
    "    \n",
    "    # Final prediction layer\n",
    "    prediction = Dense(1, activation='sigmoid', name = 'prediction')(predict_vector)#kernel_initializer='lecun_ones', \n",
    "    \n",
    "    model = Model(inputs = [user_input, item_input], outputs = prediction)\n",
    "\n",
    "    return model\n",
    "\n",
    "def get_train_instances(train, labelRatings):\n",
    "    user_input, item_input, labels = [],[],[]\n",
    "    \n",
    "    for i in range(len(train)):\n",
    "        # positive instance\n",
    "        user_input.append(train[i][0])\n",
    "        item_input.append(train[i][1])\n",
    "        labels.append(labelRatings[i])\n",
    "\n",
    "    return user_input, item_input, labels\n",
    "\n",
    "sys.argv = ['GMF.py','--dataset','Toronto','--epochs','20','--batch_size','256','--num_factors','8',\n",
    "'--regs','[0,0]', '--lr','0.001','--learner','adam','--verbose','1','--out','1']\n",
    "\n",
    "args = parse_args()\n",
    "num_factors = args.num_factors\n",
    "regs = eval(args.regs)\n",
    "learner = args.learner\n",
    "learning_rate = args.lr\n",
    "num_epochs = args.epochs\n",
    "batch_size = args.batch_size\n",
    "verbose = args.verbose\n",
    "\n",
    "evaluation_threads = 1 #mp.cpu_count()\n",
    "print(\"GMF arguments: %s\" %(args))"
   ]
  },
  {
   "cell_type": "code",
   "execution_count": 35,
   "metadata": {},
   "outputs": [],
   "source": [
    "num_users = dataset_to_use.user_id.nunique()\n",
    "num_items = dataset_to_use.business_id.nunique()"
   ]
  },
  {
   "cell_type": "code",
   "execution_count": 36,
   "metadata": {},
   "outputs": [
    {
     "name": "stdout",
     "output_type": "stream",
     "text": [
      "Initial: Test RMSE = 1.3179, Test R2 = -0.0524\n"
     ]
    }
   ],
   "source": [
    "# Build model\n",
    "model = get_gmf_model(num_users, num_items, num_factors, regs)\n",
    "\n",
    "if learner.lower() == \"adagrad\": \n",
    "    model.compile(optimizer=Adagrad(lr=learning_rate), loss='mse')\n",
    "elif learner.lower() == \"rmsprop\":\n",
    "    model.compile(optimizer=RMSprop(lr=learning_rate), loss='mse')\n",
    "elif learner.lower() == \"adam\":\n",
    "    model.compile(optimizer=Adam(lr=learning_rate), loss='mse')\n",
    "else:\n",
    "    model.compile(optimizer=SGD(lr=learning_rate), loss='mse')\n",
    "\n",
    "# Initial performance\n",
    "(mse, r2) = evaluate_rate_model(model, X_test, y_test, evaluation_threads)\n",
    "print('Initial: Test RMSE = %.4f, Test R2 = %.4f' % (np.sqrt(mse), r2))"
   ]
  },
  {
   "cell_type": "code",
   "execution_count": 37,
   "metadata": {},
   "outputs": [
    {
     "name": "stderr",
     "output_type": "stream",
     "text": [
      "C:\\ProgramData\\Anaconda3\\envs\\cs_412\\lib\\site-packages\\tensorflow\\python\\framework\\indexed_slices.py:432: UserWarning: Converting sparse IndexedSlices to a dense Tensor of unknown shape. This may consume a large amount of memory.\n",
      "  warnings.warn(\n"
     ]
    },
    {
     "name": "stdout",
     "output_type": "stream",
     "text": [
      "Epoch 1 [1.7 s]: Test RMSE = 1.1990, Test R2 = 0.1289, Train Loss = 0.2255 [0.1 s]\n",
      "Epoch 2 [1.1 s]: Test RMSE = 1.1603, Test R2 = 0.1842, Train Loss = 0.1929 [0.1 s]\n",
      "Epoch 3 [1.2 s]: Test RMSE = 1.1524, Test R2 = 0.1953, Train Loss = 0.1823 [0.0 s]\n",
      "Epoch 4 [1.1 s]: Test RMSE = 1.1524, Test R2 = 0.1953, Train Loss = 0.1785 [0.0 s]\n",
      "Epoch 5 [1.1 s]: Test RMSE = 1.1524, Test R2 = 0.1953, Train Loss = 0.1768 [0.1 s]\n",
      "Epoch 6 [1.2 s]: Test RMSE = 1.1517, Test R2 = 0.1963, Train Loss = 0.1756 [0.0 s]\n",
      "Epoch 7 [1.3 s]: Test RMSE = 1.1515, Test R2 = 0.1966, Train Loss = 0.1749 [0.1 s]\n",
      "Epoch 8 [1.1 s]: Test RMSE = 1.1531, Test R2 = 0.1942, Train Loss = 0.1743 [0.0 s]\n",
      "Epoch 9 [1.1 s]: Test RMSE = 1.1532, Test R2 = 0.1941, Train Loss = 0.1739 [0.1 s]\n",
      "Epoch 10 [1.1 s]: Test RMSE = 1.1552, Test R2 = 0.1914, Train Loss = 0.1735 [0.0 s]\n",
      "Epoch 11 [1.1 s]: Test RMSE = 1.1549, Test R2 = 0.1917, Train Loss = 0.1731 [0.1 s]\n",
      "Epoch 12 [1.2 s]: Test RMSE = 1.1548, Test R2 = 0.1919, Train Loss = 0.1727 [0.0 s]\n",
      "Epoch 13 [1.3 s]: Test RMSE = 1.1556, Test R2 = 0.1908, Train Loss = 0.1724 [0.1 s]\n",
      "Epoch 14 [1.2 s]: Test RMSE = 1.1559, Test R2 = 0.1904, Train Loss = 0.1721 [0.1 s]\n",
      "Epoch 15 [1.1 s]: Test RMSE = 1.1563, Test R2 = 0.1898, Train Loss = 0.1718 [0.1 s]\n",
      "Epoch 16 [1.1 s]: Test RMSE = 1.1560, Test R2 = 0.1902, Train Loss = 0.1715 [0.1 s]\n",
      "Epoch 17 [1.1 s]: Test RMSE = 1.1595, Test R2 = 0.1853, Train Loss = 0.1712 [0.1 s]\n",
      "Epoch 18 [1.1 s]: Test RMSE = 1.1574, Test R2 = 0.1882, Train Loss = 0.1709 [0.1 s]\n",
      "Epoch 19 [1.0 s]: Test RMSE = 1.1579, Test R2 = 0.1875, Train Loss = 0.1707 [0.1 s]\n",
      "Epoch 20 [1.1 s]: Test RMSE = 1.1579, Test R2 = 0.1875, Train Loss = 0.1704 [0.1 s]\n",
      "End. Best Epoch 7:  RMSE = 1.1515, R2 = 0.1966. \n",
      "The best GMF model is saved\n"
     ]
    }
   ],
   "source": [
    "# Training and testing model\n",
    "\n",
    "current_folder = os.getcwd()\n",
    "model_out_file_gmf = current_folder + '\\Pretrain\\%s_GMF_%d_%d.h5' %(args.dataset, num_factors, time())\n",
    "\n",
    "train_loss = []\n",
    "test_rmse, test_r2 = [], []\n",
    "best_mse = float('inf')\n",
    "\n",
    "for epoch in range(num_epochs):\n",
    "    t1 = time()\n",
    "    \n",
    "    # Generate training instances\n",
    "    user_input, item_input, labels = get_train_instances(X_train, y_train)\n",
    "    \n",
    "    # Training\n",
    "    history = model.fit([np.array(user_input), np.array(item_input)], #input\n",
    "                     np.array(labels), # labels\n",
    "                     batch_size = batch_size, epochs = 1, verbose = 0, shuffle = True, validation_split = 0.01)\n",
    "\n",
    "    train_loss.append(history.history['loss'][0] * 5)\n",
    "    \n",
    "    t2 = time()\n",
    "\n",
    "    # Evaluation\n",
    "    if epoch % verbose == 0:\n",
    "        (mse, r2) = evaluate_rate_model(model, X_test, y_test, evaluation_threads)\n",
    "        \n",
    "        test_rmse.append(np.sqrt(mse))\n",
    "        test_r2.append(r2)\n",
    "        \n",
    "        print('Epoch %d [%.1f s]: Test RMSE = %.4f, Test R2 = %.4f, Train Loss = %.4f [%.1f s]' \n",
    "              % (epoch + 1,  t2 - t1, test_rmse[-1], test_r2[-1], train_loss[-1], time() - t2))\n",
    "        \n",
    "        if mse < best_mse:\n",
    "            best_mse, best_r2, best_iter = mse, r2, epoch + 1\n",
    "            if args.out > 0:\n",
    "                model.save_weights(model_out_file_gmf, overwrite = True)\n",
    "\n",
    "print(\"End. Best Epoch %d:  RMSE = %.4f, R2 = %.4f. \" %(best_iter, np.sqrt(best_mse), best_r2))\n",
    "if args.out > 0:\n",
    "    print(\"The best GMF model is saved\")"
   ]
  },
  {
   "cell_type": "code",
   "execution_count": 38,
   "metadata": {},
   "outputs": [
    {
     "data": {
      "image/png": "[encoded data removed]",
      "text/plain": [
       "<Figure size 432x288 with 1 Axes>"
      ]
     },
     "metadata": {},
     "output_type": "display_data"
    }
   ],
   "source": [
    "plt.plot(test_rmse, '*-', label = 'test_rmse')\n",
    "plt.plot(train_loss, '--', label = 'train_rmse')\n",
    "plt.legend()\n",
    "plt.xlabel('Epoch')\n",
    "plt.ylabel('RMSE')\n",
    "plt.show()"
   ]
  },
  {
   "cell_type": "markdown",
   "metadata": {},
   "source": [
    "# (2) MLP Implementation:"
   ]
  },
  {
   "cell_type": "code",
   "execution_count": 39,
   "metadata": {},
   "outputs": [
    {
     "name": "stdout",
     "output_type": "stream",
     "text": [
      "MLP arguments: Namespace(batch_size=256, dataset='Toronto', epochs=15, layers='[64,32,16,8]', learner='adam', lr=0.001, out=1, path='Data/', reg_layers='[0,0,0,0]', verbose=1)\n"
     ]
    }
   ],
   "source": [
    "def parse_args():\n",
    "    parser = argparse.ArgumentParser(description=\"Run MLP.\")\n",
    "    parser.add_argument('--path', nargs='?', default='Data/',\n",
    "                        help='Input data path.')\n",
    "    parser.add_argument('--dataset', nargs='?', default='ml-1m',\n",
    "                        help='Choose a dataset.')\n",
    "    parser.add_argument('--epochs', type=int, default=100,\n",
    "                        help='Number of epochs.')\n",
    "    parser.add_argument('--batch_size', type=int, default=256,\n",
    "                        help='Batch size.')\n",
    "    parser.add_argument('--layers', nargs='?', default='[64,32,16,8]',\n",
    "                        help=\"Size of each layer. Note that the first layer is the concatenation of user and item embeddings. So layers[0]/2 is the embedding size.\")\n",
    "    parser.add_argument('--reg_layers', nargs='?', default='[0,0,0,0]',\n",
    "                        help=\"Regularization for each layer\")\n",
    "    parser.add_argument('--lr', type=float, default=0.001,\n",
    "                        help='Learning rate.')\n",
    "    parser.add_argument('--learner', nargs='?', default='adam',\n",
    "                        help='Specify an optimizer: adagrad, adam, rmsprop, sgd')\n",
    "    parser.add_argument('--verbose', type=int, default=1,\n",
    "                        help='Show performance per X iterations')\n",
    "    parser.add_argument('--out', type=int, default=1,\n",
    "                        help='Whether to save the trained model.')\n",
    "    return parser.parse_args()\n",
    "\n",
    "sys.argv = ['MLP.py','--dataset','Toronto','--epochs','15','--batch_size','256','--layers','[64,32,16,8]',\n",
    "'--reg_layers','[0,0,0,0]', '--lr','0.001','--learner','adam','--verbose','1','--out','1']\n",
    "\n",
    "args = parse_args()\n",
    "dataset = args.dataset\n",
    "layers = eval(args.layers)\n",
    "reg_layers = eval(args.reg_layers)\n",
    "learner = args.learner\n",
    "learning_rate = args.lr\n",
    "batch_size = args.batch_size\n",
    "num_epochs = args.epochs\n",
    "verbose = args.verbose\n",
    "evaluation_threads = 1 # mp.cpu_count()\n",
    "\n",
    "print(\"MLP arguments: %s\" %(args))"
   ]
  },
  {
   "cell_type": "code",
   "execution_count": 40,
   "metadata": {},
   "outputs": [],
   "source": [
    "def get_mlp_model(num_users, num_items, layers = [20,10], reg_layers=[0,0]):\n",
    "    assert len(layers) == len(reg_layers)\n",
    "    num_layer = len(layers) #Number of layers in the MLP\n",
    "    # Input variables\n",
    "    user_input = Input(shape=(1,), dtype='int32', name = 'user_input')\n",
    "    item_input = Input(shape=(1,), dtype='int32', name = 'item_input')\n",
    "\n",
    "    MLP_Embedding_User = Embedding(input_dim = num_users, output_dim = int(layers[0] / 2), name = 'user_embedding',\n",
    "                                   embeddings_initializer='ones', embeddings_regularizer = l2(reg_layers[0]),\n",
    "                                   input_length=1)\n",
    "    MLP_Embedding_Item = Embedding(input_dim = num_items, output_dim = int(layers[0] / 2), name = 'item_embedding',\n",
    "                                   embeddings_initializer='ones', embeddings_regularizer = l2(reg_layers[0]),\n",
    "                                   input_length=1)\n",
    "    \n",
    "    # Crucial to flatten an embedding vector!\n",
    "    user_latent = Flatten()(MLP_Embedding_User(user_input))\n",
    "    item_latent = Flatten()(MLP_Embedding_Item(item_input))\n",
    "    \n",
    "    # The 0-th layer is the concatenation of embedding layers\n",
    "    vector = Concatenate()([user_latent, item_latent])\n",
    "    \n",
    "    # MLP layers\n",
    "    for idx in range(1, num_layer):\n",
    "        layer = Dense(layers[idx], kernel_regularizer = l2(reg_layers[idx]), activation='relu', name = 'layer%d' %idx)\n",
    "        vector = layer(vector)\n",
    "        \n",
    "    # Final prediction layer\n",
    "    prediction = Dense(1, activation='sigmoid',name = 'prediction')(vector) #  kernel_initializer='lecun_ones', \n",
    "    \n",
    "    model = Model(inputs = [user_input, item_input], outputs = prediction)\n",
    "    \n",
    "    return model"
   ]
  },
  {
   "cell_type": "code",
   "execution_count": 41,
   "metadata": {},
   "outputs": [
    {
     "name": "stdout",
     "output_type": "stream",
     "text": [
      "Initial: Test RMSE = 1.3669, Test R2 = -0.1322\n"
     ]
    }
   ],
   "source": [
    "# Build model\n",
    "model = get_mlp_model(num_users, num_items, layers, reg_layers)\n",
    "\n",
    "if learner.lower() == \"adagrad\": \n",
    "    model.compile(optimizer=Adagrad(lr=learning_rate), loss='mse')\n",
    "elif learner.lower() == \"rmsprop\":\n",
    "    model.compile(optimizer=RMSprop(lr=learning_rate), loss='mse')\n",
    "elif learner.lower() == \"adam\":\n",
    "    model.compile(optimizer=Adam(lr=learning_rate), loss='mse')\n",
    "else:\n",
    "    model.compile(optimizer=SGD(lr=learning_rate), loss='mse')\n",
    "\n",
    "# Initial performance\n",
    "(mse, r2) = evaluate_rate_model(model, X_test, y_test, evaluation_threads)\n",
    "print('Initial: Test RMSE = %.4f, Test R2 = %.4f' % (np.sqrt(mse), r2))"
   ]
  },
  {
   "cell_type": "code",
   "execution_count": 42,
   "metadata": {
    "scrolled": true
   },
   "outputs": [
    {
     "name": "stderr",
     "output_type": "stream",
     "text": [
      "C:\\ProgramData\\Anaconda3\\envs\\cs_412\\lib\\site-packages\\tensorflow\\python\\framework\\indexed_slices.py:432: UserWarning: Converting sparse IndexedSlices to a dense Tensor of unknown shape. This may consume a large amount of memory.\n",
      "  warnings.warn(\n"
     ]
    },
    {
     "name": "stdout",
     "output_type": "stream",
     "text": [
      "Epoch 1 [3.2 s]: Test RMSE = 1.1661, Test R2 = 0.1761, Train Loss = 0.2093 [0.1 s]\n",
      "Epoch 2 [2.5 s]: Test RMSE = 1.1525, Test R2 = 0.1952, Train Loss = 0.1948 [0.1 s]\n",
      "Epoch 3 [2.4 s]: Test RMSE = 1.1508, Test R2 = 0.1975, Train Loss = 0.1916 [0.1 s]\n",
      "Epoch 4 [2.6 s]: Test RMSE = 1.1512, Test R2 = 0.1970, Train Loss = 0.1902 [0.1 s]\n",
      "Epoch 5 [3.0 s]: Test RMSE = 1.1610, Test R2 = 0.1832, Train Loss = 0.1893 [0.1 s]\n",
      "Epoch 6 [3.1 s]: Test RMSE = 1.1526, Test R2 = 0.1950, Train Loss = 0.1881 [0.1 s]\n",
      "Epoch 7 [3.0 s]: Test RMSE = 1.1522, Test R2 = 0.1955, Train Loss = 0.1865 [0.1 s]\n",
      "Epoch 8 [3.0 s]: Test RMSE = 1.1692, Test R2 = 0.1717, Train Loss = 0.1847 [0.1 s]\n",
      "Epoch 9 [2.6 s]: Test RMSE = 1.1659, Test R2 = 0.1763, Train Loss = 0.1830 [0.1 s]\n",
      "Epoch 10 [2.7 s]: Test RMSE = 1.1759, Test R2 = 0.1622, Train Loss = 0.1815 [0.1 s]\n",
      "Epoch 11 [2.9 s]: Test RMSE = 1.1891, Test R2 = 0.1432, Train Loss = 0.1797 [0.1 s]\n",
      "Epoch 12 [3.0 s]: Test RMSE = 1.1838, Test R2 = 0.1509, Train Loss = 0.1780 [0.1 s]\n",
      "Epoch 13 [3.1 s]: Test RMSE = 1.1926, Test R2 = 0.1382, Train Loss = 0.1760 [0.1 s]\n",
      "Epoch 14 [2.7 s]: Test RMSE = 1.2125, Test R2 = 0.1092, Train Loss = 0.1740 [0.1 s]\n",
      "Epoch 15 [2.6 s]: Test RMSE = 1.2115, Test R2 = 0.1106, Train Loss = 0.1715 [0.1 s]\n",
      "End. Best Epoch 3:  RMSE = 1.1508, R2 = 0.1975. \n",
      "The best MLP model is saved\n"
     ]
    }
   ],
   "source": [
    "# Training and testing model\n",
    "current_folder = os.getcwd()\n",
    "model_out_file_mlp = current_folder + '\\Pretrain\\%s_MLP_%d_%d.h5' %(args.dataset, num_factors, time())\n",
    "\n",
    "train_loss = []\n",
    "test_rmse, test_r2 = [], []\n",
    "best_mse = float('inf')\n",
    "\n",
    "for epoch in range(num_epochs):\n",
    "    t1 = time()\n",
    "    \n",
    "    # Generate training instances\n",
    "    user_input, item_input, labels = get_train_instances(X_train, y_train)\n",
    "    \n",
    "    # Training\n",
    "    history = model.fit([np.array(user_input), np.array(item_input)], #input\n",
    "                     np.array(y_train), # labels \n",
    "                     batch_size = batch_size, epochs = 1, verbose = 0, shuffle = True)\n",
    "\n",
    "    train_loss.append(np.sqrt(history.history['loss'][0]))\n",
    "    \n",
    "    t2 = time()\n",
    "\n",
    "    # Evaluation\n",
    "    if epoch % verbose == 0:\n",
    "        (mse, r2) = evaluate_rate_model(model, X_test, y_test, evaluation_threads)\n",
    "        \n",
    "        test_rmse.append(np.sqrt(mse))\n",
    "        test_r2.append(r2)\n",
    "        \n",
    "        print('Epoch %d [%.1f s]: Test RMSE = %.4f, Test R2 = %.4f, Train Loss = %.4f [%.1f s]' \n",
    "              % (epoch + 1,  t2 - t1, test_rmse[-1], test_r2[-1], train_loss[-1], time() - t2))\n",
    "        \n",
    "        if mse < best_mse:\n",
    "            best_mse, best_r2, best_iter = mse, r2, epoch + 1\n",
    "            if args.out > 0:\n",
    "                model.save_weights(model_out_file_mlp, overwrite = True)\n",
    "\n",
    "print(\"End. Best Epoch %d:  RMSE = %.4f, R2 = %.4f. \" %(best_iter, np.sqrt(best_mse), best_r2))\n",
    "if args.out > 0:\n",
    "    print(\"The best MLP model is saved\")"
   ]
  },
  {
   "cell_type": "code",
   "execution_count": 43,
   "metadata": {},
   "outputs": [
    {
     "data": {
      "image/png": "[encoded data removed]",
      "text/plain": [
       "<Figure size 432x288 with 1 Axes>"
      ]
     },
     "metadata": {},
     "output_type": "display_data"
    }
   ],
   "source": [
    "plt.plot(test_rmse, '*-', label = 'test_rmse')\n",
    "plt.plot(train_loss, '--', label = 'train_rmse')\n",
    "plt.legend()\n",
    "plt.xlabel('Epoch')\n",
    "plt.ylabel('RMSE')\n",
    "plt.show()"
   ]
  },
  {
   "cell_type": "markdown",
   "metadata": {},
   "source": [
    "# NCF Implementation:"
   ]
  },
  {
   "cell_type": "code",
   "execution_count": 44,
   "metadata": {},
   "outputs": [
    {
     "name": "stdout",
     "output_type": "stream",
     "text": [
      "NeuMF arguments: Namespace(batch_size=256, dataset='Toronto', epochs=15, layers='[64,32,16,8]', learner='adam', lr=0.001, mf_pretrain='C:\\\\Users\\\\somani4\\\\Documents\\\\GitHub\\\\CS_412_Akhilesh_Folder\\\\Baseline2\\\\Pretrain\\\\Toronto_GMF_8_1606406515.h5', mlp_pretrain='C:\\\\Users\\\\somani4\\\\Documents\\\\GitHub\\\\CS_412_Akhilesh_Folder\\\\Baseline2\\\\Pretrain\\\\Toronto_MLP_8_1606406540.h5', num_factors=8, out=1, path='Data/', reg_layers='[0,0,0,0]', reg_mf=0.0, verbose=1) \n"
     ]
    }
   ],
   "source": [
    "#################### Arguments ####################\n",
    "def parse_args():\n",
    "    parser = argparse.ArgumentParser(description=\"Run NeuMF.\")\n",
    "    \n",
    "    parser.add_argument('--path', nargs='?', default='Data/',\n",
    "                        help='Input data path.')\n",
    "    parser.add_argument('--dataset', nargs='?', default='ml-1m',\n",
    "                        help='Choose a dataset.')\n",
    "    parser.add_argument('--epochs', type=int, default=100,\n",
    "                        help='Number of epochs.')\n",
    "    parser.add_argument('--batch_size', type=int, default=256,\n",
    "                        help='Batch size.')\n",
    "    parser.add_argument('--num_factors', type=int, default=8,\n",
    "                        help='Embedding size of MF model.')\n",
    "    parser.add_argument('--layers', nargs='?', default='[64,32,16,8]',\n",
    "                        help=\"MLP layers. Note that the first layer is the concatenation of user and item embeddings. So layers[0]/2 is the embedding size.\")\n",
    "    parser.add_argument('--reg_mf', type=float, default=0,\n",
    "                        help='Regularization for MF embeddings.')                    \n",
    "    parser.add_argument('--reg_layers', nargs='?', default='[0,0,0,0]',\n",
    "                        help=\"Regularization for each MLP layer. reg_layers[0] is the regularization for embeddings.\")\n",
    "    parser.add_argument('--lr', type=float, default=0.001,\n",
    "                        help='Learning rate.')\n",
    "    parser.add_argument('--learner', nargs='?', default='adam',\n",
    "                        help='Specify an optimizer: adagrad, adam, rmsprop, sgd')\n",
    "    parser.add_argument('--verbose', type=int, default=1,\n",
    "                        help='Show performance per X iterations')\n",
    "    parser.add_argument('--out', type=int, default=1,\n",
    "                        help='Whether to save the trained model.')\n",
    "    parser.add_argument('--mf_pretrain', nargs='?', default='',\n",
    "                        help='Specify the pretrain model file for MF part. If empty, no pretrain will be used')\n",
    "    parser.add_argument('--mlp_pretrain', nargs='?', default='',\n",
    "                        help='Specify the pretrain model file for MLP part. If empty, no pretrain will be used')\n",
    "    return parser.parse_args()\n",
    "\n",
    "\n",
    "sys.argv = ['NeuMF.py','--dataset','Toronto','--epochs','15','--batch_size','256','--num_factors','8',\n",
    "'--layers','[64,32,16,8]','--reg_mf','0','--reg_layers','[0,0,0,0]',\n",
    "'--lr','0.001','--learner','adam','--verbose','1','--out','1',\n",
    "'--mf_pretrain', model_out_file_gmf, '--mlp_pretrain', model_out_file_mlp]\n",
    "\n",
    "args = parse_args()\n",
    "\n",
    "num_epochs = args.epochs\n",
    "batch_size = args.batch_size\n",
    "mf_dim = args.num_factors\n",
    "layers = eval(args.layers)\n",
    "reg_mf = args.reg_mf\n",
    "reg_layers = eval(args.reg_layers)\n",
    "learning_rate = args.lr\n",
    "learner = args.learner\n",
    "verbose = args.verbose\n",
    "mf_pretrain = args.mf_pretrain\n",
    "mlp_pretrain = args.mlp_pretrain\n",
    "\n",
    "evaluation_threads = -1 # mp.cpu_count()\n",
    "\n",
    "print(\"NeuMF arguments: %s \" %(args))"
   ]
  },
  {
   "cell_type": "code",
   "execution_count": 45,
   "metadata": {},
   "outputs": [],
   "source": [
    "def get_ncf_model(num_users, num_items, mf_dim=10, layers=[10], reg_layers=[0], reg_mf=0):\n",
    "    assert len(layers) == len(reg_layers)\n",
    "    num_layer = len(layers) #Number of layers in the MLP\n",
    "    \n",
    "    # Input variables\n",
    "    user_input = Input(shape=(1,), dtype='int32', name = 'user_input')\n",
    "    item_input = Input(shape=(1,), dtype='int32', name = 'item_input')\n",
    "    \n",
    "    print('Input layer: ', user_input.shape, user_input.dtype)\n",
    "    \n",
    "    # Embedding layer\n",
    "    MF_Embedding_User = Embedding(input_dim = num_users, output_dim = mf_dim, name = 'mf_embedding_user',\n",
    "                                  embeddings_initializer = 'ones', embeddings_regularizer = l2(reg_mf),\n",
    "                                  input_length=1)\n",
    "    MF_Embedding_Item = Embedding(input_dim = num_items, output_dim = mf_dim, name = 'mf_embedding_item',\n",
    "                                  embeddings_initializer = 'ones', embeddings_regularizer = l2(reg_mf),\n",
    "                                  input_length=1)    \n",
    "\n",
    "    MLP_Embedding_User = Embedding(input_dim = num_users, output_dim = int(layers[0]/2), name = \"mlp_embedding_user\",\n",
    "                                   embeddings_initializer = 'ones', embeddings_regularizer = l2(reg_layers[0]),\n",
    "                                   input_length=1)\n",
    "    MLP_Embedding_Item = Embedding(input_dim = num_items, output_dim = int(layers[0]/2), name = 'mlp_embedding_item',\n",
    "                                   embeddings_initializer = 'ones', embeddings_regularizer = l2(reg_layers[0]),\n",
    "                                   input_length=1)\n",
    "    \n",
    "    output = MLP_Embedding_User(user_input)\n",
    "    \n",
    "    # MF part\n",
    "    mf_user_latent = Flatten()(MF_Embedding_User(user_input))\n",
    "    mf_item_latent = Flatten()(MF_Embedding_Item(item_input))\n",
    "    \n",
    "    mf_vector = Multiply()([mf_user_latent, mf_item_latent]) # element-wise multiply\n",
    "\n",
    "    # MLP part \n",
    "    mlp_user_latent = Flatten()(MLP_Embedding_User(user_input))\n",
    "    mlp_item_latent = Flatten()(MLP_Embedding_Item(item_input))\n",
    "    \n",
    "    mlp_vector = Concatenate()([mlp_user_latent, mlp_item_latent])\n",
    "    for idx in range(1, num_layer):\n",
    "        layer = Dense(layers[idx], kernel_regularizer= l2(reg_layers[idx]), activation='relu', name=\"layer%d\" %idx)\n",
    "        mlp_vector = layer(mlp_vector)\n",
    "\n",
    "    # Concatenate MF and MLP parts\n",
    "    predict_vector = Concatenate()([mf_vector, mlp_vector])\n",
    "    \n",
    "    # Final prediction layer\n",
    "    prediction = Dense(1, activation = 'sigmoid', name = \"prediction\")(predict_vector)#kernel_initializer='lecun_ones', \n",
    "    \n",
    "    model = Model(inputs = [user_input, item_input], \n",
    "                  outputs = prediction)\n",
    "    \n",
    "    return model\n",
    "\n",
    "def load_pretrain_model(model, gmf_model, mlp_model, num_layers):\n",
    "    # MF embeddings\n",
    "    gmf_user_embeddings = gmf_model.get_layer('user_embedding').get_weights()\n",
    "    gmf_item_embeddings = gmf_model.get_layer('item_embedding').get_weights()\n",
    "    model.get_layer('mf_embedding_user').set_weights(gmf_user_embeddings)\n",
    "    model.get_layer('mf_embedding_item').set_weights(gmf_item_embeddings)\n",
    "    \n",
    "    # MLP embeddings\n",
    "    mlp_user_embeddings = mlp_model.get_layer('user_embedding').get_weights()\n",
    "    mlp_item_embeddings = mlp_model.get_layer('item_embedding').get_weights()\n",
    "    model.get_layer('mlp_embedding_user').set_weights(mlp_user_embeddings)\n",
    "    model.get_layer('mlp_embedding_item').set_weights(mlp_item_embeddings)\n",
    "    \n",
    "    # MLP layers\n",
    "    for i in range(1, num_layers):\n",
    "        mlp_layer_weights = mlp_model.get_layer('layer%d' %i).get_weights()\n",
    "        model.get_layer('layer%d' %i).set_weights(mlp_layer_weights)\n",
    "        \n",
    "    # Prediction weights\n",
    "    gmf_prediction = gmf_model.get_layer('prediction').get_weights()\n",
    "    mlp_prediction = mlp_model.get_layer('prediction').get_weights()\n",
    "    new_weights = np.concatenate((gmf_prediction[0], mlp_prediction[0]), axis=0)\n",
    "    new_b = gmf_prediction[1] + mlp_prediction[1]\n",
    "    model.get_layer('prediction').set_weights([0.5*new_weights, 0.5*new_b])    \n",
    "    return model"
   ]
  },
  {
   "cell_type": "code",
   "execution_count": 46,
   "metadata": {},
   "outputs": [
    {
     "name": "stdout",
     "output_type": "stream",
     "text": [
      "Input layer:  (None, 1) <dtype: 'int32'>\n",
      "Load pretrained GMF (C:\\Users\\somani4\\Documents\\GitHub\\CS_412_Akhilesh_Folder\\Baseline2\\Pretrain\\Toronto_GMF_8_1606406515.h5) and MLP (C:\\Users\\somani4\\Documents\\GitHub\\CS_412_Akhilesh_Folder\\Baseline2\\Pretrain\\Toronto_MLP_8_1606406540.h5) models done. \n",
      "Initial: Test RMSE = 1.1479, Test R2 = 0.2015\n"
     ]
    }
   ],
   "source": [
    "# Build and compile, and check initial performance\n",
    "model = get_ncf_model(num_users, num_items, mf_dim, layers, reg_layers, reg_mf)\n",
    "\n",
    "if learner.lower() == \"adagrad\": \n",
    "    model.compile(optimizer=Adagrad(lr=learning_rate), loss='mse')\n",
    "elif learner.lower() == \"rmsprop\":\n",
    "    model.compile(optimizer=RMSprop(lr=learning_rate), loss='mse')\n",
    "elif learner.lower() == \"adam\":\n",
    "    model.compile(optimizer=Adam(lr=learning_rate), loss='mse')\n",
    "else:\n",
    "    model.compile(optimizer=SGD(lr=learning_rate), loss='mse')\n",
    "\n",
    "# Load pretrain model\n",
    "if mf_pretrain != '' and mlp_pretrain != '':\n",
    "    gmf_model = get_gmf_model(num_users,num_items,mf_dim)\n",
    "    gmf_model.load_weights(mf_pretrain)\n",
    "    mlp_model = get_mlp_model(num_users,num_items, layers, reg_layers)\n",
    "    mlp_model.load_weights(mlp_pretrain)\n",
    "    model = load_pretrain_model(model, gmf_model, mlp_model, len(layers))\n",
    "    print(\"Load pretrained GMF (%s) and MLP (%s) models done. \" %(mf_pretrain, mlp_pretrain))\n",
    "    \n",
    "# Initial performance\n",
    "(mse, r2) = evaluate_rate_model(model, X_test, y_test, evaluation_threads)\n",
    "print('Initial: Test RMSE = %.4f, Test R2 = %.4f' % (np.sqrt(mse), r2))"
   ]
  },
  {
   "cell_type": "code",
   "execution_count": 47,
   "metadata": {
    "scrolled": true
   },
   "outputs": [
    {
     "name": "stderr",
     "output_type": "stream",
     "text": [
      "C:\\ProgramData\\Anaconda3\\envs\\cs_412\\lib\\site-packages\\tensorflow\\python\\framework\\indexed_slices.py:432: UserWarning: Converting sparse IndexedSlices to a dense Tensor of unknown shape. This may consume a large amount of memory.\n",
      "  warnings.warn(\n"
     ]
    },
    {
     "name": "stdout",
     "output_type": "stream",
     "text": [
      "Epoch 1 [3.9 s]: Test RMSE = 1.1486, Test R2 = 0.2005, Train Loss = 0.0355 [0.1 s]\n",
      "Epoch 2 [3.1 s]: Test RMSE = 1.1624, Test R2 = 0.1813, Train Loss = 0.0352 [0.1 s]\n",
      "Epoch 3 [3.1 s]: Test RMSE = 1.1523, Test R2 = 0.1955, Train Loss = 0.0348 [0.1 s]\n",
      "Epoch 4 [3.1 s]: Test RMSE = 1.1526, Test R2 = 0.1951, Train Loss = 0.0342 [0.1 s]\n",
      "Epoch 5 [3.1 s]: Test RMSE = 1.1646, Test R2 = 0.1782, Train Loss = 0.0334 [0.1 s]\n",
      "Epoch 6 [2.9 s]: Test RMSE = 1.1797, Test R2 = 0.1567, Train Loss = 0.0326 [0.1 s]\n",
      "Epoch 7 [3.1 s]: Test RMSE = 1.1892, Test R2 = 0.1430, Train Loss = 0.0317 [0.1 s]\n",
      "Epoch 8 [3.0 s]: Test RMSE = 1.1930, Test R2 = 0.1376, Train Loss = 0.0308 [0.1 s]\n",
      "Epoch 9 [2.7 s]: Test RMSE = 1.2070, Test R2 = 0.1173, Train Loss = 0.0298 [0.1 s]\n",
      "Epoch 10 [2.8 s]: Test RMSE = 1.2106, Test R2 = 0.1119, Train Loss = 0.0288 [0.1 s]\n",
      "Epoch 11 [2.9 s]: Test RMSE = 1.2299, Test R2 = 0.0833, Train Loss = 0.0278 [0.1 s]\n",
      "Epoch 12 [3.3 s]: Test RMSE = 1.2572, Test R2 = 0.0423, Train Loss = 0.0269 [0.1 s]\n",
      "Epoch 13 [2.9 s]: Test RMSE = 1.2516, Test R2 = 0.0508, Train Loss = 0.0259 [0.1 s]\n",
      "Epoch 14 [2.5 s]: Test RMSE = 1.2611, Test R2 = 0.0363, Train Loss = 0.0249 [0.1 s]\n",
      "Epoch 15 [2.5 s]: Test RMSE = 1.2786, Test R2 = 0.0094, Train Loss = 0.0242 [0.1 s]\n",
      "End. Best Iteration 0:  RMSE = 1.1486, R2 = 0.2005. \n",
      "The best NeuMF model is saved\n"
     ]
    }
   ],
   "source": [
    "# Training and testing model\n",
    "current_folder = os.getcwd()\n",
    "model_out_file_ncf = current_folder + '\\Pretrain\\%s_NeuMF_%d_%s_%d.h5' %(args.dataset, mf_dim, args.layers, time())\n",
    "\n",
    "train_loss, val_loss = [], []\n",
    "test_rmse, test_r2 = [], []\n",
    "best_mse = float('inf')\n",
    "\n",
    "for epoch in range(num_epochs):\n",
    "    t1 = time()\n",
    "\n",
    "    # Generate training instances\n",
    "    user_input, item_input, labels = get_train_instances(X_train, y_train)\n",
    "\n",
    "    # Training\n",
    "    history = model.fit([np.array(user_input), np.array(item_input)], #input\n",
    "                         np.array(labels), # labels \n",
    "                         batch_size = batch_size, epochs = 1, verbose = 0, shuffle = True)\n",
    "\n",
    "    train_loss.append(history.history['loss'][0])\n",
    "    #val_loss.append(history.history['val_loss'][0])\n",
    "\n",
    "    t2 = time()\n",
    "\n",
    "    #Evaluation\n",
    "    if epoch % verbose == 0:\n",
    "        (mse, r2) = evaluate_rate_model(model, X_test, y_test, evaluation_threads)\n",
    "        \n",
    "        test_rmse.append(np.sqrt(mse))\n",
    "        test_r2.append(r2)\n",
    "        \n",
    "        print('Epoch %d [%.1f s]: Test RMSE = %.4f, Test R2 = %.4f, Train Loss = %.4f [%.1f s]' \n",
    "              % (epoch + 1,  t2 - t1, test_rmse[-1], test_r2[-1], train_loss[-1], time() - t2))\n",
    "        \n",
    "        if mse < best_mse:\n",
    "            best_mse, best_r2, best_iter = mse, r2, epoch\n",
    "            if args.out > 0:\n",
    "                model.save_weights(model_out_file_ncf, overwrite=True)\n",
    "\n",
    "print(\"End. Best Iteration %d:  RMSE = %.4f, R2 = %.4f. \" %(best_iter, np.sqrt(best_mse), best_r2))\n",
    "if args.out > 0:\n",
    "    print(\"The best NeuMF model is saved\")"
   ]
  },
  {
   "cell_type": "code",
   "execution_count": 48,
   "metadata": {},
   "outputs": [
    {
     "data": {
      "image/png": "[encoded data removed]",
      "text/plain": [
       "<Figure size 432x288 with 1 Axes>"
      ]
     },
     "metadata": {},
     "output_type": "display_data"
    }
   ],
   "source": [
    "plt.plot(test_rmse, '*-', label = 'test_rmse')\n",
    "plt.plot(train_loss, '--', label = 'train_rmse')\n",
    "plt.legend()\n",
    "plt.xlabel('Epoch')\n",
    "plt.ylabel('RMSE')\n",
    "plt.show()"
   ]
  },
  {
   "cell_type": "code",
   "execution_count": null,
   "metadata": {},
   "outputs": [],
   "source": []
  }
 ],
 "metadata": {
  "kernelspec": {
   "display_name": "Python 3",
   "language": "python",
   "name": "python3"
  },
  "language_info": {
   "codemirror_mode": {
    "name": "ipython",
    "version": 3
   },
   "file_extension": ".py",
   "mimetype": "text/x-python",
   "name": "python",
   "nbconvert_exporter": "python",
   "pygments_lexer": "ipython3",
   "version": "3.8.5"
  }
 },
 "nbformat": 4,
 "nbformat_minor": 4
}
