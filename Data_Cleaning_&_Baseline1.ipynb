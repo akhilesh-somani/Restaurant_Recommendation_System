{
 "cells": [
  {
   "cell_type": "markdown",
   "metadata": {},
   "source": [
    "# Project: Yelp Dataset\n",
    "# Author: Akhilesh Somani\n",
    "# University of Illinois at Urbana-Champaign"
   ]
  },
  {
   "cell_type": "markdown",
   "metadata": {},
   "source": [
    "# Import basic packages"
   ]
  },
  {
   "cell_type": "code",
   "execution_count": 1,
   "metadata": {},
   "outputs": [],
   "source": [
    "import json, tqdm, time, copy\n",
    "import pandas as pd\n",
    "import matplotlib.pyplot as plt\n",
    "import seaborn as sns\n",
    "import numpy as np\n",
    "sns.set_palette('colorblind')\n",
    "sns.set_context('talk')"
   ]
  },
  {
   "cell_type": "code",
   "execution_count": 2,
   "metadata": {},
   "outputs": [],
   "source": [
    "%load_ext autoreload\n",
    "%autoreload 2"
   ]
  },
  {
   "cell_type": "markdown",
   "metadata": {},
   "source": [
    "# Data Preprocessing:"
   ]
  },
  {
   "cell_type": "code",
   "execution_count": 3,
   "metadata": {
    "scrolled": true
   },
   "outputs": [
    {
     "name": "stdout",
     "output_type": "stream",
     "text": [
      "Time to read business csv into a dataframe (in secs): 2.3163630962371826\n",
      "Time to read review csv into a dataframe (in secs): 113.53881764411926\n"
     ]
    },
    {
     "name": "stderr",
     "output_type": "stream",
     "text": [
      "C:\\ProgramData\\Anaconda3\\envs\\cs_412\\lib\\site-packages\\IPython\\core\\interactiveshell.py:3418: DtypeWarning: Columns (7) have mixed types.Specify dtype option on import or set low_memory=False.\n",
      "  exec(code_obj, self.user_global_ns, self.user_ns)\n"
     ]
    },
    {
     "name": "stdout",
     "output_type": "stream",
     "text": [
      "Time to read user csv into a dataframe (in secs): 56.33870077133179\n",
      "All files read and dataframes created!\n"
     ]
    }
   ],
   "source": [
    "# Refer to the module csv_generation.py for dataframes processing\n",
    "from csv_generation import all_dataframes"
   ]
  },
  {
   "cell_type": "markdown",
   "metadata": {},
   "source": [
    "# Create 'named' dataframes (for convenience):"
   ]
  },
  {
   "cell_type": "code",
   "execution_count": 4,
   "metadata": {},
   "outputs": [],
   "source": [
    "business_df, review_df, user_df = all_dataframes['business'], all_dataframes['review'], all_dataframes['user']"
   ]
  },
  {
   "cell_type": "code",
   "execution_count": 5,
   "metadata": {},
   "outputs": [],
   "source": [
    "business_df.rename(columns = {'stars':'stars_business_avg'}, inplace = True)"
   ]
  },
  {
   "cell_type": "code",
   "execution_count": 6,
   "metadata": {},
   "outputs": [
    {
     "data": {
      "text/html": [
       "<div>\n",
       "<style scoped>\n",
       "    .dataframe tbody tr th:only-of-type {\n",
       "        vertical-align: middle;\n",
       "    }\n",
       "\n",
       "    .dataframe tbody tr th {\n",
       "        vertical-align: top;\n",
       "    }\n",
       "\n",
       "    .dataframe thead th {\n",
       "        text-align: right;\n",
       "    }\n",
       "</style>\n",
       "<table border=\"1\" class=\"dataframe\">\n",
       "  <thead>\n",
       "    <tr style=\"text-align: right;\">\n",
       "      <th></th>\n",
       "      <th>business_id</th>\n",
       "      <th>name</th>\n",
       "      <th>address</th>\n",
       "      <th>city</th>\n",
       "      <th>state</th>\n",
       "      <th>postal_code</th>\n",
       "      <th>latitude</th>\n",
       "      <th>longitude</th>\n",
       "      <th>stars_business_avg</th>\n",
       "      <th>review_count</th>\n",
       "      <th>is_open</th>\n",
       "      <th>attributes</th>\n",
       "      <th>categories</th>\n",
       "      <th>hours</th>\n",
       "    </tr>\n",
       "  </thead>\n",
       "  <tbody>\n",
       "    <tr>\n",
       "      <th>0</th>\n",
       "      <td>f9NumwFMBDn751xgFiRbNA</td>\n",
       "      <td>The Range At Lake Norman</td>\n",
       "      <td>10913 Bailey Rd</td>\n",
       "      <td>Cornelius</td>\n",
       "      <td>NC</td>\n",
       "      <td>28031</td>\n",
       "      <td>35.462724</td>\n",
       "      <td>-80.852612</td>\n",
       "      <td>3.5</td>\n",
       "      <td>36</td>\n",
       "      <td>1</td>\n",
       "      <td>{'BusinessAcceptsCreditCards': 'True', 'BikePa...</td>\n",
       "      <td>Active Life, Gun/Rifle Ranges, Guns &amp; Ammo, Sh...</td>\n",
       "      <td>{'Monday': '10:0-18:0', 'Tuesday': '11:0-20:0'...</td>\n",
       "    </tr>\n",
       "    <tr>\n",
       "      <th>1</th>\n",
       "      <td>Yzvjg0SayhoZgCljUJRF9Q</td>\n",
       "      <td>Carlos Santo, NMD</td>\n",
       "      <td>8880 E Via Linda, Ste 107</td>\n",
       "      <td>Scottsdale</td>\n",
       "      <td>AZ</td>\n",
       "      <td>85258</td>\n",
       "      <td>33.569404</td>\n",
       "      <td>-111.890264</td>\n",
       "      <td>5.0</td>\n",
       "      <td>4</td>\n",
       "      <td>1</td>\n",
       "      <td>{'GoodForKids': 'True', 'ByAppointmentOnly': '...</td>\n",
       "      <td>Health &amp; Medical, Fitness &amp; Instruction, Yoga,...</td>\n",
       "      <td>NaN</td>\n",
       "    </tr>\n",
       "    <tr>\n",
       "      <th>2</th>\n",
       "      <td>XNoUzKckATkOD1hP6vghZg</td>\n",
       "      <td>Felinus</td>\n",
       "      <td>3554 Rue Notre-Dame O</td>\n",
       "      <td>Montreal</td>\n",
       "      <td>QC</td>\n",
       "      <td>H4C 1P4</td>\n",
       "      <td>45.479984</td>\n",
       "      <td>-73.580070</td>\n",
       "      <td>5.0</td>\n",
       "      <td>5</td>\n",
       "      <td>1</td>\n",
       "      <td>NaN</td>\n",
       "      <td>Pets, Pet Services, Pet Groomers</td>\n",
       "      <td>NaN</td>\n",
       "    </tr>\n",
       "  </tbody>\n",
       "</table>\n",
       "</div>"
      ],
      "text/plain": [
       "              business_id                      name  \\\n",
       "0  f9NumwFMBDn751xgFiRbNA  The Range At Lake Norman   \n",
       "1  Yzvjg0SayhoZgCljUJRF9Q         Carlos Santo, NMD   \n",
       "2  XNoUzKckATkOD1hP6vghZg                   Felinus   \n",
       "\n",
       "                     address        city state postal_code   latitude  \\\n",
       "0            10913 Bailey Rd   Cornelius    NC       28031  35.462724   \n",
       "1  8880 E Via Linda, Ste 107  Scottsdale    AZ       85258  33.569404   \n",
       "2      3554 Rue Notre-Dame O    Montreal    QC     H4C 1P4  45.479984   \n",
       "\n",
       "    longitude  stars_business_avg  review_count  is_open  \\\n",
       "0  -80.852612                 3.5            36        1   \n",
       "1 -111.890264                 5.0             4        1   \n",
       "2  -73.580070                 5.0             5        1   \n",
       "\n",
       "                                          attributes  \\\n",
       "0  {'BusinessAcceptsCreditCards': 'True', 'BikePa...   \n",
       "1  {'GoodForKids': 'True', 'ByAppointmentOnly': '...   \n",
       "2                                                NaN   \n",
       "\n",
       "                                          categories  \\\n",
       "0  Active Life, Gun/Rifle Ranges, Guns & Ammo, Sh...   \n",
       "1  Health & Medical, Fitness & Instruction, Yoga,...   \n",
       "2                   Pets, Pet Services, Pet Groomers   \n",
       "\n",
       "                                               hours  \n",
       "0  {'Monday': '10:0-18:0', 'Tuesday': '11:0-20:0'...  \n",
       "1                                                NaN  \n",
       "2                                                NaN  "
      ]
     },
     "execution_count": 6,
     "metadata": {},
     "output_type": "execute_result"
    }
   ],
   "source": [
    "business_df.head(3)"
   ]
  },
  {
   "cell_type": "code",
   "execution_count": 7,
   "metadata": {},
   "outputs": [
    {
     "data": {
      "text/html": [
       "<div>\n",
       "<style scoped>\n",
       "    .dataframe tbody tr th:only-of-type {\n",
       "        vertical-align: middle;\n",
       "    }\n",
       "\n",
       "    .dataframe tbody tr th {\n",
       "        vertical-align: top;\n",
       "    }\n",
       "\n",
       "    .dataframe thead th {\n",
       "        text-align: right;\n",
       "    }\n",
       "</style>\n",
       "<table border=\"1\" class=\"dataframe\">\n",
       "  <thead>\n",
       "    <tr style=\"text-align: right;\">\n",
       "      <th></th>\n",
       "      <th>review_id</th>\n",
       "      <th>user_id</th>\n",
       "      <th>business_id</th>\n",
       "      <th>stars</th>\n",
       "      <th>useful</th>\n",
       "      <th>funny</th>\n",
       "      <th>cool</th>\n",
       "      <th>text</th>\n",
       "      <th>date</th>\n",
       "    </tr>\n",
       "  </thead>\n",
       "  <tbody>\n",
       "    <tr>\n",
       "      <th>0</th>\n",
       "      <td>xQY8N_XvtGbearJ5X4QryQ</td>\n",
       "      <td>OwjRMXRC0KyPrIlcjaXeFQ</td>\n",
       "      <td>-MhfebM0QIsKt87iDN-FNw</td>\n",
       "      <td>2.0</td>\n",
       "      <td>5</td>\n",
       "      <td>0</td>\n",
       "      <td>0</td>\n",
       "      <td>As someone who has worked with many museums, I...</td>\n",
       "      <td>2015-04-15 05:21:16</td>\n",
       "    </tr>\n",
       "    <tr>\n",
       "      <th>1</th>\n",
       "      <td>UmFMZ8PyXZTY2QcwzsfQYA</td>\n",
       "      <td>nIJD_7ZXHq-FX8byPMOkMQ</td>\n",
       "      <td>lbrU8StCq3yDfr-QMnGrmQ</td>\n",
       "      <td>1.0</td>\n",
       "      <td>1</td>\n",
       "      <td>1</td>\n",
       "      <td>0</td>\n",
       "      <td>I am actually horrified this place is still in...</td>\n",
       "      <td>2013-12-07 03:16:52</td>\n",
       "    </tr>\n",
       "    <tr>\n",
       "      <th>2</th>\n",
       "      <td>LG2ZaYiOgpr2DK_90pYjNw</td>\n",
       "      <td>V34qejxNsCbcgD8C0HVk-Q</td>\n",
       "      <td>HQl28KMwrEKHqhFrrDqVNQ</td>\n",
       "      <td>5.0</td>\n",
       "      <td>1</td>\n",
       "      <td>0</td>\n",
       "      <td>0</td>\n",
       "      <td>I love Deagan's. I do. I really do. The atmosp...</td>\n",
       "      <td>2015-12-05 03:18:11</td>\n",
       "    </tr>\n",
       "    <tr>\n",
       "      <th>3</th>\n",
       "      <td>i6g_oA9Yf9Y31qt0wibXpw</td>\n",
       "      <td>ofKDkJKXSKZXu5xJNGiiBQ</td>\n",
       "      <td>5JxlZaqCnk1MnbgRirs40Q</td>\n",
       "      <td>1.0</td>\n",
       "      <td>0</td>\n",
       "      <td>0</td>\n",
       "      <td>0</td>\n",
       "      <td>Dismal, lukewarm, defrosted-tasting \"TexMex\" g...</td>\n",
       "      <td>2011-05-27 05:30:52</td>\n",
       "    </tr>\n",
       "    <tr>\n",
       "      <th>4</th>\n",
       "      <td>6TdNDKywdbjoTkizeMce8A</td>\n",
       "      <td>UgMW8bLE0QMJDCkQ1Ax5Mg</td>\n",
       "      <td>IS4cv902ykd8wj1TR0N3-A</td>\n",
       "      <td>4.0</td>\n",
       "      <td>0</td>\n",
       "      <td>0</td>\n",
       "      <td>0</td>\n",
       "      <td>Oh happy day, finally have a Canes near my cas...</td>\n",
       "      <td>2017-01-14 21:56:57</td>\n",
       "    </tr>\n",
       "  </tbody>\n",
       "</table>\n",
       "</div>"
      ],
      "text/plain": [
       "                review_id                 user_id             business_id  \\\n",
       "0  xQY8N_XvtGbearJ5X4QryQ  OwjRMXRC0KyPrIlcjaXeFQ  -MhfebM0QIsKt87iDN-FNw   \n",
       "1  UmFMZ8PyXZTY2QcwzsfQYA  nIJD_7ZXHq-FX8byPMOkMQ  lbrU8StCq3yDfr-QMnGrmQ   \n",
       "2  LG2ZaYiOgpr2DK_90pYjNw  V34qejxNsCbcgD8C0HVk-Q  HQl28KMwrEKHqhFrrDqVNQ   \n",
       "3  i6g_oA9Yf9Y31qt0wibXpw  ofKDkJKXSKZXu5xJNGiiBQ  5JxlZaqCnk1MnbgRirs40Q   \n",
       "4  6TdNDKywdbjoTkizeMce8A  UgMW8bLE0QMJDCkQ1Ax5Mg  IS4cv902ykd8wj1TR0N3-A   \n",
       "\n",
       "   stars  useful  funny  cool  \\\n",
       "0    2.0       5      0     0   \n",
       "1    1.0       1      1     0   \n",
       "2    5.0       1      0     0   \n",
       "3    1.0       0      0     0   \n",
       "4    4.0       0      0     0   \n",
       "\n",
       "                                                text                 date  \n",
       "0  As someone who has worked with many museums, I...  2015-04-15 05:21:16  \n",
       "1  I am actually horrified this place is still in...  2013-12-07 03:16:52  \n",
       "2  I love Deagan's. I do. I really do. The atmosp...  2015-12-05 03:18:11  \n",
       "3  Dismal, lukewarm, defrosted-tasting \"TexMex\" g...  2011-05-27 05:30:52  \n",
       "4  Oh happy day, finally have a Canes near my cas...  2017-01-14 21:56:57  "
      ]
     },
     "execution_count": 7,
     "metadata": {},
     "output_type": "execute_result"
    }
   ],
   "source": [
    "review_df.head()"
   ]
  },
  {
   "cell_type": "code",
   "execution_count": 8,
   "metadata": {},
   "outputs": [
    {
     "data": {
      "text/html": [
       "<div>\n",
       "<style scoped>\n",
       "    .dataframe tbody tr th:only-of-type {\n",
       "        vertical-align: middle;\n",
       "    }\n",
       "\n",
       "    .dataframe tbody tr th {\n",
       "        vertical-align: top;\n",
       "    }\n",
       "\n",
       "    .dataframe thead th {\n",
       "        text-align: right;\n",
       "    }\n",
       "</style>\n",
       "<table border=\"1\" class=\"dataframe\">\n",
       "  <thead>\n",
       "    <tr style=\"text-align: right;\">\n",
       "      <th></th>\n",
       "      <th>user_id</th>\n",
       "      <th>name</th>\n",
       "      <th>review_count</th>\n",
       "      <th>yelping_since</th>\n",
       "      <th>useful</th>\n",
       "      <th>funny</th>\n",
       "      <th>cool</th>\n",
       "      <th>elite</th>\n",
       "      <th>friends</th>\n",
       "      <th>fans</th>\n",
       "      <th>...</th>\n",
       "      <th>compliment_more</th>\n",
       "      <th>compliment_profile</th>\n",
       "      <th>compliment_cute</th>\n",
       "      <th>compliment_list</th>\n",
       "      <th>compliment_note</th>\n",
       "      <th>compliment_plain</th>\n",
       "      <th>compliment_cool</th>\n",
       "      <th>compliment_funny</th>\n",
       "      <th>compliment_writer</th>\n",
       "      <th>compliment_photos</th>\n",
       "    </tr>\n",
       "  </thead>\n",
       "  <tbody>\n",
       "    <tr>\n",
       "      <th>0</th>\n",
       "      <td>ntlvfPzc8eglqvk92iDIAw</td>\n",
       "      <td>Rafael</td>\n",
       "      <td>553</td>\n",
       "      <td>2007-07-06 03:27:11</td>\n",
       "      <td>628</td>\n",
       "      <td>225</td>\n",
       "      <td>227</td>\n",
       "      <td>NaN</td>\n",
       "      <td>oeMvJh94PiGQnx_6GlndPQ, wm1z1PaJKvHgSDRKfwhfDg...</td>\n",
       "      <td>14</td>\n",
       "      <td>...</td>\n",
       "      <td>2</td>\n",
       "      <td>1</td>\n",
       "      <td>0</td>\n",
       "      <td>1</td>\n",
       "      <td>11</td>\n",
       "      <td>15</td>\n",
       "      <td>22</td>\n",
       "      <td>22</td>\n",
       "      <td>10</td>\n",
       "      <td>0</td>\n",
       "    </tr>\n",
       "    <tr>\n",
       "      <th>1</th>\n",
       "      <td>FOBRPlBHa3WPHFB5qYDlVg</td>\n",
       "      <td>Michelle</td>\n",
       "      <td>564</td>\n",
       "      <td>2008-04-28 01:29:25</td>\n",
       "      <td>790</td>\n",
       "      <td>316</td>\n",
       "      <td>400</td>\n",
       "      <td>2008,2009,2010,2011,2012,2013</td>\n",
       "      <td>ly7EnE8leJmyqyePVYFlug, pRlR63iDytsnnniPb3AOug...</td>\n",
       "      <td>27</td>\n",
       "      <td>...</td>\n",
       "      <td>4</td>\n",
       "      <td>5</td>\n",
       "      <td>2</td>\n",
       "      <td>1</td>\n",
       "      <td>33</td>\n",
       "      <td>37</td>\n",
       "      <td>63</td>\n",
       "      <td>63</td>\n",
       "      <td>21</td>\n",
       "      <td>5</td>\n",
       "    </tr>\n",
       "    <tr>\n",
       "      <th>2</th>\n",
       "      <td>zZUnPeh2hEp0WydbAZEOOg</td>\n",
       "      <td>Martin</td>\n",
       "      <td>60</td>\n",
       "      <td>2008-08-28 23:40:05</td>\n",
       "      <td>151</td>\n",
       "      <td>125</td>\n",
       "      <td>103</td>\n",
       "      <td>2010</td>\n",
       "      <td>Uwlk0txjQBPw_JhHsQnyeg, Ybxr1tSCkv3lYA0I1qmnPQ...</td>\n",
       "      <td>5</td>\n",
       "      <td>...</td>\n",
       "      <td>6</td>\n",
       "      <td>0</td>\n",
       "      <td>1</td>\n",
       "      <td>0</td>\n",
       "      <td>3</td>\n",
       "      <td>7</td>\n",
       "      <td>17</td>\n",
       "      <td>17</td>\n",
       "      <td>4</td>\n",
       "      <td>1</td>\n",
       "    </tr>\n",
       "    <tr>\n",
       "      <th>3</th>\n",
       "      <td>QaELAmRcDc5TfJEylaaP8g</td>\n",
       "      <td>John</td>\n",
       "      <td>206</td>\n",
       "      <td>2008-09-20 00:08:14</td>\n",
       "      <td>233</td>\n",
       "      <td>160</td>\n",
       "      <td>84</td>\n",
       "      <td>2009</td>\n",
       "      <td>iog3Nyg1i4jeumiTVG_BSA, M92xWY2Vr9w0xoH8bPplfQ...</td>\n",
       "      <td>6</td>\n",
       "      <td>...</td>\n",
       "      <td>1</td>\n",
       "      <td>0</td>\n",
       "      <td>0</td>\n",
       "      <td>0</td>\n",
       "      <td>7</td>\n",
       "      <td>14</td>\n",
       "      <td>7</td>\n",
       "      <td>7</td>\n",
       "      <td>2</td>\n",
       "      <td>0</td>\n",
       "    </tr>\n",
       "    <tr>\n",
       "      <th>4</th>\n",
       "      <td>xvu8G900tezTzbbfqmTKvA</td>\n",
       "      <td>Anne</td>\n",
       "      <td>485</td>\n",
       "      <td>2008-08-09 00:30:27</td>\n",
       "      <td>1265</td>\n",
       "      <td>400</td>\n",
       "      <td>512</td>\n",
       "      <td>2009,2010,2011,2012,2014,2015,2016,2017,2018</td>\n",
       "      <td>3W3ZMSthojCUirKEqAwGNw, eTIbuu23j9tOgmIa9POyLQ...</td>\n",
       "      <td>78</td>\n",
       "      <td>...</td>\n",
       "      <td>9</td>\n",
       "      <td>2</td>\n",
       "      <td>1</td>\n",
       "      <td>1</td>\n",
       "      <td>22</td>\n",
       "      <td>28</td>\n",
       "      <td>31</td>\n",
       "      <td>31</td>\n",
       "      <td>19</td>\n",
       "      <td>31</td>\n",
       "    </tr>\n",
       "  </tbody>\n",
       "</table>\n",
       "<p>5 rows × 22 columns</p>\n",
       "</div>"
      ],
      "text/plain": [
       "                  user_id      name  review_count        yelping_since  \\\n",
       "0  ntlvfPzc8eglqvk92iDIAw    Rafael           553  2007-07-06 03:27:11   \n",
       "1  FOBRPlBHa3WPHFB5qYDlVg  Michelle           564  2008-04-28 01:29:25   \n",
       "2  zZUnPeh2hEp0WydbAZEOOg    Martin            60  2008-08-28 23:40:05   \n",
       "3  QaELAmRcDc5TfJEylaaP8g      John           206  2008-09-20 00:08:14   \n",
       "4  xvu8G900tezTzbbfqmTKvA      Anne           485  2008-08-09 00:30:27   \n",
       "\n",
       "   useful  funny  cool                                         elite  \\\n",
       "0     628    225   227                                           NaN   \n",
       "1     790    316   400                 2008,2009,2010,2011,2012,2013   \n",
       "2     151    125   103                                          2010   \n",
       "3     233    160    84                                          2009   \n",
       "4    1265    400   512  2009,2010,2011,2012,2014,2015,2016,2017,2018   \n",
       "\n",
       "                                             friends  fans  ...  \\\n",
       "0  oeMvJh94PiGQnx_6GlndPQ, wm1z1PaJKvHgSDRKfwhfDg...    14  ...   \n",
       "1  ly7EnE8leJmyqyePVYFlug, pRlR63iDytsnnniPb3AOug...    27  ...   \n",
       "2  Uwlk0txjQBPw_JhHsQnyeg, Ybxr1tSCkv3lYA0I1qmnPQ...     5  ...   \n",
       "3  iog3Nyg1i4jeumiTVG_BSA, M92xWY2Vr9w0xoH8bPplfQ...     6  ...   \n",
       "4  3W3ZMSthojCUirKEqAwGNw, eTIbuu23j9tOgmIa9POyLQ...    78  ...   \n",
       "\n",
       "   compliment_more  compliment_profile  compliment_cute  compliment_list  \\\n",
       "0                2                   1                0                1   \n",
       "1                4                   5                2                1   \n",
       "2                6                   0                1                0   \n",
       "3                1                   0                0                0   \n",
       "4                9                   2                1                1   \n",
       "\n",
       "   compliment_note  compliment_plain  compliment_cool  compliment_funny  \\\n",
       "0               11                15               22                22   \n",
       "1               33                37               63                63   \n",
       "2                3                 7               17                17   \n",
       "3                7                14                7                 7   \n",
       "4               22                28               31                31   \n",
       "\n",
       "   compliment_writer  compliment_photos  \n",
       "0                 10                  0  \n",
       "1                 21                  5  \n",
       "2                  4                  1  \n",
       "3                  2                  0  \n",
       "4                 19                 31  \n",
       "\n",
       "[5 rows x 22 columns]"
      ]
     },
     "execution_count": 8,
     "metadata": {},
     "output_type": "execute_result"
    }
   ],
   "source": [
    "user_df.head()"
   ]
  },
  {
   "cell_type": "markdown",
   "metadata": {},
   "source": [
    "# Data Exploration:"
   ]
  },
  {
   "cell_type": "markdown",
   "metadata": {},
   "source": [
    "## (1) Number of data points:"
   ]
  },
  {
   "cell_type": "code",
   "execution_count": 9,
   "metadata": {},
   "outputs": [
    {
     "data": {
      "text/plain": [
       "(209393, 8021122, 1968703)"
      ]
     },
     "execution_count": 9,
     "metadata": {},
     "output_type": "execute_result"
    }
   ],
   "source": [
    "len(business_df), len(review_df), len(user_df)"
   ]
  },
  {
   "cell_type": "markdown",
   "metadata": {},
   "source": [
    "## (2) Missing Values:"
   ]
  },
  {
   "cell_type": "code",
   "execution_count": 12,
   "metadata": {},
   "outputs": [],
   "source": [
    "try:\n",
    "    import missingno as msno\n",
    "except: \n",
    "    import sys\n",
    "    !{sys.executable} -m pip install missingno\n",
    "    import missingno as msno"
   ]
  },
  {
   "cell_type": "code",
   "execution_count": 13,
   "metadata": {},
   "outputs": [
    {
     "data": {
      "text/plain": [
       "<AxesSubplot:>"
      ]
     },
     "execution_count": 13,
     "metadata": {},
     "output_type": "execute_result"
    },
    {
     "data": {
      "image/png": "[encoded data removed]",
      "text/plain": [
       "<Figure size 1800x720 with 2 Axes>"
      ]
     },
     "metadata": {
      "needs_background": "light"
     },
     "output_type": "display_data"
    }
   ],
   "source": [
    "msno.matrix(business_df)"
   ]
  },
  {
   "cell_type": "code",
   "execution_count": 14,
   "metadata": {},
   "outputs": [
    {
     "data": {
      "text/plain": [
       "1251"
      ]
     },
     "execution_count": 14,
     "metadata": {},
     "output_type": "execute_result"
    }
   ],
   "source": [
    "len(business_df.city.unique())"
   ]
  },
  {
   "cell_type": "code",
   "execution_count": 15,
   "metadata": {},
   "outputs": [
    {
     "data": {
      "text/plain": [
       "2"
      ]
     },
     "execution_count": 15,
     "metadata": {},
     "output_type": "execute_result"
    }
   ],
   "source": [
    "sum(business_df.city.isna())"
   ]
  },
  {
   "cell_type": "code",
   "execution_count": 16,
   "metadata": {},
   "outputs": [],
   "source": [
    "business_df.fillna('Null Value', inplace = True)"
   ]
  },
  {
   "cell_type": "code",
   "execution_count": 17,
   "metadata": {},
   "outputs": [
    {
     "data": {
      "text/plain": [
       "city\n",
       "110 Las Vegas         1\n",
       "4321 W Flamingo Rd    1\n",
       "ARSENAL               1\n",
       "AZ                    1\n",
       "Agincourt             2\n",
       "                     ..\n",
       "toronto               3\n",
       "Ãle-Perrot           1\n",
       "Ãle-des-Soeurs       1\n",
       "âAvondale           1\n",
       "âGilbert            1\n",
       "Name: name, Length: 1251, dtype: int64"
      ]
     },
     "execution_count": 17,
     "metadata": {},
     "output_type": "execute_result"
    }
   ],
   "source": [
    "business_df.groupby('city')['name'].count()"
   ]
  },
  {
   "cell_type": "markdown",
   "metadata": {},
   "source": [
    "## Convert all string in the 'city' column to lower case for ease of handling and avoiding data inconsistency"
   ]
  },
  {
   "cell_type": "code",
   "execution_count": 18,
   "metadata": {},
   "outputs": [],
   "source": [
    "business_df.city = business_df.city.str.lower()"
   ]
  },
  {
   "cell_type": "code",
   "execution_count": 19,
   "metadata": {},
   "outputs": [
    {
     "data": {
      "text/plain": [
       "array(['toronto', 'north toronto', 'toronto - front st (ot)',\n",
       "       'toronto-etobicoke', 'toronto division', 'west toronto',\n",
       "       'toronto-north york', 'toronto-west', 'downtown toronto',\n",
       "       'toronto - danforth (ot)'], dtype=object)"
      ]
     },
     "execution_count": 19,
     "metadata": {},
     "output_type": "execute_result"
    }
   ],
   "source": [
    "business_df[business_df.city.str.contains('toronto')].city.unique()"
   ]
  },
  {
   "cell_type": "code",
   "execution_count": 20,
   "metadata": {},
   "outputs": [
    {
     "data": {
      "text/plain": [
       "1753"
      ]
     },
     "execution_count": 20,
     "metadata": {},
     "output_type": "execute_result"
    }
   ],
   "source": [
    "len(business_df[business_df.city.str.contains('champaign|urbana')])"
   ]
  },
  {
   "cell_type": "code",
   "execution_count": 21,
   "metadata": {},
   "outputs": [
    {
     "data": {
      "text/plain": [
       "20205"
      ]
     },
     "execution_count": 21,
     "metadata": {},
     "output_type": "execute_result"
    }
   ],
   "source": [
    "len(business_df[business_df.city.str.contains('phoenix')])"
   ]
  },
  {
   "cell_type": "markdown",
   "metadata": {},
   "source": [
    "## Choose Phoenix, Toronto, and Champaign for further analysis to reduce the dataset we are dealing with:"
   ]
  },
  {
   "cell_type": "code",
   "execution_count": 22,
   "metadata": {},
   "outputs": [
    {
     "data": {
      "text/plain": [
       "42340"
      ]
     },
     "execution_count": 22,
     "metadata": {},
     "output_type": "execute_result"
    }
   ],
   "source": [
    "yelp_business_df = business_df[business_df.city.str.contains('toronto|phoenix|urbana|champaign')].copy()\n",
    "len(yelp_business_df)"
   ]
  },
  {
   "cell_type": "code",
   "execution_count": 23,
   "metadata": {},
   "outputs": [
    {
     "data": {
      "text/plain": [
       "array(['champaign', 'toronto', 'phoenix', 'urbana', 'urbana, illinois',\n",
       "       'north toronto', 'toronto - front st (ot)', 'phoenix ap',\n",
       "       'toronto-etobicoke', 'phoenix ', 'toronto division',\n",
       "       'metro phoenix', 'phoenix, az', 'west toronto',\n",
       "       'toronto-north york', 'toronto-west', 'phoenix metro area',\n",
       "       'downtown toronto', 'north phoenix', 'phoenix valley',\n",
       "       'toronto - danforth (ot)', 'phoenix,', 'phoenix az'], dtype=object)"
      ]
     },
     "execution_count": 23,
     "metadata": {},
     "output_type": "execute_result"
    }
   ],
   "source": [
    "yelp_business_df.city.unique()"
   ]
  },
  {
   "cell_type": "markdown",
   "metadata": {},
   "source": [
    "## Data consistency for 'city':"
   ]
  },
  {
   "cell_type": "code",
   "execution_count": 24,
   "metadata": {},
   "outputs": [
    {
     "data": {
      "text/plain": [
       "array(['urbana-champaign', 'toronto', 'phoenix'], dtype=object)"
      ]
     },
     "execution_count": 24,
     "metadata": {},
     "output_type": "execute_result"
    }
   ],
   "source": [
    "yelp_business_df.city.replace(r'^.*toronto.*$', 'toronto', regex = True, inplace = True)\n",
    "yelp_business_df.city.replace(r'^.*phoenix.*$', 'phoenix', regex=True, inplace = True)\n",
    "yelp_business_df.city.replace(r'^.*champaign.*$', 'urbana-champaign', regex = True, inplace = True)\n",
    "yelp_business_df.city.replace(r'^.*urbana.*$', 'urbana-champaign', regex=True, inplace = True)\n",
    "yelp_business_df.city.unique()"
   ]
  },
  {
   "cell_type": "code",
   "execution_count": 25,
   "metadata": {},
   "outputs": [
    {
     "data": {
      "text/html": [
       "<div>\n",
       "<style scoped>\n",
       "    .dataframe tbody tr th:only-of-type {\n",
       "        vertical-align: middle;\n",
       "    }\n",
       "\n",
       "    .dataframe tbody tr th {\n",
       "        vertical-align: top;\n",
       "    }\n",
       "\n",
       "    .dataframe thead th {\n",
       "        text-align: right;\n",
       "    }\n",
       "</style>\n",
       "<table border=\"1\" class=\"dataframe\">\n",
       "  <thead>\n",
       "    <tr style=\"text-align: right;\">\n",
       "      <th></th>\n",
       "      <th>business_id</th>\n",
       "      <th>name</th>\n",
       "      <th>address</th>\n",
       "      <th>city</th>\n",
       "      <th>state</th>\n",
       "      <th>postal_code</th>\n",
       "      <th>latitude</th>\n",
       "      <th>longitude</th>\n",
       "      <th>stars_business_avg</th>\n",
       "      <th>review_count</th>\n",
       "      <th>is_open</th>\n",
       "      <th>attributes</th>\n",
       "      <th>categories</th>\n",
       "      <th>hours</th>\n",
       "    </tr>\n",
       "  </thead>\n",
       "  <tbody>\n",
       "    <tr>\n",
       "      <th>8</th>\n",
       "      <td>pQeaRpvuhoEqudo3uymHIQ</td>\n",
       "      <td>The Empanadas House</td>\n",
       "      <td>404 E Green St</td>\n",
       "      <td>urbana-champaign</td>\n",
       "      <td>IL</td>\n",
       "      <td>61820</td>\n",
       "      <td>40.110446</td>\n",
       "      <td>-88.233073</td>\n",
       "      <td>4.5</td>\n",
       "      <td>5</td>\n",
       "      <td>1</td>\n",
       "      <td>{'RestaurantsAttire': \"u'casual'\", 'Restaurant...</td>\n",
       "      <td>Ethnic Food, Food Trucks, Specialty Food, Impo...</td>\n",
       "      <td>{'Monday': '11:30-14:30', 'Tuesday': '11:30-14...</td>\n",
       "    </tr>\n",
       "    <tr>\n",
       "      <th>9</th>\n",
       "      <td>EosRKXIGeSWFYWwpkbhNnA</td>\n",
       "      <td>Xtreme Couture</td>\n",
       "      <td>700 Kipling Avenue Etobicoke</td>\n",
       "      <td>toronto</td>\n",
       "      <td>ON</td>\n",
       "      <td>M8Z 5G3</td>\n",
       "      <td>43.624539</td>\n",
       "      <td>-79.529108</td>\n",
       "      <td>3.0</td>\n",
       "      <td>16</td>\n",
       "      <td>1</td>\n",
       "      <td>{'GoodForKids': 'True', 'ByAppointmentOnly': '...</td>\n",
       "      <td>Martial Arts, Gyms, Fitness &amp; Instruction, Act...</td>\n",
       "      <td>{'Monday': '5:30-23:0', 'Tuesday': '5:30-23:0'...</td>\n",
       "    </tr>\n",
       "    <tr>\n",
       "      <th>26</th>\n",
       "      <td>1wWneWD_E1pBIyVpdHMaQg</td>\n",
       "      <td>Air Jordan Store</td>\n",
       "      <td>306 Yonge Street</td>\n",
       "      <td>toronto</td>\n",
       "      <td>ON</td>\n",
       "      <td>M5B 1R4</td>\n",
       "      <td>43.656542</td>\n",
       "      <td>-79.381308</td>\n",
       "      <td>4.0</td>\n",
       "      <td>9</td>\n",
       "      <td>1</td>\n",
       "      <td>{'RestaurantsPriceRange2': '3', 'BikeParking':...</td>\n",
       "      <td>Shopping, Shoe Stores, Fashion</td>\n",
       "      <td>{'Monday': '10:0-21:0', 'Tuesday': '10:0-21:0'...</td>\n",
       "    </tr>\n",
       "  </tbody>\n",
       "</table>\n",
       "</div>"
      ],
      "text/plain": [
       "               business_id                 name                       address  \\\n",
       "8   pQeaRpvuhoEqudo3uymHIQ  The Empanadas House                404 E Green St   \n",
       "9   EosRKXIGeSWFYWwpkbhNnA       Xtreme Couture  700 Kipling Avenue Etobicoke   \n",
       "26  1wWneWD_E1pBIyVpdHMaQg     Air Jordan Store              306 Yonge Street   \n",
       "\n",
       "                city state postal_code   latitude  longitude  \\\n",
       "8   urbana-champaign    IL       61820  40.110446 -88.233073   \n",
       "9            toronto    ON     M8Z 5G3  43.624539 -79.529108   \n",
       "26           toronto    ON     M5B 1R4  43.656542 -79.381308   \n",
       "\n",
       "    stars_business_avg  review_count  is_open  \\\n",
       "8                  4.5             5        1   \n",
       "9                  3.0            16        1   \n",
       "26                 4.0             9        1   \n",
       "\n",
       "                                           attributes  \\\n",
       "8   {'RestaurantsAttire': \"u'casual'\", 'Restaurant...   \n",
       "9   {'GoodForKids': 'True', 'ByAppointmentOnly': '...   \n",
       "26  {'RestaurantsPriceRange2': '3', 'BikeParking':...   \n",
       "\n",
       "                                           categories  \\\n",
       "8   Ethnic Food, Food Trucks, Specialty Food, Impo...   \n",
       "9   Martial Arts, Gyms, Fitness & Instruction, Act...   \n",
       "26                     Shopping, Shoe Stores, Fashion   \n",
       "\n",
       "                                                hours  \n",
       "8   {'Monday': '11:30-14:30', 'Tuesday': '11:30-14...  \n",
       "9   {'Monday': '5:30-23:0', 'Tuesday': '5:30-23:0'...  \n",
       "26  {'Monday': '10:0-21:0', 'Tuesday': '10:0-21:0'...  "
      ]
     },
     "execution_count": 25,
     "metadata": {},
     "output_type": "execute_result"
    }
   ],
   "source": [
    "yelp_business_df.head(3)"
   ]
  },
  {
   "cell_type": "markdown",
   "metadata": {},
   "source": [
    "# Sort the restaurants by stars_business_avg:"
   ]
  },
  {
   "cell_type": "code",
   "execution_count": 26,
   "metadata": {},
   "outputs": [],
   "source": [
    "yelp_restaurants_df = yelp_business_df[yelp_business_df.categories.str.contains('restaurants', case = False)]\n",
    "yelp_restaurants_df.to_csv('my_cities_restaurants.csv')"
   ]
  },
  {
   "cell_type": "markdown",
   "metadata": {},
   "source": [
    "### (1) Toronto:"
   ]
  },
  {
   "cell_type": "code",
   "execution_count": 27,
   "metadata": {
    "scrolled": true
   },
   "outputs": [
    {
     "data": {
      "text/html": [
       "<div>\n",
       "<style scoped>\n",
       "    .dataframe tbody tr th:only-of-type {\n",
       "        vertical-align: middle;\n",
       "    }\n",
       "\n",
       "    .dataframe tbody tr th {\n",
       "        vertical-align: top;\n",
       "    }\n",
       "\n",
       "    .dataframe thead th {\n",
       "        text-align: right;\n",
       "    }\n",
       "</style>\n",
       "<table border=\"1\" class=\"dataframe\">\n",
       "  <thead>\n",
       "    <tr style=\"text-align: right;\">\n",
       "      <th></th>\n",
       "      <th>business_id</th>\n",
       "      <th>name</th>\n",
       "      <th>address</th>\n",
       "      <th>city</th>\n",
       "      <th>state</th>\n",
       "      <th>postal_code</th>\n",
       "      <th>latitude</th>\n",
       "      <th>longitude</th>\n",
       "      <th>stars_business_avg</th>\n",
       "      <th>review_count</th>\n",
       "      <th>is_open</th>\n",
       "      <th>attributes</th>\n",
       "      <th>categories</th>\n",
       "      <th>hours</th>\n",
       "    </tr>\n",
       "  </thead>\n",
       "  <tbody>\n",
       "    <tr>\n",
       "      <th>39603</th>\n",
       "      <td>g6AFW-zY0wDvBl9U82g4zg</td>\n",
       "      <td>Baretto Caffe</td>\n",
       "      <td>1262 Don Mills Road</td>\n",
       "      <td>toronto</td>\n",
       "      <td>ON</td>\n",
       "      <td>M3B 2W7</td>\n",
       "      <td>43.744703</td>\n",
       "      <td>-79.346468</td>\n",
       "      <td>5.0</td>\n",
       "      <td>317</td>\n",
       "      <td>1</td>\n",
       "      <td>{'BikeParking': 'True', 'Alcohol': \"u'none'\", ...</td>\n",
       "      <td>Restaurants, Italian, Cafes</td>\n",
       "      <td>{'Monday': '7:30-18:0', 'Tuesday': '7:30-18:0'...</td>\n",
       "    </tr>\n",
       "    <tr>\n",
       "      <th>148903</th>\n",
       "      <td>J9vAdD2dCpFuGsxPIn184w</td>\n",
       "      <td>New Orleans Seafood &amp; Steakhouse</td>\n",
       "      <td>267 Scarlett Road</td>\n",
       "      <td>toronto</td>\n",
       "      <td>ON</td>\n",
       "      <td>M6N 4L1</td>\n",
       "      <td>43.677744</td>\n",
       "      <td>-79.506248</td>\n",
       "      <td>5.0</td>\n",
       "      <td>122</td>\n",
       "      <td>1</td>\n",
       "      <td>{'RestaurantsTakeOut': 'True', 'RestaurantsDel...</td>\n",
       "      <td>Steakhouses, Cajun/Creole, Restaurants, Seafood</td>\n",
       "      <td>{'Tuesday': '17:0-21:15', 'Wednesday': '17:0-2...</td>\n",
       "    </tr>\n",
       "    <tr>\n",
       "      <th>23075</th>\n",
       "      <td>JB8-8TtNYX-vLqN7cz-zHA</td>\n",
       "      <td>Zeal Burgers</td>\n",
       "      <td>1926 Weston Road</td>\n",
       "      <td>toronto</td>\n",
       "      <td>ON</td>\n",
       "      <td>M9N 1W2</td>\n",
       "      <td>43.700356</td>\n",
       "      <td>-79.517524</td>\n",
       "      <td>5.0</td>\n",
       "      <td>103</td>\n",
       "      <td>1</td>\n",
       "      <td>{'RestaurantsAttire': \"'casual'\", 'OutdoorSeat...</td>\n",
       "      <td>Restaurants, Burgers</td>\n",
       "      <td>{'Monday': '0:0-0:0', 'Tuesday': '11:0-21:0', ...</td>\n",
       "    </tr>\n",
       "    <tr>\n",
       "      <th>410</th>\n",
       "      <td>VUADGMPLJoWqhHb1G4LIcA</td>\n",
       "      <td>Veghed</td>\n",
       "      <td>1199 Dundas Street W</td>\n",
       "      <td>toronto</td>\n",
       "      <td>ON</td>\n",
       "      <td>M6J 1X3</td>\n",
       "      <td>43.649166</td>\n",
       "      <td>-79.422498</td>\n",
       "      <td>5.0</td>\n",
       "      <td>71</td>\n",
       "      <td>1</td>\n",
       "      <td>{'BusinessParking': \"{'garage': False, 'street...</td>\n",
       "      <td>Vegan, Restaurants, Vegetarian</td>\n",
       "      <td>{'Monday': '11:0-19:0', 'Tuesday': '11:0-19:0'...</td>\n",
       "    </tr>\n",
       "  </tbody>\n",
       "</table>\n",
       "</div>"
      ],
      "text/plain": [
       "                   business_id                              name  \\\n",
       "39603   g6AFW-zY0wDvBl9U82g4zg                     Baretto Caffe   \n",
       "148903  J9vAdD2dCpFuGsxPIn184w  New Orleans Seafood & Steakhouse   \n",
       "23075   JB8-8TtNYX-vLqN7cz-zHA                      Zeal Burgers   \n",
       "410     VUADGMPLJoWqhHb1G4LIcA                            Veghed   \n",
       "\n",
       "                     address     city state postal_code   latitude  longitude  \\\n",
       "39603    1262 Don Mills Road  toronto    ON     M3B 2W7  43.744703 -79.346468   \n",
       "148903     267 Scarlett Road  toronto    ON     M6N 4L1  43.677744 -79.506248   \n",
       "23075       1926 Weston Road  toronto    ON     M9N 1W2  43.700356 -79.517524   \n",
       "410     1199 Dundas Street W  toronto    ON     M6J 1X3  43.649166 -79.422498   \n",
       "\n",
       "        stars_business_avg  review_count  is_open  \\\n",
       "39603                  5.0           317        1   \n",
       "148903                 5.0           122        1   \n",
       "23075                  5.0           103        1   \n",
       "410                    5.0            71        1   \n",
       "\n",
       "                                               attributes  \\\n",
       "39603   {'BikeParking': 'True', 'Alcohol': \"u'none'\", ...   \n",
       "148903  {'RestaurantsTakeOut': 'True', 'RestaurantsDel...   \n",
       "23075   {'RestaurantsAttire': \"'casual'\", 'OutdoorSeat...   \n",
       "410     {'BusinessParking': \"{'garage': False, 'street...   \n",
       "\n",
       "                                             categories  \\\n",
       "39603                       Restaurants, Italian, Cafes   \n",
       "148903  Steakhouses, Cajun/Creole, Restaurants, Seafood   \n",
       "23075                              Restaurants, Burgers   \n",
       "410                      Vegan, Restaurants, Vegetarian   \n",
       "\n",
       "                                                    hours  \n",
       "39603   {'Monday': '7:30-18:0', 'Tuesday': '7:30-18:0'...  \n",
       "148903  {'Tuesday': '17:0-21:15', 'Wednesday': '17:0-2...  \n",
       "23075   {'Monday': '0:0-0:0', 'Tuesday': '11:0-21:0', ...  \n",
       "410     {'Monday': '11:0-19:0', 'Tuesday': '11:0-19:0'...  "
      ]
     },
     "execution_count": 27,
     "metadata": {},
     "output_type": "execute_result"
    }
   ],
   "source": [
    "toronto_restaurants_sorted = yelp_restaurants_df.query('city == \"toronto\"').sort_values(['stars_business_avg', 'review_count'], ascending=False)\n",
    "toronto_restaurants_sorted.head(4)"
   ]
  },
  {
   "cell_type": "code",
   "execution_count": 28,
   "metadata": {},
   "outputs": [
    {
     "data": {
      "text/plain": [
       "3"
      ]
     },
     "execution_count": 28,
     "metadata": {},
     "output_type": "execute_result"
    }
   ],
   "source": [
    "len(toronto_restaurants_sorted[toronto_restaurants_sorted.review_count >= 100].query('stars_business_avg == 5.0'))"
   ]
  },
  {
   "cell_type": "markdown",
   "metadata": {},
   "source": [
    "### There are just 3 restaurants in Toronto with a 5 star rating and over a 100 reviews on Yelp"
   ]
  },
  {
   "cell_type": "code",
   "execution_count": 29,
   "metadata": {},
   "outputs": [
    {
     "data": {
      "image/png": "[encoded data removed]",
      "text/plain": [
       "<Figure size 432x288 with 1 Axes>"
      ]
     },
     "metadata": {
      "needs_background": "light"
     },
     "output_type": "display_data"
    }
   ],
   "source": [
    "plt.bar(range(200), toronto_restaurants_sorted.stars_business_avg[:200], width = 0.5)\n",
    "plt.ylabel('stars_business_avg')\n",
    "plt.xlabel('Restaurant Number')\n",
    "plt.title('Distribution of restaurants (according to stars_business_avg)')\n",
    "plt.show()"
   ]
  },
  {
   "cell_type": "markdown",
   "metadata": {},
   "source": [
    "### (2) Phoenix:"
   ]
  },
  {
   "cell_type": "code",
   "execution_count": 30,
   "metadata": {},
   "outputs": [
    {
     "data": {
      "text/html": [
       "<div>\n",
       "<style scoped>\n",
       "    .dataframe tbody tr th:only-of-type {\n",
       "        vertical-align: middle;\n",
       "    }\n",
       "\n",
       "    .dataframe tbody tr th {\n",
       "        vertical-align: top;\n",
       "    }\n",
       "\n",
       "    .dataframe thead th {\n",
       "        text-align: right;\n",
       "    }\n",
       "</style>\n",
       "<table border=\"1\" class=\"dataframe\">\n",
       "  <thead>\n",
       "    <tr style=\"text-align: right;\">\n",
       "      <th></th>\n",
       "      <th>business_id</th>\n",
       "      <th>name</th>\n",
       "      <th>address</th>\n",
       "      <th>city</th>\n",
       "      <th>state</th>\n",
       "      <th>postal_code</th>\n",
       "      <th>latitude</th>\n",
       "      <th>longitude</th>\n",
       "      <th>stars_business_avg</th>\n",
       "      <th>review_count</th>\n",
       "      <th>is_open</th>\n",
       "      <th>attributes</th>\n",
       "      <th>categories</th>\n",
       "      <th>hours</th>\n",
       "    </tr>\n",
       "  </thead>\n",
       "  <tbody>\n",
       "    <tr>\n",
       "      <th>141155</th>\n",
       "      <td>Xg5qEQiB-7L6kGJ5F4K3bQ</td>\n",
       "      <td>Little Miss BBQ</td>\n",
       "      <td>4301 E University Dr</td>\n",
       "      <td>phoenix</td>\n",
       "      <td>AZ</td>\n",
       "      <td>85034</td>\n",
       "      <td>33.421714</td>\n",
       "      <td>-111.989161</td>\n",
       "      <td>5.0</td>\n",
       "      <td>2329</td>\n",
       "      <td>1</td>\n",
       "      <td>{'RestaurantsDelivery': 'False', 'RestaurantsA...</td>\n",
       "      <td>Barbeque, Restaurants</td>\n",
       "      <td>{'Monday': '0:0-0:0', 'Tuesday': '11:0-16:0', ...</td>\n",
       "    </tr>\n",
       "    <tr>\n",
       "      <th>159659</th>\n",
       "      <td>9MVKjEMN5T59uzG1xoD2BQ</td>\n",
       "      <td>Cocina Madrigal</td>\n",
       "      <td>4044 S 16th St</td>\n",
       "      <td>phoenix</td>\n",
       "      <td>AZ</td>\n",
       "      <td>85040</td>\n",
       "      <td>33.408767</td>\n",
       "      <td>-112.047381</td>\n",
       "      <td>5.0</td>\n",
       "      <td>1107</td>\n",
       "      <td>1</td>\n",
       "      <td>{'GoodForKids': 'True', 'WiFi': \"u'free'\", 'Re...</td>\n",
       "      <td>Restaurants, Mexican</td>\n",
       "      <td>{'Monday': '0:0-0:0', 'Tuesday': '11:0-21:0', ...</td>\n",
       "    </tr>\n",
       "    <tr>\n",
       "      <th>24209</th>\n",
       "      <td>mss-LiOfL1vtoNo3WoEoJw</td>\n",
       "      <td>Kiss Pollos Estilo Sinaloa</td>\n",
       "      <td>306 W Yavapai St</td>\n",
       "      <td>phoenix</td>\n",
       "      <td>AZ</td>\n",
       "      <td>85003</td>\n",
       "      <td>33.436169</td>\n",
       "      <td>-112.077588</td>\n",
       "      <td>5.0</td>\n",
       "      <td>234</td>\n",
       "      <td>1</td>\n",
       "      <td>{'Caters': 'True', 'Ambience': \"{'romantic': F...</td>\n",
       "      <td>Restaurants, Salad, American (New), Mexican, T...</td>\n",
       "      <td>{'Monday': '0:0-0:0', 'Tuesday': '10:0-19:0', ...</td>\n",
       "    </tr>\n",
       "  </tbody>\n",
       "</table>\n",
       "</div>"
      ],
      "text/plain": [
       "                   business_id                        name  \\\n",
       "141155  Xg5qEQiB-7L6kGJ5F4K3bQ             Little Miss BBQ   \n",
       "159659  9MVKjEMN5T59uzG1xoD2BQ             Cocina Madrigal   \n",
       "24209   mss-LiOfL1vtoNo3WoEoJw  Kiss Pollos Estilo Sinaloa   \n",
       "\n",
       "                     address     city state postal_code   latitude  \\\n",
       "141155  4301 E University Dr  phoenix    AZ       85034  33.421714   \n",
       "159659        4044 S 16th St  phoenix    AZ       85040  33.408767   \n",
       "24209       306 W Yavapai St  phoenix    AZ       85003  33.436169   \n",
       "\n",
       "         longitude  stars_business_avg  review_count  is_open  \\\n",
       "141155 -111.989161                 5.0          2329        1   \n",
       "159659 -112.047381                 5.0          1107        1   \n",
       "24209  -112.077588                 5.0           234        1   \n",
       "\n",
       "                                               attributes  \\\n",
       "141155  {'RestaurantsDelivery': 'False', 'RestaurantsA...   \n",
       "159659  {'GoodForKids': 'True', 'WiFi': \"u'free'\", 'Re...   \n",
       "24209   {'Caters': 'True', 'Ambience': \"{'romantic': F...   \n",
       "\n",
       "                                               categories  \\\n",
       "141155                              Barbeque, Restaurants   \n",
       "159659                               Restaurants, Mexican   \n",
       "24209   Restaurants, Salad, American (New), Mexican, T...   \n",
       "\n",
       "                                                    hours  \n",
       "141155  {'Monday': '0:0-0:0', 'Tuesday': '11:0-16:0', ...  \n",
       "159659  {'Monday': '0:0-0:0', 'Tuesday': '11:0-21:0', ...  \n",
       "24209   {'Monday': '0:0-0:0', 'Tuesday': '10:0-19:0', ...  "
      ]
     },
     "execution_count": 30,
     "metadata": {},
     "output_type": "execute_result"
    }
   ],
   "source": [
    "phoenix_restaurants_sorted = yelp_restaurants_df.query('city == \"phoenix\"').sort_values(['stars_business_avg', 'review_count'], ascending=False)\n",
    "phoenix_restaurants_sorted.head(3)"
   ]
  },
  {
   "cell_type": "code",
   "execution_count": 31,
   "metadata": {},
   "outputs": [
    {
     "data": {
      "text/plain": [
       "17"
      ]
     },
     "execution_count": 31,
     "metadata": {},
     "output_type": "execute_result"
    }
   ],
   "source": [
    "len(phoenix_restaurants_sorted[phoenix_restaurants_sorted.review_count >= 100].query('stars_business_avg == 5.0'))"
   ]
  },
  {
   "cell_type": "markdown",
   "metadata": {},
   "source": [
    "### There are 17 restaurants in Phoenix with a 5 star rating and over a 100 reviews on Yelp"
   ]
  },
  {
   "cell_type": "code",
   "execution_count": 32,
   "metadata": {},
   "outputs": [
    {
     "data": {
      "image/png": "[encoded data removed]",
      "text/plain": [
       "<Figure size 432x288 with 1 Axes>"
      ]
     },
     "metadata": {
      "needs_background": "light"
     },
     "output_type": "display_data"
    }
   ],
   "source": [
    "plt.bar(range(200), phoenix_restaurants_sorted.stars_business_avg[:200], width = 0.5)\n",
    "plt.ylabel('Stars')\n",
    "plt.xlabel('Restaurant Number')\n",
    "plt.show()"
   ]
  },
  {
   "cell_type": "markdown",
   "metadata": {},
   "source": [
    "### (3) Champaign:"
   ]
  },
  {
   "cell_type": "code",
   "execution_count": 33,
   "metadata": {},
   "outputs": [
    {
     "data": {
      "text/html": [
       "<div>\n",
       "<style scoped>\n",
       "    .dataframe tbody tr th:only-of-type {\n",
       "        vertical-align: middle;\n",
       "    }\n",
       "\n",
       "    .dataframe tbody tr th {\n",
       "        vertical-align: top;\n",
       "    }\n",
       "\n",
       "    .dataframe thead th {\n",
       "        text-align: right;\n",
       "    }\n",
       "</style>\n",
       "<table border=\"1\" class=\"dataframe\">\n",
       "  <thead>\n",
       "    <tr style=\"text-align: right;\">\n",
       "      <th></th>\n",
       "      <th>business_id</th>\n",
       "      <th>name</th>\n",
       "      <th>address</th>\n",
       "      <th>city</th>\n",
       "      <th>state</th>\n",
       "      <th>postal_code</th>\n",
       "      <th>latitude</th>\n",
       "      <th>longitude</th>\n",
       "      <th>stars_business_avg</th>\n",
       "      <th>review_count</th>\n",
       "      <th>is_open</th>\n",
       "      <th>attributes</th>\n",
       "      <th>categories</th>\n",
       "      <th>hours</th>\n",
       "    </tr>\n",
       "  </thead>\n",
       "  <tbody>\n",
       "    <tr>\n",
       "      <th>119219</th>\n",
       "      <td>4hWDMVtfnpyY72_5QMbthA</td>\n",
       "      <td>Old Time Meat &amp; Deli Shoppe</td>\n",
       "      <td>2018 S Neil St</td>\n",
       "      <td>urbana-champaign</td>\n",
       "      <td>IL</td>\n",
       "      <td>61820</td>\n",
       "      <td>40.091901</td>\n",
       "      <td>-88.245362</td>\n",
       "      <td>5.0</td>\n",
       "      <td>46</td>\n",
       "      <td>1</td>\n",
       "      <td>{'BusinessParking': \"{'garage': False, 'street...</td>\n",
       "      <td>Meat Shops, Food, Restaurants, Specialty Food,...</td>\n",
       "      <td>{'Monday': '10:0-18:0', 'Tuesday': '10:0-18:0'...</td>\n",
       "    </tr>\n",
       "    <tr>\n",
       "      <th>85355</th>\n",
       "      <td>5lw5rrhFMz-liykUn8dGSw</td>\n",
       "      <td>Fernando's Food</td>\n",
       "      <td>44 E Sprinfield</td>\n",
       "      <td>urbana-champaign</td>\n",
       "      <td>IL</td>\n",
       "      <td>61820</td>\n",
       "      <td>40.112846</td>\n",
       "      <td>-88.240511</td>\n",
       "      <td>5.0</td>\n",
       "      <td>44</td>\n",
       "      <td>1</td>\n",
       "      <td>{'RestaurantsTakeOut': 'True', 'RestaurantsPri...</td>\n",
       "      <td>Food Delivery Services, Mexican, Food, Food Tr...</td>\n",
       "      <td>{'Monday': '10:0-20:0', 'Tuesday': '10:0-20:0'...</td>\n",
       "    </tr>\n",
       "    <tr>\n",
       "      <th>120949</th>\n",
       "      <td>A_eABcl0LTts73RNo2Np2Q</td>\n",
       "      <td>Krannert Center for the Performing Arts</td>\n",
       "      <td>500 S Goodwin Ave</td>\n",
       "      <td>urbana-champaign</td>\n",
       "      <td>IL</td>\n",
       "      <td>61801</td>\n",
       "      <td>40.108013</td>\n",
       "      <td>-88.222747</td>\n",
       "      <td>5.0</td>\n",
       "      <td>26</td>\n",
       "      <td>1</td>\n",
       "      <td>{'BikeParking': 'True', 'GoodForKids': 'True',...</td>\n",
       "      <td>Health &amp; Medical, Ticket Sales, Music Venues, ...</td>\n",
       "      <td>{'Monday': '10:0-18:0', 'Tuesday': '10:0-18:0'...</td>\n",
       "    </tr>\n",
       "    <tr>\n",
       "      <th>115216</th>\n",
       "      <td>fTcqd-yameQpFg22hNFxsQ</td>\n",
       "      <td>Bossa Nova Cafe</td>\n",
       "      <td>1 E Main St</td>\n",
       "      <td>urbana-champaign</td>\n",
       "      <td>IL</td>\n",
       "      <td>61820</td>\n",
       "      <td>40.118317</td>\n",
       "      <td>-88.243000</td>\n",
       "      <td>5.0</td>\n",
       "      <td>10</td>\n",
       "      <td>1</td>\n",
       "      <td>{'BusinessParking': \"{'garage': False, 'street...</td>\n",
       "      <td>Restaurants, Cafes</td>\n",
       "      <td>{'Monday': '7:0-19:0', 'Tuesday': '7:0-19:0', ...</td>\n",
       "    </tr>\n",
       "  </tbody>\n",
       "</table>\n",
       "</div>"
      ],
      "text/plain": [
       "                   business_id                                     name  \\\n",
       "119219  4hWDMVtfnpyY72_5QMbthA              Old Time Meat & Deli Shoppe   \n",
       "85355   5lw5rrhFMz-liykUn8dGSw                          Fernando's Food   \n",
       "120949  A_eABcl0LTts73RNo2Np2Q  Krannert Center for the Performing Arts   \n",
       "115216  fTcqd-yameQpFg22hNFxsQ                          Bossa Nova Cafe   \n",
       "\n",
       "                  address              city state postal_code   latitude  \\\n",
       "119219     2018 S Neil St  urbana-champaign    IL       61820  40.091901   \n",
       "85355     44 E Sprinfield  urbana-champaign    IL       61820  40.112846   \n",
       "120949  500 S Goodwin Ave  urbana-champaign    IL       61801  40.108013   \n",
       "115216        1 E Main St  urbana-champaign    IL       61820  40.118317   \n",
       "\n",
       "        longitude  stars_business_avg  review_count  is_open  \\\n",
       "119219 -88.245362                 5.0            46        1   \n",
       "85355  -88.240511                 5.0            44        1   \n",
       "120949 -88.222747                 5.0            26        1   \n",
       "115216 -88.243000                 5.0            10        1   \n",
       "\n",
       "                                               attributes  \\\n",
       "119219  {'BusinessParking': \"{'garage': False, 'street...   \n",
       "85355   {'RestaurantsTakeOut': 'True', 'RestaurantsPri...   \n",
       "120949  {'BikeParking': 'True', 'GoodForKids': 'True',...   \n",
       "115216  {'BusinessParking': \"{'garage': False, 'street...   \n",
       "\n",
       "                                               categories  \\\n",
       "119219  Meat Shops, Food, Restaurants, Specialty Food,...   \n",
       "85355   Food Delivery Services, Mexican, Food, Food Tr...   \n",
       "120949  Health & Medical, Ticket Sales, Music Venues, ...   \n",
       "115216                                 Restaurants, Cafes   \n",
       "\n",
       "                                                    hours  \n",
       "119219  {'Monday': '10:0-18:0', 'Tuesday': '10:0-18:0'...  \n",
       "85355   {'Monday': '10:0-20:0', 'Tuesday': '10:0-20:0'...  \n",
       "120949  {'Monday': '10:0-18:0', 'Tuesday': '10:0-18:0'...  \n",
       "115216  {'Monday': '7:0-19:0', 'Tuesday': '7:0-19:0', ...  "
      ]
     },
     "execution_count": 33,
     "metadata": {},
     "output_type": "execute_result"
    }
   ],
   "source": [
    "champaign_restaurants_sorted = yelp_restaurants_df.query('city == \"urbana-champaign\"')\\\n",
    ".sort_values(['stars_business_avg', 'review_count'], ascending=False)\n",
    "champaign_restaurants_sorted.head(4)"
   ]
  },
  {
   "cell_type": "markdown",
   "metadata": {},
   "source": [
    "# Filter out the user-item dataframe for \"urbana-champaign\" city"
   ]
  },
  {
   "cell_type": "code",
   "execution_count": 34,
   "metadata": {},
   "outputs": [],
   "source": [
    "try:\n",
    "    champaign_user_item_df = pd.read_csv('yelp_dataset/champaign_user_item.csv', index_col = 0)\n",
    "except:\n",
    "    champaign_user_item_df = pd.merge(champaign_restaurants_sorted, review_df, how = 'inner', on = 'business_id')\n",
    "    champaign_user_item_df.to_csv('yelp_dataset/champaign_user_item.csv')"
   ]
  },
  {
   "cell_type": "code",
   "execution_count": 35,
   "metadata": {},
   "outputs": [
    {
     "data": {
      "text/plain": [
       "30495"
      ]
     },
     "execution_count": 35,
     "metadata": {},
     "output_type": "execute_result"
    }
   ],
   "source": [
    "len(champaign_user_item_df)"
   ]
  },
  {
   "cell_type": "code",
   "execution_count": 36,
   "metadata": {},
   "outputs": [
    {
     "data": {
      "text/html": [
       "<div>\n",
       "<style scoped>\n",
       "    .dataframe tbody tr th:only-of-type {\n",
       "        vertical-align: middle;\n",
       "    }\n",
       "\n",
       "    .dataframe tbody tr th {\n",
       "        vertical-align: top;\n",
       "    }\n",
       "\n",
       "    .dataframe thead th {\n",
       "        text-align: right;\n",
       "    }\n",
       "</style>\n",
       "<table border=\"1\" class=\"dataframe\">\n",
       "  <thead>\n",
       "    <tr style=\"text-align: right;\">\n",
       "      <th></th>\n",
       "      <th>business_id</th>\n",
       "      <th>name</th>\n",
       "      <th>address</th>\n",
       "      <th>city</th>\n",
       "      <th>state</th>\n",
       "      <th>postal_code</th>\n",
       "      <th>latitude</th>\n",
       "      <th>longitude</th>\n",
       "      <th>stars_business_avg</th>\n",
       "      <th>review_count</th>\n",
       "      <th>...</th>\n",
       "      <th>categories</th>\n",
       "      <th>hours</th>\n",
       "      <th>review_id</th>\n",
       "      <th>user_id</th>\n",
       "      <th>stars</th>\n",
       "      <th>useful</th>\n",
       "      <th>funny</th>\n",
       "      <th>cool</th>\n",
       "      <th>text</th>\n",
       "      <th>date</th>\n",
       "    </tr>\n",
       "  </thead>\n",
       "  <tbody>\n",
       "    <tr>\n",
       "      <th>0</th>\n",
       "      <td>4hWDMVtfnpyY72_5QMbthA</td>\n",
       "      <td>Old Time Meat &amp; Deli Shoppe</td>\n",
       "      <td>2018 S Neil St</td>\n",
       "      <td>urbana-champaign</td>\n",
       "      <td>IL</td>\n",
       "      <td>61820</td>\n",
       "      <td>40.091901</td>\n",
       "      <td>-88.245362</td>\n",
       "      <td>5.0</td>\n",
       "      <td>46</td>\n",
       "      <td>...</td>\n",
       "      <td>Meat Shops, Food, Restaurants, Specialty Food,...</td>\n",
       "      <td>{'Monday': '10:0-18:0', 'Tuesday': '10:0-18:0'...</td>\n",
       "      <td>WruGbPJAuXAl5GP28fH1cA</td>\n",
       "      <td>5rM50rIojxWNQRv0Vmuulg</td>\n",
       "      <td>5.0</td>\n",
       "      <td>0</td>\n",
       "      <td>0</td>\n",
       "      <td>0</td>\n",
       "      <td>This is a wonderful butchershop. Deli selectio...</td>\n",
       "      <td>2011-08-25 01:04:12</td>\n",
       "    </tr>\n",
       "    <tr>\n",
       "      <th>1</th>\n",
       "      <td>4hWDMVtfnpyY72_5QMbthA</td>\n",
       "      <td>Old Time Meat &amp; Deli Shoppe</td>\n",
       "      <td>2018 S Neil St</td>\n",
       "      <td>urbana-champaign</td>\n",
       "      <td>IL</td>\n",
       "      <td>61820</td>\n",
       "      <td>40.091901</td>\n",
       "      <td>-88.245362</td>\n",
       "      <td>5.0</td>\n",
       "      <td>46</td>\n",
       "      <td>...</td>\n",
       "      <td>Meat Shops, Food, Restaurants, Specialty Food,...</td>\n",
       "      <td>{'Monday': '10:0-18:0', 'Tuesday': '10:0-18:0'...</td>\n",
       "      <td>NozR-GCiMHWyhqRbW4TDuA</td>\n",
       "      <td>9ZuE5YJQvNA4PvldrTgmXA</td>\n",
       "      <td>5.0</td>\n",
       "      <td>1</td>\n",
       "      <td>1</td>\n",
       "      <td>1</td>\n",
       "      <td>I'm almost reluctant to give it 5 stars only s...</td>\n",
       "      <td>2016-04-12 05:07:23</td>\n",
       "    </tr>\n",
       "  </tbody>\n",
       "</table>\n",
       "<p>2 rows × 22 columns</p>\n",
       "</div>"
      ],
      "text/plain": [
       "              business_id                         name         address  \\\n",
       "0  4hWDMVtfnpyY72_5QMbthA  Old Time Meat & Deli Shoppe  2018 S Neil St   \n",
       "1  4hWDMVtfnpyY72_5QMbthA  Old Time Meat & Deli Shoppe  2018 S Neil St   \n",
       "\n",
       "               city state postal_code   latitude  longitude  \\\n",
       "0  urbana-champaign    IL       61820  40.091901 -88.245362   \n",
       "1  urbana-champaign    IL       61820  40.091901 -88.245362   \n",
       "\n",
       "   stars_business_avg  review_count  ...  \\\n",
       "0                 5.0            46  ...   \n",
       "1                 5.0            46  ...   \n",
       "\n",
       "                                          categories  \\\n",
       "0  Meat Shops, Food, Restaurants, Specialty Food,...   \n",
       "1  Meat Shops, Food, Restaurants, Specialty Food,...   \n",
       "\n",
       "                                               hours               review_id  \\\n",
       "0  {'Monday': '10:0-18:0', 'Tuesday': '10:0-18:0'...  WruGbPJAuXAl5GP28fH1cA   \n",
       "1  {'Monday': '10:0-18:0', 'Tuesday': '10:0-18:0'...  NozR-GCiMHWyhqRbW4TDuA   \n",
       "\n",
       "                  user_id stars useful  funny  cool  \\\n",
       "0  5rM50rIojxWNQRv0Vmuulg   5.0      0      0     0   \n",
       "1  9ZuE5YJQvNA4PvldrTgmXA   5.0      1      1     1   \n",
       "\n",
       "                                                text                 date  \n",
       "0  This is a wonderful butchershop. Deli selectio...  2011-08-25 01:04:12  \n",
       "1  I'm almost reluctant to give it 5 stars only s...  2016-04-12 05:07:23  \n",
       "\n",
       "[2 rows x 22 columns]"
      ]
     },
     "execution_count": 36,
     "metadata": {},
     "output_type": "execute_result"
    }
   ],
   "source": [
    "champaign_user_item_df.head(2)"
   ]
  },
  {
   "cell_type": "markdown",
   "metadata": {},
   "source": [
    "# Filter out the user-item dataframe for \"toronto\" city"
   ]
  },
  {
   "cell_type": "code",
   "execution_count": 37,
   "metadata": {},
   "outputs": [],
   "source": [
    "try:\n",
    "    toronto_user_item_df = pd.read_csv('yelp_dataset/toronto_user_item.csv', index_col = 0)\n",
    "except:\n",
    "    toronto_user_item_df = pd.merge(toronto_restaurants_sorted, review_df, how = 'inner', on = 'business_id')\n",
    "    toronto_user_item_df.to_csv('yelp_dataset/toronto_user_item.csv')"
   ]
  },
  {
   "cell_type": "code",
   "execution_count": null,
   "metadata": {},
   "outputs": [],
   "source": []
  },
  {
   "cell_type": "code",
   "execution_count": 45,
   "metadata": {},
   "outputs": [
    {
     "data": {
      "text/plain": [
       "432514"
      ]
     },
     "execution_count": 45,
     "metadata": {},
     "output_type": "execute_result"
    }
   ],
   "source": [
    "len(toronto_user_item_df)"
   ]
  },
  {
   "cell_type": "code",
   "execution_count": 39,
   "metadata": {
    "scrolled": true
   },
   "outputs": [
    {
     "data": {
      "text/html": [
       "<div>\n",
       "<style scoped>\n",
       "    .dataframe tbody tr th:only-of-type {\n",
       "        vertical-align: middle;\n",
       "    }\n",
       "\n",
       "    .dataframe tbody tr th {\n",
       "        vertical-align: top;\n",
       "    }\n",
       "\n",
       "    .dataframe thead th {\n",
       "        text-align: right;\n",
       "    }\n",
       "</style>\n",
       "<table border=\"1\" class=\"dataframe\">\n",
       "  <thead>\n",
       "    <tr style=\"text-align: right;\">\n",
       "      <th></th>\n",
       "      <th>business_id</th>\n",
       "      <th>name</th>\n",
       "      <th>address</th>\n",
       "      <th>city</th>\n",
       "      <th>state</th>\n",
       "      <th>postal_code</th>\n",
       "      <th>latitude</th>\n",
       "      <th>longitude</th>\n",
       "      <th>stars_business_avg</th>\n",
       "      <th>review_count</th>\n",
       "      <th>...</th>\n",
       "      <th>categories</th>\n",
       "      <th>hours</th>\n",
       "      <th>review_id</th>\n",
       "      <th>user_id</th>\n",
       "      <th>stars</th>\n",
       "      <th>useful</th>\n",
       "      <th>funny</th>\n",
       "      <th>cool</th>\n",
       "      <th>text</th>\n",
       "      <th>date</th>\n",
       "    </tr>\n",
       "  </thead>\n",
       "  <tbody>\n",
       "    <tr>\n",
       "      <th>0</th>\n",
       "      <td>g6AFW-zY0wDvBl9U82g4zg</td>\n",
       "      <td>Baretto Caffe</td>\n",
       "      <td>1262 Don Mills Road</td>\n",
       "      <td>toronto</td>\n",
       "      <td>ON</td>\n",
       "      <td>M3B 2W7</td>\n",
       "      <td>43.744703</td>\n",
       "      <td>-79.346468</td>\n",
       "      <td>5.0</td>\n",
       "      <td>317</td>\n",
       "      <td>...</td>\n",
       "      <td>Restaurants, Italian, Cafes</td>\n",
       "      <td>{'Monday': '7:30-18:0', 'Tuesday': '7:30-18:0'...</td>\n",
       "      <td>SKBNW4QKNiclQ6mB2AQ8MQ</td>\n",
       "      <td>q3JSVBWICgXfO-zuLAp5fg</td>\n",
       "      <td>3.0</td>\n",
       "      <td>0</td>\n",
       "      <td>0</td>\n",
       "      <td>0</td>\n",
       "      <td>The customer service is on point. The food was...</td>\n",
       "      <td>2018-10-04 10:57:11</td>\n",
       "    </tr>\n",
       "    <tr>\n",
       "      <th>1</th>\n",
       "      <td>g6AFW-zY0wDvBl9U82g4zg</td>\n",
       "      <td>Baretto Caffe</td>\n",
       "      <td>1262 Don Mills Road</td>\n",
       "      <td>toronto</td>\n",
       "      <td>ON</td>\n",
       "      <td>M3B 2W7</td>\n",
       "      <td>43.744703</td>\n",
       "      <td>-79.346468</td>\n",
       "      <td>5.0</td>\n",
       "      <td>317</td>\n",
       "      <td>...</td>\n",
       "      <td>Restaurants, Italian, Cafes</td>\n",
       "      <td>{'Monday': '7:30-18:0', 'Tuesday': '7:30-18:0'...</td>\n",
       "      <td>0dsaJN8eljlYRCqPWN1JCQ</td>\n",
       "      <td>0zW0RwIRwyJ6Qdirqvs5gA</td>\n",
       "      <td>5.0</td>\n",
       "      <td>0</td>\n",
       "      <td>0</td>\n",
       "      <td>0</td>\n",
       "      <td>The staff and workers are really friendly and ...</td>\n",
       "      <td>2017-04-30 13:40:40</td>\n",
       "    </tr>\n",
       "    <tr>\n",
       "      <th>2</th>\n",
       "      <td>g6AFW-zY0wDvBl9U82g4zg</td>\n",
       "      <td>Baretto Caffe</td>\n",
       "      <td>1262 Don Mills Road</td>\n",
       "      <td>toronto</td>\n",
       "      <td>ON</td>\n",
       "      <td>M3B 2W7</td>\n",
       "      <td>43.744703</td>\n",
       "      <td>-79.346468</td>\n",
       "      <td>5.0</td>\n",
       "      <td>317</td>\n",
       "      <td>...</td>\n",
       "      <td>Restaurants, Italian, Cafes</td>\n",
       "      <td>{'Monday': '7:30-18:0', 'Tuesday': '7:30-18:0'...</td>\n",
       "      <td>aPUINDQsgifg_hSROs4TTA</td>\n",
       "      <td>eurxcv4blzrEs7-IgLGt5w</td>\n",
       "      <td>5.0</td>\n",
       "      <td>0</td>\n",
       "      <td>0</td>\n",
       "      <td>0</td>\n",
       "      <td>This is one great cafe. A little hard to find ...</td>\n",
       "      <td>2015-03-18 22:16:23</td>\n",
       "    </tr>\n",
       "  </tbody>\n",
       "</table>\n",
       "<p>3 rows × 22 columns</p>\n",
       "</div>"
      ],
      "text/plain": [
       "              business_id           name              address     city state  \\\n",
       "0  g6AFW-zY0wDvBl9U82g4zg  Baretto Caffe  1262 Don Mills Road  toronto    ON   \n",
       "1  g6AFW-zY0wDvBl9U82g4zg  Baretto Caffe  1262 Don Mills Road  toronto    ON   \n",
       "2  g6AFW-zY0wDvBl9U82g4zg  Baretto Caffe  1262 Don Mills Road  toronto    ON   \n",
       "\n",
       "  postal_code   latitude  longitude  stars_business_avg  review_count  ...  \\\n",
       "0     M3B 2W7  43.744703 -79.346468                 5.0           317  ...   \n",
       "1     M3B 2W7  43.744703 -79.346468                 5.0           317  ...   \n",
       "2     M3B 2W7  43.744703 -79.346468                 5.0           317  ...   \n",
       "\n",
       "                    categories  \\\n",
       "0  Restaurants, Italian, Cafes   \n",
       "1  Restaurants, Italian, Cafes   \n",
       "2  Restaurants, Italian, Cafes   \n",
       "\n",
       "                                               hours               review_id  \\\n",
       "0  {'Monday': '7:30-18:0', 'Tuesday': '7:30-18:0'...  SKBNW4QKNiclQ6mB2AQ8MQ   \n",
       "1  {'Monday': '7:30-18:0', 'Tuesday': '7:30-18:0'...  0dsaJN8eljlYRCqPWN1JCQ   \n",
       "2  {'Monday': '7:30-18:0', 'Tuesday': '7:30-18:0'...  aPUINDQsgifg_hSROs4TTA   \n",
       "\n",
       "                  user_id stars useful  funny  cool  \\\n",
       "0  q3JSVBWICgXfO-zuLAp5fg   3.0      0      0     0   \n",
       "1  0zW0RwIRwyJ6Qdirqvs5gA   5.0      0      0     0   \n",
       "2  eurxcv4blzrEs7-IgLGt5w   5.0      0      0     0   \n",
       "\n",
       "                                                text                 date  \n",
       "0  The customer service is on point. The food was...  2018-10-04 10:57:11  \n",
       "1  The staff and workers are really friendly and ...  2017-04-30 13:40:40  \n",
       "2  This is one great cafe. A little hard to find ...  2015-03-18 22:16:23  \n",
       "\n",
       "[3 rows x 22 columns]"
      ]
     },
     "execution_count": 39,
     "metadata": {},
     "output_type": "execute_result"
    }
   ],
   "source": [
    "toronto_user_item_df.head(3)"
   ]
  },
  {
   "cell_type": "code",
   "execution_count": 48,
   "metadata": {},
   "outputs": [],
   "source": [
    "# Filter the dataset to contain only the users who have reviewed at least 10 restaurants or more\n",
    "grouped = toronto_user_item_df.groupby('user_id')\n",
    "toronto_user_item_filtered_df = grouped.filter(lambda x: x['name'].count() >= 10)\n",
    "\n",
    "df = toronto_user_item_filtered_df.copy()\n",
    "dataset_to_use = df.drop_duplicates(subset = ['business_id', 'user_id']).copy()\n",
    "dataset_to_use.to_csv('yelp_dataset/toronto_user_item_filtered_df.csv')"
   ]
  },
  {
   "cell_type": "code",
   "execution_count": 55,
   "metadata": {},
   "outputs": [],
   "source": [
    "toronto_user_item_final_df = pd.merge(dataset_to_use, user_df, how = 'inner', on = 'user_id')\n",
    "toronto_user_item_final_df.to_csv('yelp_dataset/toronto_user_item_final_df.csv')"
   ]
  },
  {
   "cell_type": "markdown",
   "metadata": {},
   "source": [
    "# BASELINE 1:"
   ]
  },
  {
   "cell_type": "code",
   "execution_count": 41,
   "metadata": {},
   "outputs": [],
   "source": [
    "from Baseline1 import baseline1"
   ]
  },
  {
   "cell_type": "code",
   "execution_count": 42,
   "metadata": {},
   "outputs": [
    {
     "name": "stdout",
     "output_type": "stream",
     "text": [
      "Successfully created train-test data (80:20)\n",
      "Successfully created pivot table for train data\n",
      "Successfully created avg rating for train data\n",
      "Successfully performed SVD\n",
      "Successfully completed test data predictions\n",
      "Root Mean Squared Error is: 1.290005917432121\n",
      "r^2 score is: 0.15770853570431698\n"
     ]
    }
   ],
   "source": [
    "# Baseline for champaign dataset\n",
    "baseline1_champaign_rmse, baseline1_champaign_r2 = baseline1(champaign_user_item_df, verbose = True)"
   ]
  },
  {
   "cell_type": "code",
   "execution_count": 58,
   "metadata": {},
   "outputs": [
    {
     "name": "stdout",
     "output_type": "stream",
     "text": [
      "Successfully created train-test data (80:20)\n"
     ]
    },
    {
     "ename": "MemoryError",
     "evalue": "Unable to allocate 3.48 GiB for an array with shape (89724, 5207) and data type float64",
     "output_type": "error",
     "traceback": [
      "\u001b[1;31m---------------------------------------------------------------------------\u001b[0m",
      "\u001b[1;31mMemoryError\u001b[0m                               Traceback (most recent call last)",
      "\u001b[1;32m<ipython-input-58-edc66186c5a1>\u001b[0m in \u001b[0;36m<module>\u001b[1;34m\u001b[0m\n\u001b[0;32m      1\u001b[0m \u001b[1;31m# Baseline for toronto dataset\u001b[0m\u001b[1;33m\u001b[0m\u001b[1;33m\u001b[0m\u001b[1;33m\u001b[0m\u001b[0m\n\u001b[1;32m----> 2\u001b[1;33m \u001b[0mbaseline1_toronto_rmse\u001b[0m\u001b[1;33m,\u001b[0m \u001b[0mbaseline1_toronto_r2\u001b[0m \u001b[1;33m=\u001b[0m \u001b[0mbaseline1\u001b[0m\u001b[1;33m(\u001b[0m\u001b[0mtoronto_user_item_df\u001b[0m\u001b[1;33m,\u001b[0m \u001b[0mverbose\u001b[0m \u001b[1;33m=\u001b[0m \u001b[1;32mTrue\u001b[0m\u001b[1;33m)\u001b[0m\u001b[1;33m\u001b[0m\u001b[1;33m\u001b[0m\u001b[0m\n\u001b[0m",
      "\u001b[1;32m~\\Documents\\GitHub\\CS_412_Akhilesh_Folder\\Baseline1.py\u001b[0m in \u001b[0;36mbaseline1\u001b[1;34m(data, verbose)\u001b[0m\n\u001b[0;32m     25\u001b[0m \u001b[1;33m\u001b[0m\u001b[0m\n\u001b[0;32m     26\u001b[0m     \u001b[1;31m# Use train data to create crosstab\u001b[0m\u001b[1;33m\u001b[0m\u001b[1;33m\u001b[0m\u001b[1;33m\u001b[0m\u001b[0m\n\u001b[1;32m---> 27\u001b[1;33m     \u001b[0mrating_crosstab\u001b[0m \u001b[1;33m=\u001b[0m \u001b[0mrest_train_data\u001b[0m\u001b[1;33m.\u001b[0m\u001b[0mpivot_table\u001b[0m\u001b[1;33m(\u001b[0m\u001b[0mvalues\u001b[0m\u001b[1;33m=\u001b[0m\u001b[1;34m'stars'\u001b[0m\u001b[1;33m,\u001b[0m \u001b[0mindex\u001b[0m\u001b[1;33m=\u001b[0m\u001b[1;34m'user_id'\u001b[0m\u001b[1;33m,\u001b[0m \u001b[0mcolumns\u001b[0m\u001b[1;33m=\u001b[0m\u001b[1;34m'name'\u001b[0m\u001b[1;33m,\u001b[0m \u001b[0mfill_value\u001b[0m\u001b[1;33m=\u001b[0m\u001b[1;36m0\u001b[0m\u001b[1;33m)\u001b[0m\u001b[1;33m\u001b[0m\u001b[1;33m\u001b[0m\u001b[0m\n\u001b[0m\u001b[0;32m     28\u001b[0m     \u001b[1;31m# display(rating_crosstab.head(3))\u001b[0m\u001b[1;33m\u001b[0m\u001b[1;33m\u001b[0m\u001b[1;33m\u001b[0m\u001b[0m\n\u001b[0;32m     29\u001b[0m     \u001b[0mX\u001b[0m \u001b[1;33m=\u001b[0m \u001b[0mrating_crosstab\u001b[0m\u001b[1;33m.\u001b[0m\u001b[0mvalues\u001b[0m\u001b[1;33m.\u001b[0m\u001b[0mT\u001b[0m\u001b[1;33m\u001b[0m\u001b[1;33m\u001b[0m\u001b[0m\n",
      "\u001b[1;32mC:\\ProgramData\\Anaconda3\\envs\\cs_412\\lib\\site-packages\\pandas\\core\\frame.py\u001b[0m in \u001b[0;36mpivot_table\u001b[1;34m(self, values, index, columns, aggfunc, fill_value, margins, dropna, margins_name, observed)\u001b[0m\n\u001b[0;32m   6820\u001b[0m         \u001b[1;32mfrom\u001b[0m \u001b[0mpandas\u001b[0m\u001b[1;33m.\u001b[0m\u001b[0mcore\u001b[0m\u001b[1;33m.\u001b[0m\u001b[0mreshape\u001b[0m\u001b[1;33m.\u001b[0m\u001b[0mpivot\u001b[0m \u001b[1;32mimport\u001b[0m \u001b[0mpivot_table\u001b[0m\u001b[1;33m\u001b[0m\u001b[1;33m\u001b[0m\u001b[0m\n\u001b[0;32m   6821\u001b[0m \u001b[1;33m\u001b[0m\u001b[0m\n\u001b[1;32m-> 6822\u001b[1;33m         return pivot_table(\n\u001b[0m\u001b[0;32m   6823\u001b[0m             \u001b[0mself\u001b[0m\u001b[1;33m,\u001b[0m\u001b[1;33m\u001b[0m\u001b[1;33m\u001b[0m\u001b[0m\n\u001b[0;32m   6824\u001b[0m             \u001b[0mvalues\u001b[0m\u001b[1;33m=\u001b[0m\u001b[0mvalues\u001b[0m\u001b[1;33m,\u001b[0m\u001b[1;33m\u001b[0m\u001b[1;33m\u001b[0m\u001b[0m\n",
      "\u001b[1;32mC:\\ProgramData\\Anaconda3\\envs\\cs_412\\lib\\site-packages\\pandas\\core\\reshape\\pivot.py\u001b[0m in \u001b[0;36mpivot_table\u001b[1;34m(data, values, index, columns, aggfunc, fill_value, margins, dropna, margins_name, observed)\u001b[0m\n\u001b[0;32m    159\u001b[0m \u001b[1;33m\u001b[0m\u001b[0m\n\u001b[0;32m    160\u001b[0m     \u001b[1;32mif\u001b[0m \u001b[0misinstance\u001b[0m\u001b[1;33m(\u001b[0m\u001b[0mtable\u001b[0m\u001b[1;33m,\u001b[0m \u001b[0mABCDataFrame\u001b[0m\u001b[1;33m)\u001b[0m\u001b[1;33m:\u001b[0m\u001b[1;33m\u001b[0m\u001b[1;33m\u001b[0m\u001b[0m\n\u001b[1;32m--> 161\u001b[1;33m         \u001b[0mtable\u001b[0m \u001b[1;33m=\u001b[0m \u001b[0mtable\u001b[0m\u001b[1;33m.\u001b[0m\u001b[0msort_index\u001b[0m\u001b[1;33m(\u001b[0m\u001b[0maxis\u001b[0m\u001b[1;33m=\u001b[0m\u001b[1;36m1\u001b[0m\u001b[1;33m)\u001b[0m\u001b[1;33m\u001b[0m\u001b[1;33m\u001b[0m\u001b[0m\n\u001b[0m\u001b[0;32m    162\u001b[0m \u001b[1;33m\u001b[0m\u001b[0m\n\u001b[0;32m    163\u001b[0m     \u001b[1;32mif\u001b[0m \u001b[0mfill_value\u001b[0m \u001b[1;32mis\u001b[0m \u001b[1;32mnot\u001b[0m \u001b[1;32mNone\u001b[0m\u001b[1;33m:\u001b[0m\u001b[1;33m\u001b[0m\u001b[1;33m\u001b[0m\u001b[0m\n",
      "\u001b[1;32mC:\\ProgramData\\Anaconda3\\envs\\cs_412\\lib\\site-packages\\pandas\\core\\frame.py\u001b[0m in \u001b[0;36msort_index\u001b[1;34m(self, axis, level, ascending, inplace, kind, na_position, sort_remaining, ignore_index, key)\u001b[0m\n\u001b[0;32m   5462\u001b[0m \u001b[1;33m\u001b[0m\u001b[0m\n\u001b[0;32m   5463\u001b[0m         \u001b[0mbaxis\u001b[0m \u001b[1;33m=\u001b[0m \u001b[0mself\u001b[0m\u001b[1;33m.\u001b[0m\u001b[0m_get_block_manager_axis\u001b[0m\u001b[1;33m(\u001b[0m\u001b[0maxis\u001b[0m\u001b[1;33m)\u001b[0m\u001b[1;33m\u001b[0m\u001b[1;33m\u001b[0m\u001b[0m\n\u001b[1;32m-> 5464\u001b[1;33m         \u001b[0mnew_data\u001b[0m \u001b[1;33m=\u001b[0m \u001b[0mself\u001b[0m\u001b[1;33m.\u001b[0m\u001b[0m_mgr\u001b[0m\u001b[1;33m.\u001b[0m\u001b[0mtake\u001b[0m\u001b[1;33m(\u001b[0m\u001b[0mindexer\u001b[0m\u001b[1;33m,\u001b[0m \u001b[0maxis\u001b[0m\u001b[1;33m=\u001b[0m\u001b[0mbaxis\u001b[0m\u001b[1;33m,\u001b[0m \u001b[0mverify\u001b[0m\u001b[1;33m=\u001b[0m\u001b[1;32mFalse\u001b[0m\u001b[1;33m)\u001b[0m\u001b[1;33m\u001b[0m\u001b[1;33m\u001b[0m\u001b[0m\n\u001b[0m\u001b[0;32m   5465\u001b[0m \u001b[1;33m\u001b[0m\u001b[0m\n\u001b[0;32m   5466\u001b[0m         \u001b[1;31m# reconstruct axis if needed\u001b[0m\u001b[1;33m\u001b[0m\u001b[1;33m\u001b[0m\u001b[1;33m\u001b[0m\u001b[0m\n",
      "\u001b[1;32mC:\\ProgramData\\Anaconda3\\envs\\cs_412\\lib\\site-packages\\pandas\\core\\internals\\managers.py\u001b[0m in \u001b[0;36mtake\u001b[1;34m(self, indexer, axis, verify, convert)\u001b[0m\n\u001b[0;32m   1445\u001b[0m \u001b[1;33m\u001b[0m\u001b[0m\n\u001b[0;32m   1446\u001b[0m         \u001b[0mnew_labels\u001b[0m \u001b[1;33m=\u001b[0m \u001b[0mself\u001b[0m\u001b[1;33m.\u001b[0m\u001b[0maxes\u001b[0m\u001b[1;33m[\u001b[0m\u001b[0maxis\u001b[0m\u001b[1;33m]\u001b[0m\u001b[1;33m.\u001b[0m\u001b[0mtake\u001b[0m\u001b[1;33m(\u001b[0m\u001b[0mindexer\u001b[0m\u001b[1;33m)\u001b[0m\u001b[1;33m\u001b[0m\u001b[1;33m\u001b[0m\u001b[0m\n\u001b[1;32m-> 1447\u001b[1;33m         return self.reindex_indexer(\n\u001b[0m\u001b[0;32m   1448\u001b[0m             \u001b[0mnew_axis\u001b[0m\u001b[1;33m=\u001b[0m\u001b[0mnew_labels\u001b[0m\u001b[1;33m,\u001b[0m \u001b[0mindexer\u001b[0m\u001b[1;33m=\u001b[0m\u001b[0mindexer\u001b[0m\u001b[1;33m,\u001b[0m \u001b[0maxis\u001b[0m\u001b[1;33m=\u001b[0m\u001b[0maxis\u001b[0m\u001b[1;33m,\u001b[0m \u001b[0mallow_dups\u001b[0m\u001b[1;33m=\u001b[0m\u001b[1;32mTrue\u001b[0m\u001b[1;33m\u001b[0m\u001b[1;33m\u001b[0m\u001b[0m\n\u001b[0;32m   1449\u001b[0m         )\n",
      "\u001b[1;32mC:\\ProgramData\\Anaconda3\\envs\\cs_412\\lib\\site-packages\\pandas\\core\\internals\\managers.py\u001b[0m in \u001b[0;36mreindex_indexer\u001b[1;34m(self, new_axis, indexer, axis, fill_value, allow_dups, copy, consolidate)\u001b[0m\n\u001b[0;32m   1280\u001b[0m \u001b[1;33m\u001b[0m\u001b[0m\n\u001b[0;32m   1281\u001b[0m         \u001b[1;32mif\u001b[0m \u001b[0maxis\u001b[0m \u001b[1;33m==\u001b[0m \u001b[1;36m0\u001b[0m\u001b[1;33m:\u001b[0m\u001b[1;33m\u001b[0m\u001b[1;33m\u001b[0m\u001b[0m\n\u001b[1;32m-> 1282\u001b[1;33m             \u001b[0mnew_blocks\u001b[0m \u001b[1;33m=\u001b[0m \u001b[0mself\u001b[0m\u001b[1;33m.\u001b[0m\u001b[0m_slice_take_blocks_ax0\u001b[0m\u001b[1;33m(\u001b[0m\u001b[0mindexer\u001b[0m\u001b[1;33m,\u001b[0m \u001b[0mfill_value\u001b[0m\u001b[1;33m=\u001b[0m\u001b[0mfill_value\u001b[0m\u001b[1;33m)\u001b[0m\u001b[1;33m\u001b[0m\u001b[1;33m\u001b[0m\u001b[0m\n\u001b[0m\u001b[0;32m   1283\u001b[0m         \u001b[1;32melse\u001b[0m\u001b[1;33m:\u001b[0m\u001b[1;33m\u001b[0m\u001b[1;33m\u001b[0m\u001b[0m\n\u001b[0;32m   1284\u001b[0m             new_blocks = [\n",
      "\u001b[1;32mC:\\ProgramData\\Anaconda3\\envs\\cs_412\\lib\\site-packages\\pandas\\core\\internals\\managers.py\u001b[0m in \u001b[0;36m_slice_take_blocks_ax0\u001b[1;34m(self, slice_or_indexer, fill_value, only_slice)\u001b[0m\n\u001b[0;32m   1408\u001b[0m                             \u001b[0mblocks\u001b[0m\u001b[1;33m.\u001b[0m\u001b[0mappend\u001b[0m\u001b[1;33m(\u001b[0m\u001b[0mnb\u001b[0m\u001b[1;33m)\u001b[0m\u001b[1;33m\u001b[0m\u001b[1;33m\u001b[0m\u001b[0m\n\u001b[0;32m   1409\u001b[0m                     \u001b[1;32melse\u001b[0m\u001b[1;33m:\u001b[0m\u001b[1;33m\u001b[0m\u001b[1;33m\u001b[0m\u001b[0m\n\u001b[1;32m-> 1410\u001b[1;33m                         \u001b[0mnb\u001b[0m \u001b[1;33m=\u001b[0m \u001b[0mblk\u001b[0m\u001b[1;33m.\u001b[0m\u001b[0mtake_nd\u001b[0m\u001b[1;33m(\u001b[0m\u001b[0mtaker\u001b[0m\u001b[1;33m,\u001b[0m \u001b[0maxis\u001b[0m\u001b[1;33m=\u001b[0m\u001b[1;36m0\u001b[0m\u001b[1;33m,\u001b[0m \u001b[0mnew_mgr_locs\u001b[0m\u001b[1;33m=\u001b[0m\u001b[0mmgr_locs\u001b[0m\u001b[1;33m)\u001b[0m\u001b[1;33m\u001b[0m\u001b[1;33m\u001b[0m\u001b[0m\n\u001b[0m\u001b[0;32m   1411\u001b[0m                         \u001b[0mblocks\u001b[0m\u001b[1;33m.\u001b[0m\u001b[0mappend\u001b[0m\u001b[1;33m(\u001b[0m\u001b[0mnb\u001b[0m\u001b[1;33m)\u001b[0m\u001b[1;33m\u001b[0m\u001b[1;33m\u001b[0m\u001b[0m\n\u001b[0;32m   1412\u001b[0m \u001b[1;33m\u001b[0m\u001b[0m\n",
      "\u001b[1;32mC:\\ProgramData\\Anaconda3\\envs\\cs_412\\lib\\site-packages\\pandas\\core\\internals\\blocks.py\u001b[0m in \u001b[0;36mtake_nd\u001b[1;34m(self, indexer, axis, new_mgr_locs, fill_value)\u001b[0m\n\u001b[0;32m   1253\u001b[0m             \u001b[0mallow_fill\u001b[0m \u001b[1;33m=\u001b[0m \u001b[1;32mTrue\u001b[0m\u001b[1;33m\u001b[0m\u001b[1;33m\u001b[0m\u001b[0m\n\u001b[0;32m   1254\u001b[0m \u001b[1;33m\u001b[0m\u001b[0m\n\u001b[1;32m-> 1255\u001b[1;33m         new_values = algos.take_nd(\n\u001b[0m\u001b[0;32m   1256\u001b[0m             \u001b[0mvalues\u001b[0m\u001b[1;33m,\u001b[0m \u001b[0mindexer\u001b[0m\u001b[1;33m,\u001b[0m \u001b[0maxis\u001b[0m\u001b[1;33m=\u001b[0m\u001b[0maxis\u001b[0m\u001b[1;33m,\u001b[0m \u001b[0mallow_fill\u001b[0m\u001b[1;33m=\u001b[0m\u001b[0mallow_fill\u001b[0m\u001b[1;33m,\u001b[0m \u001b[0mfill_value\u001b[0m\u001b[1;33m=\u001b[0m\u001b[0mfill_value\u001b[0m\u001b[1;33m\u001b[0m\u001b[1;33m\u001b[0m\u001b[0m\n\u001b[0;32m   1257\u001b[0m         )\n",
      "\u001b[1;32mC:\\ProgramData\\Anaconda3\\envs\\cs_412\\lib\\site-packages\\pandas\\core\\algorithms.py\u001b[0m in \u001b[0;36mtake_nd\u001b[1;34m(arr, indexer, axis, out, fill_value, allow_fill)\u001b[0m\n\u001b[0;32m   1706\u001b[0m             \u001b[0mout\u001b[0m \u001b[1;33m=\u001b[0m \u001b[0mnp\u001b[0m\u001b[1;33m.\u001b[0m\u001b[0mempty\u001b[0m\u001b[1;33m(\u001b[0m\u001b[0mout_shape\u001b[0m\u001b[1;33m,\u001b[0m \u001b[0mdtype\u001b[0m\u001b[1;33m=\u001b[0m\u001b[0mdtype\u001b[0m\u001b[1;33m,\u001b[0m \u001b[0morder\u001b[0m\u001b[1;33m=\u001b[0m\u001b[1;34m\"F\"\u001b[0m\u001b[1;33m)\u001b[0m\u001b[1;33m\u001b[0m\u001b[1;33m\u001b[0m\u001b[0m\n\u001b[0;32m   1707\u001b[0m         \u001b[1;32melse\u001b[0m\u001b[1;33m:\u001b[0m\u001b[1;33m\u001b[0m\u001b[1;33m\u001b[0m\u001b[0m\n\u001b[1;32m-> 1708\u001b[1;33m             \u001b[0mout\u001b[0m \u001b[1;33m=\u001b[0m \u001b[0mnp\u001b[0m\u001b[1;33m.\u001b[0m\u001b[0mempty\u001b[0m\u001b[1;33m(\u001b[0m\u001b[0mout_shape\u001b[0m\u001b[1;33m,\u001b[0m \u001b[0mdtype\u001b[0m\u001b[1;33m=\u001b[0m\u001b[0mdtype\u001b[0m\u001b[1;33m)\u001b[0m\u001b[1;33m\u001b[0m\u001b[1;33m\u001b[0m\u001b[0m\n\u001b[0m\u001b[0;32m   1709\u001b[0m \u001b[1;33m\u001b[0m\u001b[0m\n\u001b[0;32m   1710\u001b[0m     func = _get_take_nd_function(\n",
      "\u001b[1;31mMemoryError\u001b[0m: Unable to allocate 3.48 GiB for an array with shape (89724, 5207) and data type float64"
     ]
    }
   ],
   "source": [
    "# Baseline for toronto dataset\n",
    "baseline1_toronto_rmse, baseline1_toronto_r2 = baseline1(toronto_user_item_df, verbose = True)"
   ]
  },
  {
   "cell_type": "code",
   "execution_count": null,
   "metadata": {},
   "outputs": [],
   "source": []
  }
 ],
 "metadata": {
  "kernelspec": {
   "display_name": "Python 3",
   "language": "python",
   "name": "python3"
  },
  "language_info": {
   "codemirror_mode": {
    "name": "ipython",
    "version": 3
   },
   "file_extension": ".py",
   "mimetype": "text/x-python",
   "name": "python",
   "nbconvert_exporter": "python",
   "pygments_lexer": "ipython3",
   "version": "3.8.5"
  }
 },
 "nbformat": 4,
 "nbformat_minor": 4
}
