{
 "cells": [
  {
   "cell_type": "markdown",
   "metadata": {},
   "source": [
    "# Project: Yelp Dataset\n",
    "# Author: Akhilesh Somani\n",
    "# University of Illinois at Urbana-Champaign"
   ]
  },
  {
   "cell_type": "markdown",
   "metadata": {},
   "source": [
    "# Import basic packages"
   ]
  },
  {
   "cell_type": "code",
   "execution_count": 1,
   "metadata": {},
   "outputs": [],
   "source": [
    "import json, tqdm, time, copy\n",
    "import pandas as pd\n",
    "import matplotlib.pyplot as plt\n",
    "import seaborn as sns\n",
    "import numpy as np\n",
    "sns.set_palette('colorblind')\n",
    "sns.set_context('talk')"
   ]
  },
  {
   "cell_type": "markdown",
   "metadata": {},
   "source": [
    "# Data Preprocessing:"
   ]
  },
  {
   "cell_type": "markdown",
   "metadata": {},
   "source": [
    "## WARNING: MAKE SURE TO EXTRACT THE JSON FILES IN A FOLDER NAMED 'Yelp_Dataset'. The JSON files are later deleted from the local PC to save space"
   ]
  },
  {
   "cell_type": "markdown",
   "metadata": {},
   "source": [
    "## (1) Create filepaths to read data:"
   ]
  },
  {
   "cell_type": "code",
   "execution_count": 2,
   "metadata": {},
   "outputs": [],
   "source": [
    "filename_prefix = 'Yelp_Dataset/yelp_academic_dataset_'\n",
    "all_suffixes = ['business', 'checkin', 'review', 'tip', 'user']\n",
    "filepaths = [filename_prefix + suffix + '.json' for suffix in all_suffixes]\n",
    "csv_filepaths = [filename_prefix + suffix + '.csv' for suffix in all_suffixes]"
   ]
  },
  {
   "cell_type": "markdown",
   "metadata": {},
   "source": [
    "## (2) Function to convert data from json to dataframes and save as csv:"
   ]
  },
  {
   "cell_type": "code",
   "execution_count": 3,
   "metadata": {},
   "outputs": [],
   "source": [
    "def read_write_json_data():\n",
    "    '''\n",
    "    Reads json data into dataframes and writes them as csv files for later use\n",
    "    '''\n",
    "    \n",
    "    # Read JSON files as dataframes    \n",
    "    dataframes = []\n",
    "    for file_num in range(len(filepaths)):\n",
    "        tic = time.time()\n",
    "        data = {}\n",
    "        with open(filepaths[file_num] ,'r', encoding=\"latin-1\") as file:\n",
    "            for line in file:\n",
    "                temp = json.loads(line)\n",
    "\n",
    "                for key, val in temp.items():\n",
    "                    if data.get(key, \"not_found\") == \"not_found\":\n",
    "                        data[key] = [val]\n",
    "                    else:\n",
    "                        data[key].extend([val])\n",
    "\n",
    "        dataframes.append(pd.DataFrame.from_dict(data))\n",
    "\n",
    "        toc = time.time()\n",
    "        print('Time to read {0} json file (in secs): {1}'.format(all_suffixes[file_num], (toc-tic)))\n",
    "    \n",
    "    print('\\n')\n",
    "    \n",
    "    # Save dataframes as csv files\n",
    "    \n",
    "    ctr = 0\n",
    "    for df in dataframes:\n",
    "        tic = time.time()\n",
    "        df.to_csv(csv_filepaths[ctr], index = False)\n",
    "        toc = time.time()\n",
    "        print('Time to save {0} as csv (in secs): {1}'.format(all_suffixes[ctr], (toc-tic)))\n",
    "        ctr += 1\n",
    "        \n",
    "    return dataframes"
   ]
  },
  {
   "cell_type": "markdown",
   "metadata": {},
   "source": [
    "## (3) Function to read csv data directly:"
   ]
  },
  {
   "cell_type": "code",
   "execution_count": 4,
   "metadata": {},
   "outputs": [],
   "source": [
    "def read_csv_data():\n",
    "    '''\n",
    "    Reads csv files and saves them as dataframes\n",
    "    '''\n",
    "    dataframes = []\n",
    "    for file in csv_filepaths:\n",
    "        tic = time.time()\n",
    "        temp = pd.read_csv(file)\n",
    "        dataframes.append(temp)\n",
    "        toc = time.time()\n",
    "        print('Time to read {0} csv into a dataframe (in secs): {1}'.format(all_suffixes[csv_filepaths.index(file)],\\\n",
    "                                                                            (toc-tic)))\n",
    "    return dataframes"
   ]
  },
  {
   "cell_type": "markdown",
   "metadata": {},
   "source": [
    "# Read data as dataframes:"
   ]
  },
  {
   "cell_type": "code",
   "execution_count": 5,
   "metadata": {},
   "outputs": [
    {
     "name": "stdout",
     "output_type": "stream",
     "text": [
      "Time to read business csv into a dataframe (in secs): 1.515984296798706\n",
      "Time to read checkin csv into a dataframe (in secs): 3.599061965942383\n",
      "Time to read review csv into a dataframe (in secs): 102.82181882858276\n",
      "Time to read tip csv into a dataframe (in secs): 3.313185453414917\n"
     ]
    },
    {
     "name": "stderr",
     "output_type": "stream",
     "text": [
      "C:\\ProgramData\\Anaconda3\\lib\\site-packages\\IPython\\core\\interactiveshell.py:3254: DtypeWarning: Columns (7) have mixed types.Specify dtype option on import or set low_memory=False.\n",
      "  if (await self.run_code(code, result,  async_=asy)):\n"
     ]
    },
    {
     "name": "stdout",
     "output_type": "stream",
     "text": [
      "Time to read user csv into a dataframe (in secs): 32.3676176071167\n"
     ]
    }
   ],
   "source": [
    "# If csv files are present, read them directly, else read the JSON files and save them as csv files\n",
    "try:\n",
    "    dataframes = read_csv_data()\n",
    "except:\n",
    "    print('No csv files found')\n",
    "    dataframes = read_write_json_data()"
   ]
  },
  {
   "cell_type": "markdown",
   "metadata": {},
   "source": [
    "# Create 'named' dataframes (for convenience):"
   ]
  },
  {
   "cell_type": "code",
   "execution_count": 13,
   "metadata": {},
   "outputs": [],
   "source": [
    "business_df, checkin_df, review_df = dataframes[0], dataframes[1], dataframes[2]\n",
    "tip_df, user_df = dataframes[3], dataframes[4]"
   ]
  },
  {
   "cell_type": "code",
   "execution_count": 14,
   "metadata": {},
   "outputs": [
    {
     "data": {
      "text/html": [
       "<div>\n",
       "<style scoped>\n",
       "    .dataframe tbody tr th:only-of-type {\n",
       "        vertical-align: middle;\n",
       "    }\n",
       "\n",
       "    .dataframe tbody tr th {\n",
       "        vertical-align: top;\n",
       "    }\n",
       "\n",
       "    .dataframe thead th {\n",
       "        text-align: right;\n",
       "    }\n",
       "</style>\n",
       "<table border=\"1\" class=\"dataframe\">\n",
       "  <thead>\n",
       "    <tr style=\"text-align: right;\">\n",
       "      <th></th>\n",
       "      <th>business_id</th>\n",
       "      <th>name</th>\n",
       "      <th>address</th>\n",
       "      <th>city</th>\n",
       "      <th>state</th>\n",
       "      <th>postal_code</th>\n",
       "      <th>latitude</th>\n",
       "      <th>longitude</th>\n",
       "      <th>stars</th>\n",
       "      <th>review_count</th>\n",
       "      <th>is_open</th>\n",
       "      <th>attributes</th>\n",
       "      <th>categories</th>\n",
       "      <th>hours</th>\n",
       "    </tr>\n",
       "  </thead>\n",
       "  <tbody>\n",
       "    <tr>\n",
       "      <th>0</th>\n",
       "      <td>f9NumwFMBDn751xgFiRbNA</td>\n",
       "      <td>The Range At Lake Norman</td>\n",
       "      <td>10913 Bailey Rd</td>\n",
       "      <td>Cornelius</td>\n",
       "      <td>NC</td>\n",
       "      <td>28031</td>\n",
       "      <td>35.462724</td>\n",
       "      <td>-80.852612</td>\n",
       "      <td>3.5</td>\n",
       "      <td>36</td>\n",
       "      <td>1</td>\n",
       "      <td>{'BusinessAcceptsCreditCards': 'True', 'BikePa...</td>\n",
       "      <td>Active Life, Gun/Rifle Ranges, Guns &amp; Ammo, Sh...</td>\n",
       "      <td>{'Monday': '10:0-18:0', 'Tuesday': '11:0-20:0'...</td>\n",
       "    </tr>\n",
       "    <tr>\n",
       "      <th>1</th>\n",
       "      <td>Yzvjg0SayhoZgCljUJRF9Q</td>\n",
       "      <td>Carlos Santo, NMD</td>\n",
       "      <td>8880 E Via Linda, Ste 107</td>\n",
       "      <td>Scottsdale</td>\n",
       "      <td>AZ</td>\n",
       "      <td>85258</td>\n",
       "      <td>33.569404</td>\n",
       "      <td>-111.890264</td>\n",
       "      <td>5.0</td>\n",
       "      <td>4</td>\n",
       "      <td>1</td>\n",
       "      <td>{'GoodForKids': 'True', 'ByAppointmentOnly': '...</td>\n",
       "      <td>Health &amp; Medical, Fitness &amp; Instruction, Yoga,...</td>\n",
       "      <td>NaN</td>\n",
       "    </tr>\n",
       "    <tr>\n",
       "      <th>2</th>\n",
       "      <td>XNoUzKckATkOD1hP6vghZg</td>\n",
       "      <td>Felinus</td>\n",
       "      <td>3554 Rue Notre-Dame O</td>\n",
       "      <td>Montreal</td>\n",
       "      <td>QC</td>\n",
       "      <td>H4C 1P4</td>\n",
       "      <td>45.479984</td>\n",
       "      <td>-73.580070</td>\n",
       "      <td>5.0</td>\n",
       "      <td>5</td>\n",
       "      <td>1</td>\n",
       "      <td>NaN</td>\n",
       "      <td>Pets, Pet Services, Pet Groomers</td>\n",
       "      <td>NaN</td>\n",
       "    </tr>\n",
       "  </tbody>\n",
       "</table>\n",
       "</div>"
      ],
      "text/plain": [
       "              business_id                      name  \\\n",
       "0  f9NumwFMBDn751xgFiRbNA  The Range At Lake Norman   \n",
       "1  Yzvjg0SayhoZgCljUJRF9Q         Carlos Santo, NMD   \n",
       "2  XNoUzKckATkOD1hP6vghZg                   Felinus   \n",
       "\n",
       "                     address        city state postal_code   latitude  \\\n",
       "0            10913 Bailey Rd   Cornelius    NC       28031  35.462724   \n",
       "1  8880 E Via Linda, Ste 107  Scottsdale    AZ       85258  33.569404   \n",
       "2      3554 Rue Notre-Dame O    Montreal    QC     H4C 1P4  45.479984   \n",
       "\n",
       "    longitude  stars  review_count  is_open  \\\n",
       "0  -80.852612    3.5            36        1   \n",
       "1 -111.890264    5.0             4        1   \n",
       "2  -73.580070    5.0             5        1   \n",
       "\n",
       "                                          attributes  \\\n",
       "0  {'BusinessAcceptsCreditCards': 'True', 'BikePa...   \n",
       "1  {'GoodForKids': 'True', 'ByAppointmentOnly': '...   \n",
       "2                                                NaN   \n",
       "\n",
       "                                          categories  \\\n",
       "0  Active Life, Gun/Rifle Ranges, Guns & Ammo, Sh...   \n",
       "1  Health & Medical, Fitness & Instruction, Yoga,...   \n",
       "2                   Pets, Pet Services, Pet Groomers   \n",
       "\n",
       "                                               hours  \n",
       "0  {'Monday': '10:0-18:0', 'Tuesday': '11:0-20:0'...  \n",
       "1                                                NaN  \n",
       "2                                                NaN  "
      ]
     },
     "execution_count": 14,
     "metadata": {},
     "output_type": "execute_result"
    }
   ],
   "source": [
    "business_df.head(3)"
   ]
  },
  {
   "cell_type": "code",
   "execution_count": 15,
   "metadata": {},
   "outputs": [
    {
     "data": {
      "text/html": [
       "<div>\n",
       "<style scoped>\n",
       "    .dataframe tbody tr th:only-of-type {\n",
       "        vertical-align: middle;\n",
       "    }\n",
       "\n",
       "    .dataframe tbody tr th {\n",
       "        vertical-align: top;\n",
       "    }\n",
       "\n",
       "    .dataframe thead th {\n",
       "        text-align: right;\n",
       "    }\n",
       "</style>\n",
       "<table border=\"1\" class=\"dataframe\">\n",
       "  <thead>\n",
       "    <tr style=\"text-align: right;\">\n",
       "      <th></th>\n",
       "      <th>review_id</th>\n",
       "      <th>user_id</th>\n",
       "      <th>business_id</th>\n",
       "      <th>stars</th>\n",
       "      <th>useful</th>\n",
       "      <th>funny</th>\n",
       "      <th>cool</th>\n",
       "      <th>text</th>\n",
       "      <th>date</th>\n",
       "    </tr>\n",
       "  </thead>\n",
       "  <tbody>\n",
       "    <tr>\n",
       "      <th>0</th>\n",
       "      <td>xQY8N_XvtGbearJ5X4QryQ</td>\n",
       "      <td>OwjRMXRC0KyPrIlcjaXeFQ</td>\n",
       "      <td>-MhfebM0QIsKt87iDN-FNw</td>\n",
       "      <td>2.0</td>\n",
       "      <td>5</td>\n",
       "      <td>0</td>\n",
       "      <td>0</td>\n",
       "      <td>As someone who has worked with many museums, I...</td>\n",
       "      <td>2015-04-15 05:21:16</td>\n",
       "    </tr>\n",
       "    <tr>\n",
       "      <th>1</th>\n",
       "      <td>UmFMZ8PyXZTY2QcwzsfQYA</td>\n",
       "      <td>nIJD_7ZXHq-FX8byPMOkMQ</td>\n",
       "      <td>lbrU8StCq3yDfr-QMnGrmQ</td>\n",
       "      <td>1.0</td>\n",
       "      <td>1</td>\n",
       "      <td>1</td>\n",
       "      <td>0</td>\n",
       "      <td>I am actually horrified this place is still in...</td>\n",
       "      <td>2013-12-07 03:16:52</td>\n",
       "    </tr>\n",
       "    <tr>\n",
       "      <th>2</th>\n",
       "      <td>LG2ZaYiOgpr2DK_90pYjNw</td>\n",
       "      <td>V34qejxNsCbcgD8C0HVk-Q</td>\n",
       "      <td>HQl28KMwrEKHqhFrrDqVNQ</td>\n",
       "      <td>5.0</td>\n",
       "      <td>1</td>\n",
       "      <td>0</td>\n",
       "      <td>0</td>\n",
       "      <td>I love Deagan's. I do. I really do. The atmosp...</td>\n",
       "      <td>2015-12-05 03:18:11</td>\n",
       "    </tr>\n",
       "    <tr>\n",
       "      <th>3</th>\n",
       "      <td>i6g_oA9Yf9Y31qt0wibXpw</td>\n",
       "      <td>ofKDkJKXSKZXu5xJNGiiBQ</td>\n",
       "      <td>5JxlZaqCnk1MnbgRirs40Q</td>\n",
       "      <td>1.0</td>\n",
       "      <td>0</td>\n",
       "      <td>0</td>\n",
       "      <td>0</td>\n",
       "      <td>Dismal, lukewarm, defrosted-tasting \"TexMex\" g...</td>\n",
       "      <td>2011-05-27 05:30:52</td>\n",
       "    </tr>\n",
       "    <tr>\n",
       "      <th>4</th>\n",
       "      <td>6TdNDKywdbjoTkizeMce8A</td>\n",
       "      <td>UgMW8bLE0QMJDCkQ1Ax5Mg</td>\n",
       "      <td>IS4cv902ykd8wj1TR0N3-A</td>\n",
       "      <td>4.0</td>\n",
       "      <td>0</td>\n",
       "      <td>0</td>\n",
       "      <td>0</td>\n",
       "      <td>Oh happy day, finally have a Canes near my cas...</td>\n",
       "      <td>2017-01-14 21:56:57</td>\n",
       "    </tr>\n",
       "  </tbody>\n",
       "</table>\n",
       "</div>"
      ],
      "text/plain": [
       "                review_id                 user_id             business_id  \\\n",
       "0  xQY8N_XvtGbearJ5X4QryQ  OwjRMXRC0KyPrIlcjaXeFQ  -MhfebM0QIsKt87iDN-FNw   \n",
       "1  UmFMZ8PyXZTY2QcwzsfQYA  nIJD_7ZXHq-FX8byPMOkMQ  lbrU8StCq3yDfr-QMnGrmQ   \n",
       "2  LG2ZaYiOgpr2DK_90pYjNw  V34qejxNsCbcgD8C0HVk-Q  HQl28KMwrEKHqhFrrDqVNQ   \n",
       "3  i6g_oA9Yf9Y31qt0wibXpw  ofKDkJKXSKZXu5xJNGiiBQ  5JxlZaqCnk1MnbgRirs40Q   \n",
       "4  6TdNDKywdbjoTkizeMce8A  UgMW8bLE0QMJDCkQ1Ax5Mg  IS4cv902ykd8wj1TR0N3-A   \n",
       "\n",
       "   stars  useful  funny  cool  \\\n",
       "0    2.0       5      0     0   \n",
       "1    1.0       1      1     0   \n",
       "2    5.0       1      0     0   \n",
       "3    1.0       0      0     0   \n",
       "4    4.0       0      0     0   \n",
       "\n",
       "                                                text                 date  \n",
       "0  As someone who has worked with many museums, I...  2015-04-15 05:21:16  \n",
       "1  I am actually horrified this place is still in...  2013-12-07 03:16:52  \n",
       "2  I love Deagan's. I do. I really do. The atmosp...  2015-12-05 03:18:11  \n",
       "3  Dismal, lukewarm, defrosted-tasting \"TexMex\" g...  2011-05-27 05:30:52  \n",
       "4  Oh happy day, finally have a Canes near my cas...  2017-01-14 21:56:57  "
      ]
     },
     "execution_count": 15,
     "metadata": {},
     "output_type": "execute_result"
    }
   ],
   "source": [
    "review_df.head(5)"
   ]
  },
  {
   "cell_type": "code",
   "execution_count": 16,
   "metadata": {},
   "outputs": [
    {
     "data": {
      "text/html": [
       "<div>\n",
       "<style scoped>\n",
       "    .dataframe tbody tr th:only-of-type {\n",
       "        vertical-align: middle;\n",
       "    }\n",
       "\n",
       "    .dataframe tbody tr th {\n",
       "        vertical-align: top;\n",
       "    }\n",
       "\n",
       "    .dataframe thead th {\n",
       "        text-align: right;\n",
       "    }\n",
       "</style>\n",
       "<table border=\"1\" class=\"dataframe\">\n",
       "  <thead>\n",
       "    <tr style=\"text-align: right;\">\n",
       "      <th></th>\n",
       "      <th>user_id</th>\n",
       "      <th>name</th>\n",
       "      <th>review_count</th>\n",
       "      <th>yelping_since</th>\n",
       "      <th>useful</th>\n",
       "      <th>funny</th>\n",
       "      <th>cool</th>\n",
       "      <th>elite</th>\n",
       "      <th>friends</th>\n",
       "      <th>fans</th>\n",
       "      <th>...</th>\n",
       "      <th>compliment_more</th>\n",
       "      <th>compliment_profile</th>\n",
       "      <th>compliment_cute</th>\n",
       "      <th>compliment_list</th>\n",
       "      <th>compliment_note</th>\n",
       "      <th>compliment_plain</th>\n",
       "      <th>compliment_cool</th>\n",
       "      <th>compliment_funny</th>\n",
       "      <th>compliment_writer</th>\n",
       "      <th>compliment_photos</th>\n",
       "    </tr>\n",
       "  </thead>\n",
       "  <tbody>\n",
       "    <tr>\n",
       "      <th>0</th>\n",
       "      <td>ntlvfPzc8eglqvk92iDIAw</td>\n",
       "      <td>Rafael</td>\n",
       "      <td>553</td>\n",
       "      <td>2007-07-06 03:27:11</td>\n",
       "      <td>628</td>\n",
       "      <td>225</td>\n",
       "      <td>227</td>\n",
       "      <td>NaN</td>\n",
       "      <td>oeMvJh94PiGQnx_6GlndPQ, wm1z1PaJKvHgSDRKfwhfDg...</td>\n",
       "      <td>14</td>\n",
       "      <td>...</td>\n",
       "      <td>2</td>\n",
       "      <td>1</td>\n",
       "      <td>0</td>\n",
       "      <td>1</td>\n",
       "      <td>11</td>\n",
       "      <td>15</td>\n",
       "      <td>22</td>\n",
       "      <td>22</td>\n",
       "      <td>10</td>\n",
       "      <td>0</td>\n",
       "    </tr>\n",
       "    <tr>\n",
       "      <th>1</th>\n",
       "      <td>FOBRPlBHa3WPHFB5qYDlVg</td>\n",
       "      <td>Michelle</td>\n",
       "      <td>564</td>\n",
       "      <td>2008-04-28 01:29:25</td>\n",
       "      <td>790</td>\n",
       "      <td>316</td>\n",
       "      <td>400</td>\n",
       "      <td>2008,2009,2010,2011,2012,2013</td>\n",
       "      <td>ly7EnE8leJmyqyePVYFlug, pRlR63iDytsnnniPb3AOug...</td>\n",
       "      <td>27</td>\n",
       "      <td>...</td>\n",
       "      <td>4</td>\n",
       "      <td>5</td>\n",
       "      <td>2</td>\n",
       "      <td>1</td>\n",
       "      <td>33</td>\n",
       "      <td>37</td>\n",
       "      <td>63</td>\n",
       "      <td>63</td>\n",
       "      <td>21</td>\n",
       "      <td>5</td>\n",
       "    </tr>\n",
       "    <tr>\n",
       "      <th>2</th>\n",
       "      <td>zZUnPeh2hEp0WydbAZEOOg</td>\n",
       "      <td>Martin</td>\n",
       "      <td>60</td>\n",
       "      <td>2008-08-28 23:40:05</td>\n",
       "      <td>151</td>\n",
       "      <td>125</td>\n",
       "      <td>103</td>\n",
       "      <td>2010</td>\n",
       "      <td>Uwlk0txjQBPw_JhHsQnyeg, Ybxr1tSCkv3lYA0I1qmnPQ...</td>\n",
       "      <td>5</td>\n",
       "      <td>...</td>\n",
       "      <td>6</td>\n",
       "      <td>0</td>\n",
       "      <td>1</td>\n",
       "      <td>0</td>\n",
       "      <td>3</td>\n",
       "      <td>7</td>\n",
       "      <td>17</td>\n",
       "      <td>17</td>\n",
       "      <td>4</td>\n",
       "      <td>1</td>\n",
       "    </tr>\n",
       "    <tr>\n",
       "      <th>3</th>\n",
       "      <td>QaELAmRcDc5TfJEylaaP8g</td>\n",
       "      <td>John</td>\n",
       "      <td>206</td>\n",
       "      <td>2008-09-20 00:08:14</td>\n",
       "      <td>233</td>\n",
       "      <td>160</td>\n",
       "      <td>84</td>\n",
       "      <td>2009</td>\n",
       "      <td>iog3Nyg1i4jeumiTVG_BSA, M92xWY2Vr9w0xoH8bPplfQ...</td>\n",
       "      <td>6</td>\n",
       "      <td>...</td>\n",
       "      <td>1</td>\n",
       "      <td>0</td>\n",
       "      <td>0</td>\n",
       "      <td>0</td>\n",
       "      <td>7</td>\n",
       "      <td>14</td>\n",
       "      <td>7</td>\n",
       "      <td>7</td>\n",
       "      <td>2</td>\n",
       "      <td>0</td>\n",
       "    </tr>\n",
       "    <tr>\n",
       "      <th>4</th>\n",
       "      <td>xvu8G900tezTzbbfqmTKvA</td>\n",
       "      <td>Anne</td>\n",
       "      <td>485</td>\n",
       "      <td>2008-08-09 00:30:27</td>\n",
       "      <td>1265</td>\n",
       "      <td>400</td>\n",
       "      <td>512</td>\n",
       "      <td>2009,2010,2011,2012,2014,2015,2016,2017,2018</td>\n",
       "      <td>3W3ZMSthojCUirKEqAwGNw, eTIbuu23j9tOgmIa9POyLQ...</td>\n",
       "      <td>78</td>\n",
       "      <td>...</td>\n",
       "      <td>9</td>\n",
       "      <td>2</td>\n",
       "      <td>1</td>\n",
       "      <td>1</td>\n",
       "      <td>22</td>\n",
       "      <td>28</td>\n",
       "      <td>31</td>\n",
       "      <td>31</td>\n",
       "      <td>19</td>\n",
       "      <td>31</td>\n",
       "    </tr>\n",
       "  </tbody>\n",
       "</table>\n",
       "<p>5 rows × 22 columns</p>\n",
       "</div>"
      ],
      "text/plain": [
       "                  user_id      name  review_count        yelping_since  \\\n",
       "0  ntlvfPzc8eglqvk92iDIAw    Rafael           553  2007-07-06 03:27:11   \n",
       "1  FOBRPlBHa3WPHFB5qYDlVg  Michelle           564  2008-04-28 01:29:25   \n",
       "2  zZUnPeh2hEp0WydbAZEOOg    Martin            60  2008-08-28 23:40:05   \n",
       "3  QaELAmRcDc5TfJEylaaP8g      John           206  2008-09-20 00:08:14   \n",
       "4  xvu8G900tezTzbbfqmTKvA      Anne           485  2008-08-09 00:30:27   \n",
       "\n",
       "   useful  funny  cool                                         elite  \\\n",
       "0     628    225   227                                           NaN   \n",
       "1     790    316   400                 2008,2009,2010,2011,2012,2013   \n",
       "2     151    125   103                                          2010   \n",
       "3     233    160    84                                          2009   \n",
       "4    1265    400   512  2009,2010,2011,2012,2014,2015,2016,2017,2018   \n",
       "\n",
       "                                             friends  fans  ...  \\\n",
       "0  oeMvJh94PiGQnx_6GlndPQ, wm1z1PaJKvHgSDRKfwhfDg...    14  ...   \n",
       "1  ly7EnE8leJmyqyePVYFlug, pRlR63iDytsnnniPb3AOug...    27  ...   \n",
       "2  Uwlk0txjQBPw_JhHsQnyeg, Ybxr1tSCkv3lYA0I1qmnPQ...     5  ...   \n",
       "3  iog3Nyg1i4jeumiTVG_BSA, M92xWY2Vr9w0xoH8bPplfQ...     6  ...   \n",
       "4  3W3ZMSthojCUirKEqAwGNw, eTIbuu23j9tOgmIa9POyLQ...    78  ...   \n",
       "\n",
       "   compliment_more  compliment_profile  compliment_cute  compliment_list  \\\n",
       "0                2                   1                0                1   \n",
       "1                4                   5                2                1   \n",
       "2                6                   0                1                0   \n",
       "3                1                   0                0                0   \n",
       "4                9                   2                1                1   \n",
       "\n",
       "   compliment_note  compliment_plain  compliment_cool  compliment_funny  \\\n",
       "0               11                15               22                22   \n",
       "1               33                37               63                63   \n",
       "2                3                 7               17                17   \n",
       "3                7                14                7                 7   \n",
       "4               22                28               31                31   \n",
       "\n",
       "   compliment_writer  compliment_photos  \n",
       "0                 10                  0  \n",
       "1                 21                  5  \n",
       "2                  4                  1  \n",
       "3                  2                  0  \n",
       "4                 19                 31  \n",
       "\n",
       "[5 rows x 22 columns]"
      ]
     },
     "execution_count": 16,
     "metadata": {},
     "output_type": "execute_result"
    }
   ],
   "source": [
    "user_df.head(5)"
   ]
  },
  {
   "cell_type": "code",
   "execution_count": null,
   "metadata": {},
   "outputs": [],
   "source": []
  },
  {
   "cell_type": "markdown",
   "metadata": {},
   "source": [
    "# Data Exploration:"
   ]
  },
  {
   "cell_type": "markdown",
   "metadata": {},
   "source": [
    "## (1) Number of data points:"
   ]
  },
  {
   "cell_type": "code",
   "execution_count": 17,
   "metadata": {},
   "outputs": [
    {
     "name": "stdout",
     "output_type": "stream",
     "text": [
      "Number of data points: business 209.393k\n",
      "Number of data points: checkin 175.187k\n",
      "Number of data points: review 8021.122k\n",
      "Number of data points: tip 1320.761k\n",
      "Number of data points: user 1968.703k\n"
     ]
    }
   ],
   "source": [
    "for ctr in range(len(dataframes)):\n",
    "    print(\"Number of data points: \" + all_suffixes[ctr] + ' ' + str(len(dataframes[ctr]) / 1000) + 'k')"
   ]
  },
  {
   "cell_type": "markdown",
   "metadata": {},
   "source": [
    "## (2) Missing Values:"
   ]
  },
  {
   "cell_type": "code",
   "execution_count": 18,
   "metadata": {},
   "outputs": [],
   "source": [
    "try:\n",
    "    import missingno as msno\n",
    "except: \n",
    "    import sys\n",
    "    !{sys.executable} -m pip install missingno"
   ]
  },
  {
   "cell_type": "code",
   "execution_count": 19,
   "metadata": {},
   "outputs": [
    {
     "data": {
      "text/plain": [
       "<matplotlib.axes._subplots.AxesSubplot at 0x229dae63388>"
      ]
     },
     "execution_count": 19,
     "metadata": {},
     "output_type": "execute_result"
    },
    {
     "data": {
      "image/png": "[encoded data removed]",
      "text/plain": [
       "<Figure size 1800x720 with 2 Axes>"
      ]
     },
     "metadata": {
      "needs_background": "light"
     },
     "output_type": "display_data"
    }
   ],
   "source": [
    "msno.matrix(business_df)"
   ]
  },
  {
   "cell_type": "code",
   "execution_count": 20,
   "metadata": {},
   "outputs": [
    {
     "data": {
      "text/plain": [
       "1251"
      ]
     },
     "execution_count": 20,
     "metadata": {},
     "output_type": "execute_result"
    }
   ],
   "source": [
    "len(business_df.city.unique())"
   ]
  },
  {
   "cell_type": "code",
   "execution_count": 21,
   "metadata": {},
   "outputs": [
    {
     "data": {
      "text/plain": [
       "2"
      ]
     },
     "execution_count": 21,
     "metadata": {},
     "output_type": "execute_result"
    }
   ],
   "source": [
    "sum(business_df.city.isna())"
   ]
  },
  {
   "cell_type": "code",
   "execution_count": 22,
   "metadata": {},
   "outputs": [],
   "source": [
    "business_df.fillna('Null Value', inplace = True)"
   ]
  },
  {
   "cell_type": "code",
   "execution_count": 23,
   "metadata": {},
   "outputs": [
    {
     "data": {
      "text/plain": [
       "city\n",
       "110 Las Vegas         1\n",
       "4321 W Flamingo Rd    1\n",
       "ARSENAL               1\n",
       "AZ                    1\n",
       "Agincourt             2\n",
       "                     ..\n",
       "toronto               3\n",
       "Ãle-Perrot           1\n",
       "Ãle-des-Soeurs       1\n",
       "âAvondale           1\n",
       "âGilbert            1\n",
       "Name: name, Length: 1251, dtype: int64"
      ]
     },
     "execution_count": 23,
     "metadata": {},
     "output_type": "execute_result"
    }
   ],
   "source": [
    "business_df.groupby('city')['name'].count()"
   ]
  },
  {
   "cell_type": "markdown",
   "metadata": {},
   "source": [
    "## Convert all string in the 'city' column to lower case for ease of handling and avoiding data inconsistency"
   ]
  },
  {
   "cell_type": "code",
   "execution_count": 24,
   "metadata": {},
   "outputs": [],
   "source": [
    "business_df.city = business_df.city.str.lower()"
   ]
  },
  {
   "cell_type": "code",
   "execution_count": 25,
   "metadata": {},
   "outputs": [
    {
     "data": {
      "text/plain": [
       "array(['toronto', 'north toronto', 'toronto - front st (ot)',\n",
       "       'toronto-etobicoke', 'toronto division', 'west toronto',\n",
       "       'toronto-north york', 'toronto-west', 'downtown toronto',\n",
       "       'toronto - danforth (ot)'], dtype=object)"
      ]
     },
     "execution_count": 25,
     "metadata": {},
     "output_type": "execute_result"
    }
   ],
   "source": [
    "business_df[business_df.city.str.contains('toronto')].city.unique()"
   ]
  },
  {
   "cell_type": "code",
   "execution_count": 26,
   "metadata": {},
   "outputs": [
    {
     "data": {
      "text/plain": [
       "1753"
      ]
     },
     "execution_count": 26,
     "metadata": {},
     "output_type": "execute_result"
    }
   ],
   "source": [
    "len(business_df[business_df.city.str.contains('champaign|urbana')])"
   ]
  },
  {
   "cell_type": "code",
   "execution_count": 27,
   "metadata": {},
   "outputs": [
    {
     "data": {
      "text/plain": [
       "20205"
      ]
     },
     "execution_count": 27,
     "metadata": {},
     "output_type": "execute_result"
    }
   ],
   "source": [
    "len(business_df[business_df.city.str.contains('phoenix')])"
   ]
  },
  {
   "cell_type": "markdown",
   "metadata": {},
   "source": [
    "## Choose Phoenix and Toronto for further analysis to reduce the dataset we are dealing with:"
   ]
  },
  {
   "cell_type": "code",
   "execution_count": 28,
   "metadata": {},
   "outputs": [
    {
     "data": {
      "text/plain": [
       "40587"
      ]
     },
     "execution_count": 28,
     "metadata": {},
     "output_type": "execute_result"
    }
   ],
   "source": [
    "yelp_business_df = business_df[business_df.city.str.contains('toronto|phoenix')].copy()\n",
    "len(yelp_business_df)"
   ]
  },
  {
   "cell_type": "code",
   "execution_count": 29,
   "metadata": {},
   "outputs": [
    {
     "data": {
      "text/plain": [
       "array(['toronto', 'phoenix', 'north toronto', 'toronto - front st (ot)',\n",
       "       'phoenix ap', 'toronto-etobicoke', 'phoenix ', 'toronto division',\n",
       "       'metro phoenix', 'phoenix, az', 'west toronto',\n",
       "       'toronto-north york', 'toronto-west', 'phoenix metro area',\n",
       "       'downtown toronto', 'north phoenix', 'phoenix valley',\n",
       "       'toronto - danforth (ot)', 'phoenix,', 'phoenix az'], dtype=object)"
      ]
     },
     "execution_count": 29,
     "metadata": {},
     "output_type": "execute_result"
    }
   ],
   "source": [
    "yelp_business_df.city.unique()"
   ]
  },
  {
   "cell_type": "markdown",
   "metadata": {},
   "source": [
    "## Data consistency for 'city':"
   ]
  },
  {
   "cell_type": "code",
   "execution_count": 30,
   "metadata": {},
   "outputs": [
    {
     "data": {
      "text/plain": [
       "array(['toronto', 'phoenix'], dtype=object)"
      ]
     },
     "execution_count": 30,
     "metadata": {},
     "output_type": "execute_result"
    }
   ],
   "source": [
    "yelp_business_df.city.replace(r'^.*toronto.*$', 'toronto', regex = True, inplace = True)\n",
    "yelp_business_df.city.replace(r'^.*phoenix.*$', 'phoenix', regex=True, inplace = True)\n",
    "yelp_business_df.city.unique()"
   ]
  },
  {
   "cell_type": "code",
   "execution_count": 31,
   "metadata": {},
   "outputs": [
    {
     "data": {
      "text/html": [
       "<div>\n",
       "<style scoped>\n",
       "    .dataframe tbody tr th:only-of-type {\n",
       "        vertical-align: middle;\n",
       "    }\n",
       "\n",
       "    .dataframe tbody tr th {\n",
       "        vertical-align: top;\n",
       "    }\n",
       "\n",
       "    .dataframe thead th {\n",
       "        text-align: right;\n",
       "    }\n",
       "</style>\n",
       "<table border=\"1\" class=\"dataframe\">\n",
       "  <thead>\n",
       "    <tr style=\"text-align: right;\">\n",
       "      <th></th>\n",
       "      <th>business_id</th>\n",
       "      <th>name</th>\n",
       "      <th>address</th>\n",
       "      <th>city</th>\n",
       "      <th>state</th>\n",
       "      <th>postal_code</th>\n",
       "      <th>latitude</th>\n",
       "      <th>longitude</th>\n",
       "      <th>stars</th>\n",
       "      <th>review_count</th>\n",
       "      <th>is_open</th>\n",
       "      <th>attributes</th>\n",
       "      <th>categories</th>\n",
       "      <th>hours</th>\n",
       "    </tr>\n",
       "  </thead>\n",
       "  <tbody>\n",
       "    <tr>\n",
       "      <th>9</th>\n",
       "      <td>EosRKXIGeSWFYWwpkbhNnA</td>\n",
       "      <td>Xtreme Couture</td>\n",
       "      <td>700 Kipling Avenue Etobicoke</td>\n",
       "      <td>toronto</td>\n",
       "      <td>ON</td>\n",
       "      <td>M8Z 5G3</td>\n",
       "      <td>43.624539</td>\n",
       "      <td>-79.529108</td>\n",
       "      <td>3.0</td>\n",
       "      <td>16</td>\n",
       "      <td>1</td>\n",
       "      <td>{'GoodForKids': 'True', 'ByAppointmentOnly': '...</td>\n",
       "      <td>Martial Arts, Gyms, Fitness &amp; Instruction, Act...</td>\n",
       "      <td>{'Monday': '5:30-23:0', 'Tuesday': '5:30-23:0'...</td>\n",
       "    </tr>\n",
       "    <tr>\n",
       "      <th>26</th>\n",
       "      <td>1wWneWD_E1pBIyVpdHMaQg</td>\n",
       "      <td>Air Jordan Store</td>\n",
       "      <td>306 Yonge Street</td>\n",
       "      <td>toronto</td>\n",
       "      <td>ON</td>\n",
       "      <td>M5B 1R4</td>\n",
       "      <td>43.656542</td>\n",
       "      <td>-79.381308</td>\n",
       "      <td>4.0</td>\n",
       "      <td>9</td>\n",
       "      <td>1</td>\n",
       "      <td>{'RestaurantsPriceRange2': '3', 'BikeParking':...</td>\n",
       "      <td>Shopping, Shoe Stores, Fashion</td>\n",
       "      <td>{'Monday': '10:0-21:0', 'Tuesday': '10:0-21:0'...</td>\n",
       "    </tr>\n",
       "    <tr>\n",
       "      <th>28</th>\n",
       "      <td>07cgbTbANYhVDfzTMOkB9w</td>\n",
       "      <td>Frontier Automotive</td>\n",
       "      <td>16223 N Cave Creek Rd</td>\n",
       "      <td>phoenix</td>\n",
       "      <td>AZ</td>\n",
       "      <td>85032</td>\n",
       "      <td>33.633689</td>\n",
       "      <td>-112.030435</td>\n",
       "      <td>4.5</td>\n",
       "      <td>17</td>\n",
       "      <td>1</td>\n",
       "      <td>{'BusinessAcceptsCreditCards': 'True'}</td>\n",
       "      <td>Automotive, Auto Repair</td>\n",
       "      <td>{'Monday': '7:30-17:0', 'Tuesday': '9:0-17:0',...</td>\n",
       "    </tr>\n",
       "  </tbody>\n",
       "</table>\n",
       "</div>"
      ],
      "text/plain": [
       "               business_id                 name                       address  \\\n",
       "9   EosRKXIGeSWFYWwpkbhNnA       Xtreme Couture  700 Kipling Avenue Etobicoke   \n",
       "26  1wWneWD_E1pBIyVpdHMaQg     Air Jordan Store              306 Yonge Street   \n",
       "28  07cgbTbANYhVDfzTMOkB9w  Frontier Automotive         16223 N Cave Creek Rd   \n",
       "\n",
       "       city state postal_code   latitude   longitude  stars  review_count  \\\n",
       "9   toronto    ON     M8Z 5G3  43.624539  -79.529108    3.0            16   \n",
       "26  toronto    ON     M5B 1R4  43.656542  -79.381308    4.0             9   \n",
       "28  phoenix    AZ       85032  33.633689 -112.030435    4.5            17   \n",
       "\n",
       "    is_open                                         attributes  \\\n",
       "9         1  {'GoodForKids': 'True', 'ByAppointmentOnly': '...   \n",
       "26        1  {'RestaurantsPriceRange2': '3', 'BikeParking':...   \n",
       "28        1             {'BusinessAcceptsCreditCards': 'True'}   \n",
       "\n",
       "                                           categories  \\\n",
       "9   Martial Arts, Gyms, Fitness & Instruction, Act...   \n",
       "26                     Shopping, Shoe Stores, Fashion   \n",
       "28                            Automotive, Auto Repair   \n",
       "\n",
       "                                                hours  \n",
       "9   {'Monday': '5:30-23:0', 'Tuesday': '5:30-23:0'...  \n",
       "26  {'Monday': '10:0-21:0', 'Tuesday': '10:0-21:0'...  \n",
       "28  {'Monday': '7:30-17:0', 'Tuesday': '9:0-17:0',...  "
      ]
     },
     "execution_count": 31,
     "metadata": {},
     "output_type": "execute_result"
    }
   ],
   "source": [
    "yelp_business_df.head(3)"
   ]
  },
  {
   "cell_type": "markdown",
   "metadata": {},
   "source": [
    "# Sort the restaurants by stars:"
   ]
  },
  {
   "cell_type": "code",
   "execution_count": 32,
   "metadata": {},
   "outputs": [],
   "source": [
    "yelp_restaurants_df = yelp_business_df[yelp_business_df.categories.str.contains('restaurants', case = False)]"
   ]
  },
  {
   "cell_type": "markdown",
   "metadata": {},
   "source": [
    "### (1) Toronto:"
   ]
  },
  {
   "cell_type": "code",
   "execution_count": 57,
   "metadata": {
    "scrolled": true
   },
   "outputs": [
    {
     "data": {
      "text/html": [
       "<div>\n",
       "<style scoped>\n",
       "    .dataframe tbody tr th:only-of-type {\n",
       "        vertical-align: middle;\n",
       "    }\n",
       "\n",
       "    .dataframe tbody tr th {\n",
       "        vertical-align: top;\n",
       "    }\n",
       "\n",
       "    .dataframe thead th {\n",
       "        text-align: right;\n",
       "    }\n",
       "</style>\n",
       "<table border=\"1\" class=\"dataframe\">\n",
       "  <thead>\n",
       "    <tr style=\"text-align: right;\">\n",
       "      <th></th>\n",
       "      <th>business_id</th>\n",
       "      <th>name</th>\n",
       "      <th>address</th>\n",
       "      <th>city</th>\n",
       "      <th>state</th>\n",
       "      <th>postal_code</th>\n",
       "      <th>latitude</th>\n",
       "      <th>longitude</th>\n",
       "      <th>stars</th>\n",
       "      <th>review_count</th>\n",
       "      <th>is_open</th>\n",
       "      <th>attributes</th>\n",
       "      <th>categories</th>\n",
       "      <th>hours</th>\n",
       "    </tr>\n",
       "  </thead>\n",
       "  <tbody>\n",
       "    <tr>\n",
       "      <th>39603</th>\n",
       "      <td>g6AFW-zY0wDvBl9U82g4zg</td>\n",
       "      <td>Baretto Caffe</td>\n",
       "      <td>1262 Don Mills Road</td>\n",
       "      <td>toronto</td>\n",
       "      <td>ON</td>\n",
       "      <td>M3B 2W7</td>\n",
       "      <td>43.744703</td>\n",
       "      <td>-79.346468</td>\n",
       "      <td>5.0</td>\n",
       "      <td>317</td>\n",
       "      <td>1</td>\n",
       "      <td>{'BikeParking': 'True', 'Alcohol': \"u'none'\", ...</td>\n",
       "      <td>Restaurants, Italian, Cafes</td>\n",
       "      <td>{'Monday': '7:30-18:0', 'Tuesday': '7:30-18:0'...</td>\n",
       "    </tr>\n",
       "    <tr>\n",
       "      <th>148903</th>\n",
       "      <td>J9vAdD2dCpFuGsxPIn184w</td>\n",
       "      <td>New Orleans Seafood &amp; Steakhouse</td>\n",
       "      <td>267 Scarlett Road</td>\n",
       "      <td>toronto</td>\n",
       "      <td>ON</td>\n",
       "      <td>M6N 4L1</td>\n",
       "      <td>43.677744</td>\n",
       "      <td>-79.506248</td>\n",
       "      <td>5.0</td>\n",
       "      <td>122</td>\n",
       "      <td>1</td>\n",
       "      <td>{'RestaurantsTakeOut': 'True', 'RestaurantsDel...</td>\n",
       "      <td>Steakhouses, Cajun/Creole, Restaurants, Seafood</td>\n",
       "      <td>{'Tuesday': '17:0-21:15', 'Wednesday': '17:0-2...</td>\n",
       "    </tr>\n",
       "    <tr>\n",
       "      <th>23075</th>\n",
       "      <td>JB8-8TtNYX-vLqN7cz-zHA</td>\n",
       "      <td>Zeal Burgers</td>\n",
       "      <td>1926 Weston Road</td>\n",
       "      <td>toronto</td>\n",
       "      <td>ON</td>\n",
       "      <td>M9N 1W2</td>\n",
       "      <td>43.700356</td>\n",
       "      <td>-79.517524</td>\n",
       "      <td>5.0</td>\n",
       "      <td>103</td>\n",
       "      <td>1</td>\n",
       "      <td>{'RestaurantsAttire': \"'casual'\", 'OutdoorSeat...</td>\n",
       "      <td>Restaurants, Burgers</td>\n",
       "      <td>{'Monday': '0:0-0:0', 'Tuesday': '11:0-21:0', ...</td>\n",
       "    </tr>\n",
       "    <tr>\n",
       "      <th>410</th>\n",
       "      <td>VUADGMPLJoWqhHb1G4LIcA</td>\n",
       "      <td>Veghed</td>\n",
       "      <td>1199 Dundas Street W</td>\n",
       "      <td>toronto</td>\n",
       "      <td>ON</td>\n",
       "      <td>M6J 1X3</td>\n",
       "      <td>43.649166</td>\n",
       "      <td>-79.422498</td>\n",
       "      <td>5.0</td>\n",
       "      <td>71</td>\n",
       "      <td>1</td>\n",
       "      <td>{'BusinessParking': \"{'garage': False, 'street...</td>\n",
       "      <td>Vegan, Restaurants, Vegetarian</td>\n",
       "      <td>{'Monday': '11:0-19:0', 'Tuesday': '11:0-19:0'...</td>\n",
       "    </tr>\n",
       "  </tbody>\n",
       "</table>\n",
       "</div>"
      ],
      "text/plain": [
       "                   business_id                              name  \\\n",
       "39603   g6AFW-zY0wDvBl9U82g4zg                     Baretto Caffe   \n",
       "148903  J9vAdD2dCpFuGsxPIn184w  New Orleans Seafood & Steakhouse   \n",
       "23075   JB8-8TtNYX-vLqN7cz-zHA                      Zeal Burgers   \n",
       "410     VUADGMPLJoWqhHb1G4LIcA                            Veghed   \n",
       "\n",
       "                     address     city state postal_code   latitude  longitude  \\\n",
       "39603    1262 Don Mills Road  toronto    ON     M3B 2W7  43.744703 -79.346468   \n",
       "148903     267 Scarlett Road  toronto    ON     M6N 4L1  43.677744 -79.506248   \n",
       "23075       1926 Weston Road  toronto    ON     M9N 1W2  43.700356 -79.517524   \n",
       "410     1199 Dundas Street W  toronto    ON     M6J 1X3  43.649166 -79.422498   \n",
       "\n",
       "        stars  review_count  is_open  \\\n",
       "39603     5.0           317        1   \n",
       "148903    5.0           122        1   \n",
       "23075     5.0           103        1   \n",
       "410       5.0            71        1   \n",
       "\n",
       "                                               attributes  \\\n",
       "39603   {'BikeParking': 'True', 'Alcohol': \"u'none'\", ...   \n",
       "148903  {'RestaurantsTakeOut': 'True', 'RestaurantsDel...   \n",
       "23075   {'RestaurantsAttire': \"'casual'\", 'OutdoorSeat...   \n",
       "410     {'BusinessParking': \"{'garage': False, 'street...   \n",
       "\n",
       "                                             categories  \\\n",
       "39603                       Restaurants, Italian, Cafes   \n",
       "148903  Steakhouses, Cajun/Creole, Restaurants, Seafood   \n",
       "23075                              Restaurants, Burgers   \n",
       "410                      Vegan, Restaurants, Vegetarian   \n",
       "\n",
       "                                                    hours  \n",
       "39603   {'Monday': '7:30-18:0', 'Tuesday': '7:30-18:0'...  \n",
       "148903  {'Tuesday': '17:0-21:15', 'Wednesday': '17:0-2...  \n",
       "23075   {'Monday': '0:0-0:0', 'Tuesday': '11:0-21:0', ...  \n",
       "410     {'Monday': '11:0-19:0', 'Tuesday': '11:0-19:0'...  "
      ]
     },
     "execution_count": 57,
     "metadata": {},
     "output_type": "execute_result"
    }
   ],
   "source": [
    "toronto_restaurants_sorted = yelp_restaurants_df.query('city == \"toronto\"').sort_values(['stars', 'review_count'], ascending=False)\n",
    "toronto_restaurants_sorted.head(4)"
   ]
  },
  {
   "cell_type": "code",
   "execution_count": 58,
   "metadata": {},
   "outputs": [
    {
     "data": {
      "text/plain": [
       "3"
      ]
     },
     "execution_count": 58,
     "metadata": {},
     "output_type": "execute_result"
    }
   ],
   "source": [
    "len(toronto_restaurants_sorted[toronto_restaurants_sorted.review_count >= 100].query('stars == 5.0'))"
   ]
  },
  {
   "cell_type": "markdown",
   "metadata": {},
   "source": [
    "### There are just 3 restaurants in Toronto with a 5 star rating and over a 100 reviews on Yelp"
   ]
  },
  {
   "cell_type": "code",
   "execution_count": 59,
   "metadata": {},
   "outputs": [
    {
     "data": {
      "image/png": "[encoded data removed]",
      "text/plain": [
       "<Figure size 432x288 with 1 Axes>"
      ]
     },
     "metadata": {
      "needs_background": "light"
     },
     "output_type": "display_data"
    }
   ],
   "source": [
    "plt.bar(range(200), toronto_restaurants_sorted.stars[:200], width = 0.5)\n",
    "plt.ylabel('Stars')\n",
    "plt.xlabel('Restaurant Number')\n",
    "plt.title('Distribution of restaurants (according to stars)')\n",
    "plt.show()"
   ]
  },
  {
   "cell_type": "markdown",
   "metadata": {},
   "source": [
    "### (2) Phoenix:"
   ]
  },
  {
   "cell_type": "code",
   "execution_count": 60,
   "metadata": {},
   "outputs": [
    {
     "data": {
      "text/html": [
       "<div>\n",
       "<style scoped>\n",
       "    .dataframe tbody tr th:only-of-type {\n",
       "        vertical-align: middle;\n",
       "    }\n",
       "\n",
       "    .dataframe tbody tr th {\n",
       "        vertical-align: top;\n",
       "    }\n",
       "\n",
       "    .dataframe thead th {\n",
       "        text-align: right;\n",
       "    }\n",
       "</style>\n",
       "<table border=\"1\" class=\"dataframe\">\n",
       "  <thead>\n",
       "    <tr style=\"text-align: right;\">\n",
       "      <th></th>\n",
       "      <th>business_id</th>\n",
       "      <th>name</th>\n",
       "      <th>address</th>\n",
       "      <th>city</th>\n",
       "      <th>state</th>\n",
       "      <th>postal_code</th>\n",
       "      <th>latitude</th>\n",
       "      <th>longitude</th>\n",
       "      <th>stars</th>\n",
       "      <th>review_count</th>\n",
       "      <th>is_open</th>\n",
       "      <th>attributes</th>\n",
       "      <th>categories</th>\n",
       "      <th>hours</th>\n",
       "    </tr>\n",
       "  </thead>\n",
       "  <tbody>\n",
       "    <tr>\n",
       "      <th>141155</th>\n",
       "      <td>Xg5qEQiB-7L6kGJ5F4K3bQ</td>\n",
       "      <td>Little Miss BBQ</td>\n",
       "      <td>4301 E University Dr</td>\n",
       "      <td>phoenix</td>\n",
       "      <td>AZ</td>\n",
       "      <td>85034</td>\n",
       "      <td>33.421714</td>\n",
       "      <td>-111.989161</td>\n",
       "      <td>5.0</td>\n",
       "      <td>2329</td>\n",
       "      <td>1</td>\n",
       "      <td>{'RestaurantsDelivery': 'False', 'RestaurantsA...</td>\n",
       "      <td>Barbeque, Restaurants</td>\n",
       "      <td>{'Monday': '0:0-0:0', 'Tuesday': '11:0-16:0', ...</td>\n",
       "    </tr>\n",
       "    <tr>\n",
       "      <th>159659</th>\n",
       "      <td>9MVKjEMN5T59uzG1xoD2BQ</td>\n",
       "      <td>Cocina Madrigal</td>\n",
       "      <td>4044 S 16th St</td>\n",
       "      <td>phoenix</td>\n",
       "      <td>AZ</td>\n",
       "      <td>85040</td>\n",
       "      <td>33.408767</td>\n",
       "      <td>-112.047381</td>\n",
       "      <td>5.0</td>\n",
       "      <td>1107</td>\n",
       "      <td>1</td>\n",
       "      <td>{'GoodForKids': 'True', 'WiFi': \"u'free'\", 'Re...</td>\n",
       "      <td>Restaurants, Mexican</td>\n",
       "      <td>{'Monday': '0:0-0:0', 'Tuesday': '11:0-21:0', ...</td>\n",
       "    </tr>\n",
       "    <tr>\n",
       "      <th>24209</th>\n",
       "      <td>mss-LiOfL1vtoNo3WoEoJw</td>\n",
       "      <td>Kiss Pollos Estilo Sinaloa</td>\n",
       "      <td>306 W Yavapai St</td>\n",
       "      <td>phoenix</td>\n",
       "      <td>AZ</td>\n",
       "      <td>85003</td>\n",
       "      <td>33.436169</td>\n",
       "      <td>-112.077588</td>\n",
       "      <td>5.0</td>\n",
       "      <td>234</td>\n",
       "      <td>1</td>\n",
       "      <td>{'Caters': 'True', 'Ambience': \"{'romantic': F...</td>\n",
       "      <td>Restaurants, Salad, American (New), Mexican, T...</td>\n",
       "      <td>{'Monday': '0:0-0:0', 'Tuesday': '10:0-19:0', ...</td>\n",
       "    </tr>\n",
       "  </tbody>\n",
       "</table>\n",
       "</div>"
      ],
      "text/plain": [
       "                   business_id                        name  \\\n",
       "141155  Xg5qEQiB-7L6kGJ5F4K3bQ             Little Miss BBQ   \n",
       "159659  9MVKjEMN5T59uzG1xoD2BQ             Cocina Madrigal   \n",
       "24209   mss-LiOfL1vtoNo3WoEoJw  Kiss Pollos Estilo Sinaloa   \n",
       "\n",
       "                     address     city state postal_code   latitude  \\\n",
       "141155  4301 E University Dr  phoenix    AZ       85034  33.421714   \n",
       "159659        4044 S 16th St  phoenix    AZ       85040  33.408767   \n",
       "24209       306 W Yavapai St  phoenix    AZ       85003  33.436169   \n",
       "\n",
       "         longitude  stars  review_count  is_open  \\\n",
       "141155 -111.989161    5.0          2329        1   \n",
       "159659 -112.047381    5.0          1107        1   \n",
       "24209  -112.077588    5.0           234        1   \n",
       "\n",
       "                                               attributes  \\\n",
       "141155  {'RestaurantsDelivery': 'False', 'RestaurantsA...   \n",
       "159659  {'GoodForKids': 'True', 'WiFi': \"u'free'\", 'Re...   \n",
       "24209   {'Caters': 'True', 'Ambience': \"{'romantic': F...   \n",
       "\n",
       "                                               categories  \\\n",
       "141155                              Barbeque, Restaurants   \n",
       "159659                               Restaurants, Mexican   \n",
       "24209   Restaurants, Salad, American (New), Mexican, T...   \n",
       "\n",
       "                                                    hours  \n",
       "141155  {'Monday': '0:0-0:0', 'Tuesday': '11:0-16:0', ...  \n",
       "159659  {'Monday': '0:0-0:0', 'Tuesday': '11:0-21:0', ...  \n",
       "24209   {'Monday': '0:0-0:0', 'Tuesday': '10:0-19:0', ...  "
      ]
     },
     "execution_count": 60,
     "metadata": {},
     "output_type": "execute_result"
    }
   ],
   "source": [
    "phoenix_restaurants_sorted = yelp_restaurants_df.query('city == \"phoenix\"').sort_values(['stars', 'review_count'], ascending=False)\n",
    "phoenix_restaurants_sorted.head(3)"
   ]
  },
  {
   "cell_type": "code",
   "execution_count": 61,
   "metadata": {},
   "outputs": [
    {
     "data": {
      "text/plain": [
       "17"
      ]
     },
     "execution_count": 61,
     "metadata": {},
     "output_type": "execute_result"
    }
   ],
   "source": [
    "len(phoenix_restaurants_sorted[phoenix_restaurants_sorted.review_count >= 100].query('stars == 5.0'))"
   ]
  },
  {
   "cell_type": "markdown",
   "metadata": {},
   "source": [
    "### There are 17 restaurants in Phoenix with a 5 star rating and over a 100 reviews on Yelp"
   ]
  },
  {
   "cell_type": "code",
   "execution_count": 62,
   "metadata": {},
   "outputs": [
    {
     "data": {
      "image/png": "[encoded data removed]",
      "text/plain": [
       "<Figure size 432x288 with 1 Axes>"
      ]
     },
     "metadata": {
      "needs_background": "light"
     },
     "output_type": "display_data"
    }
   ],
   "source": [
    "plt.bar(range(200), phoenix_restaurants_sorted.stars[:200], width = 0.5)\n",
    "plt.ylabel('Stars')\n",
    "plt.xlabel('Restaurant Number')\n",
    "plt.show()"
   ]
  },
  {
   "cell_type": "markdown",
   "metadata": {},
   "source": [
    "### (3) Champaign:"
   ]
  },
  {
   "cell_type": "code",
   "execution_count": 63,
   "metadata": {},
   "outputs": [
    {
     "data": {
      "text/plain": [
       "1753"
      ]
     },
     "execution_count": 63,
     "metadata": {},
     "output_type": "execute_result"
    }
   ],
   "source": [
    "champaign_business_df = business_df[business_df.city.str.contains('urbana|champaign')].copy()\n",
    "len(champaign_business_df)"
   ]
  },
  {
   "cell_type": "code",
   "execution_count": 64,
   "metadata": {},
   "outputs": [
    {
     "data": {
      "text/plain": [
       "array(['champaign', 'urbana', 'urbana, illinois'], dtype=object)"
      ]
     },
     "execution_count": 64,
     "metadata": {},
     "output_type": "execute_result"
    }
   ],
   "source": [
    "champaign_business_df.city.unique()"
   ]
  },
  {
   "cell_type": "markdown",
   "metadata": {},
   "source": [
    "### Data consistency for 'city':"
   ]
  },
  {
   "cell_type": "code",
   "execution_count": 65,
   "metadata": {},
   "outputs": [
    {
     "data": {
      "text/plain": [
       "array(['urbana-champaign'], dtype=object)"
      ]
     },
     "execution_count": 65,
     "metadata": {},
     "output_type": "execute_result"
    }
   ],
   "source": [
    "champaign_business_df.city.replace(r'^.*champaign.*$', 'urbana-champaign', regex = True, inplace = True)\n",
    "champaign_business_df.city.replace(r'^.*urbana.*$', 'urbana-champaign', regex=True, inplace = True)\n",
    "champaign_business_df.city.unique()"
   ]
  },
  {
   "cell_type": "markdown",
   "metadata": {},
   "source": [
    "# Filter out the user-item dataframe for \"urbana-champaign\" city"
   ]
  },
  {
   "cell_type": "code",
   "execution_count": 66,
   "metadata": {},
   "outputs": [],
   "source": [
    "champaign_user_item_df = pd.merge(champaign_business_df, review_df, how = 'inner', on = 'business_id')"
   ]
  },
  {
   "cell_type": "code",
   "execution_count": 67,
   "metadata": {},
   "outputs": [
    {
     "data": {
      "text/plain": [
       "44457"
      ]
     },
     "execution_count": 67,
     "metadata": {},
     "output_type": "execute_result"
    }
   ],
   "source": [
    "len(champaign_user_item_df)"
   ]
  },
  {
   "cell_type": "code",
   "execution_count": 72,
   "metadata": {},
   "outputs": [
    {
     "data": {
      "text/html": [
       "<div>\n",
       "<style scoped>\n",
       "    .dataframe tbody tr th:only-of-type {\n",
       "        vertical-align: middle;\n",
       "    }\n",
       "\n",
       "    .dataframe tbody tr th {\n",
       "        vertical-align: top;\n",
       "    }\n",
       "\n",
       "    .dataframe thead th {\n",
       "        text-align: right;\n",
       "    }\n",
       "</style>\n",
       "<table border=\"1\" class=\"dataframe\">\n",
       "  <thead>\n",
       "    <tr style=\"text-align: right;\">\n",
       "      <th></th>\n",
       "      <th>business_id</th>\n",
       "      <th>name</th>\n",
       "      <th>address</th>\n",
       "      <th>city</th>\n",
       "      <th>state</th>\n",
       "      <th>postal_code</th>\n",
       "      <th>latitude</th>\n",
       "      <th>longitude</th>\n",
       "      <th>stars_x</th>\n",
       "      <th>review_count</th>\n",
       "      <th>...</th>\n",
       "      <th>categories</th>\n",
       "      <th>hours</th>\n",
       "      <th>review_id</th>\n",
       "      <th>user_id</th>\n",
       "      <th>stars_y</th>\n",
       "      <th>useful</th>\n",
       "      <th>funny</th>\n",
       "      <th>cool</th>\n",
       "      <th>text</th>\n",
       "      <th>date</th>\n",
       "    </tr>\n",
       "  </thead>\n",
       "  <tbody>\n",
       "    <tr>\n",
       "      <th>0</th>\n",
       "      <td>pQeaRpvuhoEqudo3uymHIQ</td>\n",
       "      <td>The Empanadas House</td>\n",
       "      <td>404 E Green St</td>\n",
       "      <td>urbana-champaign</td>\n",
       "      <td>IL</td>\n",
       "      <td>61820</td>\n",
       "      <td>40.110446</td>\n",
       "      <td>-88.233073</td>\n",
       "      <td>4.5</td>\n",
       "      <td>5</td>\n",
       "      <td>...</td>\n",
       "      <td>Ethnic Food, Food Trucks, Specialty Food, Impo...</td>\n",
       "      <td>{'Monday': '11:30-14:30', 'Tuesday': '11:30-14...</td>\n",
       "      <td>2TtLt9skrBwBM6QGEhFYCg</td>\n",
       "      <td>eSQ3z93DlzkpXK_H6MFEMw</td>\n",
       "      <td>5.0</td>\n",
       "      <td>0</td>\n",
       "      <td>0</td>\n",
       "      <td>0</td>\n",
       "      <td>I love the empanadas from the Empanadas House!...</td>\n",
       "      <td>2013-04-11 18:36:15</td>\n",
       "    </tr>\n",
       "    <tr>\n",
       "      <th>1</th>\n",
       "      <td>pQeaRpvuhoEqudo3uymHIQ</td>\n",
       "      <td>The Empanadas House</td>\n",
       "      <td>404 E Green St</td>\n",
       "      <td>urbana-champaign</td>\n",
       "      <td>IL</td>\n",
       "      <td>61820</td>\n",
       "      <td>40.110446</td>\n",
       "      <td>-88.233073</td>\n",
       "      <td>4.5</td>\n",
       "      <td>5</td>\n",
       "      <td>...</td>\n",
       "      <td>Ethnic Food, Food Trucks, Specialty Food, Impo...</td>\n",
       "      <td>{'Monday': '11:30-14:30', 'Tuesday': '11:30-14...</td>\n",
       "      <td>G16jgK2n4QgEfAr4YIs0iA</td>\n",
       "      <td>5So3uZiWDmow4eG8Va0WhQ</td>\n",
       "      <td>5.0</td>\n",
       "      <td>0</td>\n",
       "      <td>0</td>\n",
       "      <td>0</td>\n",
       "      <td>I ordered feta cheese and spinach empanadas an...</td>\n",
       "      <td>2017-09-21 17:45:53</td>\n",
       "    </tr>\n",
       "  </tbody>\n",
       "</table>\n",
       "<p>2 rows × 22 columns</p>\n",
       "</div>"
      ],
      "text/plain": [
       "              business_id                 name         address  \\\n",
       "0  pQeaRpvuhoEqudo3uymHIQ  The Empanadas House  404 E Green St   \n",
       "1  pQeaRpvuhoEqudo3uymHIQ  The Empanadas House  404 E Green St   \n",
       "\n",
       "               city state postal_code   latitude  longitude  stars_x  \\\n",
       "0  urbana-champaign    IL       61820  40.110446 -88.233073      4.5   \n",
       "1  urbana-champaign    IL       61820  40.110446 -88.233073      4.5   \n",
       "\n",
       "   review_count  ...                                         categories  \\\n",
       "0             5  ...  Ethnic Food, Food Trucks, Specialty Food, Impo...   \n",
       "1             5  ...  Ethnic Food, Food Trucks, Specialty Food, Impo...   \n",
       "\n",
       "                                               hours               review_id  \\\n",
       "0  {'Monday': '11:30-14:30', 'Tuesday': '11:30-14...  2TtLt9skrBwBM6QGEhFYCg   \n",
       "1  {'Monday': '11:30-14:30', 'Tuesday': '11:30-14...  G16jgK2n4QgEfAr4YIs0iA   \n",
       "\n",
       "                  user_id stars_y useful  funny  cool  \\\n",
       "0  eSQ3z93DlzkpXK_H6MFEMw     5.0      0      0     0   \n",
       "1  5So3uZiWDmow4eG8Va0WhQ     5.0      0      0     0   \n",
       "\n",
       "                                                text                 date  \n",
       "0  I love the empanadas from the Empanadas House!...  2013-04-11 18:36:15  \n",
       "1  I ordered feta cheese and spinach empanadas an...  2017-09-21 17:45:53  \n",
       "\n",
       "[2 rows x 22 columns]"
      ]
     },
     "execution_count": 72,
     "metadata": {},
     "output_type": "execute_result"
    }
   ],
   "source": [
    "champaign_user_item_df.head(2)"
   ]
  },
  {
   "cell_type": "code",
   "execution_count": 69,
   "metadata": {},
   "outputs": [],
   "source": [
    "champaign_user_item_df.to_csv('Yelp_Dataset/champaign_user_item.csv')"
   ]
  },
  {
   "cell_type": "markdown",
   "metadata": {},
   "source": [
    "# Filter out the user-item dataframe for \"toronto\" city"
   ]
  },
  {
   "cell_type": "code",
   "execution_count": 43,
   "metadata": {},
   "outputs": [],
   "source": [
    "toronto_user_item_df = pd.merge(toronto_restaurants_sorted, review_df, how = 'inner', on = 'business_id')"
   ]
  },
  {
   "cell_type": "code",
   "execution_count": 44,
   "metadata": {},
   "outputs": [
    {
     "data": {
      "text/plain": [
       "432514"
      ]
     },
     "execution_count": 44,
     "metadata": {},
     "output_type": "execute_result"
    }
   ],
   "source": [
    "len(toronto_user_item_df)"
   ]
  },
  {
   "cell_type": "code",
   "execution_count": 45,
   "metadata": {},
   "outputs": [
    {
     "data": {
      "text/html": [
       "<div>\n",
       "<style scoped>\n",
       "    .dataframe tbody tr th:only-of-type {\n",
       "        vertical-align: middle;\n",
       "    }\n",
       "\n",
       "    .dataframe tbody tr th {\n",
       "        vertical-align: top;\n",
       "    }\n",
       "\n",
       "    .dataframe thead th {\n",
       "        text-align: right;\n",
       "    }\n",
       "</style>\n",
       "<table border=\"1\" class=\"dataframe\">\n",
       "  <thead>\n",
       "    <tr style=\"text-align: right;\">\n",
       "      <th></th>\n",
       "      <th>business_id</th>\n",
       "      <th>name</th>\n",
       "      <th>address</th>\n",
       "      <th>city</th>\n",
       "      <th>state</th>\n",
       "      <th>postal_code</th>\n",
       "      <th>latitude</th>\n",
       "      <th>longitude</th>\n",
       "      <th>stars_x</th>\n",
       "      <th>review_count</th>\n",
       "      <th>...</th>\n",
       "      <th>categories</th>\n",
       "      <th>hours</th>\n",
       "      <th>review_id</th>\n",
       "      <th>user_id</th>\n",
       "      <th>stars_y</th>\n",
       "      <th>useful</th>\n",
       "      <th>funny</th>\n",
       "      <th>cool</th>\n",
       "      <th>text</th>\n",
       "      <th>date</th>\n",
       "    </tr>\n",
       "  </thead>\n",
       "  <tbody>\n",
       "    <tr>\n",
       "      <th>0</th>\n",
       "      <td>g6AFW-zY0wDvBl9U82g4zg</td>\n",
       "      <td>Baretto Caffe</td>\n",
       "      <td>1262 Don Mills Road</td>\n",
       "      <td>toronto</td>\n",
       "      <td>ON</td>\n",
       "      <td>M3B 2W7</td>\n",
       "      <td>43.744703</td>\n",
       "      <td>-79.346468</td>\n",
       "      <td>5.0</td>\n",
       "      <td>317</td>\n",
       "      <td>...</td>\n",
       "      <td>Restaurants, Italian, Cafes</td>\n",
       "      <td>{'Monday': '7:30-18:0', 'Tuesday': '7:30-18:0'...</td>\n",
       "      <td>SKBNW4QKNiclQ6mB2AQ8MQ</td>\n",
       "      <td>q3JSVBWICgXfO-zuLAp5fg</td>\n",
       "      <td>3.0</td>\n",
       "      <td>0</td>\n",
       "      <td>0</td>\n",
       "      <td>0</td>\n",
       "      <td>The customer service is on point. The food was...</td>\n",
       "      <td>2018-10-04 10:57:11</td>\n",
       "    </tr>\n",
       "    <tr>\n",
       "      <th>1</th>\n",
       "      <td>g6AFW-zY0wDvBl9U82g4zg</td>\n",
       "      <td>Baretto Caffe</td>\n",
       "      <td>1262 Don Mills Road</td>\n",
       "      <td>toronto</td>\n",
       "      <td>ON</td>\n",
       "      <td>M3B 2W7</td>\n",
       "      <td>43.744703</td>\n",
       "      <td>-79.346468</td>\n",
       "      <td>5.0</td>\n",
       "      <td>317</td>\n",
       "      <td>...</td>\n",
       "      <td>Restaurants, Italian, Cafes</td>\n",
       "      <td>{'Monday': '7:30-18:0', 'Tuesday': '7:30-18:0'...</td>\n",
       "      <td>0dsaJN8eljlYRCqPWN1JCQ</td>\n",
       "      <td>0zW0RwIRwyJ6Qdirqvs5gA</td>\n",
       "      <td>5.0</td>\n",
       "      <td>0</td>\n",
       "      <td>0</td>\n",
       "      <td>0</td>\n",
       "      <td>The staff and workers are really friendly and ...</td>\n",
       "      <td>2017-04-30 13:40:40</td>\n",
       "    </tr>\n",
       "    <tr>\n",
       "      <th>2</th>\n",
       "      <td>g6AFW-zY0wDvBl9U82g4zg</td>\n",
       "      <td>Baretto Caffe</td>\n",
       "      <td>1262 Don Mills Road</td>\n",
       "      <td>toronto</td>\n",
       "      <td>ON</td>\n",
       "      <td>M3B 2W7</td>\n",
       "      <td>43.744703</td>\n",
       "      <td>-79.346468</td>\n",
       "      <td>5.0</td>\n",
       "      <td>317</td>\n",
       "      <td>...</td>\n",
       "      <td>Restaurants, Italian, Cafes</td>\n",
       "      <td>{'Monday': '7:30-18:0', 'Tuesday': '7:30-18:0'...</td>\n",
       "      <td>aPUINDQsgifg_hSROs4TTA</td>\n",
       "      <td>eurxcv4blzrEs7-IgLGt5w</td>\n",
       "      <td>5.0</td>\n",
       "      <td>0</td>\n",
       "      <td>0</td>\n",
       "      <td>0</td>\n",
       "      <td>This is one great cafe. A little hard to find ...</td>\n",
       "      <td>2015-03-18 22:16:23</td>\n",
       "    </tr>\n",
       "    <tr>\n",
       "      <th>3</th>\n",
       "      <td>g6AFW-zY0wDvBl9U82g4zg</td>\n",
       "      <td>Baretto Caffe</td>\n",
       "      <td>1262 Don Mills Road</td>\n",
       "      <td>toronto</td>\n",
       "      <td>ON</td>\n",
       "      <td>M3B 2W7</td>\n",
       "      <td>43.744703</td>\n",
       "      <td>-79.346468</td>\n",
       "      <td>5.0</td>\n",
       "      <td>317</td>\n",
       "      <td>...</td>\n",
       "      <td>Restaurants, Italian, Cafes</td>\n",
       "      <td>{'Monday': '7:30-18:0', 'Tuesday': '7:30-18:0'...</td>\n",
       "      <td>l8FlUGAgrAAOIi0fWV3Lgg</td>\n",
       "      <td>ZWpLKIbOC5xjuPWc7ZKe9Q</td>\n",
       "      <td>5.0</td>\n",
       "      <td>0</td>\n",
       "      <td>0</td>\n",
       "      <td>0</td>\n",
       "      <td>Wonderful spaghetti, simple yet clean environm...</td>\n",
       "      <td>2018-09-03 18:13:28</td>\n",
       "    </tr>\n",
       "    <tr>\n",
       "      <th>4</th>\n",
       "      <td>g6AFW-zY0wDvBl9U82g4zg</td>\n",
       "      <td>Baretto Caffe</td>\n",
       "      <td>1262 Don Mills Road</td>\n",
       "      <td>toronto</td>\n",
       "      <td>ON</td>\n",
       "      <td>M3B 2W7</td>\n",
       "      <td>43.744703</td>\n",
       "      <td>-79.346468</td>\n",
       "      <td>5.0</td>\n",
       "      <td>317</td>\n",
       "      <td>...</td>\n",
       "      <td>Restaurants, Italian, Cafes</td>\n",
       "      <td>{'Monday': '7:30-18:0', 'Tuesday': '7:30-18:0'...</td>\n",
       "      <td>N_twtO_6Wq5t2nbJ1048Bw</td>\n",
       "      <td>dN9MZp53PgIKA0LVo71GUA</td>\n",
       "      <td>5.0</td>\n",
       "      <td>0</td>\n",
       "      <td>0</td>\n",
       "      <td>0</td>\n",
       "      <td>Wonderful little cafe. Service was above and b...</td>\n",
       "      <td>2017-06-07 03:15:39</td>\n",
       "    </tr>\n",
       "  </tbody>\n",
       "</table>\n",
       "<p>5 rows × 22 columns</p>\n",
       "</div>"
      ],
      "text/plain": [
       "              business_id           name              address     city state  \\\n",
       "0  g6AFW-zY0wDvBl9U82g4zg  Baretto Caffe  1262 Don Mills Road  toronto    ON   \n",
       "1  g6AFW-zY0wDvBl9U82g4zg  Baretto Caffe  1262 Don Mills Road  toronto    ON   \n",
       "2  g6AFW-zY0wDvBl9U82g4zg  Baretto Caffe  1262 Don Mills Road  toronto    ON   \n",
       "3  g6AFW-zY0wDvBl9U82g4zg  Baretto Caffe  1262 Don Mills Road  toronto    ON   \n",
       "4  g6AFW-zY0wDvBl9U82g4zg  Baretto Caffe  1262 Don Mills Road  toronto    ON   \n",
       "\n",
       "  postal_code   latitude  longitude  stars_x  review_count  ...  \\\n",
       "0     M3B 2W7  43.744703 -79.346468      5.0           317  ...   \n",
       "1     M3B 2W7  43.744703 -79.346468      5.0           317  ...   \n",
       "2     M3B 2W7  43.744703 -79.346468      5.0           317  ...   \n",
       "3     M3B 2W7  43.744703 -79.346468      5.0           317  ...   \n",
       "4     M3B 2W7  43.744703 -79.346468      5.0           317  ...   \n",
       "\n",
       "                    categories  \\\n",
       "0  Restaurants, Italian, Cafes   \n",
       "1  Restaurants, Italian, Cafes   \n",
       "2  Restaurants, Italian, Cafes   \n",
       "3  Restaurants, Italian, Cafes   \n",
       "4  Restaurants, Italian, Cafes   \n",
       "\n",
       "                                               hours               review_id  \\\n",
       "0  {'Monday': '7:30-18:0', 'Tuesday': '7:30-18:0'...  SKBNW4QKNiclQ6mB2AQ8MQ   \n",
       "1  {'Monday': '7:30-18:0', 'Tuesday': '7:30-18:0'...  0dsaJN8eljlYRCqPWN1JCQ   \n",
       "2  {'Monday': '7:30-18:0', 'Tuesday': '7:30-18:0'...  aPUINDQsgifg_hSROs4TTA   \n",
       "3  {'Monday': '7:30-18:0', 'Tuesday': '7:30-18:0'...  l8FlUGAgrAAOIi0fWV3Lgg   \n",
       "4  {'Monday': '7:30-18:0', 'Tuesday': '7:30-18:0'...  N_twtO_6Wq5t2nbJ1048Bw   \n",
       "\n",
       "                  user_id stars_y useful  funny  cool  \\\n",
       "0  q3JSVBWICgXfO-zuLAp5fg     3.0      0      0     0   \n",
       "1  0zW0RwIRwyJ6Qdirqvs5gA     5.0      0      0     0   \n",
       "2  eurxcv4blzrEs7-IgLGt5w     5.0      0      0     0   \n",
       "3  ZWpLKIbOC5xjuPWc7ZKe9Q     5.0      0      0     0   \n",
       "4  dN9MZp53PgIKA0LVo71GUA     5.0      0      0     0   \n",
       "\n",
       "                                                text                 date  \n",
       "0  The customer service is on point. The food was...  2018-10-04 10:57:11  \n",
       "1  The staff and workers are really friendly and ...  2017-04-30 13:40:40  \n",
       "2  This is one great cafe. A little hard to find ...  2015-03-18 22:16:23  \n",
       "3  Wonderful spaghetti, simple yet clean environm...  2018-09-03 18:13:28  \n",
       "4  Wonderful little cafe. Service was above and b...  2017-06-07 03:15:39  \n",
       "\n",
       "[5 rows x 22 columns]"
      ]
     },
     "execution_count": 45,
     "metadata": {},
     "output_type": "execute_result"
    }
   ],
   "source": [
    "toronto_user_item_df.head()"
   ]
  },
  {
   "cell_type": "code",
   "execution_count": 46,
   "metadata": {},
   "outputs": [
    {
     "data": {
      "text/plain": [
       "Index(['business_id', 'name', 'address', 'city', 'state', 'postal_code',\n",
       "       'latitude', 'longitude', 'stars_x', 'review_count', 'is_open',\n",
       "       'attributes', 'categories', 'hours', 'review_id', 'user_id', 'stars_y',\n",
       "       'useful', 'funny', 'cool', 'text', 'date'],\n",
       "      dtype='object')"
      ]
     },
     "execution_count": 46,
     "metadata": {},
     "output_type": "execute_result"
    }
   ],
   "source": [
    "toronto_user_item_df.columns"
   ]
  },
  {
   "cell_type": "code",
   "execution_count": 47,
   "metadata": {},
   "outputs": [],
   "source": [
    "toronto_user_item_df.to_csv('Yelp_Dataset/toronto_user_item.csv')"
   ]
  },
  {
   "cell_type": "code",
   "execution_count": null,
   "metadata": {},
   "outputs": [],
   "source": []
  }
 ],
 "metadata": {
  "kernelspec": {
   "display_name": "Python 3",
   "language": "python",
   "name": "python3"
  },
  "language_info": {
   "codemirror_mode": {
    "name": "ipython",
    "version": 3
   },
   "file_extension": ".py",
   "mimetype": "text/x-python",
   "name": "python",
   "nbconvert_exporter": "python",
   "pygments_lexer": "ipython3",
   "version": "3.7.6"
  }
 },
 "nbformat": 4,
 "nbformat_minor": 4
}
