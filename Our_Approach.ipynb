{
 "cells": [
  {
   "cell_type": "code",
   "execution_count": 1,
   "metadata": {},
   "outputs": [],
   "source": [
    "## Import Packages:\n",
    "import numpy as np\n",
    "import pandas as pd\n",
    "import matplotlib.pyplot as plt\n",
    "import keras\n",
    "from keras import backend as K\n",
    "from keras import initializers\n",
    "from keras.regularizers import l1, l2, l1_l2\n",
    "from keras.models import Sequential, Model\n",
    "from keras.layers.core import Dense, Lambda, Activation\n",
    "from keras.layers import Embedding, Input, Dense, Concatenate, Reshape, Multiply, Flatten, Dropout\n",
    "from keras.optimizers import Adagrad, Adam, SGD, RMSprop\n",
    "from evaluate_metrics_custom import evaluate_model\n",
    "from time import time\n",
    "import sys, os\n",
    "import argparse\n",
    "from tqdm import tqdm\n",
    "import seaborn as sns\n",
    "sns.set_style('whitegrid')\n",
    "sns.set_palette('colorblind')\n",
    "sns.set_context('talk')"
   ]
  },
  {
   "cell_type": "markdown",
   "metadata": {},
   "source": [
    "## Read in toronto user-item interaction csv file to generate dataset:"
   ]
  },
  {
   "cell_type": "code",
   "execution_count": 2,
   "metadata": {},
   "outputs": [],
   "source": [
    "toronto_user_item_final_df = pd.read_csv('yelp_dataset/toronto_user_item_final_df.csv', index_col = 0)\n",
    "dataset_to_use = toronto_user_item_final_df.copy()"
   ]
  },
  {
   "cell_type": "code",
   "execution_count": 3,
   "metadata": {},
   "outputs": [],
   "source": [
    "num_users = dataset_to_use.user_id.nunique()\n",
    "num_items = dataset_to_use.business_id.nunique()"
   ]
  },
  {
   "cell_type": "code",
   "execution_count": 4,
   "metadata": {},
   "outputs": [
    {
     "data": {
      "text/plain": [
       "227663"
      ]
     },
     "execution_count": 4,
     "metadata": {},
     "output_type": "execute_result"
    }
   ],
   "source": [
    "len(dataset_to_use)"
   ]
  },
  {
   "cell_type": "code",
   "execution_count": 5,
   "metadata": {},
   "outputs": [
    {
     "name": "stdout",
     "output_type": "stream",
     "text": [
      "There are 7905 unique users and 8546 unique items in the dataset after filtering such that each user has reviewed at least 10 restaurants.\n"
     ]
    }
   ],
   "source": [
    "print('There are %d unique users and %d unique items in the dataset after filtering such that each user has \\\n",
    "reviewed at least 10 restaurants.'%(num_users, num_items))"
   ]
  },
  {
   "cell_type": "code",
   "execution_count": 6,
   "metadata": {},
   "outputs": [
    {
     "data": {
      "text/html": [
       "<div>\n",
       "<style scoped>\n",
       "    .dataframe tbody tr th:only-of-type {\n",
       "        vertical-align: middle;\n",
       "    }\n",
       "\n",
       "    .dataframe tbody tr th {\n",
       "        vertical-align: top;\n",
       "    }\n",
       "\n",
       "    .dataframe thead th {\n",
       "        text-align: right;\n",
       "    }\n",
       "</style>\n",
       "<table border=\"1\" class=\"dataframe\">\n",
       "  <thead>\n",
       "    <tr style=\"text-align: right;\">\n",
       "      <th></th>\n",
       "      <th>business_id</th>\n",
       "      <th>name_x</th>\n",
       "      <th>address</th>\n",
       "      <th>city</th>\n",
       "      <th>state</th>\n",
       "      <th>postal_code</th>\n",
       "      <th>latitude</th>\n",
       "      <th>longitude</th>\n",
       "      <th>stars_business_avg</th>\n",
       "      <th>review_count_x</th>\n",
       "      <th>...</th>\n",
       "      <th>compliment_more</th>\n",
       "      <th>compliment_profile</th>\n",
       "      <th>compliment_cute</th>\n",
       "      <th>compliment_list</th>\n",
       "      <th>compliment_note</th>\n",
       "      <th>compliment_plain</th>\n",
       "      <th>compliment_cool</th>\n",
       "      <th>compliment_funny</th>\n",
       "      <th>compliment_writer</th>\n",
       "      <th>compliment_photos</th>\n",
       "    </tr>\n",
       "  </thead>\n",
       "  <tbody>\n",
       "    <tr>\n",
       "      <th>0</th>\n",
       "      <td>g6AFW-zY0wDvBl9U82g4zg</td>\n",
       "      <td>Baretto Caffe</td>\n",
       "      <td>1262 Don Mills Road</td>\n",
       "      <td>toronto</td>\n",
       "      <td>ON</td>\n",
       "      <td>M3B 2W7</td>\n",
       "      <td>43.744703</td>\n",
       "      <td>-79.346468</td>\n",
       "      <td>5.0</td>\n",
       "      <td>317</td>\n",
       "      <td>...</td>\n",
       "      <td>1</td>\n",
       "      <td>0</td>\n",
       "      <td>0</td>\n",
       "      <td>0</td>\n",
       "      <td>0</td>\n",
       "      <td>1</td>\n",
       "      <td>0</td>\n",
       "      <td>0</td>\n",
       "      <td>0</td>\n",
       "      <td>0</td>\n",
       "    </tr>\n",
       "    <tr>\n",
       "      <th>1</th>\n",
       "      <td>gAxeeJKwJtxp3uH9zUQ2aQ</td>\n",
       "      <td>A-Game Cafe</td>\n",
       "      <td>797 Dundas Street W</td>\n",
       "      <td>toronto</td>\n",
       "      <td>ON</td>\n",
       "      <td>M6J 1V2</td>\n",
       "      <td>43.651719</td>\n",
       "      <td>-79.407911</td>\n",
       "      <td>4.5</td>\n",
       "      <td>91</td>\n",
       "      <td>...</td>\n",
       "      <td>1</td>\n",
       "      <td>0</td>\n",
       "      <td>0</td>\n",
       "      <td>0</td>\n",
       "      <td>0</td>\n",
       "      <td>1</td>\n",
       "      <td>0</td>\n",
       "      <td>0</td>\n",
       "      <td>0</td>\n",
       "      <td>0</td>\n",
       "    </tr>\n",
       "    <tr>\n",
       "      <th>2</th>\n",
       "      <td>cWPTOM_o5toaXpq0gNxD7Q</td>\n",
       "      <td>Vanta Coffee Club &amp; Eatery</td>\n",
       "      <td>2101 Brimley Road</td>\n",
       "      <td>toronto</td>\n",
       "      <td>ON</td>\n",
       "      <td>M1S 2B4</td>\n",
       "      <td>43.788839</td>\n",
       "      <td>-79.268636</td>\n",
       "      <td>4.0</td>\n",
       "      <td>204</td>\n",
       "      <td>...</td>\n",
       "      <td>1</td>\n",
       "      <td>0</td>\n",
       "      <td>0</td>\n",
       "      <td>0</td>\n",
       "      <td>0</td>\n",
       "      <td>1</td>\n",
       "      <td>0</td>\n",
       "      <td>0</td>\n",
       "      <td>0</td>\n",
       "      <td>0</td>\n",
       "    </tr>\n",
       "  </tbody>\n",
       "</table>\n",
       "<p>3 rows × 43 columns</p>\n",
       "</div>"
      ],
      "text/plain": [
       "              business_id                      name_x              address  \\\n",
       "0  g6AFW-zY0wDvBl9U82g4zg               Baretto Caffe  1262 Don Mills Road   \n",
       "1  gAxeeJKwJtxp3uH9zUQ2aQ                 A-Game Cafe  797 Dundas Street W   \n",
       "2  cWPTOM_o5toaXpq0gNxD7Q  Vanta Coffee Club & Eatery    2101 Brimley Road   \n",
       "\n",
       "      city state postal_code   latitude  longitude  stars_business_avg  \\\n",
       "0  toronto    ON     M3B 2W7  43.744703 -79.346468                 5.0   \n",
       "1  toronto    ON     M6J 1V2  43.651719 -79.407911                 4.5   \n",
       "2  toronto    ON     M1S 2B4  43.788839 -79.268636                 4.0   \n",
       "\n",
       "   review_count_x  ...  compliment_more compliment_profile compliment_cute  \\\n",
       "0             317  ...                1                  0               0   \n",
       "1              91  ...                1                  0               0   \n",
       "2             204  ...                1                  0               0   \n",
       "\n",
       "  compliment_list compliment_note compliment_plain  compliment_cool  \\\n",
       "0               0               0                1                0   \n",
       "1               0               0                1                0   \n",
       "2               0               0                1                0   \n",
       "\n",
       "   compliment_funny  compliment_writer  compliment_photos  \n",
       "0                 0                  0                  0  \n",
       "1                 0                  0                  0  \n",
       "2                 0                  0                  0  \n",
       "\n",
       "[3 rows x 43 columns]"
      ]
     },
     "execution_count": 6,
     "metadata": {},
     "output_type": "execute_result"
    }
   ],
   "source": [
    "dataset_to_use.head(3)"
   ]
  },
  {
   "cell_type": "markdown",
   "metadata": {},
   "source": [
    "### Create simpler IDs for users and items"
   ]
  },
  {
   "cell_type": "code",
   "execution_count": 7,
   "metadata": {},
   "outputs": [],
   "source": [
    "unique_business_id = dataset_to_use.business_id.unique()\n",
    "mapping_business_id = {}\n",
    "ctr = 0\n",
    "for business_id in unique_business_id:\n",
    "    mapping_business_id[business_id] = ctr\n",
    "    ctr += 1\n",
    "    \n",
    "dataset_to_use['business_id_refined'] = dataset_to_use.business_id.map(mapping_business_id)"
   ]
  },
  {
   "cell_type": "code",
   "execution_count": 8,
   "metadata": {},
   "outputs": [],
   "source": [
    "unique_user_id = dataset_to_use.user_id.unique()\n",
    "mapping_user_id = {}\n",
    "ctr = 0\n",
    "for user_id in unique_user_id:\n",
    "    mapping_user_id[user_id] = ctr\n",
    "    ctr += 1\n",
    "    \n",
    "dataset_to_use['user_id_refined'] = dataset_to_use.user_id.map(mapping_user_id)"
   ]
  },
  {
   "cell_type": "code",
   "execution_count": 9,
   "metadata": {},
   "outputs": [
    {
     "data": {
      "text/html": [
       "<div>\n",
       "<style scoped>\n",
       "    .dataframe tbody tr th:only-of-type {\n",
       "        vertical-align: middle;\n",
       "    }\n",
       "\n",
       "    .dataframe tbody tr th {\n",
       "        vertical-align: top;\n",
       "    }\n",
       "\n",
       "    .dataframe thead th {\n",
       "        text-align: right;\n",
       "    }\n",
       "</style>\n",
       "<table border=\"1\" class=\"dataframe\">\n",
       "  <thead>\n",
       "    <tr style=\"text-align: right;\">\n",
       "      <th></th>\n",
       "      <th>user_id_refined</th>\n",
       "      <th>business_id_refined</th>\n",
       "    </tr>\n",
       "  </thead>\n",
       "  <tbody>\n",
       "    <tr>\n",
       "      <th>0</th>\n",
       "      <td>0</td>\n",
       "      <td>0</td>\n",
       "    </tr>\n",
       "    <tr>\n",
       "      <th>1</th>\n",
       "      <td>0</td>\n",
       "      <td>1</td>\n",
       "    </tr>\n",
       "    <tr>\n",
       "      <th>2</th>\n",
       "      <td>0</td>\n",
       "      <td>2</td>\n",
       "    </tr>\n",
       "    <tr>\n",
       "      <th>3</th>\n",
       "      <td>0</td>\n",
       "      <td>3</td>\n",
       "    </tr>\n",
       "    <tr>\n",
       "      <th>4</th>\n",
       "      <td>0</td>\n",
       "      <td>4</td>\n",
       "    </tr>\n",
       "  </tbody>\n",
       "</table>\n",
       "</div>"
      ],
      "text/plain": [
       "   user_id_refined  business_id_refined\n",
       "0                0                    0\n",
       "1                0                    1\n",
       "2                0                    2\n",
       "3                0                    3\n",
       "4                0                    4"
      ]
     },
     "execution_count": 9,
     "metadata": {},
     "output_type": "execute_result"
    }
   ],
   "source": [
    "dataset_to_use[['user_id_refined', 'business_id_refined']].head(5)"
   ]
  },
  {
   "cell_type": "code",
   "execution_count": 10,
   "metadata": {},
   "outputs": [],
   "source": [
    "dataset_to_use.sort_values(by = ['user_id_refined', 'date'], inplace = True)"
   ]
  },
  {
   "cell_type": "code",
   "execution_count": 11,
   "metadata": {},
   "outputs": [
    {
     "data": {
      "text/html": [
       "<div>\n",
       "<style scoped>\n",
       "    .dataframe tbody tr th:only-of-type {\n",
       "        vertical-align: middle;\n",
       "    }\n",
       "\n",
       "    .dataframe tbody tr th {\n",
       "        vertical-align: top;\n",
       "    }\n",
       "\n",
       "    .dataframe thead th {\n",
       "        text-align: right;\n",
       "    }\n",
       "</style>\n",
       "<table border=\"1\" class=\"dataframe\">\n",
       "  <thead>\n",
       "    <tr style=\"text-align: right;\">\n",
       "      <th></th>\n",
       "      <th>business_id</th>\n",
       "      <th>name_x</th>\n",
       "      <th>address</th>\n",
       "      <th>city</th>\n",
       "      <th>state</th>\n",
       "      <th>postal_code</th>\n",
       "      <th>latitude</th>\n",
       "      <th>longitude</th>\n",
       "      <th>stars_business_avg</th>\n",
       "      <th>review_count_x</th>\n",
       "      <th>...</th>\n",
       "      <th>compliment_cute</th>\n",
       "      <th>compliment_list</th>\n",
       "      <th>compliment_note</th>\n",
       "      <th>compliment_plain</th>\n",
       "      <th>compliment_cool</th>\n",
       "      <th>compliment_funny</th>\n",
       "      <th>compliment_writer</th>\n",
       "      <th>compliment_photos</th>\n",
       "      <th>business_id_refined</th>\n",
       "      <th>user_id_refined</th>\n",
       "    </tr>\n",
       "  </thead>\n",
       "  <tbody>\n",
       "    <tr>\n",
       "      <th>12</th>\n",
       "      <td>e49eXgKVuR-lsL0-D4vzDw</td>\n",
       "      <td>Momiji</td>\n",
       "      <td>2111 Sheppard Avenue E</td>\n",
       "      <td>toronto</td>\n",
       "      <td>ON</td>\n",
       "      <td>M2J 1W6</td>\n",
       "      <td>43.775377</td>\n",
       "      <td>-79.333972</td>\n",
       "      <td>3.0</td>\n",
       "      <td>22</td>\n",
       "      <td>...</td>\n",
       "      <td>0</td>\n",
       "      <td>0</td>\n",
       "      <td>0</td>\n",
       "      <td>1</td>\n",
       "      <td>0</td>\n",
       "      <td>0</td>\n",
       "      <td>0</td>\n",
       "      <td>0</td>\n",
       "      <td>12</td>\n",
       "      <td>0</td>\n",
       "    </tr>\n",
       "    <tr>\n",
       "      <th>10</th>\n",
       "      <td>ik9VvawL-BeAqlxTI1leew</td>\n",
       "      <td>Gonoe Sushi</td>\n",
       "      <td>1310 Don Mills Road</td>\n",
       "      <td>toronto</td>\n",
       "      <td>ON</td>\n",
       "      <td>M3B 2W6</td>\n",
       "      <td>43.745920</td>\n",
       "      <td>-79.346301</td>\n",
       "      <td>3.5</td>\n",
       "      <td>119</td>\n",
       "      <td>...</td>\n",
       "      <td>0</td>\n",
       "      <td>0</td>\n",
       "      <td>0</td>\n",
       "      <td>1</td>\n",
       "      <td>0</td>\n",
       "      <td>0</td>\n",
       "      <td>0</td>\n",
       "      <td>0</td>\n",
       "      <td>10</td>\n",
       "      <td>0</td>\n",
       "    </tr>\n",
       "    <tr>\n",
       "      <th>3</th>\n",
       "      <td>Nz44ccUso3nq5S2OlQHNlA</td>\n",
       "      <td>Mexico Lindo</td>\n",
       "      <td>2600 Birchmount Road, Suite 2586</td>\n",
       "      <td>toronto</td>\n",
       "      <td>ON</td>\n",
       "      <td>M1T 2M5</td>\n",
       "      <td>43.789719</td>\n",
       "      <td>-79.302981</td>\n",
       "      <td>4.0</td>\n",
       "      <td>163</td>\n",
       "      <td>...</td>\n",
       "      <td>0</td>\n",
       "      <td>0</td>\n",
       "      <td>0</td>\n",
       "      <td>1</td>\n",
       "      <td>0</td>\n",
       "      <td>0</td>\n",
       "      <td>0</td>\n",
       "      <td>0</td>\n",
       "      <td>3</td>\n",
       "      <td>0</td>\n",
       "    </tr>\n",
       "  </tbody>\n",
       "</table>\n",
       "<p>3 rows × 45 columns</p>\n",
       "</div>"
      ],
      "text/plain": [
       "               business_id        name_x                           address  \\\n",
       "12  e49eXgKVuR-lsL0-D4vzDw        Momiji            2111 Sheppard Avenue E   \n",
       "10  ik9VvawL-BeAqlxTI1leew   Gonoe Sushi               1310 Don Mills Road   \n",
       "3   Nz44ccUso3nq5S2OlQHNlA  Mexico Lindo  2600 Birchmount Road, Suite 2586   \n",
       "\n",
       "       city state postal_code   latitude  longitude  stars_business_avg  \\\n",
       "12  toronto    ON     M2J 1W6  43.775377 -79.333972                 3.0   \n",
       "10  toronto    ON     M3B 2W6  43.745920 -79.346301                 3.5   \n",
       "3   toronto    ON     M1T 2M5  43.789719 -79.302981                 4.0   \n",
       "\n",
       "    review_count_x  ...  compliment_cute compliment_list compliment_note  \\\n",
       "12              22  ...                0               0               0   \n",
       "10             119  ...                0               0               0   \n",
       "3              163  ...                0               0               0   \n",
       "\n",
       "   compliment_plain compliment_cool compliment_funny  compliment_writer  \\\n",
       "12                1               0                0                  0   \n",
       "10                1               0                0                  0   \n",
       "3                 1               0                0                  0   \n",
       "\n",
       "    compliment_photos  business_id_refined  user_id_refined  \n",
       "12                  0                   12                0  \n",
       "10                  0                   10                0  \n",
       "3                   0                    3                0  \n",
       "\n",
       "[3 rows x 45 columns]"
      ]
     },
     "execution_count": 11,
     "metadata": {},
     "output_type": "execute_result"
    }
   ],
   "source": [
    "dataset_to_use.head(3)"
   ]
  },
  {
   "cell_type": "markdown",
   "metadata": {},
   "source": [
    "## Test Data:"
   ]
  },
  {
   "cell_type": "code",
   "execution_count": 12,
   "metadata": {},
   "outputs": [],
   "source": [
    "def last_value(df):\n",
    "    return df.iloc[[-1]]"
   ]
  },
  {
   "cell_type": "code",
   "execution_count": 13,
   "metadata": {},
   "outputs": [],
   "source": [
    "# Save the most recent visit to a restaurant as the test data\n",
    "test_data = dataset_to_use.groupby('user_id_refined').apply(last_value)"
   ]
  },
  {
   "cell_type": "code",
   "execution_count": 14,
   "metadata": {},
   "outputs": [
    {
     "data": {
      "text/html": [
       "<div>\n",
       "<style scoped>\n",
       "    .dataframe tbody tr th:only-of-type {\n",
       "        vertical-align: middle;\n",
       "    }\n",
       "\n",
       "    .dataframe tbody tr th {\n",
       "        vertical-align: top;\n",
       "    }\n",
       "\n",
       "    .dataframe thead th {\n",
       "        text-align: right;\n",
       "    }\n",
       "</style>\n",
       "<table border=\"1\" class=\"dataframe\">\n",
       "  <thead>\n",
       "    <tr style=\"text-align: right;\">\n",
       "      <th></th>\n",
       "      <th></th>\n",
       "      <th>business_id</th>\n",
       "      <th>name_x</th>\n",
       "      <th>address</th>\n",
       "      <th>city</th>\n",
       "      <th>state</th>\n",
       "      <th>postal_code</th>\n",
       "      <th>latitude</th>\n",
       "      <th>longitude</th>\n",
       "      <th>stars_business_avg</th>\n",
       "      <th>review_count_x</th>\n",
       "      <th>...</th>\n",
       "      <th>compliment_cute</th>\n",
       "      <th>compliment_list</th>\n",
       "      <th>compliment_note</th>\n",
       "      <th>compliment_plain</th>\n",
       "      <th>compliment_cool</th>\n",
       "      <th>compliment_funny</th>\n",
       "      <th>compliment_writer</th>\n",
       "      <th>compliment_photos</th>\n",
       "      <th>business_id_refined</th>\n",
       "      <th>user_id_refined</th>\n",
       "    </tr>\n",
       "    <tr>\n",
       "      <th>user_id_refined</th>\n",
       "      <th></th>\n",
       "      <th></th>\n",
       "      <th></th>\n",
       "      <th></th>\n",
       "      <th></th>\n",
       "      <th></th>\n",
       "      <th></th>\n",
       "      <th></th>\n",
       "      <th></th>\n",
       "      <th></th>\n",
       "      <th></th>\n",
       "      <th></th>\n",
       "      <th></th>\n",
       "      <th></th>\n",
       "      <th></th>\n",
       "      <th></th>\n",
       "      <th></th>\n",
       "      <th></th>\n",
       "      <th></th>\n",
       "      <th></th>\n",
       "      <th></th>\n",
       "      <th></th>\n",
       "    </tr>\n",
       "  </thead>\n",
       "  <tbody>\n",
       "    <tr>\n",
       "      <th>0</th>\n",
       "      <th>0</th>\n",
       "      <td>g6AFW-zY0wDvBl9U82g4zg</td>\n",
       "      <td>Baretto Caffe</td>\n",
       "      <td>1262 Don Mills Road</td>\n",
       "      <td>toronto</td>\n",
       "      <td>ON</td>\n",
       "      <td>M3B 2W7</td>\n",
       "      <td>43.744703</td>\n",
       "      <td>-79.346468</td>\n",
       "      <td>5.0</td>\n",
       "      <td>317</td>\n",
       "      <td>...</td>\n",
       "      <td>0</td>\n",
       "      <td>0</td>\n",
       "      <td>0</td>\n",
       "      <td>1</td>\n",
       "      <td>0</td>\n",
       "      <td>0</td>\n",
       "      <td>0</td>\n",
       "      <td>0</td>\n",
       "      <td>0</td>\n",
       "      <td>0</td>\n",
       "    </tr>\n",
       "    <tr>\n",
       "      <th>1</th>\n",
       "      <th>21</th>\n",
       "      <td>B70iTJjcPkuYn8ouUewWgw</td>\n",
       "      <td>Gusto 101</td>\n",
       "      <td>101 Portland Street</td>\n",
       "      <td>toronto</td>\n",
       "      <td>ON</td>\n",
       "      <td>M5V 2N3</td>\n",
       "      <td>43.645002</td>\n",
       "      <td>-79.400309</td>\n",
       "      <td>4.0</td>\n",
       "      <td>956</td>\n",
       "      <td>...</td>\n",
       "      <td>1</td>\n",
       "      <td>0</td>\n",
       "      <td>30</td>\n",
       "      <td>63</td>\n",
       "      <td>75</td>\n",
       "      <td>75</td>\n",
       "      <td>27</td>\n",
       "      <td>48</td>\n",
       "      <td>19</td>\n",
       "      <td>1</td>\n",
       "    </tr>\n",
       "    <tr>\n",
       "      <th>2</th>\n",
       "      <th>70</th>\n",
       "      <td>mVVoK2ADlKbvwitSqFY2hw</td>\n",
       "      <td>Pantry Foods</td>\n",
       "      <td>3456 Bathurst Street</td>\n",
       "      <td>toronto</td>\n",
       "      <td>ON</td>\n",
       "      <td>M6A 2C3</td>\n",
       "      <td>43.728130</td>\n",
       "      <td>-79.432020</td>\n",
       "      <td>4.0</td>\n",
       "      <td>20</td>\n",
       "      <td>...</td>\n",
       "      <td>0</td>\n",
       "      <td>0</td>\n",
       "      <td>5</td>\n",
       "      <td>2</td>\n",
       "      <td>1</td>\n",
       "      <td>1</td>\n",
       "      <td>3</td>\n",
       "      <td>3</td>\n",
       "      <td>64</td>\n",
       "      <td>2</td>\n",
       "    </tr>\n",
       "  </tbody>\n",
       "</table>\n",
       "<p>3 rows × 45 columns</p>\n",
       "</div>"
      ],
      "text/plain": [
       "                               business_id         name_x  \\\n",
       "user_id_refined                                             \n",
       "0               0   g6AFW-zY0wDvBl9U82g4zg  Baretto Caffe   \n",
       "1               21  B70iTJjcPkuYn8ouUewWgw      Gusto 101   \n",
       "2               70  mVVoK2ADlKbvwitSqFY2hw   Pantry Foods   \n",
       "\n",
       "                                 address     city state postal_code  \\\n",
       "user_id_refined                                                       \n",
       "0               0    1262 Don Mills Road  toronto    ON     M3B 2W7   \n",
       "1               21   101 Portland Street  toronto    ON     M5V 2N3   \n",
       "2               70  3456 Bathurst Street  toronto    ON     M6A 2C3   \n",
       "\n",
       "                     latitude  longitude  stars_business_avg  review_count_x  \\\n",
       "user_id_refined                                                                \n",
       "0               0   43.744703 -79.346468                 5.0             317   \n",
       "1               21  43.645002 -79.400309                 4.0             956   \n",
       "2               70  43.728130 -79.432020                 4.0              20   \n",
       "\n",
       "                    ...  compliment_cute compliment_list compliment_note  \\\n",
       "user_id_refined     ...                                                    \n",
       "0               0   ...                0               0               0   \n",
       "1               21  ...                1               0              30   \n",
       "2               70  ...                0               0               5   \n",
       "\n",
       "                   compliment_plain compliment_cool compliment_funny  \\\n",
       "user_id_refined                                                        \n",
       "0               0                 1               0                0   \n",
       "1               21               63              75               75   \n",
       "2               70                2               1                1   \n",
       "\n",
       "                    compliment_writer  compliment_photos  business_id_refined  \\\n",
       "user_id_refined                                                                 \n",
       "0               0                   0                  0                    0   \n",
       "1               21                 27                 48                   19   \n",
       "2               70                  3                  3                   64   \n",
       "\n",
       "                    user_id_refined  \n",
       "user_id_refined                      \n",
       "0               0                 0  \n",
       "1               21                1  \n",
       "2               70                2  \n",
       "\n",
       "[3 rows x 45 columns]"
      ]
     },
     "execution_count": 14,
     "metadata": {},
     "output_type": "execute_result"
    }
   ],
   "source": [
    "test_data.head(3)"
   ]
  },
  {
   "cell_type": "code",
   "execution_count": 15,
   "metadata": {},
   "outputs": [
    {
     "data": {
      "text/plain": [
       "(0, 19, 64)"
      ]
     },
     "execution_count": 15,
     "metadata": {},
     "output_type": "execute_result"
    }
   ],
   "source": [
    "dataset_to_use.query('user_id_refined == 0')['business_id_refined'].iloc[-1],\\\n",
    "dataset_to_use.query('user_id_refined == 1')['business_id_refined'].iloc[-1],\\\n",
    "dataset_to_use.query('user_id_refined == 2')['business_id_refined'].iloc[-1]"
   ]
  },
  {
   "cell_type": "code",
   "execution_count": 16,
   "metadata": {},
   "outputs": [
    {
     "data": {
      "text/html": [
       "<div>\n",
       "<style scoped>\n",
       "    .dataframe tbody tr th:only-of-type {\n",
       "        vertical-align: middle;\n",
       "    }\n",
       "\n",
       "    .dataframe tbody tr th {\n",
       "        vertical-align: top;\n",
       "    }\n",
       "\n",
       "    .dataframe thead th {\n",
       "        text-align: right;\n",
       "    }\n",
       "</style>\n",
       "<table border=\"1\" class=\"dataframe\">\n",
       "  <thead>\n",
       "    <tr style=\"text-align: right;\">\n",
       "      <th></th>\n",
       "      <th>business_id</th>\n",
       "      <th>name_x</th>\n",
       "      <th>address</th>\n",
       "      <th>city</th>\n",
       "      <th>state</th>\n",
       "      <th>postal_code</th>\n",
       "      <th>latitude</th>\n",
       "      <th>longitude</th>\n",
       "      <th>stars_business_avg</th>\n",
       "      <th>review_count_x</th>\n",
       "      <th>...</th>\n",
       "      <th>compliment_cute</th>\n",
       "      <th>compliment_list</th>\n",
       "      <th>compliment_note</th>\n",
       "      <th>compliment_plain</th>\n",
       "      <th>compliment_cool</th>\n",
       "      <th>compliment_funny</th>\n",
       "      <th>compliment_writer</th>\n",
       "      <th>compliment_photos</th>\n",
       "      <th>business_id_refined</th>\n",
       "      <th>user_id_refined</th>\n",
       "    </tr>\n",
       "  </thead>\n",
       "  <tbody>\n",
       "    <tr>\n",
       "      <th>0</th>\n",
       "      <td>g6AFW-zY0wDvBl9U82g4zg</td>\n",
       "      <td>Baretto Caffe</td>\n",
       "      <td>1262 Don Mills Road</td>\n",
       "      <td>toronto</td>\n",
       "      <td>ON</td>\n",
       "      <td>M3B 2W7</td>\n",
       "      <td>43.744703</td>\n",
       "      <td>-79.346468</td>\n",
       "      <td>5.0</td>\n",
       "      <td>317</td>\n",
       "      <td>...</td>\n",
       "      <td>0</td>\n",
       "      <td>0</td>\n",
       "      <td>0</td>\n",
       "      <td>1</td>\n",
       "      <td>0</td>\n",
       "      <td>0</td>\n",
       "      <td>0</td>\n",
       "      <td>0</td>\n",
       "      <td>0</td>\n",
       "      <td>0</td>\n",
       "    </tr>\n",
       "    <tr>\n",
       "      <th>21</th>\n",
       "      <td>B70iTJjcPkuYn8ouUewWgw</td>\n",
       "      <td>Gusto 101</td>\n",
       "      <td>101 Portland Street</td>\n",
       "      <td>toronto</td>\n",
       "      <td>ON</td>\n",
       "      <td>M5V 2N3</td>\n",
       "      <td>43.645002</td>\n",
       "      <td>-79.400309</td>\n",
       "      <td>4.0</td>\n",
       "      <td>956</td>\n",
       "      <td>...</td>\n",
       "      <td>1</td>\n",
       "      <td>0</td>\n",
       "      <td>30</td>\n",
       "      <td>63</td>\n",
       "      <td>75</td>\n",
       "      <td>75</td>\n",
       "      <td>27</td>\n",
       "      <td>48</td>\n",
       "      <td>19</td>\n",
       "      <td>1</td>\n",
       "    </tr>\n",
       "    <tr>\n",
       "      <th>70</th>\n",
       "      <td>mVVoK2ADlKbvwitSqFY2hw</td>\n",
       "      <td>Pantry Foods</td>\n",
       "      <td>3456 Bathurst Street</td>\n",
       "      <td>toronto</td>\n",
       "      <td>ON</td>\n",
       "      <td>M6A 2C3</td>\n",
       "      <td>43.728130</td>\n",
       "      <td>-79.432020</td>\n",
       "      <td>4.0</td>\n",
       "      <td>20</td>\n",
       "      <td>...</td>\n",
       "      <td>0</td>\n",
       "      <td>0</td>\n",
       "      <td>5</td>\n",
       "      <td>2</td>\n",
       "      <td>1</td>\n",
       "      <td>1</td>\n",
       "      <td>3</td>\n",
       "      <td>3</td>\n",
       "      <td>64</td>\n",
       "      <td>2</td>\n",
       "    </tr>\n",
       "  </tbody>\n",
       "</table>\n",
       "<p>3 rows × 45 columns</p>\n",
       "</div>"
      ],
      "text/plain": [
       "               business_id         name_x               address     city  \\\n",
       "0   g6AFW-zY0wDvBl9U82g4zg  Baretto Caffe   1262 Don Mills Road  toronto   \n",
       "21  B70iTJjcPkuYn8ouUewWgw      Gusto 101   101 Portland Street  toronto   \n",
       "70  mVVoK2ADlKbvwitSqFY2hw   Pantry Foods  3456 Bathurst Street  toronto   \n",
       "\n",
       "   state postal_code   latitude  longitude  stars_business_avg  \\\n",
       "0     ON     M3B 2W7  43.744703 -79.346468                 5.0   \n",
       "21    ON     M5V 2N3  43.645002 -79.400309                 4.0   \n",
       "70    ON     M6A 2C3  43.728130 -79.432020                 4.0   \n",
       "\n",
       "    review_count_x  ...  compliment_cute compliment_list compliment_note  \\\n",
       "0              317  ...                0               0               0   \n",
       "21             956  ...                1               0              30   \n",
       "70              20  ...                0               0               5   \n",
       "\n",
       "   compliment_plain compliment_cool compliment_funny  compliment_writer  \\\n",
       "0                 1               0                0                  0   \n",
       "21               63              75               75                 27   \n",
       "70                2               1                1                  3   \n",
       "\n",
       "    compliment_photos  business_id_refined  user_id_refined  \n",
       "0                   0                    0                0  \n",
       "21                 48                   19                1  \n",
       "70                  3                   64                2  \n",
       "\n",
       "[3 rows x 45 columns]"
      ]
     },
     "execution_count": 16,
     "metadata": {},
     "output_type": "execute_result"
    }
   ],
   "source": [
    "test_data = test_data.droplevel(0)\n",
    "test_data.head(3)"
   ]
  },
  {
   "cell_type": "code",
   "execution_count": 17,
   "metadata": {},
   "outputs": [
    {
     "data": {
      "text/plain": [
       "array([[   0,    0,    0],\n",
       "       [   1,   19,   35],\n",
       "       [   2,   64,   14],\n",
       "       ...,\n",
       "       [7902, 1841,    2],\n",
       "       [7903,  930,    0],\n",
       "       [7904, 2265,    1]])"
      ]
     },
     "execution_count": 17,
     "metadata": {},
     "output_type": "execute_result"
    }
   ],
   "source": [
    "X_test = np.array(test_data[['user_id_refined', 'business_id_refined', 'fans']].values.tolist())\n",
    "X_test"
   ]
  },
  {
   "cell_type": "code",
   "execution_count": 18,
   "metadata": {},
   "outputs": [
    {
     "data": {
      "text/plain": [
       "array([1. , 0.6, 1. , ..., 0.8, 0.2, 0.2])"
      ]
     },
     "execution_count": 18,
     "metadata": {},
     "output_type": "execute_result"
    }
   ],
   "source": [
    "y_test = np.array(test_data['stars']) / 5.0\n",
    "y_test"
   ]
  },
  {
   "cell_type": "code",
   "execution_count": 19,
   "metadata": {},
   "outputs": [
    {
     "data": {
      "text/plain": [
       "True"
      ]
     },
     "execution_count": 19,
     "metadata": {},
     "output_type": "execute_result"
    }
   ],
   "source": [
    "len(y_test) == len(X_test)"
   ]
  },
  {
   "cell_type": "code",
   "execution_count": 20,
   "metadata": {},
   "outputs": [
    {
     "data": {
      "text/html": [
       "<div>\n",
       "<style scoped>\n",
       "    .dataframe tbody tr th:only-of-type {\n",
       "        vertical-align: middle;\n",
       "    }\n",
       "\n",
       "    .dataframe tbody tr th {\n",
       "        vertical-align: top;\n",
       "    }\n",
       "\n",
       "    .dataframe thead th {\n",
       "        text-align: right;\n",
       "    }\n",
       "</style>\n",
       "<table border=\"1\" class=\"dataframe\">\n",
       "  <thead>\n",
       "    <tr style=\"text-align: right;\">\n",
       "      <th></th>\n",
       "      <th>rating_1.0</th>\n",
       "      <th>rating_2.0</th>\n",
       "      <th>rating_3.0</th>\n",
       "      <th>rating_4.0</th>\n",
       "      <th>rating_5.0</th>\n",
       "    </tr>\n",
       "  </thead>\n",
       "  <tbody>\n",
       "    <tr>\n",
       "      <th>0</th>\n",
       "      <td>0</td>\n",
       "      <td>0</td>\n",
       "      <td>0</td>\n",
       "      <td>0</td>\n",
       "      <td>1</td>\n",
       "    </tr>\n",
       "    <tr>\n",
       "      <th>1</th>\n",
       "      <td>0</td>\n",
       "      <td>0</td>\n",
       "      <td>1</td>\n",
       "      <td>0</td>\n",
       "      <td>0</td>\n",
       "    </tr>\n",
       "    <tr>\n",
       "      <th>2</th>\n",
       "      <td>0</td>\n",
       "      <td>0</td>\n",
       "      <td>0</td>\n",
       "      <td>0</td>\n",
       "      <td>1</td>\n",
       "    </tr>\n",
       "    <tr>\n",
       "      <th>3</th>\n",
       "      <td>0</td>\n",
       "      <td>0</td>\n",
       "      <td>0</td>\n",
       "      <td>1</td>\n",
       "      <td>0</td>\n",
       "    </tr>\n",
       "    <tr>\n",
       "      <th>4</th>\n",
       "      <td>0</td>\n",
       "      <td>0</td>\n",
       "      <td>0</td>\n",
       "      <td>1</td>\n",
       "      <td>0</td>\n",
       "    </tr>\n",
       "  </tbody>\n",
       "</table>\n",
       "</div>"
      ],
      "text/plain": [
       "   rating_1.0  rating_2.0  rating_3.0  rating_4.0  rating_5.0\n",
       "0           0           0           0           0           1\n",
       "1           0           0           1           0           0\n",
       "2           0           0           0           0           1\n",
       "3           0           0           0           1           0\n",
       "4           0           0           0           1           0"
      ]
     },
     "execution_count": 20,
     "metadata": {},
     "output_type": "execute_result"
    }
   ],
   "source": [
    "y_test_one_hot = pd.get_dummies(pd.DataFrame({'rating': list(map(lambda x: str(x), y_test * 5.0))}))\n",
    "y_test_one_hot.head(5)"
   ]
  },
  {
   "cell_type": "code",
   "execution_count": 21,
   "metadata": {},
   "outputs": [
    {
     "data": {
      "text/plain": [
       "True"
      ]
     },
     "execution_count": 21,
     "metadata": {},
     "output_type": "execute_result"
    }
   ],
   "source": [
    "len(y_test_one_hot) == len(y_test)"
   ]
  },
  {
   "cell_type": "markdown",
   "metadata": {},
   "source": [
    "## Train Data:"
   ]
  },
  {
   "cell_type": "code",
   "execution_count": 22,
   "metadata": {},
   "outputs": [],
   "source": [
    "# Save all visits to a restaurant except the last one as the train data\n",
    "def all_values_except_last(df):\n",
    "    return df.iloc[:-1]"
   ]
  },
  {
   "cell_type": "code",
   "execution_count": 23,
   "metadata": {},
   "outputs": [],
   "source": [
    "train_data = dataset_to_use.groupby('user_id_refined').apply(all_values_except_last)"
   ]
  },
  {
   "cell_type": "code",
   "execution_count": 24,
   "metadata": {},
   "outputs": [
    {
     "data": {
      "text/html": [
       "<div>\n",
       "<style scoped>\n",
       "    .dataframe tbody tr th:only-of-type {\n",
       "        vertical-align: middle;\n",
       "    }\n",
       "\n",
       "    .dataframe tbody tr th {\n",
       "        vertical-align: top;\n",
       "    }\n",
       "\n",
       "    .dataframe thead th {\n",
       "        text-align: right;\n",
       "    }\n",
       "</style>\n",
       "<table border=\"1\" class=\"dataframe\">\n",
       "  <thead>\n",
       "    <tr style=\"text-align: right;\">\n",
       "      <th></th>\n",
       "      <th>business_id</th>\n",
       "      <th>name_x</th>\n",
       "      <th>address</th>\n",
       "      <th>city</th>\n",
       "      <th>state</th>\n",
       "      <th>postal_code</th>\n",
       "      <th>latitude</th>\n",
       "      <th>longitude</th>\n",
       "      <th>stars_business_avg</th>\n",
       "      <th>review_count_x</th>\n",
       "      <th>...</th>\n",
       "      <th>compliment_cute</th>\n",
       "      <th>compliment_list</th>\n",
       "      <th>compliment_note</th>\n",
       "      <th>compliment_plain</th>\n",
       "      <th>compliment_cool</th>\n",
       "      <th>compliment_funny</th>\n",
       "      <th>compliment_writer</th>\n",
       "      <th>compliment_photos</th>\n",
       "      <th>business_id_refined</th>\n",
       "      <th>user_id_refined</th>\n",
       "    </tr>\n",
       "  </thead>\n",
       "  <tbody>\n",
       "    <tr>\n",
       "      <th>12</th>\n",
       "      <td>e49eXgKVuR-lsL0-D4vzDw</td>\n",
       "      <td>Momiji</td>\n",
       "      <td>2111 Sheppard Avenue E</td>\n",
       "      <td>toronto</td>\n",
       "      <td>ON</td>\n",
       "      <td>M2J 1W6</td>\n",
       "      <td>43.775377</td>\n",
       "      <td>-79.333972</td>\n",
       "      <td>3.0</td>\n",
       "      <td>22</td>\n",
       "      <td>...</td>\n",
       "      <td>0</td>\n",
       "      <td>0</td>\n",
       "      <td>0</td>\n",
       "      <td>1</td>\n",
       "      <td>0</td>\n",
       "      <td>0</td>\n",
       "      <td>0</td>\n",
       "      <td>0</td>\n",
       "      <td>12</td>\n",
       "      <td>0</td>\n",
       "    </tr>\n",
       "    <tr>\n",
       "      <th>10</th>\n",
       "      <td>ik9VvawL-BeAqlxTI1leew</td>\n",
       "      <td>Gonoe Sushi</td>\n",
       "      <td>1310 Don Mills Road</td>\n",
       "      <td>toronto</td>\n",
       "      <td>ON</td>\n",
       "      <td>M3B 2W6</td>\n",
       "      <td>43.745920</td>\n",
       "      <td>-79.346301</td>\n",
       "      <td>3.5</td>\n",
       "      <td>119</td>\n",
       "      <td>...</td>\n",
       "      <td>0</td>\n",
       "      <td>0</td>\n",
       "      <td>0</td>\n",
       "      <td>1</td>\n",
       "      <td>0</td>\n",
       "      <td>0</td>\n",
       "      <td>0</td>\n",
       "      <td>0</td>\n",
       "      <td>10</td>\n",
       "      <td>0</td>\n",
       "    </tr>\n",
       "    <tr>\n",
       "      <th>3</th>\n",
       "      <td>Nz44ccUso3nq5S2OlQHNlA</td>\n",
       "      <td>Mexico Lindo</td>\n",
       "      <td>2600 Birchmount Road, Suite 2586</td>\n",
       "      <td>toronto</td>\n",
       "      <td>ON</td>\n",
       "      <td>M1T 2M5</td>\n",
       "      <td>43.789719</td>\n",
       "      <td>-79.302981</td>\n",
       "      <td>4.0</td>\n",
       "      <td>163</td>\n",
       "      <td>...</td>\n",
       "      <td>0</td>\n",
       "      <td>0</td>\n",
       "      <td>0</td>\n",
       "      <td>1</td>\n",
       "      <td>0</td>\n",
       "      <td>0</td>\n",
       "      <td>0</td>\n",
       "      <td>0</td>\n",
       "      <td>3</td>\n",
       "      <td>0</td>\n",
       "    </tr>\n",
       "  </tbody>\n",
       "</table>\n",
       "<p>3 rows × 45 columns</p>\n",
       "</div>"
      ],
      "text/plain": [
       "               business_id        name_x                           address  \\\n",
       "12  e49eXgKVuR-lsL0-D4vzDw        Momiji            2111 Sheppard Avenue E   \n",
       "10  ik9VvawL-BeAqlxTI1leew   Gonoe Sushi               1310 Don Mills Road   \n",
       "3   Nz44ccUso3nq5S2OlQHNlA  Mexico Lindo  2600 Birchmount Road, Suite 2586   \n",
       "\n",
       "       city state postal_code   latitude  longitude  stars_business_avg  \\\n",
       "12  toronto    ON     M2J 1W6  43.775377 -79.333972                 3.0   \n",
       "10  toronto    ON     M3B 2W6  43.745920 -79.346301                 3.5   \n",
       "3   toronto    ON     M1T 2M5  43.789719 -79.302981                 4.0   \n",
       "\n",
       "    review_count_x  ...  compliment_cute compliment_list compliment_note  \\\n",
       "12              22  ...                0               0               0   \n",
       "10             119  ...                0               0               0   \n",
       "3              163  ...                0               0               0   \n",
       "\n",
       "   compliment_plain compliment_cool compliment_funny  compliment_writer  \\\n",
       "12                1               0                0                  0   \n",
       "10                1               0                0                  0   \n",
       "3                 1               0                0                  0   \n",
       "\n",
       "    compliment_photos  business_id_refined  user_id_refined  \n",
       "12                  0                   12                0  \n",
       "10                  0                   10                0  \n",
       "3                   0                    3                0  \n",
       "\n",
       "[3 rows x 45 columns]"
      ]
     },
     "execution_count": 24,
     "metadata": {},
     "output_type": "execute_result"
    }
   ],
   "source": [
    "train_data = train_data.droplevel(0)\n",
    "train_data.head(3)"
   ]
  },
  {
   "cell_type": "code",
   "execution_count": 25,
   "metadata": {},
   "outputs": [
    {
     "data": {
      "text/plain": [
       "(219758, 7905, True)"
      ]
     },
     "execution_count": 25,
     "metadata": {},
     "output_type": "execute_result"
    }
   ],
   "source": [
    "len(train_data), len(test_data), len(train_data) + len(test_data) == len(dataset_to_use)"
   ]
  },
  {
   "cell_type": "code",
   "execution_count": 26,
   "metadata": {},
   "outputs": [
    {
     "data": {
      "text/plain": [
       "array([[   0,   12,    0],\n",
       "       [   0,   10,    0],\n",
       "       [   0,    3,    0],\n",
       "       ...,\n",
       "       [7904, 8045,    1],\n",
       "       [7904, 8480,    1],\n",
       "       [7904, 6951,    1]])"
      ]
     },
     "execution_count": 26,
     "metadata": {},
     "output_type": "execute_result"
    }
   ],
   "source": [
    "X_train = np.array(train_data[['user_id_refined', 'business_id_refined', 'fans']].values.tolist())\n",
    "X_train"
   ]
  },
  {
   "cell_type": "code",
   "execution_count": 27,
   "metadata": {},
   "outputs": [
    {
     "data": {
      "text/plain": [
       "219758"
      ]
     },
     "execution_count": 27,
     "metadata": {},
     "output_type": "execute_result"
    }
   ],
   "source": [
    "len(X_train)"
   ]
  },
  {
   "cell_type": "code",
   "execution_count": 28,
   "metadata": {},
   "outputs": [
    {
     "data": {
      "text/plain": [
       "array([0.6, 0.6, 1. , ..., 0.6, 0.4, 0.2])"
      ]
     },
     "execution_count": 28,
     "metadata": {},
     "output_type": "execute_result"
    }
   ],
   "source": [
    "y_train = np.array(train_data['stars']) / 5.0\n",
    "y_train"
   ]
  },
  {
   "cell_type": "code",
   "execution_count": 29,
   "metadata": {},
   "outputs": [
    {
     "data": {
      "text/plain": [
       "True"
      ]
     },
     "execution_count": 29,
     "metadata": {},
     "output_type": "execute_result"
    }
   ],
   "source": [
    "len(y_train) == len(X_train)"
   ]
  },
  {
   "cell_type": "code",
   "execution_count": 30,
   "metadata": {},
   "outputs": [
    {
     "data": {
      "text/html": [
       "<div>\n",
       "<style scoped>\n",
       "    .dataframe tbody tr th:only-of-type {\n",
       "        vertical-align: middle;\n",
       "    }\n",
       "\n",
       "    .dataframe tbody tr th {\n",
       "        vertical-align: top;\n",
       "    }\n",
       "\n",
       "    .dataframe thead th {\n",
       "        text-align: right;\n",
       "    }\n",
       "</style>\n",
       "<table border=\"1\" class=\"dataframe\">\n",
       "  <thead>\n",
       "    <tr style=\"text-align: right;\">\n",
       "      <th></th>\n",
       "      <th>rating_1.0</th>\n",
       "      <th>rating_2.0</th>\n",
       "      <th>rating_3.0</th>\n",
       "      <th>rating_4.0</th>\n",
       "      <th>rating_5.0</th>\n",
       "    </tr>\n",
       "  </thead>\n",
       "  <tbody>\n",
       "    <tr>\n",
       "      <th>0</th>\n",
       "      <td>0</td>\n",
       "      <td>0</td>\n",
       "      <td>1</td>\n",
       "      <td>0</td>\n",
       "      <td>0</td>\n",
       "    </tr>\n",
       "    <tr>\n",
       "      <th>1</th>\n",
       "      <td>0</td>\n",
       "      <td>0</td>\n",
       "      <td>1</td>\n",
       "      <td>0</td>\n",
       "      <td>0</td>\n",
       "    </tr>\n",
       "    <tr>\n",
       "      <th>2</th>\n",
       "      <td>0</td>\n",
       "      <td>0</td>\n",
       "      <td>0</td>\n",
       "      <td>0</td>\n",
       "      <td>1</td>\n",
       "    </tr>\n",
       "    <tr>\n",
       "      <th>3</th>\n",
       "      <td>1</td>\n",
       "      <td>0</td>\n",
       "      <td>0</td>\n",
       "      <td>0</td>\n",
       "      <td>0</td>\n",
       "    </tr>\n",
       "    <tr>\n",
       "      <th>4</th>\n",
       "      <td>0</td>\n",
       "      <td>0</td>\n",
       "      <td>0</td>\n",
       "      <td>1</td>\n",
       "      <td>0</td>\n",
       "    </tr>\n",
       "  </tbody>\n",
       "</table>\n",
       "</div>"
      ],
      "text/plain": [
       "   rating_1.0  rating_2.0  rating_3.0  rating_4.0  rating_5.0\n",
       "0           0           0           1           0           0\n",
       "1           0           0           1           0           0\n",
       "2           0           0           0           0           1\n",
       "3           1           0           0           0           0\n",
       "4           0           0           0           1           0"
      ]
     },
     "execution_count": 30,
     "metadata": {},
     "output_type": "execute_result"
    }
   ],
   "source": [
    "y_train_one_hot = pd.get_dummies(pd.DataFrame({'rating': list(map(lambda x: str(x), y_train * 5.0))}))\n",
    "y_train_one_hot.head(5)"
   ]
  },
  {
   "cell_type": "code",
   "execution_count": 31,
   "metadata": {},
   "outputs": [
    {
     "data": {
      "text/plain": [
       "True"
      ]
     },
     "execution_count": 31,
     "metadata": {},
     "output_type": "execute_result"
    }
   ],
   "source": [
    "len(y_train_one_hot) == len(y_train)"
   ]
  },
  {
   "cell_type": "markdown",
   "metadata": {},
   "source": [
    "# (1) GMF Implementation:"
   ]
  },
  {
   "cell_type": "code",
   "execution_count": 32,
   "metadata": {},
   "outputs": [
    {
     "name": "stdout",
     "output_type": "stream",
     "text": [
      "GMF arguments: Namespace(batch_size=256, dataset='Toronto', epochs=15, learner='adam', lr=0.001, num_factors=8, out=0, path='Data/', regs='[0,0]', verbose=1)\n"
     ]
    }
   ],
   "source": [
    "#################### Arguments ####################\n",
    "def parse_args():\n",
    "    parser = argparse.ArgumentParser(description=\"Run GMF.\")\n",
    "    \n",
    "    parser.add_argument('--path', nargs='?', default='Data/',\n",
    "                        help='Input data path.')\n",
    "    parser.add_argument('--dataset', nargs='?', default='ml-1m',\n",
    "                        help='Choose a dataset.')\n",
    "    parser.add_argument('--epochs', type=int, default=100,\n",
    "                        help='Number of epochs.')\n",
    "    parser.add_argument('--batch_size', type=int, default=256,\n",
    "                        help='Batch size.')\n",
    "    parser.add_argument('--num_factors', type=int, default=8,\n",
    "                        help='Embedding size.')\n",
    "    parser.add_argument('--regs', nargs='?', default='[0,0]',\n",
    "                        help=\"Regularization for user and item embeddings.\")\n",
    "    parser.add_argument('--lr', type=float, default=0.001,\n",
    "                        help='Learning rate.')\n",
    "    parser.add_argument('--learner', nargs='?', default='adam',\n",
    "                        help='Specify an optimizer: adagrad, adam, rmsprop, sgd')\n",
    "    parser.add_argument('--verbose', type=int, default=1,\n",
    "                        help='Show performance per X iterations')\n",
    "    parser.add_argument('--out', type=int, default=1,\n",
    "                        help='Whether to save the trained model.')\n",
    "    return parser.parse_args()\n",
    "\n",
    "def get_gmf_model(num_users, num_items, latent_dim, regs = [0,0]):\n",
    "    # Input variables\n",
    "    user_input = Input(shape=(1,), dtype='int32', name = 'user_input')\n",
    "    item_input = Input(shape=(1,), dtype='int32', name = 'item_input')\n",
    "    fan_input = Input(shape=(1,), dtype = 'int32', name = 'fan_input')\n",
    "\n",
    "    MF_Embedding_User = Embedding(input_dim = num_users, output_dim = latent_dim, name = 'user_embedding',\n",
    "                                  embeddings_initializer='random_normal', embeddings_regularizer = l2(regs[0]),\n",
    "                                  input_length=1)\n",
    "    MF_Embedding_Item = Embedding(input_dim = num_items, output_dim = latent_dim, name = 'item_embedding',\n",
    "                                  embeddings_initializer='random_normal', embeddings_regularizer = l2(regs[1]),\n",
    "                                  input_length=1)\n",
    "    MF_Embedding_Fans = Embedding(input_dim = num_users, output_dim = latent_dim, name = 'fan_embedding',\n",
    "                                  embeddings_initializer='random_normal', embeddings_regularizer = l2(regs[1]),\n",
    "                                  input_length=1)\n",
    "    \n",
    "    # Crucial to flatten an embedding vector!\n",
    "    user_latent = Flatten()(MF_Embedding_User(user_input))\n",
    "    item_latent = Flatten()(MF_Embedding_Item(item_input))\n",
    "    fan_latent = Flatten()(MF_Embedding_Fans(fan_input))\n",
    "    \n",
    "    # Element-wise product of user and item embeddings \n",
    "    predict_vector = Multiply()([user_latent, item_latent, fan_latent])\n",
    "    \n",
    "    # Final prediction layer\n",
    "    prediction = Dense(1, activation='sigmoid', kernel_initializer='lecun_uniform', name = 'prediction')(predict_vector)\n",
    "    \n",
    "    model = Model(inputs = [user_input, item_input, fan_input], outputs = prediction)\n",
    "\n",
    "    return model\n",
    "\n",
    "def get_train_instances(X, y):\n",
    "    X = np.array(X)\n",
    "    users, items, fans = X.T[0], X.T[1], X.T[2] \n",
    "    ratings = y\n",
    "    \n",
    "    return users, items, fans, ratings\n",
    "\n",
    "sys.argv = ['GMF.py','--dataset','Toronto','--epochs','15','--batch_size','256','--num_factors','8',\n",
    "'--regs','[0,0]', '--lr','0.001','--learner','adam','--verbose','1','--out','0']\n",
    "\n",
    "args = parse_args()\n",
    "num_factors = args.num_factors\n",
    "regs = eval(args.regs)\n",
    "learner = args.learner\n",
    "learning_rate = args.lr\n",
    "num_epochs = args.epochs\n",
    "batch_size = args.batch_size\n",
    "verbose = args.verbose\n",
    "\n",
    "evaluation_threads = 1 #mp.cpu_count()\n",
    "print(\"GMF arguments: %s\" %(args))"
   ]
  },
  {
   "cell_type": "code",
   "execution_count": 33,
   "metadata": {},
   "outputs": [
    {
     "name": "stdout",
     "output_type": "stream",
     "text": [
      "Initial: Test RMSE = 1.7351, Test R2 = -0.8242\n"
     ]
    }
   ],
   "source": [
    "# Build model\n",
    "model = get_gmf_model(num_users, num_items, num_factors, regs)\n",
    "\n",
    "if learner.lower() == \"adagrad\": \n",
    "    model.compile(optimizer=Adagrad(lr=learning_rate), loss='mse')\n",
    "elif learner.lower() == \"rmsprop\":\n",
    "    model.compile(optimizer=RMSprop(lr=learning_rate), loss='mse')\n",
    "elif learner.lower() == \"adam\":\n",
    "    model.compile(optimizer=Adam(lr=learning_rate), loss='mse')\n",
    "else:\n",
    "    model.compile(optimizer=SGD(lr=learning_rate), loss='mse')\n",
    "\n",
    "# Initial performance\n",
    "(mse, r2) = evaluate_model(model, X_test, y_test, evaluation_threads)\n",
    "print('Initial: Test RMSE = %.4f, Test R2 = %.4f' % (np.sqrt(mse), r2))"
   ]
  },
  {
   "cell_type": "code",
   "execution_count": 34,
   "metadata": {},
   "outputs": [
    {
     "name": "stderr",
     "output_type": "stream",
     "text": [
      "C:\\ProgramData\\Anaconda3\\envs\\cs_412\\lib\\site-packages\\tensorflow\\python\\framework\\indexed_slices.py:432: UserWarning: Converting sparse IndexedSlices to a dense Tensor of unknown shape. This may consume a large amount of memory.\n",
      "  warnings.warn(\n"
     ]
    },
    {
     "name": "stdout",
     "output_type": "stream",
     "text": [
      "Epoch 1 [1.4 s]: Test RMSE = 1.3426, Test R2 = -0.0923, Train Loss = 0.0706 [0.1 s]\n",
      "Epoch 2 [0.9 s]: Test RMSE = 1.2892, Test R2 = -0.0071, Train Loss = 0.0514 [0.1 s]\n",
      "Epoch 3 [0.9 s]: Test RMSE = 1.2778, Test R2 = 0.0106, Train Loss = 0.0486 [0.1 s]\n",
      "Epoch 4 [0.8 s]: Test RMSE = 1.2859, Test R2 = -0.0019, Train Loss = 0.0413 [0.1 s]\n",
      "Epoch 5 [0.9 s]: Test RMSE = 1.3202, Test R2 = -0.0561, Train Loss = 0.0333 [0.1 s]\n",
      "Epoch 6 [0.8 s]: Test RMSE = 1.3535, Test R2 = -0.1101, Train Loss = 0.0283 [0.1 s]\n",
      "Epoch 7 [0.8 s]: Test RMSE = 1.3827, Test R2 = -0.1585, Train Loss = 0.0253 [0.1 s]\n",
      "Epoch 8 [0.8 s]: Test RMSE = 1.4110, Test R2 = -0.2065, Train Loss = 0.0233 [0.1 s]\n",
      "Epoch 9 [0.8 s]: Test RMSE = 1.4328, Test R2 = -0.2440, Train Loss = 0.0219 [0.1 s]\n",
      "Epoch 10 [0.8 s]: Test RMSE = 1.4554, Test R2 = -0.2835, Train Loss = 0.0208 [0.1 s]\n",
      "Epoch 11 [1.0 s]: Test RMSE = 1.4763, Test R2 = -0.3206, Train Loss = 0.0199 [0.1 s]\n",
      "Epoch 12 [0.9 s]: Test RMSE = 1.4965, Test R2 = -0.3570, Train Loss = 0.0192 [0.1 s]\n",
      "Epoch 13 [0.8 s]: Test RMSE = 1.5133, Test R2 = -0.3877, Train Loss = 0.0186 [0.1 s]\n",
      "Epoch 14 [0.9 s]: Test RMSE = 1.5309, Test R2 = -0.4201, Train Loss = 0.0181 [0.1 s]\n",
      "Epoch 15 [0.8 s]: Test RMSE = 1.5469, Test R2 = -0.4500, Train Loss = 0.0176 [0.1 s]\n",
      "End. Best Epoch 3:  RMSE = 1.2778, R2 = 0.0106. \n"
     ]
    }
   ],
   "source": [
    "# Training and testing model\n",
    "current_folder = os.getcwd()\n",
    "model_out_file_gmf = current_folder + '\\Pretrain\\%s_GMF_%d_%d.h5' %(args.dataset, num_factors, time())\n",
    "\n",
    "train_loss = []\n",
    "test_rmse, test_r2 = [], []\n",
    "best_mse = float('inf')\n",
    "\n",
    "for epoch in range(num_epochs):\n",
    "    t1 = time()\n",
    "    \n",
    "    # Generate training instances\n",
    "    user_input, item_input, fan_input, ratings = get_train_instances(X_train, y_train)\n",
    "    \n",
    "    # Training\n",
    "    history = model.fit([user_input, item_input, fan_input], #input\n",
    "                     np.array(ratings), # labels\n",
    "                     batch_size = batch_size, epochs = 1, verbose = 0)\n",
    "\n",
    "    train_loss.append(history.history['loss'][0])\n",
    "    \n",
    "    t2 = time()\n",
    "\n",
    "#     # Evaluation\n",
    "    if epoch % verbose == 0:\n",
    "        (mse, r2) = evaluate_model(model, X_test, y_test, evaluation_threads)\n",
    "        \n",
    "        test_rmse.append(np.sqrt(mse))\n",
    "        test_r2.append(r2)\n",
    "        \n",
    "        print('Epoch %d [%.1f s]: Test RMSE = %.4f, Test R2 = %.4f, Train Loss = %.4f [%.1f s]' \n",
    "              % (epoch + 1,  t2 - t1, test_rmse[-1], test_r2[-1], train_loss[-1], time() - t2))\n",
    "        \n",
    "        if mse < best_mse:\n",
    "            best_mse, best_r2, best_iter = mse, r2, epoch + 1\n",
    "            if args.out > 0:\n",
    "                model.save_weights(model_out_file_gmf, overwrite = True)\n",
    "\n",
    "print(\"End. Best Epoch %d:  RMSE = %.4f, R2 = %.4f. \" %(best_iter, np.sqrt(best_mse), best_r2))\n",
    "if args.out > 0:\n",
    "    print(\"The best GMF model is saved\")"
   ]
  },
  {
   "cell_type": "code",
   "execution_count": 35,
   "metadata": {},
   "outputs": [
    {
     "data": {
      "image/png": "[encoded data removed]",
      "text/plain": [
       "<Figure size 432x288 with 1 Axes>"
      ]
     },
     "metadata": {},
     "output_type": "display_data"
    }
   ],
   "source": [
    "plt.plot(test_rmse, '*-', label = 'test_rmse')\n",
    "plt.plot(train_loss, '--', label = 'train_rmse')\n",
    "plt.legend()\n",
    "plt.xlabel('Epoch')\n",
    "plt.ylabel('RMSE')\n",
    "plt.show()"
   ]
  },
  {
   "cell_type": "markdown",
   "metadata": {},
   "source": [
    "# (2) MLP Implementation:"
   ]
  },
  {
   "cell_type": "code",
   "execution_count": 36,
   "metadata": {},
   "outputs": [
    {
     "name": "stdout",
     "output_type": "stream",
     "text": [
      "MLP arguments: Namespace(batch_size=256, dataset='Toronto', epochs=15, layers='[64,32,16,8]', learner='adam', lr=0.001, out=0, path='Data/', reg_layers='[0,0,0,0]', verbose=1)\n"
     ]
    }
   ],
   "source": [
    "def parse_args():\n",
    "    parser = argparse.ArgumentParser(description=\"Run MLP.\")\n",
    "    parser.add_argument('--path', nargs='?', default='Data/',\n",
    "                        help='Input data path.')\n",
    "    parser.add_argument('--dataset', nargs='?', default='ml-1m',\n",
    "                        help='Choose a dataset.')\n",
    "    parser.add_argument('--epochs', type=int, default=100,\n",
    "                        help='Number of epochs.')\n",
    "    parser.add_argument('--batch_size', type=int, default=256,\n",
    "                        help='Batch size.')\n",
    "    parser.add_argument('--layers', nargs='?', default='[64,32,16,8]',\n",
    "                        help=\"Size of each layer. Note that the first layer is the concatenation of user and item embeddings. So layers[0]/2 is the embedding size.\")\n",
    "    parser.add_argument('--reg_layers', nargs='?', default='[0,0,0,0]',\n",
    "                        help=\"Regularization for each layer\")\n",
    "    parser.add_argument('--lr', type=float, default=0.001,\n",
    "                        help='Learning rate.')\n",
    "    parser.add_argument('--learner', nargs='?', default='adam',\n",
    "                        help='Specify an optimizer: adagrad, adam, rmsprop, sgd')\n",
    "    parser.add_argument('--verbose', type=int, default=1,\n",
    "                        help='Show performance per X iterations')\n",
    "    parser.add_argument('--out', type=int, default=1,\n",
    "                        help='Whether to save the trained model.')\n",
    "    return parser.parse_args()\n",
    "\n",
    "sys.argv = ['MLP.py','--dataset','Toronto','--epochs','15','--batch_size','256','--layers','[64,32,16,8]',\n",
    "'--reg_layers','[0,0,0,0]', '--lr','0.001','--learner','adam','--verbose','1','--out','0']\n",
    "\n",
    "args = parse_args()\n",
    "dataset = args.dataset\n",
    "layers = eval(args.layers)\n",
    "reg_layers = eval(args.reg_layers)\n",
    "learner = args.learner\n",
    "learning_rate = args.lr\n",
    "batch_size = args.batch_size\n",
    "num_epochs = args.epochs\n",
    "verbose = args.verbose\n",
    "evaluation_threads = 1 # mp.cpu_count()\n",
    "\n",
    "print(\"MLP arguments: %s\" %(args))"
   ]
  },
  {
   "cell_type": "code",
   "execution_count": 37,
   "metadata": {},
   "outputs": [],
   "source": [
    "def get_mlp_model(num_users, num_items, layers = [20,10], reg_layers=[0,0]):\n",
    "    assert len(layers) == len(reg_layers)\n",
    "    num_layer = len(layers) #Number of layers in the MLP\n",
    "    # Input variables\n",
    "    user_input = Input(shape=(1,), dtype='int32', name = 'user_input')\n",
    "    item_input = Input(shape=(1,), dtype='int32', name = 'item_input')\n",
    "    fan_input = Input(shape=(1,), dtype = 'int32', name = 'fan_input')\n",
    "\n",
    "    MLP_Embedding_User = Embedding(input_dim = num_users, output_dim = int(layers[0] / 2), name = 'user_embedding',\n",
    "                                   embeddings_initializer='random_normal', embeddings_regularizer = l2(reg_layers[0]),\n",
    "                                   input_length=1)\n",
    "    MLP_Embedding_Item = Embedding(input_dim = num_items, output_dim = int(layers[0] / 2), name = 'item_embedding',\n",
    "                                   embeddings_initializer='random_normal', embeddings_regularizer = l2(reg_layers[0]),\n",
    "                                   input_length=1)\n",
    "    MLP_Embedding_Fans = Embedding(input_dim = num_users, output_dim = int(layers[0] / 2), name = 'fan_embedding',\n",
    "                                   embeddings_initializer='random_normal', embeddings_regularizer = l2(reg_layers[0]),\n",
    "                                   input_length=1)\n",
    "    \n",
    "    # Crucial to flatten an embedding vector!\n",
    "    user_latent = Flatten()(MLP_Embedding_User(user_input))\n",
    "    item_latent = Flatten()(MLP_Embedding_Item(item_input))\n",
    "    fan_latent = Flatten()(MLP_Embedding_Fans(fan_input))\n",
    "    \n",
    "    # The 0-th layer is the concatenation of embedding layers\n",
    "    vector = Concatenate()([user_latent, item_latent, fan_latent])\n",
    "    \n",
    "    # MLP layers\n",
    "    for idx in range(1, num_layer):\n",
    "        layer = Dense(layers[idx], kernel_regularizer = l2(reg_layers[idx]), activation='relu', name = 'layer%d' %idx)\n",
    "        vector = layer(vector)\n",
    "        \n",
    "    # Final prediction layer\n",
    "    prediction = Dense(1, activation='sigmoid', kernel_initializer='lecun_uniform', name = 'prediction')(vector)\n",
    "    model = Model(inputs = [user_input, item_input, fan_input], outputs = prediction)\n",
    "    \n",
    "    return model"
   ]
  },
  {
   "cell_type": "code",
   "execution_count": 38,
   "metadata": {},
   "outputs": [
    {
     "name": "stdout",
     "output_type": "stream",
     "text": [
      "Initial: Test RMSE = 1.7727, Test R2 = -0.9042\n"
     ]
    }
   ],
   "source": [
    "# Build model\n",
    "model = get_mlp_model(num_users, num_items, layers, reg_layers)\n",
    "\n",
    "if learner.lower() == \"adagrad\": \n",
    "    model.compile(optimizer=Adagrad(lr=learning_rate), loss='mse')\n",
    "elif learner.lower() == \"rmsprop\":\n",
    "    model.compile(optimizer=RMSprop(lr=learning_rate), loss='mse')\n",
    "elif learner.lower() == \"adam\":\n",
    "    model.compile(optimizer=Adam(lr=learning_rate), loss='mse')\n",
    "else:\n",
    "    model.compile(optimizer=SGD(lr=learning_rate), loss='mse')\n",
    "\n",
    "# Initial performance\n",
    "(mse, r2) = evaluate_model(model, X_test, y_test, evaluation_threads)\n",
    "print('Initial: Test RMSE = %.4f, Test R2 = %.4f' % (np.sqrt(mse), r2))"
   ]
  },
  {
   "cell_type": "code",
   "execution_count": 39,
   "metadata": {
    "scrolled": true
   },
   "outputs": [
    {
     "name": "stderr",
     "output_type": "stream",
     "text": [
      "C:\\ProgramData\\Anaconda3\\envs\\cs_412\\lib\\site-packages\\tensorflow\\python\\framework\\indexed_slices.py:432: UserWarning: Converting sparse IndexedSlices to a dense Tensor of unknown shape. This may consume a large amount of memory.\n",
      "  warnings.warn(\n"
     ]
    },
    {
     "name": "stdout",
     "output_type": "stream",
     "text": [
      "Epoch 1 [3.8 s]: Test RMSE = 1.1678, Test R2 = 0.1736, Train Loss = 0.2149 [0.1 s]\n",
      "Epoch 2 [2.9 s]: Test RMSE = 1.1529, Test R2 = 0.1946, Train Loss = 0.1943 [0.1 s]\n",
      "Epoch 3 [2.9 s]: Test RMSE = 1.1532, Test R2 = 0.1942, Train Loss = 0.1900 [0.1 s]\n",
      "Epoch 4 [3.0 s]: Test RMSE = 1.1595, Test R2 = 0.1854, Train Loss = 0.1858 [0.1 s]\n",
      "Epoch 5 [3.0 s]: Test RMSE = 1.1771, Test R2 = 0.1604, Train Loss = 0.1808 [0.1 s]\n",
      "Epoch 6 [3.6 s]: Test RMSE = 1.1891, Test R2 = 0.1432, Train Loss = 0.1743 [0.1 s]\n",
      "Epoch 7 [4.3 s]: Test RMSE = 1.2146, Test R2 = 0.1061, Train Loss = 0.1662 [0.1 s]\n",
      "Epoch 8 [4.2 s]: Test RMSE = 1.2395, Test R2 = 0.0691, Train Loss = 0.1576 [0.1 s]\n",
      "Epoch 9 [4.6 s]: Test RMSE = 1.2615, Test R2 = 0.0357, Train Loss = 0.1491 [0.4 s]\n",
      "Epoch 10 [4.2 s]: Test RMSE = 1.2792, Test R2 = 0.0084, Train Loss = 0.1411 [0.1 s]\n",
      "Epoch 11 [4.2 s]: Test RMSE = 1.2933, Test R2 = -0.0135, Train Loss = 0.1341 [0.1 s]\n",
      "Epoch 12 [4.3 s]: Test RMSE = 1.3141, Test R2 = -0.0464, Train Loss = 0.1279 [0.1 s]\n",
      "Epoch 13 [4.1 s]: Test RMSE = 1.3329, Test R2 = -0.0766, Train Loss = 0.1226 [0.1 s]\n",
      "Epoch 14 [4.3 s]: Test RMSE = 1.3356, Test R2 = -0.0809, Train Loss = 0.1180 [0.1 s]\n",
      "Epoch 15 [4.2 s]: Test RMSE = 1.3484, Test R2 = -0.1018, Train Loss = 0.1139 [0.1 s]\n",
      "End. Best Epoch 2:  RMSE = 1.1529, R2 = 0.1946. \n"
     ]
    }
   ],
   "source": [
    "# Training and testing model\n",
    "current_folder = os.getcwd()\n",
    "model_out_file_mlp = current_folder + '\\Pretrain\\%s_MLP_%d_%d.h5' %(args.dataset, num_factors, time())\n",
    "\n",
    "train_loss = []\n",
    "test_rmse, test_r2 = [], []\n",
    "best_mse = float('inf')\n",
    "\n",
    "for epoch in range(num_epochs):\n",
    "    t1 = time()\n",
    "    \n",
    "    # Generate training instances\n",
    "    user_input, item_input, fan_input, ratings = get_train_instances(X_train, y_train)\n",
    "    \n",
    "    # Training\n",
    "    history = model.fit([user_input, item_input, fan_input], # input\n",
    "                         ratings, # labels\n",
    "                         batch_size = batch_size, epochs = 1, verbose = 0)\n",
    "\n",
    "    train_loss.append(np.sqrt(history.history['loss'][0]))\n",
    "    \n",
    "    t2 = time()\n",
    "\n",
    "    # Evaluation\n",
    "    if epoch % verbose == 0:\n",
    "        (mse, r2) = evaluate_model(model, X_test, y_test, evaluation_threads)\n",
    "        \n",
    "        test_rmse.append(np.sqrt(mse))\n",
    "        test_r2.append(r2)\n",
    "        \n",
    "        print('Epoch %d [%.1f s]: Test RMSE = %.4f, Test R2 = %.4f, Train Loss = %.4f [%.1f s]' \n",
    "              % (epoch + 1,  t2 - t1, test_rmse[-1], test_r2[-1], train_loss[-1], time() - t2))\n",
    "        \n",
    "        if mse < best_mse:\n",
    "            best_mse, best_r2, best_iter = mse, r2, epoch + 1\n",
    "            if args.out > 0:\n",
    "                model.save_weights(model_out_file_mlp, overwrite = True)\n",
    "\n",
    "print(\"End. Best Epoch %d:  RMSE = %.4f, R2 = %.4f. \" %(best_iter, np.sqrt(best_mse), best_r2))\n",
    "if args.out > 0:\n",
    "    print(\"The best MLP model is saved\")"
   ]
  },
  {
   "cell_type": "code",
   "execution_count": 40,
   "metadata": {},
   "outputs": [
    {
     "data": {
      "image/png": "[encoded data removed]",
      "text/plain": [
       "<Figure size 432x288 with 1 Axes>"
      ]
     },
     "metadata": {},
     "output_type": "display_data"
    }
   ],
   "source": [
    "plt.plot(test_rmse, '*-', label = 'test_rmse')\n",
    "plt.plot(train_loss, '--', label = 'train_rmse')\n",
    "plt.legend()\n",
    "plt.xlabel('Epoch')\n",
    "plt.ylabel('RMSE')\n",
    "plt.show()"
   ]
  },
  {
   "cell_type": "markdown",
   "metadata": {},
   "source": [
    "# NCF Implementation:"
   ]
  },
  {
   "cell_type": "code",
   "execution_count": 41,
   "metadata": {},
   "outputs": [
    {
     "name": "stdout",
     "output_type": "stream",
     "text": [
      "NeuMF arguments: Namespace(batch_size=256, dataset='Toronto', epochs=15, layers='[64,32,16,8]', learner='adam', lr=0.001, mf_pretrain='', mlp_pretrain='', num_factors=8, out=0, path='Data/', reg_layers='[0,0,0,0]', reg_mf=0.0, verbose=1) \n"
     ]
    }
   ],
   "source": [
    "#################### Arguments ####################\n",
    "def parse_args():\n",
    "    parser = argparse.ArgumentParser(description=\"Run NeuMF.\")\n",
    "    \n",
    "    parser.add_argument('--path', nargs='?', default='Data/',\n",
    "                        help='Input data path.')\n",
    "    parser.add_argument('--dataset', nargs='?', default='ml-1m',\n",
    "                        help='Choose a dataset.')\n",
    "    parser.add_argument('--epochs', type=int, default=100,\n",
    "                        help='Number of epochs.')\n",
    "    parser.add_argument('--batch_size', type=int, default=256,\n",
    "                        help='Batch size.')\n",
    "    parser.add_argument('--num_factors', type=int, default=8,\n",
    "                        help='Embedding size of MF model.')\n",
    "    parser.add_argument('--layers', nargs='?', default='[64,32,16,8]',\n",
    "                        help=\"MLP layers. Note that the first layer is the concatenation of user and item embeddings. So layers[0]/2 is the embedding size.\")\n",
    "    parser.add_argument('--reg_mf', type=float, default=0,\n",
    "                        help='Regularization for MF embeddings.')                    \n",
    "    parser.add_argument('--reg_layers', nargs='?', default='[0,0,0,0]',\n",
    "                        help=\"Regularization for each MLP layer. reg_layers[0] is the regularization for embeddings.\")\n",
    "    parser.add_argument('--lr', type=float, default=0.001,\n",
    "                        help='Learning rate.')\n",
    "    parser.add_argument('--learner', nargs='?', default='adam',\n",
    "                        help='Specify an optimizer: adagrad, adam, rmsprop, sgd')\n",
    "    parser.add_argument('--verbose', type=int, default=1,\n",
    "                        help='Show performance per X iterations')\n",
    "    parser.add_argument('--out', type=int, default=1,\n",
    "                        help='Whether to save the trained model.')\n",
    "    parser.add_argument('--mf_pretrain', nargs='?', default='',\n",
    "                        help='Specify the pretrain model file for MF part. If empty, no pretrain will be used')\n",
    "    parser.add_argument('--mlp_pretrain', nargs='?', default='',\n",
    "                        help='Specify the pretrain model file for MLP part. If empty, no pretrain will be used')\n",
    "    return parser.parse_args()\n",
    "\n",
    "\n",
    "sys.argv = ['NeuMF.py','--dataset','Toronto','--epochs','15','--batch_size','256','--num_factors','8',\n",
    "            '--layers','[64,32,16,8]','--reg_mf','0','--reg_layers','[0,0,0,0]',\n",
    "            '--lr','0.001','--learner','adam','--verbose','1','--out','0',\n",
    "            '--mf_pretrain', '', '--mlp_pretrain', '']\n",
    "\n",
    "args = parse_args()\n",
    "\n",
    "num_epochs = args.epochs\n",
    "batch_size = args.batch_size\n",
    "mf_dim = args.num_factors\n",
    "layers = eval(args.layers)\n",
    "reg_mf = args.reg_mf\n",
    "reg_layers = eval(args.reg_layers)\n",
    "learning_rate = args.lr\n",
    "learner = args.learner\n",
    "verbose = args.verbose\n",
    "mf_pretrain = args.mf_pretrain\n",
    "mlp_pretrain = args.mlp_pretrain\n",
    "\n",
    "evaluation_threads = -1 # mp.cpu_count()\n",
    "\n",
    "print(\"NeuMF arguments: %s \" %(args))"
   ]
  },
  {
   "cell_type": "code",
   "execution_count": 42,
   "metadata": {},
   "outputs": [],
   "source": [
    "def get_ncf_model(num_users, num_items, mf_dim=10, layers=[10], reg_layers=[0], reg_mf=0):\n",
    "    assert len(layers) == len(reg_layers)\n",
    "    num_layer = len(layers) #Number of layers in the MLP\n",
    "    \n",
    "    # Input variables\n",
    "    user_input = Input(shape=(1,), dtype='int32', name = 'user_input')\n",
    "    item_input = Input(shape=(1,), dtype='int32', name = 'item_input')\n",
    "    fan_input = Input(shape=(1,), dtype='int32', name = 'fan_input')\n",
    "    \n",
    "    print('Input layer: ', user_input.shape, user_input.dtype, fan_input.shape)\n",
    "    \n",
    "    # Embedding layer\n",
    "    MF_Embedding_User = Embedding(input_dim = num_users, output_dim = mf_dim, name = 'mf_embedding_user',\n",
    "                                  embeddings_initializer = 'random_normal', embeddings_regularizer = l2(reg_mf),\n",
    "                                  input_length=1)\n",
    "    MF_Embedding_Item = Embedding(input_dim = num_items, output_dim = mf_dim, name = 'mf_embedding_item',\n",
    "                                  embeddings_initializer = 'random_normal', embeddings_regularizer = l2(reg_mf),\n",
    "                                  input_length=1)  \n",
    "    MF_Embedding_Fan = Embedding(input_dim = num_users, output_dim = mf_dim, name = 'mf_fan_embedding',\n",
    "                                  embeddings_initializer='random_normal', embeddings_regularizer = l2(reg_mf),\n",
    "                                  input_length=1)\n",
    "    \n",
    "\n",
    "    MLP_Embedding_User = Embedding(input_dim = num_users, output_dim = int(layers[0]/2), name = \"mlp_embedding_user\",\n",
    "                                   embeddings_initializer = 'random_normal', embeddings_regularizer = l2(reg_layers[0]),\n",
    "                                   input_length=1)\n",
    "    MLP_Embedding_Item = Embedding(input_dim = num_items, output_dim = int(layers[0]/2), name = 'mlp_embedding_item',\n",
    "                                   embeddings_initializer = 'random_normal', embeddings_regularizer = l2(reg_layers[0]),\n",
    "                                   input_length=1)\n",
    "    MLP_Embedding_Fan = Embedding(input_dim = num_users, output_dim = int(layers[0]/2), name = 'mlp_fan_embedding',\n",
    "                                  embeddings_initializer='random_normal', embeddings_regularizer = l2(reg_layers[0]),\n",
    "                                  input_length=1)\n",
    "\n",
    "    output = MLP_Embedding_User(user_input)\n",
    "    \n",
    "    # MF part\n",
    "    mf_user_latent = Flatten()(MF_Embedding_User(user_input))\n",
    "    mf_item_latent = Flatten()(MF_Embedding_Item(item_input))\n",
    "    mf_fan_latent = Flatten()(MF_Embedding_Fan(fan_input))\n",
    "    \n",
    "    mf_vector = Multiply()([mf_user_latent, mf_item_latent, mf_fan_latent]) # element-wise multiply\n",
    "\n",
    "    # MLP part \n",
    "    mlp_user_latent = Flatten()(MLP_Embedding_User(user_input))\n",
    "    mlp_item_latent = Flatten()(MLP_Embedding_Item(item_input))\n",
    "    mlp_fan_latent = Flatten()(MLP_Embedding_Fan(fan_input))\n",
    "    \n",
    "    mlp_vector = Concatenate()([mlp_user_latent, mlp_item_latent, mlp_fan_latent])\n",
    "    \n",
    "    for idx in range(1, num_layer):\n",
    "        layer = Dense(layers[idx], kernel_regularizer= l2(reg_layers[idx]), activation='relu', name=\"layer%d\" %idx)\n",
    "        mlp_vector = layer(mlp_vector)\n",
    "\n",
    "    # Concatenate MF and MLP parts\n",
    "    predict_vector = Concatenate()([mf_vector, mlp_vector])\n",
    "    \n",
    "    # Final prediction layer\n",
    "    prediction = Dense(1, activation = 'sigmoid', kernel_initializer='lecun_uniform', name = \"prediction\")(predict_vector)\n",
    "    \n",
    "    model = Model(inputs = [user_input, item_input, fan_input], outputs = prediction)\n",
    "    \n",
    "    return model\n",
    "\n",
    "def load_pretrain_model(model, gmf_model, mlp_model, num_layers):\n",
    "    # MF embeddings\n",
    "    gmf_user_embeddings = gmf_model.get_layer('user_embedding').get_weights()\n",
    "    gmf_item_embeddings = gmf_model.get_layer('item_embedding').get_weights()\n",
    "    model.get_layer('mf_embedding_user').set_weights(gmf_user_embeddings)\n",
    "    model.get_layer('mf_embedding_item').set_weights(gmf_item_embeddings)\n",
    "    \n",
    "    # MLP embeddings\n",
    "    mlp_user_embeddings = mlp_model.get_layer('user_embedding').get_weights()\n",
    "    mlp_item_embeddings = mlp_model.get_layer('item_embedding').get_weights()\n",
    "    model.get_layer('mlp_embedding_user').set_weights(mlp_user_embeddings)\n",
    "    model.get_layer('mlp_embedding_item').set_weights(mlp_item_embeddings)\n",
    "    \n",
    "    # MLP layers\n",
    "    for i in range(1, num_layers):\n",
    "        mlp_layer_weights = mlp_model.get_layer('layer%d' %i).get_weights()\n",
    "        model.get_layer('layer%d' %i).set_weights(mlp_layer_weights)\n",
    "        \n",
    "    # Prediction weights\n",
    "    gmf_prediction = gmf_model.get_layer('prediction').get_weights()\n",
    "    mlp_prediction = mlp_model.get_layer('prediction').get_weights()\n",
    "    new_weights = np.concatenate((gmf_prediction[0], mlp_prediction[0]), axis=0)\n",
    "    new_b = gmf_prediction[1] + mlp_prediction[1]\n",
    "    model.get_layer('prediction').set_weights([0.5*new_weights, 0.5*new_b])    \n",
    "    return model"
   ]
  },
  {
   "cell_type": "code",
   "execution_count": 43,
   "metadata": {},
   "outputs": [
    {
     "name": "stdout",
     "output_type": "stream",
     "text": [
      "Input layer:  (None, 1) <dtype: 'int32'> (None, 1)\n",
      "Initial: Test RMSE = 1.7302, Test R2 = -0.8140\n"
     ]
    }
   ],
   "source": [
    "# Build and compile, and check initial performance\n",
    "model = get_ncf_model(num_users, num_items, mf_dim, layers, reg_layers, reg_mf)\n",
    "\n",
    "if learner.lower() == \"adagrad\": \n",
    "    model.compile(optimizer=Adagrad(lr=learning_rate), loss='mse')\n",
    "elif learner.lower() == \"rmsprop\":\n",
    "    model.compile(optimizer=RMSprop(lr=learning_rate), loss='mse')\n",
    "elif learner.lower() == \"adam\":\n",
    "    model.compile(optimizer=Adam(lr=learning_rate), loss='mse')\n",
    "else:\n",
    "    model.compile(optimizer=SGD(lr=learning_rate), loss='mse')\n",
    "\n",
    "# Load pretrain model\n",
    "if mf_pretrain != '' and mlp_pretrain != '':\n",
    "    gmf_model = get_gmf_model(num_users,num_items,mf_dim)\n",
    "    gmf_model.load_weights(mf_pretrain)\n",
    "    mlp_model = get_mlp_model(num_users,num_items, layers, reg_layers)\n",
    "    mlp_model.load_weights(mlp_pretrain)\n",
    "    model = load_pretrain_model(model, gmf_model, mlp_model, len(layers))\n",
    "    print(\"Load pretrained GMF (%s) and MLP (%s) models done. \" %(mf_pretrain, mlp_pretrain))\n",
    "    \n",
    "# Initial performance\n",
    "(mse, r2) = evaluate_model(model, X_test, y_test, evaluation_threads)\n",
    "print('Initial: Test RMSE = %.4f, Test R2 = %.4f' % (np.sqrt(mse), r2))"
   ]
  },
  {
   "cell_type": "code",
   "execution_count": 44,
   "metadata": {
    "scrolled": true
   },
   "outputs": [
    {
     "name": "stderr",
     "output_type": "stream",
     "text": [
      "C:\\ProgramData\\Anaconda3\\envs\\cs_412\\lib\\site-packages\\tensorflow\\python\\framework\\indexed_slices.py:432: UserWarning: Converting sparse IndexedSlices to a dense Tensor of unknown shape. This may consume a large amount of memory.\n",
      "  warnings.warn(\n"
     ]
    },
    {
     "name": "stdout",
     "output_type": "stream",
     "text": [
      "Epoch 1 [6.5 s]: Test RMSE = 1.1644, Test R2 = 0.1784, Train Loss = 0.2116 [0.1 s]\n",
      "Epoch 2 [4.8 s]: Test RMSE = 1.1516, Test R2 = 0.1965, Train Loss = 0.1940 [0.1 s]\n",
      "Epoch 3 [4.8 s]: Test RMSE = 1.1524, Test R2 = 0.1953, Train Loss = 0.1878 [0.1 s]\n",
      "Epoch 4 [4.8 s]: Test RMSE = 1.1911, Test R2 = 0.1403, Train Loss = 0.1728 [0.1 s]\n",
      "Epoch 5 [4.7 s]: Test RMSE = 1.2425, Test R2 = 0.0646, Train Loss = 0.1518 [0.1 s]\n",
      "Epoch 6 [4.7 s]: Test RMSE = 1.2672, Test R2 = 0.0269, Train Loss = 0.1358 [0.1 s]\n",
      "Epoch 7 [4.9 s]: Test RMSE = 1.3032, Test R2 = -0.0291, Train Loss = 0.1239 [0.1 s]\n",
      "Epoch 8 [5.4 s]: Test RMSE = 1.3288, Test R2 = -0.0699, Train Loss = 0.1147 [0.1 s]\n",
      "Epoch 9 [4.7 s]: Test RMSE = 1.3597, Test R2 = -0.1203, Train Loss = 0.1071 [0.1 s]\n",
      "Epoch 10 [4.8 s]: Test RMSE = 1.3606, Test R2 = -0.1218, Train Loss = 0.1009 [0.1 s]\n",
      "Epoch 11 [4.7 s]: Test RMSE = 1.3745, Test R2 = -0.1448, Train Loss = 0.0958 [0.1 s]\n",
      "Epoch 12 [4.8 s]: Test RMSE = 1.3896, Test R2 = -0.1701, Train Loss = 0.0915 [0.1 s]\n",
      "Epoch 13 [4.9 s]: Test RMSE = 1.3907, Test R2 = -0.1719, Train Loss = 0.0876 [0.1 s]\n",
      "Epoch 14 [4.8 s]: Test RMSE = 1.3960, Test R2 = -0.1809, Train Loss = 0.0844 [0.1 s]\n",
      "Epoch 15 [5.1 s]: Test RMSE = 1.4057, Test R2 = -0.1973, Train Loss = 0.0815 [0.1 s]\n",
      "End. Best Iteration 1:  RMSE = 1.1516, R2 = 0.1965. \n"
     ]
    }
   ],
   "source": [
    "# Training and testing model\n",
    "current_folder = os.getcwd()\n",
    "model_out_file_ncf = current_folder + '\\Pretrain\\%s_NeuMF_%d_%s_%d.h5' %(args.dataset, mf_dim, args.layers, time())\n",
    "\n",
    "train_loss, val_loss = [], []\n",
    "test_rmse, test_r2 = [], []\n",
    "best_mse = float('inf')\n",
    "\n",
    "for epoch in range(num_epochs):\n",
    "    t1 = time()\n",
    "    \n",
    "    # Generate training instances\n",
    "    user_input, item_input, fan_input, ratings = get_train_instances(X_train, y_train)\n",
    "    \n",
    "    # Training\n",
    "    history = model.fit([user_input, item_input, fan_input], # input\n",
    "                         ratings, # labels\n",
    "                         batch_size = batch_size, epochs = 1, verbose = 0)\n",
    "\n",
    "    train_loss.append(np.sqrt(history.history['loss'][0]))\n",
    "    \n",
    "    t2 = time()\n",
    "\n",
    "    # Evaluation\n",
    "    if epoch % verbose == 0:\n",
    "        (mse, r2) = evaluate_model(model, X_test, y_test, evaluation_threads)\n",
    "        \n",
    "        test_rmse.append(np.sqrt(mse))\n",
    "        test_r2.append(r2)\n",
    "        \n",
    "        print('Epoch %d [%.1f s]: Test RMSE = %.4f, Test R2 = %.4f, Train Loss = %.4f [%.1f s]' \n",
    "              % (epoch + 1,  t2 - t1, test_rmse[-1], test_r2[-1], train_loss[-1], time() - t2))\n",
    "        \n",
    "        if mse < best_mse:\n",
    "            best_mse, best_r2, best_iter = mse, r2, epoch\n",
    "            if args.out > 0:\n",
    "                model.save_weights(model_out_file_ncf, overwrite=True)\n",
    "\n",
    "print(\"End. Best Iteration %d:  RMSE = %.4f, R2 = %.4f. \" %(best_iter, np.sqrt(best_mse), best_r2))\n",
    "if args.out > 0:\n",
    "    print(\"The best NeuMF model is saved\")"
   ]
  },
  {
   "cell_type": "code",
   "execution_count": 45,
   "metadata": {},
   "outputs": [
    {
     "data": {
      "image/png": "[encoded data removed]",
      "text/plain": [
       "<Figure size 432x288 with 1 Axes>"
      ]
     },
     "metadata": {},
     "output_type": "display_data"
    }
   ],
   "source": [
    "plt.plot(test_rmse, '*-', label = 'test_rmse')\n",
    "plt.plot(train_loss, '--', label = 'train_rmse')\n",
    "plt.legend()\n",
    "plt.xlabel('Epoch')\n",
    "plt.ylabel('RMSE')\n",
    "plt.show()"
   ]
  },
  {
   "cell_type": "code",
   "execution_count": null,
   "metadata": {},
   "outputs": [],
   "source": []
  }
 ],
 "metadata": {
  "kernelspec": {
   "display_name": "Python 3",
   "language": "python",
   "name": "python3"
  },
  "language_info": {
   "codemirror_mode": {
    "name": "ipython",
    "version": 3
   },
   "file_extension": ".py",
   "mimetype": "text/x-python",
   "name": "python",
   "nbconvert_exporter": "python",
   "pygments_lexer": "ipython3",
   "version": "3.8.5"
  }
 },
 "nbformat": 4,
 "nbformat_minor": 4
}
