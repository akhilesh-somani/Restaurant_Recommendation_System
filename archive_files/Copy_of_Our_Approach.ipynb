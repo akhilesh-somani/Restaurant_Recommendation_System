{
  "nbformat": 4,
  "nbformat_minor": 0,
  "metadata": {
    "kernelspec": {
      "display_name": "Python 3",
      "language": "python",
      "name": "python3"
    },
    "language_info": {
      "codemirror_mode": {
        "name": "ipython",
        "version": 3
      },
      "file_extension": ".py",
      "mimetype": "text/x-python",
      "name": "python",
      "nbconvert_exporter": "python",
      "pygments_lexer": "ipython3",
      "version": "3.8.5"
    },
    "colab": {
      "name": "Copy of Our_Approach.ipynb",
      "provenance": [],
      "include_colab_link": true
    }
  },
  "cells": [
    {
      "cell_type": "markdown",
      "metadata": {
        "id": "view-in-github",
        "colab_type": "text"
      },
      "source": [
        "<a href=\"https://colab.research.google.com/github/akhilesh-somani/Restaurant_Recommendation_System/blob/main/Copy_of_Our_Approach.ipynb\" target=\"_parent\"><img src=\"https://colab.research.google.com/assets/colab-badge.svg\" alt=\"Open In Colab\"/></a>"
      ]
    },
    {
      "cell_type": "code",
      "metadata": {
        "id": "qNG-_g4xLENN"
      },
      "source": [
        "## Import Packages:\n",
        "import numpy as np\n",
        "import pandas as pd\n",
        "import matplotlib.pyplot as plt\n",
        "import keras\n",
        "from keras import backend as K\n",
        "from keras import initializers\n",
        "from keras.regularizers import l1, l2, l1_l2\n",
        "from keras.models import Sequential, Model\n",
        "from keras.layers.core import Dense, Lambda, Activation\n",
        "from keras.layers import Embedding, Input, Dense, Concatenate, Reshape, Multiply, Flatten, Dropout\n",
        "from keras.optimizers import Adagrad, Adam, SGD, RMSprop\n",
        "from time import time\n",
        "import sys, os, argparse\n",
        "from tqdm import tqdm\n",
        "from sklearn.metrics import mean_squared_error, r2_score\n",
        "import seaborn as sns\n",
        "\n",
        "sns.set_style('whitegrid')\n",
        "sns.set_palette('colorblind')\n",
        "sns.set_context('talk')"
      ],
      "execution_count": null,
      "outputs": []
    },
    {
      "cell_type": "markdown",
      "metadata": {
        "id": "pulFYkchLENO"
      },
      "source": [
        "## Read in toronto user-item interaction csv file to generate dataset:"
      ]
    },
    {
      "cell_type": "markdown",
      "metadata": {
        "id": "sCTfvSN1LENO"
      },
      "source": [
        "### !!!WARNING!!! MAKE SURE TO RUN 'Data_Cleaning_&_Baseline1.ipynb' BEFORE RUNNING THIS FILE"
      ]
    },
    {
      "cell_type": "code",
      "metadata": {
        "id": "33-PJDlhLENO"
      },
      "source": [
        "toronto_user_item_final_df = pd.read_csv('../yelp_dataset/toronto_user_item_final_df.csv', index_col = 0)\n",
        "dataset_to_use = toronto_user_item_final_df.copy()"
      ],
      "execution_count": null,
      "outputs": []
    },
    {
      "cell_type": "code",
      "metadata": {
        "id": "6g7RXVSJLENO"
      },
      "source": [
        "num_users = dataset_to_use.user_id.nunique()\n",
        "num_items = dataset_to_use.business_id.nunique()"
      ],
      "execution_count": null,
      "outputs": []
    },
    {
      "cell_type": "code",
      "metadata": {
        "id": "SLEqyXutLENO",
        "outputId": "e1019d75-ba6a-4cbe-d55b-c9c7b70e7157"
      },
      "source": [
        "len(dataset_to_use)"
      ],
      "execution_count": null,
      "outputs": [
        {
          "output_type": "execute_result",
          "data": {
            "text/plain": [
              "227663"
            ]
          },
          "metadata": {
            "tags": []
          },
          "execution_count": 5
        }
      ]
    },
    {
      "cell_type": "code",
      "metadata": {
        "id": "95N0KXfXLENP",
        "outputId": "24f24cb3-6c8e-4847-bac3-fc255494c036"
      },
      "source": [
        "print('There are %d unique users and %d unique items in the dataset after filtering such that each user has \\\n",
        "reviewed at least 10 restaurants.'%(num_users, num_items))"
      ],
      "execution_count": null,
      "outputs": [
        {
          "output_type": "stream",
          "text": [
            "There are 7905 unique users and 8546 unique items in the dataset after filtering such that each user has reviewed at least 10 restaurants.\n"
          ],
          "name": "stdout"
        }
      ]
    },
    {
      "cell_type": "code",
      "metadata": {
        "scrolled": true,
        "id": "AqD3CQj4LENP",
        "outputId": "cb085aca-099d-4ca0-e979-71f79085223b"
      },
      "source": [
        "dataset_to_use.head(3)"
      ],
      "execution_count": null,
      "outputs": [
        {
          "output_type": "execute_result",
          "data": {
            "text/html": [
              "<div>\n",
              "<style scoped>\n",
              "    .dataframe tbody tr th:only-of-type {\n",
              "        vertical-align: middle;\n",
              "    }\n",
              "\n",
              "    .dataframe tbody tr th {\n",
              "        vertical-align: top;\n",
              "    }\n",
              "\n",
              "    .dataframe thead th {\n",
              "        text-align: right;\n",
              "    }\n",
              "</style>\n",
              "<table border=\"1\" class=\"dataframe\">\n",
              "  <thead>\n",
              "    <tr style=\"text-align: right;\">\n",
              "      <th></th>\n",
              "      <th>business_id</th>\n",
              "      <th>name_x</th>\n",
              "      <th>address</th>\n",
              "      <th>city</th>\n",
              "      <th>state</th>\n",
              "      <th>postal_code</th>\n",
              "      <th>latitude</th>\n",
              "      <th>longitude</th>\n",
              "      <th>stars_business_avg</th>\n",
              "      <th>review_count_x</th>\n",
              "      <th>...</th>\n",
              "      <th>compliment_more</th>\n",
              "      <th>compliment_profile</th>\n",
              "      <th>compliment_cute</th>\n",
              "      <th>compliment_list</th>\n",
              "      <th>compliment_note</th>\n",
              "      <th>compliment_plain</th>\n",
              "      <th>compliment_cool</th>\n",
              "      <th>compliment_funny</th>\n",
              "      <th>compliment_writer</th>\n",
              "      <th>compliment_photos</th>\n",
              "    </tr>\n",
              "  </thead>\n",
              "  <tbody>\n",
              "    <tr>\n",
              "      <th>0</th>\n",
              "      <td>g6AFW-zY0wDvBl9U82g4zg</td>\n",
              "      <td>Baretto Caffe</td>\n",
              "      <td>1262 Don Mills Road</td>\n",
              "      <td>toronto</td>\n",
              "      <td>ON</td>\n",
              "      <td>M3B 2W7</td>\n",
              "      <td>43.744703</td>\n",
              "      <td>-79.346468</td>\n",
              "      <td>5.0</td>\n",
              "      <td>317</td>\n",
              "      <td>...</td>\n",
              "      <td>1</td>\n",
              "      <td>0</td>\n",
              "      <td>0</td>\n",
              "      <td>0</td>\n",
              "      <td>0</td>\n",
              "      <td>1</td>\n",
              "      <td>0</td>\n",
              "      <td>0</td>\n",
              "      <td>0</td>\n",
              "      <td>0</td>\n",
              "    </tr>\n",
              "    <tr>\n",
              "      <th>1</th>\n",
              "      <td>gAxeeJKwJtxp3uH9zUQ2aQ</td>\n",
              "      <td>A-Game Cafe</td>\n",
              "      <td>797 Dundas Street W</td>\n",
              "      <td>toronto</td>\n",
              "      <td>ON</td>\n",
              "      <td>M6J 1V2</td>\n",
              "      <td>43.651719</td>\n",
              "      <td>-79.407911</td>\n",
              "      <td>4.5</td>\n",
              "      <td>91</td>\n",
              "      <td>...</td>\n",
              "      <td>1</td>\n",
              "      <td>0</td>\n",
              "      <td>0</td>\n",
              "      <td>0</td>\n",
              "      <td>0</td>\n",
              "      <td>1</td>\n",
              "      <td>0</td>\n",
              "      <td>0</td>\n",
              "      <td>0</td>\n",
              "      <td>0</td>\n",
              "    </tr>\n",
              "    <tr>\n",
              "      <th>2</th>\n",
              "      <td>cWPTOM_o5toaXpq0gNxD7Q</td>\n",
              "      <td>Vanta Coffee Club &amp; Eatery</td>\n",
              "      <td>2101 Brimley Road</td>\n",
              "      <td>toronto</td>\n",
              "      <td>ON</td>\n",
              "      <td>M1S 2B4</td>\n",
              "      <td>43.788839</td>\n",
              "      <td>-79.268636</td>\n",
              "      <td>4.0</td>\n",
              "      <td>204</td>\n",
              "      <td>...</td>\n",
              "      <td>1</td>\n",
              "      <td>0</td>\n",
              "      <td>0</td>\n",
              "      <td>0</td>\n",
              "      <td>0</td>\n",
              "      <td>1</td>\n",
              "      <td>0</td>\n",
              "      <td>0</td>\n",
              "      <td>0</td>\n",
              "      <td>0</td>\n",
              "    </tr>\n",
              "  </tbody>\n",
              "</table>\n",
              "<p>3 rows × 43 columns</p>\n",
              "</div>"
            ],
            "text/plain": [
              "              business_id                      name_x              address  \\\n",
              "0  g6AFW-zY0wDvBl9U82g4zg               Baretto Caffe  1262 Don Mills Road   \n",
              "1  gAxeeJKwJtxp3uH9zUQ2aQ                 A-Game Cafe  797 Dundas Street W   \n",
              "2  cWPTOM_o5toaXpq0gNxD7Q  Vanta Coffee Club & Eatery    2101 Brimley Road   \n",
              "\n",
              "      city state postal_code   latitude  longitude  stars_business_avg  \\\n",
              "0  toronto    ON     M3B 2W7  43.744703 -79.346468                 5.0   \n",
              "1  toronto    ON     M6J 1V2  43.651719 -79.407911                 4.5   \n",
              "2  toronto    ON     M1S 2B4  43.788839 -79.268636                 4.0   \n",
              "\n",
              "   review_count_x  ...  compliment_more compliment_profile compliment_cute  \\\n",
              "0             317  ...                1                  0               0   \n",
              "1              91  ...                1                  0               0   \n",
              "2             204  ...                1                  0               0   \n",
              "\n",
              "  compliment_list compliment_note compliment_plain  compliment_cool  \\\n",
              "0               0               0                1                0   \n",
              "1               0               0                1                0   \n",
              "2               0               0                1                0   \n",
              "\n",
              "   compliment_funny  compliment_writer  compliment_photos  \n",
              "0                 0                  0                  0  \n",
              "1                 0                  0                  0  \n",
              "2                 0                  0                  0  \n",
              "\n",
              "[3 rows x 43 columns]"
            ]
          },
          "metadata": {
            "tags": []
          },
          "execution_count": 7
        }
      ]
    },
    {
      "cell_type": "markdown",
      "metadata": {
        "id": "K97UhdZJLENP"
      },
      "source": [
        "### Create simpler IDs for users and items"
      ]
    },
    {
      "cell_type": "code",
      "metadata": {
        "id": "i6WvAXF_LENQ"
      },
      "source": [
        "unique_business_id = dataset_to_use.business_id.unique()\n",
        "mapping_business_id = {}\n",
        "ctr = 0\n",
        "for business_id in unique_business_id:\n",
        "    mapping_business_id[business_id] = ctr\n",
        "    ctr += 1\n",
        "    \n",
        "dataset_to_use['business_id_refined'] = dataset_to_use.business_id.map(mapping_business_id)"
      ],
      "execution_count": null,
      "outputs": []
    },
    {
      "cell_type": "code",
      "metadata": {
        "id": "iyXsN8coLENQ"
      },
      "source": [
        "unique_user_id = dataset_to_use.user_id.unique()\n",
        "mapping_user_id = {}\n",
        "ctr = 0\n",
        "for user_id in unique_user_id:\n",
        "    mapping_user_id[user_id] = ctr\n",
        "    ctr += 1\n",
        "    \n",
        "dataset_to_use['user_id_refined'] = dataset_to_use.user_id.map(mapping_user_id)"
      ],
      "execution_count": null,
      "outputs": []
    },
    {
      "cell_type": "code",
      "metadata": {
        "id": "238C2p1eLENQ",
        "outputId": "95ce51a7-3866-4e6f-c60f-be914eac8144"
      },
      "source": [
        "dataset_to_use[['user_id_refined', 'business_id_refined']].head(5)"
      ],
      "execution_count": null,
      "outputs": [
        {
          "output_type": "execute_result",
          "data": {
            "text/html": [
              "<div>\n",
              "<style scoped>\n",
              "    .dataframe tbody tr th:only-of-type {\n",
              "        vertical-align: middle;\n",
              "    }\n",
              "\n",
              "    .dataframe tbody tr th {\n",
              "        vertical-align: top;\n",
              "    }\n",
              "\n",
              "    .dataframe thead th {\n",
              "        text-align: right;\n",
              "    }\n",
              "</style>\n",
              "<table border=\"1\" class=\"dataframe\">\n",
              "  <thead>\n",
              "    <tr style=\"text-align: right;\">\n",
              "      <th></th>\n",
              "      <th>user_id_refined</th>\n",
              "      <th>business_id_refined</th>\n",
              "    </tr>\n",
              "  </thead>\n",
              "  <tbody>\n",
              "    <tr>\n",
              "      <th>0</th>\n",
              "      <td>0</td>\n",
              "      <td>0</td>\n",
              "    </tr>\n",
              "    <tr>\n",
              "      <th>1</th>\n",
              "      <td>0</td>\n",
              "      <td>1</td>\n",
              "    </tr>\n",
              "    <tr>\n",
              "      <th>2</th>\n",
              "      <td>0</td>\n",
              "      <td>2</td>\n",
              "    </tr>\n",
              "    <tr>\n",
              "      <th>3</th>\n",
              "      <td>0</td>\n",
              "      <td>3</td>\n",
              "    </tr>\n",
              "    <tr>\n",
              "      <th>4</th>\n",
              "      <td>0</td>\n",
              "      <td>4</td>\n",
              "    </tr>\n",
              "  </tbody>\n",
              "</table>\n",
              "</div>"
            ],
            "text/plain": [
              "   user_id_refined  business_id_refined\n",
              "0                0                    0\n",
              "1                0                    1\n",
              "2                0                    2\n",
              "3                0                    3\n",
              "4                0                    4"
            ]
          },
          "metadata": {
            "tags": []
          },
          "execution_count": 10
        }
      ]
    },
    {
      "cell_type": "markdown",
      "metadata": {
        "id": "yDhHiGBvLTyi"
      },
      "source": [
        "# Business Attributes"
      ]
    },
    {
      "cell_type": "code",
      "metadata": {
        "id": "odDNwAKdLay0"
      },
      "source": [
        ""
      ],
      "execution_count": null,
      "outputs": []
    },
    {
      "cell_type": "code",
      "metadata": {
        "scrolled": true,
        "colab": {
          "base_uri": "https://localhost:8080/",
          "height": 230
        },
        "id": "Pl4eerzSPAX2",
        "outputId": "0ea5a5ad-36de-4dd9-91a9-6d5da9e63123"
      },
      "source": [
        "#CODE TO GENERATE BUSINESS FEATURES - ONE HOT ENCODING -  \n",
        "\n",
        "import numpy as np\n",
        "\n",
        "\n",
        "cat = dataset_to_use.categories.to_list()\n",
        "all_buis_ids = dataset_to_use.business_id.to_list()\n",
        "\n",
        "buis_num = len(cat)\n",
        "cat_2_count = {}\n",
        "for string in cat:\n",
        "  cats = string.split(\", \")\n",
        "  for cat1 in cats:\n",
        "    if cat1 in cat_2_count.keys():\n",
        "      cat_2_count[cat1] =  cat_2_count[cat1] + 1\n",
        "    else:\n",
        "      cat_2_count[cat1] = 1\n",
        "  \n",
        "\n",
        "cat_2_count.pop(\"Restaurants\", None)\n",
        "unique_cats = list(cat_2_count.keys())\n",
        "unique_cats_count = list(cat_2_count.values())\n",
        "\n",
        "# print(unique_cats[0], \":\", unique_cats_count[0])\n",
        "unique_cats_sorted = [x for _, x in sorted(zip(unique_cats_count, unique_cats), reverse= True)]\n",
        "\n",
        "n = 60\n",
        "top_n_cats = unique_cats_sorted[:n]\n",
        "one_hot_encoding_buisiness= np.zeros((buis_num, n))\n",
        "\n",
        "for i in range(buis_num):\n",
        "  for j in range(n):\n",
        "    if top_n_cats[j] in cat[i]:\n",
        "      one_hot_encoding_buisiness[i][j] = 1\n",
        "\n",
        "print(one_hot_encoding_buisiness[1])\n",
        "buiz_id_to_encoding = {}\n",
        "\n",
        "for i in range(len(all_buis_ids)):\n",
        "  buiz_id_to_encoding[all_buis_ids[i]] =  one_hot_encoding_buisiness[i]\n",
        "\n",
        "\n",
        "# return buiz_id_to_encoding\n",
        "\n"
      ],
      "execution_count": null,
      "outputs": [
        {
          "output_type": "error",
          "ename": "NameError",
          "evalue": "ignored",
          "traceback": [
            "\u001b[0;31m---------------------------------------------------------------------------\u001b[0m",
            "\u001b[0;31mNameError\u001b[0m                                 Traceback (most recent call last)",
            "\u001b[0;32m<ipython-input-1-975cdc87c48e>\u001b[0m in \u001b[0;36m<module>\u001b[0;34m()\u001b[0m\n\u001b[1;32m      4\u001b[0m \u001b[0;34m\u001b[0m\u001b[0m\n\u001b[1;32m      5\u001b[0m \u001b[0;34m\u001b[0m\u001b[0m\n\u001b[0;32m----> 6\u001b[0;31m \u001b[0mcat\u001b[0m \u001b[0;34m=\u001b[0m \u001b[0mdataset_to_use\u001b[0m\u001b[0;34m.\u001b[0m\u001b[0mcategories\u001b[0m\u001b[0;34m.\u001b[0m\u001b[0mto_list\u001b[0m\u001b[0;34m(\u001b[0m\u001b[0;34m)\u001b[0m\u001b[0;34m\u001b[0m\u001b[0;34m\u001b[0m\u001b[0m\n\u001b[0m\u001b[1;32m      7\u001b[0m \u001b[0mall_buis_ids\u001b[0m \u001b[0;34m=\u001b[0m \u001b[0mdataset_to_use\u001b[0m\u001b[0;34m.\u001b[0m\u001b[0mbusiness_id\u001b[0m\u001b[0;34m.\u001b[0m\u001b[0mto_list\u001b[0m\u001b[0;34m(\u001b[0m\u001b[0;34m)\u001b[0m\u001b[0;34m\u001b[0m\u001b[0;34m\u001b[0m\u001b[0m\n\u001b[1;32m      8\u001b[0m \u001b[0;34m\u001b[0m\u001b[0m\n",
            "\u001b[0;31mNameError\u001b[0m: name 'dataset_to_use' is not defined"
          ]
        }
      ]
    },
    {
      "cell_type": "markdown",
      "metadata": {
        "id": "fj0ExOKJLENQ"
      },
      "source": [
        "# User Attributes:"
      ]
    },
    {
      "cell_type": "markdown",
      "metadata": {
        "id": "TnFGj0KuLENQ"
      },
      "source": [
        "### Choose top n each to be final features.\n",
        "#### Smallest n for # final features>=60"
      ]
    },
    {
      "cell_type": "code",
      "metadata": {
        "id": "SbnUFhCALENQ"
      },
      "source": [
        "import csv\n",
        "Dish, Ingre = {}, {}\n",
        "\n",
        "with open(\"Dish20000.csv\", \"r\") as csvFile:\n",
        "    reader = csv.reader(csvFile)\n",
        "    for item in reader:\n",
        "        Dish[item[0]] = int(item[1])\n",
        "        \n",
        "with open(\"Ingre20000.csv\", \"r\") as csvFile:\n",
        "    reader = csv.reader(csvFile)\n",
        "    for item in reader:\n",
        "        Ingre[item[0]] = int(item[1])\n",
        "\n",
        "Dish = dict(sorted(Dish.items(), key=lambda item: item[1], reverse=1))\n",
        "Ingre = dict(sorted(Ingre.items(), key=lambda item: item[1], reverse=1))"
      ],
      "execution_count": null,
      "outputs": []
    },
    {
      "cell_type": "code",
      "metadata": {
        "id": "3-pzM86SLENQ",
        "outputId": "7ad11d31-4fdf-406c-ecd0-251e57b75b68"
      },
      "source": [
        "import nltk\n",
        "nltk.download('wordnet')\n",
        "from nltk.stem import WordNetLemmatizer\n",
        "\n",
        "def constructFeature(n_lim,Dish,Ingre):\n",
        "    wnl = WordNetLemmatizer()\n",
        "\n",
        "    n = int(n_lim/2)\n",
        "    features = set()\n",
        "\n",
        "    while len(features)<n_lim:\n",
        "        n+=1\n",
        "        features = set(list(Dish.keys())[:n]+list(Ingre.keys())[:n])\n",
        "        features = set([str.lower(wrd) for wrd in features])\n",
        "        features = set([wnl.lemmatize(wrd) for wrd in features]) # singluarization\n",
        "        \n",
        "    # Word \"breakfast\" not detected. Add to list.\n",
        "    features = list(features) + ['breakfast']\n",
        "    \n",
        "    return features"
      ],
      "execution_count": null,
      "outputs": [
        {
          "output_type": "stream",
          "text": [
            "[nltk_data] Downloading package wordnet to\n",
            "[nltk_data]     C:\\Users\\somani4\\AppData\\Roaming\\nltk_data...\n",
            "[nltk_data]   Package wordnet is already up-to-date!\n"
          ],
          "name": "stderr"
        }
      ]
    },
    {
      "cell_type": "code",
      "metadata": {
        "scrolled": true,
        "id": "VF5yGqfwLENQ",
        "outputId": "0d452946-11de-43aa-e5df-fdf569c54b06"
      },
      "source": [
        "n_lim = 19\n",
        "features = constructFeature(n_lim,Dish,Ingre)\n",
        "print(features)\n",
        "\n",
        "num_of_user_features = len(features)\n",
        "print(num_of_user_features)"
      ],
      "execution_count": null,
      "outputs": [
        {
          "output_type": "stream",
          "text": [
            "['sushi', 'lunch', 'curry', 'pasta', 'salad', 'cocktail', 'dinner', 'absolut', 'beer', 'pizza', 'fry', 'bowl', 'burger', 'fanta', 'tea', 'fish', 'noodle', 'brunch', 'coffee', 'soup', 'breakfast']\n",
            "21\n"
          ],
          "name": "stdout"
        }
      ]
    },
    {
      "cell_type": "code",
      "metadata": {
        "id": "MJuoPP6ULENQ",
        "outputId": "71dd009c-5595-4475-fb72-d3ca20059599"
      },
      "source": [
        "user_features = np.zeros([num_users, len(features)])\n",
        "\n",
        "for i in range(num_users):\n",
        "    user_reviews = list(dataset_to_use[dataset_to_use.user_id_refined == i]['text'])\n",
        "    for j in range(len(features)):\n",
        "        for k in range(len(user_reviews)):\n",
        "            review_temp = user_reviews[k].lower()\n",
        "            if features[j] in review_temp:\n",
        "                user_features[i,j] = 1\n",
        "                \n",
        "user_features.shape"
      ],
      "execution_count": null,
      "outputs": [
        {
          "output_type": "execute_result",
          "data": {
            "text/plain": [
              "(7905, 21)"
            ]
          },
          "metadata": {
            "tags": []
          },
          "execution_count": 46
        }
      ]
    },
    {
      "cell_type": "markdown",
      "metadata": {
        "id": "eS8_WGnALENQ"
      },
      "source": [
        "### Create a dataframe for user attributes:"
      ]
    },
    {
      "cell_type": "code",
      "metadata": {
        "id": "CGXCAKwwLENQ",
        "outputId": "9d8d6dad-8189-4b79-ef46-a2a6059f8ff2"
      },
      "source": [
        "user_features_df = pd.DataFrame(data = user_features, \n",
        "                              columns = ['user_feature_' + str(i) for i in range(num_of_user_features)])\n",
        "user_features_df.index.rename('user_id_refined', inplace = True)\n",
        "user_features_df.reset_index(inplace = True)\n",
        "user_features_df.head(3)"
      ],
      "execution_count": null,
      "outputs": [
        {
          "output_type": "execute_result",
          "data": {
            "text/html": [
              "<div>\n",
              "<style scoped>\n",
              "    .dataframe tbody tr th:only-of-type {\n",
              "        vertical-align: middle;\n",
              "    }\n",
              "\n",
              "    .dataframe tbody tr th {\n",
              "        vertical-align: top;\n",
              "    }\n",
              "\n",
              "    .dataframe thead th {\n",
              "        text-align: right;\n",
              "    }\n",
              "</style>\n",
              "<table border=\"1\" class=\"dataframe\">\n",
              "  <thead>\n",
              "    <tr style=\"text-align: right;\">\n",
              "      <th></th>\n",
              "      <th>user_id_refined</th>\n",
              "      <th>user_feature_0</th>\n",
              "      <th>user_feature_1</th>\n",
              "      <th>user_feature_2</th>\n",
              "      <th>user_feature_3</th>\n",
              "      <th>user_feature_4</th>\n",
              "      <th>user_feature_5</th>\n",
              "      <th>user_feature_6</th>\n",
              "      <th>user_feature_7</th>\n",
              "      <th>user_feature_8</th>\n",
              "      <th>...</th>\n",
              "      <th>user_feature_11</th>\n",
              "      <th>user_feature_12</th>\n",
              "      <th>user_feature_13</th>\n",
              "      <th>user_feature_14</th>\n",
              "      <th>user_feature_15</th>\n",
              "      <th>user_feature_16</th>\n",
              "      <th>user_feature_17</th>\n",
              "      <th>user_feature_18</th>\n",
              "      <th>user_feature_19</th>\n",
              "      <th>user_feature_20</th>\n",
              "    </tr>\n",
              "  </thead>\n",
              "  <tbody>\n",
              "    <tr>\n",
              "      <th>0</th>\n",
              "      <td>0</td>\n",
              "      <td>1.0</td>\n",
              "      <td>0.0</td>\n",
              "      <td>0.0</td>\n",
              "      <td>0.0</td>\n",
              "      <td>1.0</td>\n",
              "      <td>0.0</td>\n",
              "      <td>1.0</td>\n",
              "      <td>0.0</td>\n",
              "      <td>0.0</td>\n",
              "      <td>...</td>\n",
              "      <td>1.0</td>\n",
              "      <td>1.0</td>\n",
              "      <td>0.0</td>\n",
              "      <td>1.0</td>\n",
              "      <td>1.0</td>\n",
              "      <td>1.0</td>\n",
              "      <td>0.0</td>\n",
              "      <td>1.0</td>\n",
              "      <td>1.0</td>\n",
              "      <td>0.0</td>\n",
              "    </tr>\n",
              "    <tr>\n",
              "      <th>1</th>\n",
              "      <td>1</td>\n",
              "      <td>0.0</td>\n",
              "      <td>1.0</td>\n",
              "      <td>1.0</td>\n",
              "      <td>1.0</td>\n",
              "      <td>1.0</td>\n",
              "      <td>1.0</td>\n",
              "      <td>1.0</td>\n",
              "      <td>0.0</td>\n",
              "      <td>1.0</td>\n",
              "      <td>...</td>\n",
              "      <td>1.0</td>\n",
              "      <td>1.0</td>\n",
              "      <td>1.0</td>\n",
              "      <td>1.0</td>\n",
              "      <td>1.0</td>\n",
              "      <td>1.0</td>\n",
              "      <td>1.0</td>\n",
              "      <td>1.0</td>\n",
              "      <td>1.0</td>\n",
              "      <td>1.0</td>\n",
              "    </tr>\n",
              "    <tr>\n",
              "      <th>2</th>\n",
              "      <td>2</td>\n",
              "      <td>1.0</td>\n",
              "      <td>1.0</td>\n",
              "      <td>1.0</td>\n",
              "      <td>0.0</td>\n",
              "      <td>1.0</td>\n",
              "      <td>1.0</td>\n",
              "      <td>1.0</td>\n",
              "      <td>0.0</td>\n",
              "      <td>0.0</td>\n",
              "      <td>...</td>\n",
              "      <td>1.0</td>\n",
              "      <td>1.0</td>\n",
              "      <td>1.0</td>\n",
              "      <td>1.0</td>\n",
              "      <td>1.0</td>\n",
              "      <td>1.0</td>\n",
              "      <td>0.0</td>\n",
              "      <td>1.0</td>\n",
              "      <td>1.0</td>\n",
              "      <td>1.0</td>\n",
              "    </tr>\n",
              "  </tbody>\n",
              "</table>\n",
              "<p>3 rows × 22 columns</p>\n",
              "</div>"
            ],
            "text/plain": [
              "   user_id_refined  user_feature_0  user_feature_1  user_feature_2  \\\n",
              "0                0             1.0             0.0             0.0   \n",
              "1                1             0.0             1.0             1.0   \n",
              "2                2             1.0             1.0             1.0   \n",
              "\n",
              "   user_feature_3  user_feature_4  user_feature_5  user_feature_6  \\\n",
              "0             0.0             1.0             0.0             1.0   \n",
              "1             1.0             1.0             1.0             1.0   \n",
              "2             0.0             1.0             1.0             1.0   \n",
              "\n",
              "   user_feature_7  user_feature_8  ...  user_feature_11  user_feature_12  \\\n",
              "0             0.0             0.0  ...              1.0              1.0   \n",
              "1             0.0             1.0  ...              1.0              1.0   \n",
              "2             0.0             0.0  ...              1.0              1.0   \n",
              "\n",
              "   user_feature_13  user_feature_14  user_feature_15  user_feature_16  \\\n",
              "0              0.0              1.0              1.0              1.0   \n",
              "1              1.0              1.0              1.0              1.0   \n",
              "2              1.0              1.0              1.0              1.0   \n",
              "\n",
              "   user_feature_17  user_feature_18  user_feature_19  user_feature_20  \n",
              "0              0.0              1.0              1.0              0.0  \n",
              "1              1.0              1.0              1.0              1.0  \n",
              "2              0.0              1.0              1.0              1.0  \n",
              "\n",
              "[3 rows x 22 columns]"
            ]
          },
          "metadata": {
            "tags": []
          },
          "execution_count": 49
        }
      ]
    },
    {
      "cell_type": "code",
      "metadata": {
        "id": "qGgrEe_6LENQ",
        "outputId": "91fc8252-378f-4788-c485-aa9f20651fe7"
      },
      "source": [
        "dataset_to_use = pd.merge(dataset_to_use, user_features_df, how = 'inner', on = 'user_id_refined')\n",
        "dataset_to_use[['user_id_refined','business_id_refined'] + \n",
        "               ['user_feature_' + str(i) for i in range(num_of_user_features)]].head()"
      ],
      "execution_count": null,
      "outputs": [
        {
          "output_type": "execute_result",
          "data": {
            "text/html": [
              "<div>\n",
              "<style scoped>\n",
              "    .dataframe tbody tr th:only-of-type {\n",
              "        vertical-align: middle;\n",
              "    }\n",
              "\n",
              "    .dataframe tbody tr th {\n",
              "        vertical-align: top;\n",
              "    }\n",
              "\n",
              "    .dataframe thead th {\n",
              "        text-align: right;\n",
              "    }\n",
              "</style>\n",
              "<table border=\"1\" class=\"dataframe\">\n",
              "  <thead>\n",
              "    <tr style=\"text-align: right;\">\n",
              "      <th></th>\n",
              "      <th>user_id_refined</th>\n",
              "      <th>business_id_refined</th>\n",
              "      <th>user_feature_0</th>\n",
              "      <th>user_feature_1</th>\n",
              "      <th>user_feature_2</th>\n",
              "      <th>user_feature_3</th>\n",
              "      <th>user_feature_4</th>\n",
              "      <th>user_feature_5</th>\n",
              "      <th>user_feature_6</th>\n",
              "      <th>user_feature_7</th>\n",
              "      <th>...</th>\n",
              "      <th>user_feature_11</th>\n",
              "      <th>user_feature_12</th>\n",
              "      <th>user_feature_13</th>\n",
              "      <th>user_feature_14</th>\n",
              "      <th>user_feature_15</th>\n",
              "      <th>user_feature_16</th>\n",
              "      <th>user_feature_17</th>\n",
              "      <th>user_feature_18</th>\n",
              "      <th>user_feature_19</th>\n",
              "      <th>user_feature_20</th>\n",
              "    </tr>\n",
              "  </thead>\n",
              "  <tbody>\n",
              "    <tr>\n",
              "      <th>0</th>\n",
              "      <td>0</td>\n",
              "      <td>12</td>\n",
              "      <td>1.0</td>\n",
              "      <td>0.0</td>\n",
              "      <td>0.0</td>\n",
              "      <td>0.0</td>\n",
              "      <td>1.0</td>\n",
              "      <td>0.0</td>\n",
              "      <td>1.0</td>\n",
              "      <td>0.0</td>\n",
              "      <td>...</td>\n",
              "      <td>1.0</td>\n",
              "      <td>1.0</td>\n",
              "      <td>0.0</td>\n",
              "      <td>1.0</td>\n",
              "      <td>1.0</td>\n",
              "      <td>1.0</td>\n",
              "      <td>0.0</td>\n",
              "      <td>1.0</td>\n",
              "      <td>1.0</td>\n",
              "      <td>0.0</td>\n",
              "    </tr>\n",
              "    <tr>\n",
              "      <th>1</th>\n",
              "      <td>0</td>\n",
              "      <td>10</td>\n",
              "      <td>1.0</td>\n",
              "      <td>0.0</td>\n",
              "      <td>0.0</td>\n",
              "      <td>0.0</td>\n",
              "      <td>1.0</td>\n",
              "      <td>0.0</td>\n",
              "      <td>1.0</td>\n",
              "      <td>0.0</td>\n",
              "      <td>...</td>\n",
              "      <td>1.0</td>\n",
              "      <td>1.0</td>\n",
              "      <td>0.0</td>\n",
              "      <td>1.0</td>\n",
              "      <td>1.0</td>\n",
              "      <td>1.0</td>\n",
              "      <td>0.0</td>\n",
              "      <td>1.0</td>\n",
              "      <td>1.0</td>\n",
              "      <td>0.0</td>\n",
              "    </tr>\n",
              "    <tr>\n",
              "      <th>2</th>\n",
              "      <td>0</td>\n",
              "      <td>3</td>\n",
              "      <td>1.0</td>\n",
              "      <td>0.0</td>\n",
              "      <td>0.0</td>\n",
              "      <td>0.0</td>\n",
              "      <td>1.0</td>\n",
              "      <td>0.0</td>\n",
              "      <td>1.0</td>\n",
              "      <td>0.0</td>\n",
              "      <td>...</td>\n",
              "      <td>1.0</td>\n",
              "      <td>1.0</td>\n",
              "      <td>0.0</td>\n",
              "      <td>1.0</td>\n",
              "      <td>1.0</td>\n",
              "      <td>1.0</td>\n",
              "      <td>0.0</td>\n",
              "      <td>1.0</td>\n",
              "      <td>1.0</td>\n",
              "      <td>0.0</td>\n",
              "    </tr>\n",
              "    <tr>\n",
              "      <th>3</th>\n",
              "      <td>0</td>\n",
              "      <td>13</td>\n",
              "      <td>1.0</td>\n",
              "      <td>0.0</td>\n",
              "      <td>0.0</td>\n",
              "      <td>0.0</td>\n",
              "      <td>1.0</td>\n",
              "      <td>0.0</td>\n",
              "      <td>1.0</td>\n",
              "      <td>0.0</td>\n",
              "      <td>...</td>\n",
              "      <td>1.0</td>\n",
              "      <td>1.0</td>\n",
              "      <td>0.0</td>\n",
              "      <td>1.0</td>\n",
              "      <td>1.0</td>\n",
              "      <td>1.0</td>\n",
              "      <td>0.0</td>\n",
              "      <td>1.0</td>\n",
              "      <td>1.0</td>\n",
              "      <td>0.0</td>\n",
              "    </tr>\n",
              "    <tr>\n",
              "      <th>4</th>\n",
              "      <td>0</td>\n",
              "      <td>11</td>\n",
              "      <td>1.0</td>\n",
              "      <td>0.0</td>\n",
              "      <td>0.0</td>\n",
              "      <td>0.0</td>\n",
              "      <td>1.0</td>\n",
              "      <td>0.0</td>\n",
              "      <td>1.0</td>\n",
              "      <td>0.0</td>\n",
              "      <td>...</td>\n",
              "      <td>1.0</td>\n",
              "      <td>1.0</td>\n",
              "      <td>0.0</td>\n",
              "      <td>1.0</td>\n",
              "      <td>1.0</td>\n",
              "      <td>1.0</td>\n",
              "      <td>0.0</td>\n",
              "      <td>1.0</td>\n",
              "      <td>1.0</td>\n",
              "      <td>0.0</td>\n",
              "    </tr>\n",
              "  </tbody>\n",
              "</table>\n",
              "<p>5 rows × 23 columns</p>\n",
              "</div>"
            ],
            "text/plain": [
              "   user_id_refined  business_id_refined  user_feature_0  user_feature_1  \\\n",
              "0                0                   12             1.0             0.0   \n",
              "1                0                   10             1.0             0.0   \n",
              "2                0                    3             1.0             0.0   \n",
              "3                0                   13             1.0             0.0   \n",
              "4                0                   11             1.0             0.0   \n",
              "\n",
              "   user_feature_2  user_feature_3  user_feature_4  user_feature_5  \\\n",
              "0             0.0             0.0             1.0             0.0   \n",
              "1             0.0             0.0             1.0             0.0   \n",
              "2             0.0             0.0             1.0             0.0   \n",
              "3             0.0             0.0             1.0             0.0   \n",
              "4             0.0             0.0             1.0             0.0   \n",
              "\n",
              "   user_feature_6  user_feature_7  ...  user_feature_11  user_feature_12  \\\n",
              "0             1.0             0.0  ...              1.0              1.0   \n",
              "1             1.0             0.0  ...              1.0              1.0   \n",
              "2             1.0             0.0  ...              1.0              1.0   \n",
              "3             1.0             0.0  ...              1.0              1.0   \n",
              "4             1.0             0.0  ...              1.0              1.0   \n",
              "\n",
              "   user_feature_13  user_feature_14  user_feature_15  user_feature_16  \\\n",
              "0              0.0              1.0              1.0              1.0   \n",
              "1              0.0              1.0              1.0              1.0   \n",
              "2              0.0              1.0              1.0              1.0   \n",
              "3              0.0              1.0              1.0              1.0   \n",
              "4              0.0              1.0              1.0              1.0   \n",
              "\n",
              "   user_feature_17  user_feature_18  user_feature_19  user_feature_20  \n",
              "0              0.0              1.0              1.0              0.0  \n",
              "1              0.0              1.0              1.0              0.0  \n",
              "2              0.0              1.0              1.0              0.0  \n",
              "3              0.0              1.0              1.0              0.0  \n",
              "4              0.0              1.0              1.0              0.0  \n",
              "\n",
              "[5 rows x 23 columns]"
            ]
          },
          "metadata": {
            "tags": []
          },
          "execution_count": 50
        }
      ]
    },
    {
      "cell_type": "code",
      "metadata": {
        "id": "8TYU9GDJLENR",
        "outputId": "95e8f137-b209-4dc3-c473-762f868a0023"
      },
      "source": [
        "dataset_to_use.sort_values(by = ['user_id_refined', 'date'], inplace = True)\n",
        "dataset_to_use.head(3)"
      ],
      "execution_count": null,
      "outputs": [
        {
          "output_type": "execute_result",
          "data": {
            "text/html": [
              "<div>\n",
              "<style scoped>\n",
              "    .dataframe tbody tr th:only-of-type {\n",
              "        vertical-align: middle;\n",
              "    }\n",
              "\n",
              "    .dataframe tbody tr th {\n",
              "        vertical-align: top;\n",
              "    }\n",
              "\n",
              "    .dataframe thead th {\n",
              "        text-align: right;\n",
              "    }\n",
              "</style>\n",
              "<table border=\"1\" class=\"dataframe\">\n",
              "  <thead>\n",
              "    <tr style=\"text-align: right;\">\n",
              "      <th></th>\n",
              "      <th>business_id</th>\n",
              "      <th>name_x</th>\n",
              "      <th>address</th>\n",
              "      <th>city</th>\n",
              "      <th>state</th>\n",
              "      <th>postal_code</th>\n",
              "      <th>latitude</th>\n",
              "      <th>longitude</th>\n",
              "      <th>stars_business_avg</th>\n",
              "      <th>review_count_x</th>\n",
              "      <th>...</th>\n",
              "      <th>user_feature_11</th>\n",
              "      <th>user_feature_12</th>\n",
              "      <th>user_feature_13</th>\n",
              "      <th>user_feature_14</th>\n",
              "      <th>user_feature_15</th>\n",
              "      <th>user_feature_16</th>\n",
              "      <th>user_feature_17</th>\n",
              "      <th>user_feature_18</th>\n",
              "      <th>user_feature_19</th>\n",
              "      <th>user_feature_20</th>\n",
              "    </tr>\n",
              "  </thead>\n",
              "  <tbody>\n",
              "    <tr>\n",
              "      <th>0</th>\n",
              "      <td>e49eXgKVuR-lsL0-D4vzDw</td>\n",
              "      <td>Momiji</td>\n",
              "      <td>2111 Sheppard Avenue E</td>\n",
              "      <td>toronto</td>\n",
              "      <td>ON</td>\n",
              "      <td>M2J 1W6</td>\n",
              "      <td>43.775377</td>\n",
              "      <td>-79.333972</td>\n",
              "      <td>3.0</td>\n",
              "      <td>22</td>\n",
              "      <td>...</td>\n",
              "      <td>1.0</td>\n",
              "      <td>1.0</td>\n",
              "      <td>0.0</td>\n",
              "      <td>1.0</td>\n",
              "      <td>1.0</td>\n",
              "      <td>1.0</td>\n",
              "      <td>0.0</td>\n",
              "      <td>1.0</td>\n",
              "      <td>1.0</td>\n",
              "      <td>0.0</td>\n",
              "    </tr>\n",
              "    <tr>\n",
              "      <th>1</th>\n",
              "      <td>ik9VvawL-BeAqlxTI1leew</td>\n",
              "      <td>Gonoe Sushi</td>\n",
              "      <td>1310 Don Mills Road</td>\n",
              "      <td>toronto</td>\n",
              "      <td>ON</td>\n",
              "      <td>M3B 2W6</td>\n",
              "      <td>43.745920</td>\n",
              "      <td>-79.346301</td>\n",
              "      <td>3.5</td>\n",
              "      <td>119</td>\n",
              "      <td>...</td>\n",
              "      <td>1.0</td>\n",
              "      <td>1.0</td>\n",
              "      <td>0.0</td>\n",
              "      <td>1.0</td>\n",
              "      <td>1.0</td>\n",
              "      <td>1.0</td>\n",
              "      <td>0.0</td>\n",
              "      <td>1.0</td>\n",
              "      <td>1.0</td>\n",
              "      <td>0.0</td>\n",
              "    </tr>\n",
              "    <tr>\n",
              "      <th>2</th>\n",
              "      <td>Nz44ccUso3nq5S2OlQHNlA</td>\n",
              "      <td>Mexico Lindo</td>\n",
              "      <td>2600 Birchmount Road, Suite 2586</td>\n",
              "      <td>toronto</td>\n",
              "      <td>ON</td>\n",
              "      <td>M1T 2M5</td>\n",
              "      <td>43.789719</td>\n",
              "      <td>-79.302981</td>\n",
              "      <td>4.0</td>\n",
              "      <td>163</td>\n",
              "      <td>...</td>\n",
              "      <td>1.0</td>\n",
              "      <td>1.0</td>\n",
              "      <td>0.0</td>\n",
              "      <td>1.0</td>\n",
              "      <td>1.0</td>\n",
              "      <td>1.0</td>\n",
              "      <td>0.0</td>\n",
              "      <td>1.0</td>\n",
              "      <td>1.0</td>\n",
              "      <td>0.0</td>\n",
              "    </tr>\n",
              "  </tbody>\n",
              "</table>\n",
              "<p>3 rows × 108 columns</p>\n",
              "</div>"
            ],
            "text/plain": [
              "              business_id        name_x                           address  \\\n",
              "0  e49eXgKVuR-lsL0-D4vzDw        Momiji            2111 Sheppard Avenue E   \n",
              "1  ik9VvawL-BeAqlxTI1leew   Gonoe Sushi               1310 Don Mills Road   \n",
              "2  Nz44ccUso3nq5S2OlQHNlA  Mexico Lindo  2600 Birchmount Road, Suite 2586   \n",
              "\n",
              "      city state postal_code   latitude  longitude  stars_business_avg  \\\n",
              "0  toronto    ON     M2J 1W6  43.775377 -79.333972                 3.0   \n",
              "1  toronto    ON     M3B 2W6  43.745920 -79.346301                 3.5   \n",
              "2  toronto    ON     M1T 2M5  43.789719 -79.302981                 4.0   \n",
              "\n",
              "   review_count_x  ...  user_feature_11 user_feature_12 user_feature_13  \\\n",
              "0              22  ...              1.0             1.0             0.0   \n",
              "1             119  ...              1.0             1.0             0.0   \n",
              "2             163  ...              1.0             1.0             0.0   \n",
              "\n",
              "  user_feature_14 user_feature_15 user_feature_16  user_feature_17  \\\n",
              "0             1.0             1.0             1.0              0.0   \n",
              "1             1.0             1.0             1.0              0.0   \n",
              "2             1.0             1.0             1.0              0.0   \n",
              "\n",
              "   user_feature_18  user_feature_19  user_feature_20  \n",
              "0              1.0              1.0              0.0  \n",
              "1              1.0              1.0              0.0  \n",
              "2              1.0              1.0              0.0  \n",
              "\n",
              "[3 rows x 108 columns]"
            ]
          },
          "metadata": {
            "tags": []
          },
          "execution_count": 51
        }
      ]
    },
    {
      "cell_type": "markdown",
      "metadata": {
        "id": "2BrqwcpvLENR"
      },
      "source": [
        "## Test Data:"
      ]
    },
    {
      "cell_type": "code",
      "metadata": {
        "id": "7JjabTHqLENR"
      },
      "source": [
        "def last_value(df):\n",
        "    return df.iloc[[-1]]"
      ],
      "execution_count": null,
      "outputs": []
    },
    {
      "cell_type": "code",
      "metadata": {
        "id": "aw-wBWZALENR"
      },
      "source": [
        "# Save the most recent visit to a restaurant as the test data\n",
        "test_data = dataset_to_use.groupby('user_id_refined').apply(last_value)"
      ],
      "execution_count": null,
      "outputs": []
    },
    {
      "cell_type": "code",
      "metadata": {
        "id": "jJ3GasByLENR",
        "outputId": "c5c3c81f-33b2-4c7b-cd71-312bc7766aea"
      },
      "source": [
        "test_data = test_data.droplevel(0)\n",
        "test_data.head(3)"
      ],
      "execution_count": null,
      "outputs": [
        {
          "output_type": "execute_result",
          "data": {
            "text/html": [
              "<div>\n",
              "<style scoped>\n",
              "    .dataframe tbody tr th:only-of-type {\n",
              "        vertical-align: middle;\n",
              "    }\n",
              "\n",
              "    .dataframe tbody tr th {\n",
              "        vertical-align: top;\n",
              "    }\n",
              "\n",
              "    .dataframe thead th {\n",
              "        text-align: right;\n",
              "    }\n",
              "</style>\n",
              "<table border=\"1\" class=\"dataframe\">\n",
              "  <thead>\n",
              "    <tr style=\"text-align: right;\">\n",
              "      <th></th>\n",
              "      <th>business_id</th>\n",
              "      <th>name_x</th>\n",
              "      <th>address</th>\n",
              "      <th>city</th>\n",
              "      <th>state</th>\n",
              "      <th>postal_code</th>\n",
              "      <th>latitude</th>\n",
              "      <th>longitude</th>\n",
              "      <th>stars_business_avg</th>\n",
              "      <th>review_count_x</th>\n",
              "      <th>...</th>\n",
              "      <th>user_feature_11</th>\n",
              "      <th>user_feature_12</th>\n",
              "      <th>user_feature_13</th>\n",
              "      <th>user_feature_14</th>\n",
              "      <th>user_feature_15</th>\n",
              "      <th>user_feature_16</th>\n",
              "      <th>user_feature_17</th>\n",
              "      <th>user_feature_18</th>\n",
              "      <th>user_feature_19</th>\n",
              "      <th>user_feature_20</th>\n",
              "    </tr>\n",
              "  </thead>\n",
              "  <tbody>\n",
              "    <tr>\n",
              "      <th>13</th>\n",
              "      <td>g6AFW-zY0wDvBl9U82g4zg</td>\n",
              "      <td>Baretto Caffe</td>\n",
              "      <td>1262 Don Mills Road</td>\n",
              "      <td>toronto</td>\n",
              "      <td>ON</td>\n",
              "      <td>M3B 2W7</td>\n",
              "      <td>43.744703</td>\n",
              "      <td>-79.346468</td>\n",
              "      <td>5.0</td>\n",
              "      <td>317</td>\n",
              "      <td>...</td>\n",
              "      <td>1.0</td>\n",
              "      <td>1.0</td>\n",
              "      <td>0.0</td>\n",
              "      <td>1.0</td>\n",
              "      <td>1.0</td>\n",
              "      <td>1.0</td>\n",
              "      <td>0.0</td>\n",
              "      <td>1.0</td>\n",
              "      <td>1.0</td>\n",
              "      <td>0.0</td>\n",
              "    </tr>\n",
              "    <tr>\n",
              "      <th>49</th>\n",
              "      <td>B70iTJjcPkuYn8ouUewWgw</td>\n",
              "      <td>Gusto 101</td>\n",
              "      <td>101 Portland Street</td>\n",
              "      <td>toronto</td>\n",
              "      <td>ON</td>\n",
              "      <td>M5V 2N3</td>\n",
              "      <td>43.645002</td>\n",
              "      <td>-79.400309</td>\n",
              "      <td>4.0</td>\n",
              "      <td>956</td>\n",
              "      <td>...</td>\n",
              "      <td>1.0</td>\n",
              "      <td>1.0</td>\n",
              "      <td>1.0</td>\n",
              "      <td>1.0</td>\n",
              "      <td>1.0</td>\n",
              "      <td>1.0</td>\n",
              "      <td>1.0</td>\n",
              "      <td>1.0</td>\n",
              "      <td>1.0</td>\n",
              "      <td>1.0</td>\n",
              "    </tr>\n",
              "    <tr>\n",
              "      <th>87</th>\n",
              "      <td>mVVoK2ADlKbvwitSqFY2hw</td>\n",
              "      <td>Pantry Foods</td>\n",
              "      <td>3456 Bathurst Street</td>\n",
              "      <td>toronto</td>\n",
              "      <td>ON</td>\n",
              "      <td>M6A 2C3</td>\n",
              "      <td>43.728130</td>\n",
              "      <td>-79.432020</td>\n",
              "      <td>4.0</td>\n",
              "      <td>20</td>\n",
              "      <td>...</td>\n",
              "      <td>1.0</td>\n",
              "      <td>1.0</td>\n",
              "      <td>1.0</td>\n",
              "      <td>1.0</td>\n",
              "      <td>1.0</td>\n",
              "      <td>1.0</td>\n",
              "      <td>0.0</td>\n",
              "      <td>1.0</td>\n",
              "      <td>1.0</td>\n",
              "      <td>1.0</td>\n",
              "    </tr>\n",
              "  </tbody>\n",
              "</table>\n",
              "<p>3 rows × 108 columns</p>\n",
              "</div>"
            ],
            "text/plain": [
              "               business_id         name_x               address     city  \\\n",
              "13  g6AFW-zY0wDvBl9U82g4zg  Baretto Caffe   1262 Don Mills Road  toronto   \n",
              "49  B70iTJjcPkuYn8ouUewWgw      Gusto 101   101 Portland Street  toronto   \n",
              "87  mVVoK2ADlKbvwitSqFY2hw   Pantry Foods  3456 Bathurst Street  toronto   \n",
              "\n",
              "   state postal_code   latitude  longitude  stars_business_avg  \\\n",
              "13    ON     M3B 2W7  43.744703 -79.346468                 5.0   \n",
              "49    ON     M5V 2N3  43.645002 -79.400309                 4.0   \n",
              "87    ON     M6A 2C3  43.728130 -79.432020                 4.0   \n",
              "\n",
              "    review_count_x  ...  user_feature_11 user_feature_12 user_feature_13  \\\n",
              "13             317  ...              1.0             1.0             0.0   \n",
              "49             956  ...              1.0             1.0             1.0   \n",
              "87              20  ...              1.0             1.0             1.0   \n",
              "\n",
              "   user_feature_14 user_feature_15 user_feature_16  user_feature_17  \\\n",
              "13             1.0             1.0             1.0              0.0   \n",
              "49             1.0             1.0             1.0              1.0   \n",
              "87             1.0             1.0             1.0              0.0   \n",
              "\n",
              "    user_feature_18  user_feature_19  user_feature_20  \n",
              "13              1.0              1.0              0.0  \n",
              "49              1.0              1.0              1.0  \n",
              "87              1.0              1.0              1.0  \n",
              "\n",
              "[3 rows x 108 columns]"
            ]
          },
          "metadata": {
            "tags": []
          },
          "execution_count": 56
        }
      ]
    },
    {
      "cell_type": "code",
      "metadata": {
        "id": "6VLSFtECLENR",
        "outputId": "ac10221f-3237-450a-ec14-f73403b0263b"
      },
      "source": [
        "X_test = np.array(test_data[['user_id_refined', 'business_id_refined'] +\\\n",
        "                            ['user_feature_' + str(i) for i in range(num_of_user_features)]].values.tolist())\n",
        "X_test"
      ],
      "execution_count": null,
      "outputs": [
        {
          "output_type": "execute_result",
          "data": {
            "text/plain": [
              "array([[0.000e+00, 0.000e+00, 1.000e+00, ..., 1.000e+00, 1.000e+00,\n",
              "        0.000e+00],\n",
              "       [1.000e+00, 1.900e+01, 0.000e+00, ..., 1.000e+00, 1.000e+00,\n",
              "        1.000e+00],\n",
              "       [2.000e+00, 6.400e+01, 1.000e+00, ..., 1.000e+00, 1.000e+00,\n",
              "        1.000e+00],\n",
              "       ...,\n",
              "       [7.902e+03, 1.841e+03, 0.000e+00, ..., 0.000e+00, 0.000e+00,\n",
              "        1.000e+00],\n",
              "       [7.903e+03, 9.300e+02, 0.000e+00, ..., 0.000e+00, 1.000e+00,\n",
              "        0.000e+00],\n",
              "       [7.904e+03, 2.265e+03, 0.000e+00, ..., 0.000e+00, 1.000e+00,\n",
              "        0.000e+00]])"
            ]
          },
          "metadata": {
            "tags": []
          },
          "execution_count": 57
        }
      ]
    },
    {
      "cell_type": "code",
      "metadata": {
        "id": "M2AL9otVLENR",
        "outputId": "12726f16-d29b-4528-bde2-e72f5699ff17"
      },
      "source": [
        "X_test.shape"
      ],
      "execution_count": null,
      "outputs": [
        {
          "output_type": "execute_result",
          "data": {
            "text/plain": [
              "(7905, 23)"
            ]
          },
          "metadata": {
            "tags": []
          },
          "execution_count": 58
        }
      ]
    },
    {
      "cell_type": "code",
      "metadata": {
        "id": "0bp0SmXBLENR",
        "outputId": "73ce5e43-b67b-4e46-ad58-bd2bb9024edc"
      },
      "source": [
        "y_test = np.array(test_data['stars']) / 5.0 # Normalize the ratings to fall within [0, 1]\n",
        "y_test"
      ],
      "execution_count": null,
      "outputs": [
        {
          "output_type": "execute_result",
          "data": {
            "text/plain": [
              "array([1. , 0.6, 1. , ..., 0.8, 0.2, 0.2])"
            ]
          },
          "metadata": {
            "tags": []
          },
          "execution_count": 59
        }
      ]
    },
    {
      "cell_type": "code",
      "metadata": {
        "id": "q6HbzW9fLENR",
        "outputId": "a384e0a0-c22c-4420-fc02-3beb506c4792"
      },
      "source": [
        "len(y_test) == len(X_test)"
      ],
      "execution_count": null,
      "outputs": [
        {
          "output_type": "execute_result",
          "data": {
            "text/plain": [
              "True"
            ]
          },
          "metadata": {
            "tags": []
          },
          "execution_count": 60
        }
      ]
    },
    {
      "cell_type": "markdown",
      "metadata": {
        "id": "2av12rQuLENR"
      },
      "source": [
        "## Train Data:"
      ]
    },
    {
      "cell_type": "code",
      "metadata": {
        "id": "gaMykEA1LENR"
      },
      "source": [
        "# Save all visits to a restaurant except the last one as the train data\n",
        "def all_values_except_last(df):\n",
        "    return df.iloc[:-1]"
      ],
      "execution_count": null,
      "outputs": []
    },
    {
      "cell_type": "code",
      "metadata": {
        "id": "2iAq3HMwLENR"
      },
      "source": [
        "train_data = dataset_to_use.groupby('user_id_refined').apply(all_values_except_last)"
      ],
      "execution_count": null,
      "outputs": []
    },
    {
      "cell_type": "code",
      "metadata": {
        "id": "1_QZiIwzLENR",
        "outputId": "6668a42f-efe4-4232-818c-b6ee3eab90eb"
      },
      "source": [
        "train_data = train_data.droplevel(0)\n",
        "train_data.head(3)"
      ],
      "execution_count": null,
      "outputs": [
        {
          "output_type": "execute_result",
          "data": {
            "text/html": [
              "<div>\n",
              "<style scoped>\n",
              "    .dataframe tbody tr th:only-of-type {\n",
              "        vertical-align: middle;\n",
              "    }\n",
              "\n",
              "    .dataframe tbody tr th {\n",
              "        vertical-align: top;\n",
              "    }\n",
              "\n",
              "    .dataframe thead th {\n",
              "        text-align: right;\n",
              "    }\n",
              "</style>\n",
              "<table border=\"1\" class=\"dataframe\">\n",
              "  <thead>\n",
              "    <tr style=\"text-align: right;\">\n",
              "      <th></th>\n",
              "      <th>business_id</th>\n",
              "      <th>name_x</th>\n",
              "      <th>address</th>\n",
              "      <th>city</th>\n",
              "      <th>state</th>\n",
              "      <th>postal_code</th>\n",
              "      <th>latitude</th>\n",
              "      <th>longitude</th>\n",
              "      <th>stars_business_avg</th>\n",
              "      <th>review_count_x</th>\n",
              "      <th>...</th>\n",
              "      <th>user_feature_11</th>\n",
              "      <th>user_feature_12</th>\n",
              "      <th>user_feature_13</th>\n",
              "      <th>user_feature_14</th>\n",
              "      <th>user_feature_15</th>\n",
              "      <th>user_feature_16</th>\n",
              "      <th>user_feature_17</th>\n",
              "      <th>user_feature_18</th>\n",
              "      <th>user_feature_19</th>\n",
              "      <th>user_feature_20</th>\n",
              "    </tr>\n",
              "  </thead>\n",
              "  <tbody>\n",
              "    <tr>\n",
              "      <th>0</th>\n",
              "      <td>e49eXgKVuR-lsL0-D4vzDw</td>\n",
              "      <td>Momiji</td>\n",
              "      <td>2111 Sheppard Avenue E</td>\n",
              "      <td>toronto</td>\n",
              "      <td>ON</td>\n",
              "      <td>M2J 1W6</td>\n",
              "      <td>43.775377</td>\n",
              "      <td>-79.333972</td>\n",
              "      <td>3.0</td>\n",
              "      <td>22</td>\n",
              "      <td>...</td>\n",
              "      <td>1.0</td>\n",
              "      <td>1.0</td>\n",
              "      <td>0.0</td>\n",
              "      <td>1.0</td>\n",
              "      <td>1.0</td>\n",
              "      <td>1.0</td>\n",
              "      <td>0.0</td>\n",
              "      <td>1.0</td>\n",
              "      <td>1.0</td>\n",
              "      <td>0.0</td>\n",
              "    </tr>\n",
              "    <tr>\n",
              "      <th>1</th>\n",
              "      <td>ik9VvawL-BeAqlxTI1leew</td>\n",
              "      <td>Gonoe Sushi</td>\n",
              "      <td>1310 Don Mills Road</td>\n",
              "      <td>toronto</td>\n",
              "      <td>ON</td>\n",
              "      <td>M3B 2W6</td>\n",
              "      <td>43.745920</td>\n",
              "      <td>-79.346301</td>\n",
              "      <td>3.5</td>\n",
              "      <td>119</td>\n",
              "      <td>...</td>\n",
              "      <td>1.0</td>\n",
              "      <td>1.0</td>\n",
              "      <td>0.0</td>\n",
              "      <td>1.0</td>\n",
              "      <td>1.0</td>\n",
              "      <td>1.0</td>\n",
              "      <td>0.0</td>\n",
              "      <td>1.0</td>\n",
              "      <td>1.0</td>\n",
              "      <td>0.0</td>\n",
              "    </tr>\n",
              "    <tr>\n",
              "      <th>2</th>\n",
              "      <td>Nz44ccUso3nq5S2OlQHNlA</td>\n",
              "      <td>Mexico Lindo</td>\n",
              "      <td>2600 Birchmount Road, Suite 2586</td>\n",
              "      <td>toronto</td>\n",
              "      <td>ON</td>\n",
              "      <td>M1T 2M5</td>\n",
              "      <td>43.789719</td>\n",
              "      <td>-79.302981</td>\n",
              "      <td>4.0</td>\n",
              "      <td>163</td>\n",
              "      <td>...</td>\n",
              "      <td>1.0</td>\n",
              "      <td>1.0</td>\n",
              "      <td>0.0</td>\n",
              "      <td>1.0</td>\n",
              "      <td>1.0</td>\n",
              "      <td>1.0</td>\n",
              "      <td>0.0</td>\n",
              "      <td>1.0</td>\n",
              "      <td>1.0</td>\n",
              "      <td>0.0</td>\n",
              "    </tr>\n",
              "  </tbody>\n",
              "</table>\n",
              "<p>3 rows × 108 columns</p>\n",
              "</div>"
            ],
            "text/plain": [
              "              business_id        name_x                           address  \\\n",
              "0  e49eXgKVuR-lsL0-D4vzDw        Momiji            2111 Sheppard Avenue E   \n",
              "1  ik9VvawL-BeAqlxTI1leew   Gonoe Sushi               1310 Don Mills Road   \n",
              "2  Nz44ccUso3nq5S2OlQHNlA  Mexico Lindo  2600 Birchmount Road, Suite 2586   \n",
              "\n",
              "      city state postal_code   latitude  longitude  stars_business_avg  \\\n",
              "0  toronto    ON     M2J 1W6  43.775377 -79.333972                 3.0   \n",
              "1  toronto    ON     M3B 2W6  43.745920 -79.346301                 3.5   \n",
              "2  toronto    ON     M1T 2M5  43.789719 -79.302981                 4.0   \n",
              "\n",
              "   review_count_x  ...  user_feature_11 user_feature_12 user_feature_13  \\\n",
              "0              22  ...              1.0             1.0             0.0   \n",
              "1             119  ...              1.0             1.0             0.0   \n",
              "2             163  ...              1.0             1.0             0.0   \n",
              "\n",
              "  user_feature_14 user_feature_15 user_feature_16  user_feature_17  \\\n",
              "0             1.0             1.0             1.0              0.0   \n",
              "1             1.0             1.0             1.0              0.0   \n",
              "2             1.0             1.0             1.0              0.0   \n",
              "\n",
              "   user_feature_18  user_feature_19  user_feature_20  \n",
              "0              1.0              1.0              0.0  \n",
              "1              1.0              1.0              0.0  \n",
              "2              1.0              1.0              0.0  \n",
              "\n",
              "[3 rows x 108 columns]"
            ]
          },
          "metadata": {
            "tags": []
          },
          "execution_count": 78
        }
      ]
    },
    {
      "cell_type": "code",
      "metadata": {
        "id": "5mKY05o-LENS",
        "outputId": "75f1b351-01f0-4717-8392-ced4e6f75d3e"
      },
      "source": [
        "len(train_data), len(test_data), len(train_data) + len(test_data) == len(dataset_to_use)"
      ],
      "execution_count": null,
      "outputs": [
        {
          "output_type": "execute_result",
          "data": {
            "text/plain": [
              "(219758, 7905, True)"
            ]
          },
          "metadata": {
            "tags": []
          },
          "execution_count": 79
        }
      ]
    },
    {
      "cell_type": "code",
      "metadata": {
        "id": "PE0EVfGrLENS",
        "outputId": "b6f49a38-4e41-4f35-9532-4293b3bce161"
      },
      "source": [
        "X_train = np.array(train_data[['user_id_refined','business_id_refined'] +\\\n",
        "                             ['user_feature_' + str(i) for i in range(num_of_user_features)]].values.tolist())\n",
        "X_train"
      ],
      "execution_count": null,
      "outputs": [
        {
          "output_type": "execute_result",
          "data": {
            "text/plain": [
              "array([[0.000e+00, 1.200e+01, 1.000e+00, ..., 1.000e+00, 1.000e+00,\n",
              "        0.000e+00],\n",
              "       [0.000e+00, 1.000e+01, 1.000e+00, ..., 1.000e+00, 1.000e+00,\n",
              "        0.000e+00],\n",
              "       [0.000e+00, 3.000e+00, 1.000e+00, ..., 1.000e+00, 1.000e+00,\n",
              "        0.000e+00],\n",
              "       ...,\n",
              "       [7.904e+03, 8.045e+03, 0.000e+00, ..., 0.000e+00, 1.000e+00,\n",
              "        0.000e+00],\n",
              "       [7.904e+03, 8.480e+03, 0.000e+00, ..., 0.000e+00, 1.000e+00,\n",
              "        0.000e+00],\n",
              "       [7.904e+03, 6.951e+03, 0.000e+00, ..., 0.000e+00, 1.000e+00,\n",
              "        0.000e+00]])"
            ]
          },
          "metadata": {
            "tags": []
          },
          "execution_count": 80
        }
      ]
    },
    {
      "cell_type": "code",
      "metadata": {
        "id": "YR80if1mLENS",
        "outputId": "6ad43d3b-0fae-4f1e-c572-09d2535ff015"
      },
      "source": [
        "X_train.shape"
      ],
      "execution_count": null,
      "outputs": [
        {
          "output_type": "execute_result",
          "data": {
            "text/plain": [
              "(219758, 23)"
            ]
          },
          "metadata": {
            "tags": []
          },
          "execution_count": 81
        }
      ]
    },
    {
      "cell_type": "code",
      "metadata": {
        "id": "x9IJzkW1LENS",
        "outputId": "aaab0de0-98b6-49d1-ee50-7b7ee7ad5a4b"
      },
      "source": [
        "y_train = np.array(train_data['stars']) / 5.0 # Normalize the ratings to fall within [0, 1]\n",
        "y_train"
      ],
      "execution_count": null,
      "outputs": [
        {
          "output_type": "execute_result",
          "data": {
            "text/plain": [
              "array([0.6, 0.6, 1. , ..., 0.6, 0.4, 0.2])"
            ]
          },
          "metadata": {
            "tags": []
          },
          "execution_count": 82
        }
      ]
    },
    {
      "cell_type": "code",
      "metadata": {
        "id": "-HuUjII6LENS",
        "outputId": "4f867ed7-ec3e-4ad2-a9f0-13845d0f8490"
      },
      "source": [
        "len(y_train) == len(X_train)"
      ],
      "execution_count": null,
      "outputs": [
        {
          "output_type": "execute_result",
          "data": {
            "text/plain": [
              "True"
            ]
          },
          "metadata": {
            "tags": []
          },
          "execution_count": 83
        }
      ]
    },
    {
      "cell_type": "markdown",
      "metadata": {
        "id": "vuQTXOkgLENS"
      },
      "source": [
        "# (1) GMF Implementation:"
      ]
    },
    {
      "cell_type": "code",
      "metadata": {
        "id": "nVvy2qWNLENS"
      },
      "source": [
        "def get_gmf_model(num_users, num_items, regs = [0,0]):\n",
        "    # Input variables\n",
        "    user_input = Input(shape=(1,), dtype='float32', name = 'user_input')\n",
        "    item_input = Input(shape=(1,), dtype='float32', name = 'item_input')\n",
        "    user_feature_input = Input(shape = (num_of_user_features, ), dtype='float32', name = 'user_feature_input')\n",
        "\n",
        "    MF_Embedding_User_ID = Embedding(input_dim = num_users, output_dim = num_of_user_features, name = 'user_embedding',\n",
        "                                  embeddings_initializer='random_normal', embeddings_regularizer = l2(regs[0]),\n",
        "                                  input_length = 1)\n",
        "    MF_Embedding_Item = Embedding(input_dim = num_items, output_dim = num_of_user_features, name = 'item_embedding',\n",
        "                                  embeddings_initializer='random_normal', embeddings_regularizer = l2(regs[1]),\n",
        "                                  input_length = 1)\n",
        "    \n",
        "    # Crucial to flatten an embedding vector!\n",
        "    user_latent = Flatten()(MF_Embedding_User_ID(user_input))\n",
        "    item_latent = Flatten()(MF_Embedding_Item(item_input))\n",
        "    \n",
        "    # Element-wise product of user_latent and user_feature_input\n",
        "    user_feature_latent = Multiply()([user_latent, user_feature_input])\n",
        "    \n",
        "    # Element-wise product of user and item embeddings \n",
        "    predict_vector = Multiply()([user_feature_latent, item_latent])\n",
        "    \n",
        "    # Final prediction layer\n",
        "    prediction = Dense(1, activation='sigmoid', kernel_initializer='lecun_uniform', name = 'prediction')(predict_vector)\n",
        "    \n",
        "    model = Model(inputs = [user_input, item_input, user_feature_input], outputs = prediction)\n",
        "\n",
        "    return model\n",
        "\n",
        "def get_train_instances(X, y):\n",
        "    X = np.array(X)\n",
        "    users, items, user_features = X[:, 0], X[:, 1], X[:, 2:]\n",
        "    ratings = y\n",
        "    \n",
        "    return users, items, user_features, ratings"
      ],
      "execution_count": null,
      "outputs": []
    },
    {
      "cell_type": "code",
      "metadata": {
        "id": "VIYuajPhLENS"
      },
      "source": [
        "def evaluate_model(model, X, y):\n",
        "    \"\"\"\n",
        "    Return: score of each test rating.\n",
        "    \"\"\"\n",
        "    users, items, user_features, ratings = get_train_instances(X, y)\n",
        "        \n",
        "    predictions = model.predict([users, items, user_features], batch_size = 1000, verbose = 0)\n",
        "\n",
        "    y_actual = np.array(y) * 5\n",
        "    y_pred = np.array(predictions) * 5\n",
        "    assert len(y_pred) == len(y_actual)\n",
        "    mse = mean_squared_error(y_actual, y_pred)\n",
        "    r2 = r2_score(y_actual, y_pred)\n",
        "    \n",
        "    return (mse, r2)"
      ],
      "execution_count": null,
      "outputs": []
    },
    {
      "cell_type": "code",
      "metadata": {
        "id": "WbO0q-ptLENS",
        "outputId": "10daf92e-6047-4160-9955-e99375593857"
      },
      "source": [
        "# Build model\n",
        "regs = [0, 0]\n",
        "learner = 'adam'\n",
        "learning_rate = 0.0005\n",
        "num_epochs = 20\n",
        "batch_size = 256\n",
        "out = 1\n",
        "\n",
        "model = get_gmf_model(num_users, num_items, regs)\n",
        "\n",
        "if learner.lower() == \"adagrad\": \n",
        "    model.compile(optimizer=Adagrad(lr=learning_rate), loss='mse')\n",
        "elif learner.lower() == \"rmsprop\":\n",
        "    model.compile(optimizer=RMSprop(lr=learning_rate), loss='mse')\n",
        "elif learner.lower() == \"adam\":\n",
        "    model.compile(optimizer=Adam(lr=learning_rate), loss='mse')\n",
        "else:\n",
        "    model.compile(optimizer=SGD(lr=learning_rate), loss='mse')\n",
        "\n",
        "# Initial performance\n",
        "(mse, r2) = evaluate_model(model, X_test, y_test)\n",
        "print('Initial: Test RMSE = %.4f, Test R2 = %.4f' % (np.sqrt(mse), r2))"
      ],
      "execution_count": null,
      "outputs": [
        {
          "output_type": "stream",
          "text": [
            "Initial: Test RMSE = 1.7351, Test R2 = -0.8242\n"
          ],
          "name": "stdout"
        }
      ]
    },
    {
      "cell_type": "code",
      "metadata": {
        "id": "bxwaQtLwLENS",
        "outputId": "343b5c98-eec1-4c03-e8bd-c5f3d1a898f4"
      },
      "source": [
        "# Training and testing model\n",
        "current_folder = os.getcwd()\n",
        "model_out_file_gmf = current_folder + '\\\\Pretrain\\\\toronto_GMF.h5'\n",
        "\n",
        "train_loss = []\n",
        "test_rmse, test_r2 = [], []\n",
        "best_mse = float('inf')\n",
        "\n",
        "for epoch in range(num_epochs):\n",
        "    t1 = time()\n",
        "    \n",
        "    # Generate training instances\n",
        "    user_input, item_input, user_feature_input, ratings = get_train_instances(X_train, y_train)\n",
        "        \n",
        "    # Training\n",
        "    history = model.fit([user_input, item_input, user_feature_input], # input\n",
        "                         np.array(ratings), # labels\n",
        "                         batch_size = batch_size, epochs = 1, verbose = 0)\n",
        "\n",
        "    train_loss.append(np.sqrt(history.history['loss'][0]) * 5) # multiply loss by 5 because the ratings are normalized by 5\n",
        "    \n",
        "    t2 = time()\n",
        "\n",
        "    # Evaluation\n",
        "    \n",
        "    (mse, r2) = evaluate_model(model, X_test, y_test)\n",
        "\n",
        "    test_rmse.append(np.sqrt(mse))\n",
        "    test_r2.append(r2)\n",
        "\n",
        "    print('Epoch %d [%.1f s]: Test RMSE = %.4f, Test R2 = %.4f, Train RMSE = %.4f [%.1f s]' \n",
        "          % (epoch + 1,  t2 - t1, test_rmse[-1], test_r2[-1], train_loss[-1], time() - t2))\n",
        "\n",
        "    if mse < best_mse:\n",
        "        best_mse, best_r2, best_iter = mse, r2, epoch + 1\n",
        "        if out > 0:\n",
        "            model.save_weights(model_out_file_gmf, overwrite = True)\n",
        "\n",
        "print(\"End. Best Epoch %d:  RMSE = %.4f, R2 = %.4f. \" %(best_iter, np.sqrt(best_mse), best_r2))\n",
        "if out > 0:\n",
        "    print(\"The best GMF model is saved\")\n",
        "    \n",
        "    \n",
        "plt.plot(test_rmse, '*-', label = 'test_rmse')\n",
        "plt.plot(train_loss, '--', label = 'train_rmse')\n",
        "plt.legend()\n",
        "plt.xlabel('Epoch')\n",
        "plt.ylabel('RMSE')\n",
        "plt.show()"
      ],
      "execution_count": null,
      "outputs": [
        {
          "output_type": "stream",
          "text": [
            "C:\\ProgramData\\Anaconda3\\envs\\cs_412\\lib\\site-packages\\tensorflow\\python\\framework\\indexed_slices.py:432: UserWarning: Converting sparse IndexedSlices to a dense Tensor of unknown shape. This may consume a large amount of memory.\n",
            "  warnings.warn(\n"
          ],
          "name": "stderr"
        },
        {
          "output_type": "stream",
          "text": [
            "Epoch 1 [1.6 s]: Test RMSE = 1.4633, Test R2 = -0.2974, Train RMSE = 1.4280 [0.0 s]\n",
            "Epoch 2 [1.2 s]: Test RMSE = 1.3401, Test R2 = -0.0881, Train RMSE = 1.2209 [0.0 s]\n",
            "Epoch 3 [1.2 s]: Test RMSE = 1.2958, Test R2 = -0.0174, Train RMSE = 1.1335 [0.1 s]\n",
            "Epoch 4 [1.3 s]: Test RMSE = 1.2786, Test R2 = 0.0094, Train RMSE = 1.0834 [0.1 s]\n",
            "Epoch 5 [1.2 s]: Test RMSE = 1.2698, Test R2 = 0.0229, Train RMSE = 1.0298 [0.1 s]\n",
            "Epoch 6 [1.2 s]: Test RMSE = 1.2664, Test R2 = 0.0282, Train RMSE = 0.9686 [0.0 s]\n",
            "Epoch 7 [1.2 s]: Test RMSE = 1.2680, Test R2 = 0.0257, Train RMSE = 0.9072 [0.1 s]\n",
            "Epoch 8 [1.2 s]: Test RMSE = 1.2730, Test R2 = 0.0181, Train RMSE = 0.8513 [0.0 s]\n",
            "Epoch 9 [1.3 s]: Test RMSE = 1.2808, Test R2 = 0.0059, Train RMSE = 0.8026 [0.1 s]\n",
            "Epoch 10 [1.3 s]: Test RMSE = 1.2908, Test R2 = -0.0096, Train RMSE = 0.7608 [0.1 s]\n",
            "Epoch 11 [1.5 s]: Test RMSE = 1.3027, Test R2 = -0.0283, Train RMSE = 0.7247 [0.1 s]\n",
            "Epoch 12 [1.5 s]: Test RMSE = 1.3145, Test R2 = -0.0470, Train RMSE = 0.6933 [0.1 s]\n",
            "Epoch 13 [1.3 s]: Test RMSE = 1.3267, Test R2 = -0.0666, Train RMSE = 0.6658 [0.1 s]\n",
            "Epoch 14 [1.3 s]: Test RMSE = 1.3404, Test R2 = -0.0887, Train RMSE = 0.6413 [0.1 s]\n",
            "Epoch 15 [1.3 s]: Test RMSE = 1.3522, Test R2 = -0.1080, Train RMSE = 0.6195 [0.1 s]\n",
            "Epoch 16 [1.4 s]: Test RMSE = 1.3653, Test R2 = -0.1295, Train RMSE = 0.5999 [0.1 s]\n",
            "Epoch 17 [1.3 s]: Test RMSE = 1.3776, Test R2 = -0.1500, Train RMSE = 0.5821 [0.1 s]\n",
            "Epoch 18 [1.3 s]: Test RMSE = 1.3892, Test R2 = -0.1694, Train RMSE = 0.5661 [0.1 s]\n",
            "Epoch 19 [1.3 s]: Test RMSE = 1.4023, Test R2 = -0.1916, Train RMSE = 0.5514 [0.1 s]\n",
            "Epoch 20 [1.2 s]: Test RMSE = 1.4136, Test R2 = -0.2109, Train RMSE = 0.5379 [0.1 s]\n",
            "End. Best Epoch 6:  RMSE = 1.2664, R2 = 0.0282. \n",
            "The best GMF model is saved\n"
          ],
          "name": "stdout"
        },
        {
          "output_type": "display_data",
          "data": {
            "image/png": "[encoded data removed]",
            "text/plain": [
              "<Figure size 432x288 with 1 Axes>"
            ]
          },
          "metadata": {
            "tags": []
          }
        }
      ]
    },
    {
      "cell_type": "markdown",
      "metadata": {
        "id": "lTpvGxU0LENS"
      },
      "source": [
        "# (2) MLP Implementation:"
      ]
    },
    {
      "cell_type": "code",
      "metadata": {
        "id": "1EUO99o6LENS"
      },
      "source": [
        "def get_mlp_model(num_users, num_items, layers = [20,10], reg_layers=[0,0]):\n",
        "    assert len(layers) == len(reg_layers)\n",
        "    num_layer = len(layers) #Number of layers in the MLP\n",
        "    \n",
        "    # Input variables\n",
        "    user_input = Input(shape=(1,), dtype='float32', name = 'user_input')\n",
        "    item_input = Input(shape=(1,), dtype='float32', name = 'item_input')\n",
        "    user_feature_input = Input(shape = (num_of_user_features, ), dtype='float32', name = 'user_feature_input')\n",
        "    \n",
        "    MLP_Embedding_User_ID = Embedding(input_dim = num_users, output_dim = num_of_user_features, name = 'user_embedding',\n",
        "                                   embeddings_initializer='random_normal', embeddings_regularizer = l2(reg_layers[0]),\n",
        "                                   input_length=1)\n",
        "    MLP_Embedding_Item = Embedding(input_dim = num_items, output_dim = num_of_user_features, name = 'item_embedding',\n",
        "                                   embeddings_initializer='random_normal', embeddings_regularizer = l2(reg_layers[0]),\n",
        "                                   input_length=1)\n",
        "    \n",
        "    # Crucial to flatten an embedding vector!\n",
        "    user_latent = Flatten()(MLP_Embedding_User_ID(user_input))\n",
        "    item_latent = Flatten()(MLP_Embedding_Item(item_input))\n",
        "    \n",
        "    # Element-wise product of user_latent and user_feature_input\n",
        "    user_feature_latent = Multiply()([user_latent, user_feature_input])\n",
        "    \n",
        "    # The 0-th layer is the concatenation of embedding layers\n",
        "    vector = Concatenate()([user_feature_latent, item_latent])\n",
        "    \n",
        "    # MLP layers\n",
        "    for idx in range(1, num_layer):\n",
        "        layer = Dense(layers[idx], kernel_regularizer = l2(reg_layers[idx]), activation='relu', name = 'layer%d' %idx)\n",
        "        vector = layer(vector)\n",
        "        \n",
        "    # Final prediction layer\n",
        "    prediction = Dense(1, activation='sigmoid', kernel_initializer='lecun_uniform', name = 'prediction')(vector)\n",
        "    model = Model(inputs = [user_input, item_input, user_feature_input], outputs = prediction)\n",
        "    \n",
        "    return model"
      ],
      "execution_count": null,
      "outputs": []
    },
    {
      "cell_type": "code",
      "metadata": {
        "id": "UUtGf-lcLENS",
        "outputId": "b8b7dea5-45fa-4ac7-8167-61abddb18389"
      },
      "source": [
        "# Build model\n",
        "layers = [64,32,16,8]\n",
        "reg_layers = [0,0,0,0]\n",
        "\n",
        "model = get_mlp_model(num_users, num_items, layers, reg_layers)\n",
        "\n",
        "if learner.lower() == \"adagrad\":\n",
        "    model.compile(optimizer=Adagrad(lr=learning_rate), loss='mse')\n",
        "elif learner.lower() == \"rmsprop\":\n",
        "    model.compile(optimizer=RMSprop(lr=learning_rate), loss='mse')\n",
        "elif learner.lower() == \"adam\":\n",
        "    model.compile(optimizer=Adam(lr=learning_rate), loss='mse')\n",
        "else:\n",
        "    model.compile(optimizer=SGD(lr=learning_rate), loss='mse')\n",
        "\n",
        "# Initial performance\n",
        "(mse, r2) = evaluate_model(model, X_test, y_test)\n",
        "print('Initial: Test RMSE = %.4f, Test R2 = %.4f' % (np.sqrt(mse), r2))"
      ],
      "execution_count": null,
      "outputs": [
        {
          "output_type": "stream",
          "text": [
            "Initial: Test RMSE = 1.7362, Test R2 = -0.8265\n"
          ],
          "name": "stdout"
        }
      ]
    },
    {
      "cell_type": "code",
      "metadata": {
        "scrolled": false,
        "id": "Had22TuhLENT",
        "outputId": "bd604f3b-1985-4d88-c449-ec2c705dfb18"
      },
      "source": [
        "# Training and testing model\n",
        "current_folder = os.getcwd()\n",
        "model_out_file_mlp = current_folder + '\\\\Pretrain\\\\toronto_MLP.h5'\n",
        "\n",
        "train_loss = []\n",
        "test_rmse, test_r2 = [], []\n",
        "best_mse = float('inf')\n",
        "\n",
        "for epoch in range(num_epochs):\n",
        "    t1 = time()\n",
        "    \n",
        "    # Generate training instances\n",
        "    user_input, item_input, user_feature_input, ratings = get_train_instances(X_train, y_train)\n",
        "    \n",
        "    # Training\n",
        "    history = model.fit([user_input, item_input, user_feature_input], # input\n",
        "                         np.array(ratings), # labels\n",
        "                         batch_size = batch_size, epochs = 1, verbose = 0)\n",
        "\n",
        "    train_loss.append(np.sqrt(history.history['loss'][0]) * 5) # multiply loss by 5 because the ratings are normalized by 5\n",
        "    \n",
        "    t2 = time()\n",
        "\n",
        "    # Evaluation\n",
        "    (mse, r2) = evaluate_model(model, X_test, y_test)\n",
        "\n",
        "    test_rmse.append(np.sqrt(mse))\n",
        "    test_r2.append(r2)\n",
        "\n",
        "    print('Epoch %d [%.1f s]: Test RMSE = %.4f, Test R2 = %.4f, Train RMSE = %.4f [%.1f s]' \n",
        "          % (epoch + 1,  t2 - t1, test_rmse[-1], test_r2[-1], train_loss[-1], time() - t2))\n",
        "\n",
        "    if mse < best_mse:\n",
        "        best_mse, best_r2, best_iter = mse, r2, epoch + 1\n",
        "        if out > 0:\n",
        "            model.save_weights(model_out_file_mlp, overwrite = True)\n",
        "\n",
        "print(\"End. Best Epoch %d:  RMSE = %.4f, R2 = %.4f. \" %(best_iter, np.sqrt(best_mse), best_r2))\n",
        "if out > 0:\n",
        "    print(\"The best MLP model is saved\")\n",
        "    \n",
        "    \n",
        "plt.plot(test_rmse, '*-', label = 'test_rmse')\n",
        "plt.plot(train_loss, '--', label = 'train_rmse')\n",
        "plt.legend()\n",
        "plt.xlabel('Epoch')\n",
        "plt.ylabel('RMSE')\n",
        "plt.show()"
      ],
      "execution_count": null,
      "outputs": [
        {
          "output_type": "stream",
          "text": [
            "C:\\ProgramData\\Anaconda3\\envs\\cs_412\\lib\\site-packages\\tensorflow\\python\\framework\\indexed_slices.py:432: UserWarning: Converting sparse IndexedSlices to a dense Tensor of unknown shape. This may consume a large amount of memory.\n",
            "  warnings.warn(\n"
          ],
          "name": "stderr"
        },
        {
          "output_type": "stream",
          "text": [
            "Epoch 1 [2.0 s]: Test RMSE = 1.1926, Test R2 = 0.1382, Train RMSE = 1.0991 [0.1 s]\n",
            "Epoch 2 [1.5 s]: Test RMSE = 1.1654, Test R2 = 0.1770, Train RMSE = 0.9836 [0.1 s]\n",
            "Epoch 3 [1.5 s]: Test RMSE = 1.1591, Test R2 = 0.1859, Train RMSE = 0.9580 [0.1 s]\n",
            "Epoch 4 [1.5 s]: Test RMSE = 1.1564, Test R2 = 0.1896, Train RMSE = 0.9421 [0.1 s]\n",
            "Epoch 5 [1.6 s]: Test RMSE = 1.1620, Test R2 = 0.1818, Train RMSE = 0.9252 [0.1 s]\n",
            "Epoch 6 [1.8 s]: Test RMSE = 1.1694, Test R2 = 0.1713, Train RMSE = 0.9024 [0.1 s]\n",
            "Epoch 7 [1.9 s]: Test RMSE = 1.1844, Test R2 = 0.1500, Train RMSE = 0.8735 [0.1 s]\n",
            "Epoch 8 [1.9 s]: Test RMSE = 1.1982, Test R2 = 0.1301, Train RMSE = 0.8422 [0.1 s]\n",
            "Epoch 9 [1.7 s]: Test RMSE = 1.2133, Test R2 = 0.1080, Train RMSE = 0.8106 [0.1 s]\n",
            "Epoch 10 [1.6 s]: Test RMSE = 1.2321, Test R2 = 0.0801, Train RMSE = 0.7819 [0.1 s]\n",
            "Epoch 11 [1.8 s]: Test RMSE = 1.2490, Test R2 = 0.0547, Train RMSE = 0.7552 [0.1 s]\n",
            "Epoch 12 [1.6 s]: Test RMSE = 1.2701, Test R2 = 0.0226, Train RMSE = 0.7312 [0.1 s]\n",
            "Epoch 13 [1.5 s]: Test RMSE = 1.2788, Test R2 = 0.0091, Train RMSE = 0.7100 [0.4 s]\n",
            "Epoch 14 [1.5 s]: Test RMSE = 1.2870, Test R2 = -0.0037, Train RMSE = 0.6906 [0.1 s]\n",
            "Epoch 15 [1.6 s]: Test RMSE = 1.3032, Test R2 = -0.0291, Train RMSE = 0.6736 [0.1 s]\n",
            "Epoch 16 [1.5 s]: Test RMSE = 1.3130, Test R2 = -0.0447, Train RMSE = 0.6573 [0.1 s]\n",
            "Epoch 17 [1.9 s]: Test RMSE = 1.3185, Test R2 = -0.0533, Train RMSE = 0.6424 [0.1 s]\n",
            "Epoch 18 [1.6 s]: Test RMSE = 1.3271, Test R2 = -0.0671, Train RMSE = 0.6295 [0.1 s]\n",
            "Epoch 19 [1.4 s]: Test RMSE = 1.3364, Test R2 = -0.0822, Train RMSE = 0.6168 [0.1 s]\n",
            "Epoch 20 [1.5 s]: Test RMSE = 1.3402, Test R2 = -0.0884, Train RMSE = 0.6052 [0.1 s]\n",
            "End. Best Epoch 4:  RMSE = 1.1564, R2 = 0.1896. \n",
            "The best MLP model is saved\n"
          ],
          "name": "stdout"
        },
        {
          "output_type": "display_data",
          "data": {
            "image/png": "[encoded data removed]",
            "text/plain": [
              "<Figure size 432x288 with 1 Axes>"
            ]
          },
          "metadata": {
            "tags": []
          }
        }
      ]
    },
    {
      "cell_type": "markdown",
      "metadata": {
        "id": "VHjCAipLLENT"
      },
      "source": [
        "# NCF Implementation:"
      ]
    },
    {
      "cell_type": "code",
      "metadata": {
        "id": "zjELRJDdLENT"
      },
      "source": [
        "def get_ncf_model(num_users, num_items, layers=[10], reg_layers=[0], reg_mf=0):\n",
        "    assert len(layers) == len(reg_layers)\n",
        "    num_layer = len(layers) #Number of layers in the MLP\n",
        "    \n",
        "    # Input variables\n",
        "    user_input = Input(shape=(1,), dtype='float32', name = 'user_input')\n",
        "    item_input = Input(shape=(1,), dtype='float32', name = 'item_input')\n",
        "    user_feature_input = Input(shape = (num_of_user_features, ), dtype='float32', name = 'user_feature_input')\n",
        "    \n",
        "    # Embedding layer GMF\n",
        "    MF_Embedding_User_ID = Embedding(input_dim = num_users, output_dim = num_of_user_features, name = 'mf_embedding_user',\n",
        "                                  embeddings_initializer = 'random_normal', embeddings_regularizer = l2(reg_mf),\n",
        "                                  input_length=1)\n",
        "    MF_Embedding_Item = Embedding(input_dim = num_items, output_dim = num_of_user_features, name = 'mf_embedding_item',\n",
        "                                  embeddings_initializer = 'random_normal', embeddings_regularizer = l2(reg_mf),\n",
        "                                  input_length=1)\n",
        "    \n",
        "    # Embedding layer MLP\n",
        "    MLP_Embedding_User_ID = Embedding(input_dim = num_users, output_dim = num_of_user_features, name = \"mlp_embedding_user\",\n",
        "                                   embeddings_initializer = 'random_normal', embeddings_regularizer = l2(reg_layers[0]),\n",
        "                                   input_length=1)\n",
        "    MLP_Embedding_Item = Embedding(input_dim = num_items, output_dim = num_of_user_features, name = 'mlp_embedding_item',\n",
        "                                   embeddings_initializer = 'random_normal', embeddings_regularizer = l2(reg_layers[0]),\n",
        "                                   input_length=1)\n",
        "\n",
        "    #output = MLP_Embedding_User(user_input)\n",
        "    \n",
        "    # MF part\n",
        "    mf_user_latent = Flatten()(MF_Embedding_User_ID(user_input))\n",
        "    mf_item_latent = Flatten()(MF_Embedding_Item(item_input))\n",
        "    \n",
        "    mf_user_feature_latent = Multiply()([mf_user_latent, user_feature_input]) # Element-wise product\n",
        "     \n",
        "    mf_vector = Multiply()([mf_user_feature_latent, mf_item_latent]) # Element-wise product of user and item embeddings\n",
        "\n",
        "    # MLP part \n",
        "    mlp_user_latent = Flatten()(MLP_Embedding_User_ID(user_input))\n",
        "    mlp_item_latent = Flatten()(MLP_Embedding_Item(item_input))\n",
        "    \n",
        "    mlp_user_feature_latent = Multiply()([mlp_user_latent, user_feature_input]) # Element-wise product\n",
        "    \n",
        "    mlp_vector = Concatenate()([mlp_user_feature_latent, mlp_item_latent]) # The 0-th layer is the concatenation of embedding layers\n",
        "    \n",
        "    for idx in range(1, num_layer):\n",
        "        layer = Dense(layers[idx], kernel_regularizer= l2(reg_layers[idx]), activation='relu', name=\"layer%d\" %idx)\n",
        "        mlp_vector = layer(mlp_vector)\n",
        "\n",
        "    # Concatenate MF and MLP parts\n",
        "    predict_vector = Concatenate()([mf_vector, mlp_vector])\n",
        "    \n",
        "    # Final prediction layer\n",
        "    prediction = Dense(1, activation = 'sigmoid', kernel_initializer='lecun_uniform', name = \"prediction\")(predict_vector)\n",
        "    \n",
        "    model = Model(inputs = [user_input, item_input, user_feature_input], outputs = prediction)\n",
        "    \n",
        "    return model\n",
        "\n",
        "def load_pretrain_model(model, gmf_model, mlp_model, num_layers):\n",
        "    # MF embeddings\n",
        "    gmf_user_embeddings = gmf_model.get_layer('user_embedding').get_weights()\n",
        "    gmf_item_embeddings = gmf_model.get_layer('item_embedding').get_weights()\n",
        "    model.get_layer('mf_embedding_user').set_weights(gmf_user_embeddings)\n",
        "    model.get_layer('mf_embedding_item').set_weights(gmf_item_embeddings)\n",
        "    \n",
        "    # MLP embeddings\n",
        "    mlp_user_embeddings = mlp_model.get_layer('user_embedding').get_weights()\n",
        "    mlp_item_embeddings = mlp_model.get_layer('item_embedding').get_weights()\n",
        "    model.get_layer('mlp_embedding_user').set_weights(mlp_user_embeddings)\n",
        "    model.get_layer('mlp_embedding_item').set_weights(mlp_item_embeddings)\n",
        "    \n",
        "    # MLP layers\n",
        "    for i in range(1, num_layers):\n",
        "        mlp_layer_weights = mlp_model.get_layer('layer%d' %i).get_weights()\n",
        "        model.get_layer('layer%d' %i).set_weights(mlp_layer_weights)\n",
        "        \n",
        "    # Prediction weights\n",
        "    gmf_prediction = gmf_model.get_layer('prediction').get_weights()\n",
        "    mlp_prediction = mlp_model.get_layer('prediction').get_weights()\n",
        "    new_weights = np.concatenate((gmf_prediction[0], mlp_prediction[0]), axis=0)\n",
        "    new_b = gmf_prediction[1] + mlp_prediction[1]\n",
        "    model.get_layer('prediction').set_weights([0.5*new_weights, 0.5*new_b])    \n",
        "    return model"
      ],
      "execution_count": null,
      "outputs": []
    },
    {
      "cell_type": "code",
      "metadata": {
        "id": "q2AfmW-rLENT",
        "outputId": "b7cf7880-36c0-4167-d12d-adfb6f21b050"
      },
      "source": [
        "# Build and compile, and check initial performance\n",
        "mf_dim = num_factors\n",
        "layers = layers.copy()\n",
        "reg_layers = reg_layers.copy()\n",
        "reg_mf = 0\n",
        "mf_pretrain = model_out_file_gmf\n",
        "mlp_pretrain = model_out_file_mlp\n",
        "\n",
        "model = get_ncf_model(num_users, num_items, layers, reg_layers, reg_mf)\n",
        "\n",
        "if learner.lower() == \"adagrad\": \n",
        "    model.compile(optimizer=Adagrad(lr=learning_rate), loss='mse')\n",
        "elif learner.lower() == \"rmsprop\":\n",
        "    model.compile(optimizer=RMSprop(lr=learning_rate), loss='mse')\n",
        "elif learner.lower() == \"adam\":\n",
        "    model.compile(optimizer=Adam(lr=learning_rate), loss='mse')\n",
        "else:\n",
        "    model.compile(optimizer=SGD(lr=learning_rate), loss='mse')\n",
        "\n",
        "# Load pretrain model\n",
        "if mf_pretrain != '' and mlp_pretrain != '':\n",
        "    gmf_model = get_gmf_model(num_users,num_items)\n",
        "    gmf_model.load_weights(mf_pretrain)\n",
        "    mlp_model = get_mlp_model(num_users,num_items, layers, reg_layers)\n",
        "    mlp_model.load_weights(mlp_pretrain)\n",
        "    model = load_pretrain_model(model, gmf_model, mlp_model, len(layers))\n",
        "    print(\"Load pretrained GMF and MLP models done.\")\n",
        "    \n",
        "# Initial performance\n",
        "(mse, r2) = evaluate_model(model, X_test, y_test)\n",
        "print('Initial: Test RMSE = %.4f, Test R2 = %.4f' % (np.sqrt(mse), r2))"
      ],
      "execution_count": null,
      "outputs": [
        {
          "output_type": "stream",
          "text": [
            "Load pretrained GMF and MLP models done.\n",
            "Initial: Test RMSE = 1.1761, Test R2 = 0.1619\n"
          ],
          "name": "stdout"
        }
      ]
    },
    {
      "cell_type": "code",
      "metadata": {
        "scrolled": false,
        "id": "NFC-5jwALENT",
        "outputId": "f158df96-ccd1-4f4b-8cfe-b9c7f4aa2850"
      },
      "source": [
        "# Training and testing model\n",
        "current_folder = os.getcwd()\n",
        "model_out_file_ncf = current_folder + '\\\\Pretrain\\\\toronto_NeuMF.h5'\n",
        "\n",
        "train_loss, val_loss = [], []\n",
        "test_rmse, test_r2 = [], []\n",
        "best_mse = float('inf')\n",
        "\n",
        "for epoch in range(num_epochs):\n",
        "    t1 = time()\n",
        "    \n",
        "    # Generate training instances\n",
        "    user_input, item_input, user_feature_input, ratings = get_train_instances(X_train, y_train)\n",
        "    \n",
        "    # Training\n",
        "    history = model.fit([user_input, item_input, user_feature_input], # input\n",
        "                         ratings, # labels\n",
        "                         batch_size = batch_size, epochs = 1, verbose = 0)\n",
        "\n",
        "    train_loss.append(np.sqrt(history.history['loss'][0]) * 5)\n",
        "    \n",
        "    t2 = time()\n",
        "\n",
        "    # Evaluation\n",
        "    (mse, r2) = evaluate_model(model, X_test, y_test)\n",
        "\n",
        "    test_rmse.append(np.sqrt(mse))\n",
        "    test_r2.append(r2)\n",
        "\n",
        "    print('Epoch %d [%.1f s]: Test RMSE = %.4f, Test R2 = %.4f, Train RMSE = %.4f [%.1f s]' \n",
        "          % (epoch + 1,  t2 - t1, test_rmse[-1], test_r2[-1], train_loss[-1], time() - t2))\n",
        "\n",
        "    if mse < best_mse:\n",
        "        best_mse, best_r2, best_iter = mse, r2, epoch\n",
        "        if out > 0:\n",
        "            model.save_weights(model_out_file_ncf, overwrite=True)\n",
        "\n",
        "print(\"End. Best Epoch %d:  RMSE = %.4f, R2 = %.4f. \" %(best_iter + 1, np.sqrt(best_mse), best_r2))\n",
        "if out > 0:\n",
        "    print(\"The best NeuMF model is saved\")\n",
        "    \n",
        "    \n",
        "plt.plot(test_rmse, '*-', label = 'test_rmse')\n",
        "plt.plot(train_loss, '--', label = 'train_rmse')\n",
        "plt.legend()\n",
        "plt.xlabel('Epoch')\n",
        "plt.ylabel('RMSE')\n",
        "plt.show()"
      ],
      "execution_count": null,
      "outputs": [
        {
          "output_type": "stream",
          "text": [
            "C:\\ProgramData\\Anaconda3\\envs\\cs_412\\lib\\site-packages\\tensorflow\\python\\framework\\indexed_slices.py:432: UserWarning: Converting sparse IndexedSlices to a dense Tensor of unknown shape. This may consume a large amount of memory.\n",
            "  warnings.warn(\n"
          ],
          "name": "stderr"
        },
        {
          "output_type": "stream",
          "text": [
            "Epoch 1 [2.8 s]: Test RMSE = 1.1624, Test R2 = 0.1813, Train RMSE = 0.8611 [0.1 s]\n",
            "Epoch 2 [2.1 s]: Test RMSE = 1.1712, Test R2 = 0.1688, Train RMSE = 0.8077 [0.1 s]\n",
            "Epoch 3 [2.3 s]: Test RMSE = 1.1862, Test R2 = 0.1473, Train RMSE = 0.7484 [0.1 s]\n",
            "Epoch 4 [2.1 s]: Test RMSE = 1.2027, Test R2 = 0.1236, Train RMSE = 0.6901 [0.1 s]\n",
            "Epoch 5 [2.6 s]: Test RMSE = 1.2143, Test R2 = 0.1066, Train RMSE = 0.6380 [0.1 s]\n",
            "Epoch 6 [2.9 s]: Test RMSE = 1.2306, Test R2 = 0.0823, Train RMSE = 0.5924 [0.1 s]\n",
            "Epoch 7 [3.3 s]: Test RMSE = 1.2524, Test R2 = 0.0496, Train RMSE = 0.5532 [0.1 s]\n",
            "Epoch 8 [3.1 s]: Test RMSE = 1.2621, Test R2 = 0.0348, Train RMSE = 0.5188 [0.1 s]\n",
            "Epoch 9 [3.1 s]: Test RMSE = 1.2842, Test R2 = 0.0007, Train RMSE = 0.4894 [0.1 s]\n",
            "Epoch 10 [3.0 s]: Test RMSE = 1.2918, Test R2 = -0.0112, Train RMSE = 0.4635 [0.1 s]\n",
            "Epoch 11 [4.0 s]: Test RMSE = 1.3085, Test R2 = -0.0374, Train RMSE = 0.4407 [0.1 s]\n",
            "Epoch 12 [3.5 s]: Test RMSE = 1.3220, Test R2 = -0.0590, Train RMSE = 0.4200 [0.1 s]\n",
            "Epoch 13 [3.6 s]: Test RMSE = 1.3326, Test R2 = -0.0761, Train RMSE = 0.4025 [0.1 s]\n",
            "Epoch 14 [3.6 s]: Test RMSE = 1.3415, Test R2 = -0.0904, Train RMSE = 0.3865 [0.1 s]\n",
            "Epoch 15 [3.4 s]: Test RMSE = 1.3525, Test R2 = -0.1085, Train RMSE = 0.3718 [0.1 s]\n",
            "Epoch 16 [3.4 s]: Test RMSE = 1.3525, Test R2 = -0.1085, Train RMSE = 0.3591 [0.1 s]\n",
            "Epoch 17 [3.4 s]: Test RMSE = 1.3696, Test R2 = -0.1366, Train RMSE = 0.3473 [0.1 s]\n",
            "Epoch 18 [3.4 s]: Test RMSE = 1.3766, Test R2 = -0.1482, Train RMSE = 0.3370 [0.1 s]\n",
            "Epoch 19 [3.4 s]: Test RMSE = 1.3785, Test R2 = -0.1514, Train RMSE = 0.3273 [0.1 s]\n",
            "Epoch 20 [3.5 s]: Test RMSE = 1.3880, Test R2 = -0.1675, Train RMSE = 0.3180 [0.1 s]\n",
            "End. Best Epoch 1:  RMSE = 1.1624, R2 = 0.1813. \n",
            "The best NeuMF model is saved\n"
          ],
          "name": "stdout"
        },
        {
          "output_type": "display_data",
          "data": {
            "image/png": "[encoded data removed]",
            "text/plain": [
              "<Figure size 432x288 with 1 Axes>"
            ]
          },
          "metadata": {
            "tags": []
          }
        }
      ]
    },
    {
      "cell_type": "markdown",
      "metadata": {
        "id": "8luTWiH4LENT"
      },
      "source": [
        "### Without Pretraining:"
      ]
    },
    {
      "cell_type": "code",
      "metadata": {
        "id": "9UQbIDJoLENT",
        "outputId": "d35ae10f-a699-4d7d-deab-4dab3b039862"
      },
      "source": [
        "# Build and compile, and check initial performance\n",
        "model = get_ncf_model(num_users, num_items, layers, reg_layers, reg_mf)\n",
        "\n",
        "if learner.lower() == \"adagrad\": \n",
        "    model.compile(optimizer=Adagrad(lr=learning_rate), loss='mse')\n",
        "elif learner.lower() == \"rmsprop\":\n",
        "    model.compile(optimizer=RMSprop(lr=learning_rate), loss='mse')\n",
        "elif learner.lower() == \"adam\":\n",
        "    model.compile(optimizer=Adam(lr=learning_rate), loss='mse')\n",
        "else:\n",
        "    model.compile(optimizer=SGD(lr=learning_rate), loss='mse')\n",
        "    \n",
        "# Initial performance\n",
        "(mse, r2) = evaluate_model(model, X_test, y_test)\n",
        "print('Initial: Test RMSE = %.4f, Test R2 = %.4f' % (np.sqrt(mse), r2))"
      ],
      "execution_count": null,
      "outputs": [
        {
          "output_type": "stream",
          "text": [
            "Initial: Test RMSE = 1.7401, Test R2 = -0.8348\n"
          ],
          "name": "stdout"
        }
      ]
    },
    {
      "cell_type": "code",
      "metadata": {
        "id": "SkB8CrZALENT",
        "outputId": "394321f9-e943-431e-c35c-e7e6a9a6f15a"
      },
      "source": [
        "# Training and testing model\n",
        "\n",
        "current_folder = os.getcwd()\n",
        "model_out_file_ncf = current_folder + '\\\\Pretrain\\\\toronto_NeuMF.h5'\n",
        "\n",
        "train_loss, val_loss = [], []\n",
        "test_rmse, test_r2 = [], []\n",
        "best_mse = float('inf')\n",
        "\n",
        "# Generate training instances\n",
        "user_input, item_input, user_feature_input, ratings = get_train_instances(X_train, y_train)\n",
        "\n",
        "for epoch in range(num_epochs):\n",
        "    t1 = time()\n",
        "    \n",
        "    # Training\n",
        "    history = model.fit([user_input, item_input, user_feature_input], # input\n",
        "                         ratings, # labels\n",
        "                         batch_size = batch_size, epochs = 1, verbose = 0)\n",
        "\n",
        "    train_loss.append(np.sqrt(history.history['loss'][0]) * 5)\n",
        "    \n",
        "    t2 = time()\n",
        "\n",
        "    # Evaluation\n",
        "    (mse, r2) = evaluate_model(model, X_test, y_test)\n",
        "\n",
        "    test_rmse.append(np.sqrt(mse))\n",
        "    test_r2.append(r2)\n",
        "\n",
        "    print('Epoch %d [%.1f s]: Test RMSE = %.4f, Test R2 = %.4f, Train RMSE = %.4f [%.1f s]' \n",
        "          % (epoch + 1,  t2 - t1, test_rmse[-1], test_r2[-1], train_loss[-1], time() - t2))\n",
        "\n",
        "    if mse < best_mse:\n",
        "        best_mse, best_r2, best_iter = mse, r2, epoch\n",
        "        if out > 0:\n",
        "            model.save_weights(model_out_file_ncf, overwrite=True)\n",
        "\n",
        "print(\"End. Best Epoch %d:  RMSE = %.4f, R2 = %.4f. \" %(best_iter + 1, np.sqrt(best_mse), best_r2))\n",
        "if out > 0:\n",
        "    print(\"The best NeuMF model is saved\")\n",
        "    \n",
        "    \n",
        "plt.plot(test_rmse, '*-', label = 'test_rmse')\n",
        "plt.plot(train_loss, '--', label = 'train_rmse')\n",
        "plt.legend()\n",
        "plt.xlabel('Epoch')\n",
        "plt.ylabel('RMSE')\n",
        "plt.show()"
      ],
      "execution_count": null,
      "outputs": [
        {
          "output_type": "stream",
          "text": [
            "C:\\ProgramData\\Anaconda3\\envs\\cs_412\\lib\\site-packages\\tensorflow\\python\\framework\\indexed_slices.py:432: UserWarning: Converting sparse IndexedSlices to a dense Tensor of unknown shape. This may consume a large amount of memory.\n",
            "  warnings.warn(\n"
          ],
          "name": "stderr"
        },
        {
          "output_type": "stream",
          "text": [
            "Epoch 1 [5.2 s]: Test RMSE = 1.1948, Test R2 = 0.1349, Train RMSE = 1.1239 [0.1 s]\n",
            "Epoch 2 [3.5 s]: Test RMSE = 1.1667, Test R2 = 0.1752, Train RMSE = 0.9826 [0.1 s]\n",
            "Epoch 3 [3.4 s]: Test RMSE = 1.1615, Test R2 = 0.1825, Train RMSE = 0.9567 [0.1 s]\n",
            "Epoch 4 [3.1 s]: Test RMSE = 1.1564, Test R2 = 0.1897, Train RMSE = 0.9306 [0.1 s]\n",
            "Epoch 5 [3.0 s]: Test RMSE = 1.1570, Test R2 = 0.1889, Train RMSE = 0.8898 [0.1 s]\n",
            "Epoch 6 [3.2 s]: Test RMSE = 1.1643, Test R2 = 0.1786, Train RMSE = 0.8363 [0.1 s]\n",
            "Epoch 7 [3.2 s]: Test RMSE = 1.1746, Test R2 = 0.1639, Train RMSE = 0.7792 [0.1 s]\n",
            "Epoch 8 [3.2 s]: Test RMSE = 1.1863, Test R2 = 0.1472, Train RMSE = 0.7253 [0.1 s]\n",
            "Epoch 9 [3.9 s]: Test RMSE = 1.2025, Test R2 = 0.1238, Train RMSE = 0.6766 [0.1 s]\n",
            "Epoch 10 [3.5 s]: Test RMSE = 1.2196, Test R2 = 0.0987, Train RMSE = 0.6330 [0.1 s]\n",
            "Epoch 11 [3.7 s]: Test RMSE = 1.2363, Test R2 = 0.0738, Train RMSE = 0.5938 [0.1 s]\n",
            "Epoch 12 [3.3 s]: Test RMSE = 1.2488, Test R2 = 0.0550, Train RMSE = 0.5577 [0.1 s]\n",
            "Epoch 13 [3.1 s]: Test RMSE = 1.2622, Test R2 = 0.0346, Train RMSE = 0.5254 [0.1 s]\n",
            "Epoch 14 [3.4 s]: Test RMSE = 1.2798, Test R2 = 0.0076, Train RMSE = 0.4962 [0.1 s]\n",
            "Epoch 15 [3.4 s]: Test RMSE = 1.2913, Test R2 = -0.0105, Train RMSE = 0.4695 [0.1 s]\n",
            "Epoch 16 [3.5 s]: Test RMSE = 1.3056, Test R2 = -0.0328, Train RMSE = 0.4460 [0.1 s]\n",
            "Epoch 17 [3.2 s]: Test RMSE = 1.3202, Test R2 = -0.0562, Train RMSE = 0.4250 [0.1 s]\n",
            "Epoch 18 [3.3 s]: Test RMSE = 1.3275, Test R2 = -0.0679, Train RMSE = 0.4061 [0.1 s]\n",
            "Epoch 19 [3.6 s]: Test RMSE = 1.3399, Test R2 = -0.0879, Train RMSE = 0.3889 [0.1 s]\n",
            "Epoch 20 [3.2 s]: Test RMSE = 1.3480, Test R2 = -0.1011, Train RMSE = 0.3736 [0.1 s]\n",
            "End. Best Epoch 4:  RMSE = 1.1564, R2 = 0.1897. \n",
            "The best NeuMF model is saved\n"
          ],
          "name": "stdout"
        },
        {
          "output_type": "display_data",
          "data": {
            "image/png": "[encoded data removed]",
            "text/plain": [
              "<Figure size 432x288 with 1 Axes>"
            ]
          },
          "metadata": {
            "tags": []
          }
        }
      ]
    },
    {
      "cell_type": "code",
      "metadata": {
        "id": "XBBhzy3uLENT"
      },
      "source": [
        ""
      ],
      "execution_count": null,
      "outputs": []
    }
  ]
}